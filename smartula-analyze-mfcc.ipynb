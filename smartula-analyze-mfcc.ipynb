{
 "cells": [
  {
   "cell_type": "code",
   "execution_count": 1,
   "metadata": {},
   "outputs": [],
   "source": [
    "import pandas as pd\n",
    "import numpy as np\n",
    "import glob\n",
    "\n",
    "from pathlib import Path, PurePath\n",
    "from sklearn.manifold import TSNE\n",
    "from bokeh.plotting import figure, show, output_file\n",
    "from bokeh.models import ColumnDataSource\n",
    "from smartula_sound import SmartulaSound"
   ]
  },
  {
   "cell_type": "markdown",
   "metadata": {},
   "source": [
    "## MFCC "
   ]
  },
  {
   "cell_type": "code",
   "execution_count": 3,
   "metadata": {},
   "outputs": [],
   "source": [
    "folder_name = \"csv/mfcc-electromagnetic-field\""
   ]
  },
  {
   "cell_type": "markdown",
   "metadata": {},
   "source": [
    "## LPC"
   ]
  },
  {
   "cell_type": "code",
   "execution_count": 2,
   "metadata": {},
   "outputs": [],
   "source": [
    "folder_name = \"csv/lpc-electromagnetic-field\""
   ]
  },
  {
   "cell_type": "code",
   "execution_count": 4,
   "metadata": {},
   "outputs": [],
   "source": [
    "data_folder = Path(folder_name)\n",
    "files_to_open = data_folder / \"*.csv\"\n",
    "\n",
    "all_filenames = [i for i in glob.glob(str(files_to_open))]\n",
    "# all_filenames = all_filenames[:10]\n",
    "list_of_features = [SmartulaSound(PurePath(f).name.split(\" \")[1].replace(\".csv\", \"\"),\n",
    "                                 PurePath(f).name.split(\" \")[0],\n",
    "                                 samples=None, features=np.ravel(pd.read_csv(f, header=None)))\n",
    "                   for f in all_filenames]"
   ]
  },
  {
   "cell_type": "markdown",
   "metadata": {},
   "source": [
    "## Dimension reduction"
   ]
  },
  {
   "cell_type": "code",
   "execution_count": 9,
   "metadata": {},
   "outputs": [
    {
     "name": "stdout",
     "output_type": "stream",
     "text": [
      "[t-SNE] Computing 31 nearest neighbors...\n",
      "[t-SNE] Indexed 1071 samples in 0.001s...\n",
      "[t-SNE] Computed neighbors for 1071 samples in 0.051s...\n",
      "[t-SNE] Computed conditional probabilities for sample 1000 / 1071\n",
      "[t-SNE] Computed conditional probabilities for sample 1071 / 1071\n",
      "[t-SNE] Mean sigma: 3.568519\n",
      "[t-SNE] Computed conditional probabilities in 0.034s\n",
      "[t-SNE] Iteration 50: error = 84.5236893, gradient norm = 0.3925680 (50 iterations in 0.374s)\n",
      "[t-SNE] Iteration 100: error = 83.7931671, gradient norm = 0.3748055 (50 iterations in 0.373s)\n",
      "[t-SNE] Iteration 150: error = 83.5438080, gradient norm = 0.3837304 (50 iterations in 0.333s)\n",
      "[t-SNE] Iteration 200: error = 82.9252167, gradient norm = 0.3954714 (50 iterations in 0.349s)\n",
      "[t-SNE] Iteration 250: error = 83.2542648, gradient norm = 0.3870297 (50 iterations in 0.308s)\n",
      "[t-SNE] KL divergence after 250 iterations with early exaggeration: 83.254265\n",
      "[t-SNE] Iteration 300: error = 1.7454474, gradient norm = 0.0021239 (50 iterations in 0.243s)\n",
      "[t-SNE] Iteration 350: error = 1.5369264, gradient norm = 0.0007924 (50 iterations in 0.226s)\n",
      "[t-SNE] Iteration 400: error = 1.4638832, gradient norm = 0.0004096 (50 iterations in 0.222s)\n",
      "[t-SNE] Iteration 450: error = 1.4312854, gradient norm = 0.0002785 (50 iterations in 0.222s)\n",
      "[t-SNE] Iteration 500: error = 1.4135200, gradient norm = 0.0002119 (50 iterations in 0.222s)\n",
      "[t-SNE] Iteration 550: error = 1.4028950, gradient norm = 0.0001836 (50 iterations in 0.226s)\n",
      "[t-SNE] Iteration 600: error = 1.3961991, gradient norm = 0.0001519 (50 iterations in 0.216s)\n",
      "[t-SNE] Iteration 650: error = 1.3915380, gradient norm = 0.0001490 (50 iterations in 0.215s)\n",
      "[t-SNE] Iteration 700: error = 1.3879833, gradient norm = 0.0001596 (50 iterations in 0.213s)\n",
      "[t-SNE] Iteration 750: error = 1.3850609, gradient norm = 0.0001231 (50 iterations in 0.221s)\n",
      "[t-SNE] Iteration 800: error = 1.3829379, gradient norm = 0.0001119 (50 iterations in 0.228s)\n",
      "[t-SNE] Iteration 850: error = 1.3815056, gradient norm = 0.0001052 (50 iterations in 0.214s)\n",
      "[t-SNE] Iteration 900: error = 1.3799353, gradient norm = 0.0001229 (50 iterations in 0.216s)\n",
      "[t-SNE] Iteration 950: error = 1.3788495, gradient norm = 0.0001049 (50 iterations in 0.216s)\n",
      "[t-SNE] Iteration 1000: error = 1.3776028, gradient norm = 0.0001005 (50 iterations in 0.247s)\n",
      "[t-SNE] Iteration 1050: error = 1.3764162, gradient norm = 0.0001261 (50 iterations in 0.219s)\n",
      "[t-SNE] Iteration 1100: error = 1.3754908, gradient norm = 0.0001009 (50 iterations in 0.219s)\n",
      "[t-SNE] Iteration 1150: error = 1.3748149, gradient norm = 0.0000990 (50 iterations in 0.221s)\n",
      "[t-SNE] Iteration 1200: error = 1.3739349, gradient norm = 0.0000946 (50 iterations in 0.221s)\n",
      "[t-SNE] Iteration 1250: error = 1.3732461, gradient norm = 0.0000979 (50 iterations in 0.223s)\n",
      "[t-SNE] Iteration 1300: error = 1.3728465, gradient norm = 0.0000770 (50 iterations in 0.225s)\n",
      "[t-SNE] Iteration 1350: error = 1.3720945, gradient norm = 0.0001042 (50 iterations in 0.225s)\n",
      "[t-SNE] Iteration 1400: error = 1.3716266, gradient norm = 0.0001226 (50 iterations in 0.223s)\n",
      "[t-SNE] Iteration 1450: error = 1.3712337, gradient norm = 0.0000873 (50 iterations in 0.223s)\n",
      "[t-SNE] Iteration 1500: error = 1.3707638, gradient norm = 0.0000762 (50 iterations in 0.224s)\n",
      "[t-SNE] Iteration 1550: error = 1.3701820, gradient norm = 0.0000796 (50 iterations in 0.224s)\n",
      "[t-SNE] Iteration 1600: error = 1.3696828, gradient norm = 0.0000654 (50 iterations in 0.227s)\n",
      "[t-SNE] Iteration 1650: error = 1.3693337, gradient norm = 0.0000932 (50 iterations in 0.225s)\n",
      "[t-SNE] Iteration 1700: error = 1.3690051, gradient norm = 0.0000884 (50 iterations in 0.226s)\n",
      "[t-SNE] Iteration 1750: error = 1.3686235, gradient norm = 0.0000652 (50 iterations in 0.224s)\n",
      "[t-SNE] Iteration 1800: error = 1.3682406, gradient norm = 0.0000765 (50 iterations in 0.225s)\n",
      "[t-SNE] Iteration 1850: error = 1.3678533, gradient norm = 0.0000852 (50 iterations in 0.224s)\n",
      "[t-SNE] Iteration 1900: error = 1.3673105, gradient norm = 0.0000813 (50 iterations in 0.224s)\n",
      "[t-SNE] Iteration 1950: error = 1.3669853, gradient norm = 0.0000763 (50 iterations in 0.224s)\n",
      "[t-SNE] Iteration 2000: error = 1.3669047, gradient norm = 0.0000649 (50 iterations in 0.226s)\n",
      "[t-SNE] Iteration 2050: error = 1.3664393, gradient norm = 0.0001047 (50 iterations in 0.225s)\n",
      "[t-SNE] Iteration 2100: error = 1.3663088, gradient norm = 0.0000694 (50 iterations in 0.224s)\n",
      "[t-SNE] Iteration 2150: error = 1.3660481, gradient norm = 0.0000792 (50 iterations in 0.224s)\n",
      "[t-SNE] Iteration 2200: error = 1.3657966, gradient norm = 0.0000628 (50 iterations in 0.226s)\n",
      "[t-SNE] Iteration 2250: error = 1.3655803, gradient norm = 0.0000555 (50 iterations in 0.226s)\n",
      "[t-SNE] Iteration 2300: error = 1.3653796, gradient norm = 0.0000662 (50 iterations in 0.229s)\n",
      "[t-SNE] Iteration 2350: error = 1.3651227, gradient norm = 0.0000806 (50 iterations in 0.228s)\n",
      "[t-SNE] Iteration 2400: error = 1.3649006, gradient norm = 0.0000622 (50 iterations in 0.224s)\n",
      "[t-SNE] Iteration 2450: error = 1.3646258, gradient norm = 0.0000581 (50 iterations in 0.225s)\n",
      "[t-SNE] Iteration 2500: error = 1.3643974, gradient norm = 0.0000548 (50 iterations in 0.224s)\n",
      "[t-SNE] Iteration 2550: error = 1.3642054, gradient norm = 0.0000654 (50 iterations in 0.221s)\n",
      "[t-SNE] Iteration 2600: error = 1.3640240, gradient norm = 0.0000679 (50 iterations in 0.233s)\n",
      "[t-SNE] Iteration 2650: error = 1.3638417, gradient norm = 0.0000650 (50 iterations in 0.233s)\n",
      "[t-SNE] Iteration 2700: error = 1.3633246, gradient norm = 0.0000796 (50 iterations in 0.235s)\n",
      "[t-SNE] Iteration 2750: error = 1.3634781, gradient norm = 0.0000589 (50 iterations in 0.227s)\n",
      "[t-SNE] Iteration 2800: error = 1.3632388, gradient norm = 0.0000754 (50 iterations in 0.225s)\n",
      "[t-SNE] Iteration 2850: error = 1.3629977, gradient norm = 0.0000805 (50 iterations in 0.224s)\n",
      "[t-SNE] Iteration 2900: error = 1.3630003, gradient norm = 0.0000646 (50 iterations in 0.225s)\n",
      "[t-SNE] Iteration 2950: error = 1.3626791, gradient norm = 0.0000772 (50 iterations in 0.227s)\n",
      "[t-SNE] Iteration 3000: error = 1.3625277, gradient norm = 0.0000803 (50 iterations in 0.226s)\n",
      "[t-SNE] KL divergence after 3000 iterations: 1.362528\n"
     ]
    }
   ],
   "source": [
    "df_embedded = TSNE(n_components=2, perplexity=10, learning_rate=300, n_iter=3000, verbose=2) \\\n",
    "    .fit_transform([ss.features for ss in list_of_features])\n"
   ]
  },
  {
   "cell_type": "code",
   "execution_count": 6,
   "metadata": {},
   "outputs": [],
   "source": [
    "from sklearn.decomposition import PCA\n",
    "\n",
    "pca = PCA(n_components=2)\n",
    "df_embedded = pca.fit_transform([ss.features for ss in list_of_features])"
   ]
  },
  {
   "cell_type": "code",
   "execution_count": 10,
   "metadata": {},
   "outputs": [],
   "source": [
    "data_frame = pd.DataFrame()\n",
    "data_frame['x'] = df_embedded[:, 0]\n",
    "data_frame['y'] = df_embedded[:, 1]\n",
    "data_frame['elfield'] = [ss.electromagnetic_field_on for ss in list_of_features]\n",
    "data_frame['timestamp'] = [ss.timestamp for ss in list_of_features]"
   ]
  },
  {
   "cell_type": "markdown",
   "metadata": {},
   "source": [
    "## Data Visualization"
   ]
  },
  {
   "cell_type": "code",
   "execution_count": 11,
   "metadata": {},
   "outputs": [],
   "source": [
    "data_frame['colors'] = [\"#003399\" if elfield == \"True\" else \"#ff0000\" for elfield in data_frame['elfield']]\n",
    "source = ColumnDataSource(data=data_frame)\n",
    "\n",
    "tools = \"hover,pan,wheel_zoom,zoom_in,zoom_out,box_zoom,undo,redo,reset,tap,save,box_select,\" \\\n",
    "        \"poly_select,lasso_select, \"\n",
    "tooltips = [\n",
    "    (\"timestamp\", \"@timestamp\"),\n",
    "    (\"class\", \"@elfield\")\n",
    "]\n",
    "p = figure(tools=tools, tooltips=tooltips)\n",
    "p.scatter(x='x', y='y', fill_color='colors', fill_alpha=0.4, source=source, size=10, line_color=None)\n",
    "output_file(\"color_scatter.html\", title=\"color_scatter.py example\")\n",
    "show(p)  "
   ]
  }
 ],
 "metadata": {
  "kernelspec": {
   "display_name": "Python 3",
   "language": "python",
   "name": "python3"
  },
  "language_info": {
   "codemirror_mode": {
    "name": "ipython",
    "version": 3
   },
   "file_extension": ".py",
   "mimetype": "text/x-python",
   "name": "python",
   "nbconvert_exporter": "python",
   "pygments_lexer": "ipython3",
   "version": "3.7.1"
  }
 },
 "nbformat": 4,
 "nbformat_minor": 2
}
