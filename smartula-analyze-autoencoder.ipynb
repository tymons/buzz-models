{
 "cells": [
  {
   "cell_type": "code",
   "execution_count": 1,
   "metadata": {},
   "outputs": [
    {
     "name": "stderr",
     "output_type": "stream",
     "text": [
      "Using TensorFlow backend.\n"
     ]
    }
   ],
   "source": [
    "import matplotlib.pyplot as plt\n",
    "import numpy as np\n",
    "import pandas as pd\n",
    "import os \n",
    "import glob\n",
    "\n",
    "from keras.callbacks import EarlyStopping\n",
    "from keras.models import Model\n",
    "from keras.layers import (Input, Dense)\n",
    "from smartula_analyze import save_to_file, is_affected\n",
    "\n",
    "from sklearn import preprocessing\n",
    "from sklearn.manifold import TSNE\n",
    "from sklearn.decomposition import PCA"
   ]
  },
  {
   "cell_type": "markdown",
   "metadata": {},
   "source": [
    "## Load data to tuple list"
   ]
  },
  {
   "cell_type": "code",
   "execution_count": 2,
   "metadata": {},
   "outputs": [
    {
     "name": "stdout",
     "output_type": "stream",
     "text": [
      "Error with: C:\\Users\\tymons\\001.Projects\\003.eul\\workspace\\smartula-analysis\\core\\csv\\2019-06-06T03-23-11.csv. Got length:1000\n",
      "Error with: C:\\Users\\tymons\\001.Projects\\003.eul\\workspace\\smartula-analysis\\core\\csv\\2019-06-07T03-09-11.csv. Got length:1000\n"
     ]
    }
   ],
   "source": [
    "audio_len = 1500\n",
    "\n",
    "if os.name == \"nt\":\n",
    "    path_name = \"C:\\\\Users\\\\tymons\\\\001.Projects\\\\003.eul\\\\workspace\\\\smartula-analysis\\\\core\\\\csv\\\\\"\n",
    "else:\n",
    "    path_name = \"/home/tymons/Projects/003.eul/workspace/smartula-analysis/csv/\"\n",
    "    \n",
    "\n",
    "all_filenames = [i for i in glob.glob(f\"{path_name}*.csv\")]\n",
    "#all_filenames = all_filenames[:2]\n",
    "\n",
    "list_of_audios = []\n",
    "for filename in all_filenames:\n",
    "    samples = pd.read_csv(filename, header=None).values[:audio_len].astype(float)\n",
    "    samples = samples - samples.mean()\n",
    "    samples = samples.reshape(samples.size)\n",
    "    timestamp = filename.split(os.sep)[-1].split(\".\")[0]\n",
    "    \n",
    "    dict_sm = {\"timestamp\" : timestamp,\n",
    "               \"samples\" : samples,\n",
    "               \"class\" : is_affected(timestamp, [(\"2019-06-04T18-22-00\", \"2019-06-04T20-30-00\"),\n",
    "                                                (\"2019-06-05T20-46-00\", \"2019-06-05T23-48-00\"),\n",
    "                                                (\"2019-06-06T22-23-00\", \"2019-06-07T05-52-00\")])}\n",
    "           \n",
    "    if len(samples) == audio_len:\n",
    "        list_of_audios.append(dict_sm)\n",
    "    else:\n",
    "        print(\"Error with: \" + filename +\". Got length:\" + str(samples.size))\n"
   ]
  },
  {
   "cell_type": "markdown",
   "metadata": {},
   "source": [
    "## Model"
   ]
  },
  {
   "cell_type": "code",
   "execution_count": 43,
   "metadata": {},
   "outputs": [],
   "source": [
    "encoding_dim = 32 \n",
    "\n",
    "sound_input = Input(shape=(1500,))\n",
    "encoded = Dense(784, activation='relu')(sound_input)\n",
    "encoded = Dense(128, activation='relu')(encoded)\n",
    "encoded = Dense(64, activation='relu')(encoded)\n",
    "latent = Dense(encoding_dim, activation='relu')(encoded)\n",
    "\n",
    "decoded = Dense(64, activation='relu')(latent)\n",
    "decoded = Dense(128, activation='relu')(decoded)\n",
    "decoded = Dense(784, activation='relu')(decoded)\n",
    "decoded = Dense(1500, activation='sigmoid')(decoded)\n",
    "\n",
    "# this model maps an input to its reconstruction\n",
    "autoencoder = Model(sound_input, decoded)\n",
    "encoder = Model(sound_input, latent)"
   ]
  },
  {
   "cell_type": "code",
   "execution_count": 44,
   "metadata": {},
   "outputs": [],
   "source": [
    "autoencoder.compile(optimizer='adadelta', loss='mse')"
   ]
  },
  {
   "cell_type": "markdown",
   "metadata": {},
   "source": [
    "## Normalization and Standarization\n"
   ]
  },
  {
   "cell_type": "code",
   "execution_count": 45,
   "metadata": {},
   "outputs": [],
   "source": [
    "k = 0.8\n",
    "\n",
    "data = np.array([audio[\"samples\"] for audio in list_of_audios])\n",
    "data = preprocessing.scale(data)\n",
    "data = preprocessing.normalize(data)\n",
    "\n",
    "index = int(k*len(data))\n",
    "x_train = data[:index]\n",
    "x_test = data[index:]"
   ]
  },
  {
   "cell_type": "code",
   "execution_count": 46,
   "metadata": {},
   "outputs": [
    {
     "name": "stdout",
     "output_type": "stream",
     "text": [
      "Train on 855 samples, validate on 214 samples\n",
      "Epoch 1/500\n",
      "855/855 [==============================] - 1s 855us/step - loss: 0.2498 - val_loss: 0.2500\n",
      "Epoch 2/500\n",
      "855/855 [==============================] - 0s 258us/step - loss: 0.2494 - val_loss: 0.2496\n",
      "Epoch 3/500\n",
      "855/855 [==============================] - 0s 252us/step - loss: 0.2490 - val_loss: 0.2493\n",
      "Epoch 4/500\n",
      "855/855 [==============================] - 0s 271us/step - loss: 0.2486 - val_loss: 0.2489\n",
      "Epoch 5/500\n",
      "855/855 [==============================] - 0s 272us/step - loss: 0.2482 - val_loss: 0.2485\n",
      "Epoch 6/500\n",
      "855/855 [==============================] - 0s 252us/step - loss: 0.2478 - val_loss: 0.2480\n",
      "Epoch 7/500\n",
      "855/855 [==============================] - 0s 244us/step - loss: 0.2474 - val_loss: 0.2476\n",
      "Epoch 8/500\n",
      "855/855 [==============================] - 0s 248us/step - loss: 0.2470 - val_loss: 0.2472\n",
      "Epoch 9/500\n",
      "855/855 [==============================] - 0s 244us/step - loss: 0.2466 - val_loss: 0.2468\n",
      "Epoch 10/500\n",
      "855/855 [==============================] - 0s 268us/step - loss: 0.2461 - val_loss: 0.2464\n",
      "Epoch 11/500\n",
      "855/855 [==============================] - 0s 250us/step - loss: 0.2457 - val_loss: 0.2459\n",
      "Epoch 12/500\n",
      "855/855 [==============================] - 0s 251us/step - loss: 0.2453 - val_loss: 0.2455\n",
      "Epoch 13/500\n",
      "855/855 [==============================] - 0s 244us/step - loss: 0.2448 - val_loss: 0.2450\n",
      "Epoch 14/500\n",
      "855/855 [==============================] - 0s 265us/step - loss: 0.2444 - val_loss: 0.2446\n",
      "Epoch 15/500\n",
      "855/855 [==============================] - 0s 255us/step - loss: 0.2439 - val_loss: 0.2441\n",
      "Epoch 16/500\n",
      "855/855 [==============================] - 0s 273us/step - loss: 0.2434 - val_loss: 0.2436\n",
      "Epoch 17/500\n",
      "855/855 [==============================] - 0s 265us/step - loss: 0.2428 - val_loss: 0.2430\n",
      "Epoch 18/500\n",
      "855/855 [==============================] - 0s 243us/step - loss: 0.2423 - val_loss: 0.2424\n",
      "Epoch 19/500\n",
      "855/855 [==============================] - 0s 268us/step - loss: 0.2417 - val_loss: 0.2418\n",
      "Epoch 20/500\n",
      "855/855 [==============================] - 0s 258us/step - loss: 0.2410 - val_loss: 0.2411\n",
      "Epoch 21/500\n",
      "855/855 [==============================] - 0s 241us/step - loss: 0.2403 - val_loss: 0.2403\n",
      "Epoch 22/500\n",
      "855/855 [==============================] - 0s 267us/step - loss: 0.2395 - val_loss: 0.2395\n",
      "Epoch 23/500\n",
      "855/855 [==============================] - 0s 257us/step - loss: 0.2386 - val_loss: 0.2385\n",
      "Epoch 24/500\n",
      "855/855 [==============================] - 0s 298us/step - loss: 0.2376 - val_loss: 0.2374\n",
      "Epoch 25/500\n",
      "855/855 [==============================] - 0s 275us/step - loss: 0.2363 - val_loss: 0.2360\n",
      "Epoch 26/500\n",
      "855/855 [==============================] - 0s 246us/step - loss: 0.2348 - val_loss: 0.2342\n",
      "Epoch 27/500\n",
      "855/855 [==============================] - 0s 242us/step - loss: 0.2329 - val_loss: 0.2320\n",
      "Epoch 28/500\n",
      "855/855 [==============================] - 0s 239us/step - loss: 0.2303 - val_loss: 0.2289\n",
      "Epoch 29/500\n",
      "855/855 [==============================] - 0s 247us/step - loss: 0.2266 - val_loss: 0.2243\n",
      "Epoch 30/500\n",
      "855/855 [==============================] - 0s 314us/step - loss: 0.2211 - val_loss: 0.2171\n",
      "Epoch 31/500\n",
      "855/855 [==============================] - 0s 235us/step - loss: 0.2117 - val_loss: 0.2039\n",
      "Epoch 32/500\n",
      "855/855 [==============================] - 0s 250us/step - loss: 0.1936 - val_loss: 0.1764\n",
      "Epoch 33/500\n",
      "855/855 [==============================] - 0s 230us/step - loss: 0.1543 - val_loss: 0.1175\n",
      "Epoch 34/500\n",
      "855/855 [==============================] - 0s 255us/step - loss: 0.0834 - val_loss: 0.0423\n",
      "Epoch 35/500\n",
      "855/855 [==============================] - 0s 219us/step - loss: 0.0250 - val_loss: 0.0110\n",
      "Epoch 36/500\n",
      "855/855 [==============================] - 0s 224us/step - loss: 0.0073 - val_loss: 0.0045\n",
      "Epoch 37/500\n",
      "855/855 [==============================] - 0s 248us/step - loss: 0.0034 - val_loss: 0.0027\n",
      "Epoch 38/500\n",
      "855/855 [==============================] - 0s 226us/step - loss: 0.0022 - val_loss: 0.0019\n",
      "Epoch 39/500\n",
      "855/855 [==============================] - 0s 242us/step - loss: 0.0017 - val_loss: 0.0016\n",
      "Epoch 40/500\n",
      "855/855 [==============================] - 0s 209us/step - loss: 0.0014 - val_loss: 0.0013\n",
      "Epoch 41/500\n",
      "855/855 [==============================] - 0s 242us/step - loss: 0.0012 - val_loss: 0.0012\n",
      "Epoch 42/500\n",
      "855/855 [==============================] - 0s 256us/step - loss: 0.0011 - val_loss: 0.0011\n",
      "Epoch 43/500\n",
      "855/855 [==============================] - 0s 224us/step - loss: 0.0010 - val_loss: 0.0010\n",
      "Epoch 44/500\n",
      "855/855 [==============================] - 0s 219us/step - loss: 9.8100e-04 - val_loss: 9.8231e-04\n",
      "Epoch 45/500\n",
      "855/855 [==============================] - 0s 206us/step - loss: 9.3621e-04 - val_loss: 9.4124e-04\n",
      "Epoch 46/500\n",
      "855/855 [==============================] - 0s 219us/step - loss: 9.0116e-04 - val_loss: 9.0853e-04\n",
      "Epoch 47/500\n",
      "855/855 [==============================] - 0s 227us/step - loss: 8.7309e-04 - val_loss: 8.8197e-04\n",
      "Epoch 48/500\n",
      "855/855 [==============================] - 0s 219us/step - loss: 8.5020e-04 - val_loss: 8.6003e-04\n",
      "Epoch 49/500\n",
      "855/855 [==============================] - 0s 252us/step - loss: 8.3124e-04 - val_loss: 8.4162e-04\n",
      "Epoch 50/500\n",
      "855/855 [==============================] - 0s 282us/step - loss: 8.1529e-04 - val_loss: 8.2605e-04\n",
      "Epoch 51/500\n",
      "855/855 [==============================] - 0s 229us/step - loss: 8.0177e-04 - val_loss: 8.1275e-04\n",
      "Epoch 52/500\n",
      "855/855 [==============================] - 0s 241us/step - loss: 7.9022e-04 - val_loss: 8.0125e-04\n",
      "Epoch 53/500\n",
      "855/855 [==============================] - 0s 217us/step - loss: 7.8021e-04 - val_loss: 7.9129e-04\n",
      "Epoch 54/500\n",
      "855/855 [==============================] - 0s 237us/step - loss: 7.7154e-04 - val_loss: 7.8257e-04\n",
      "Epoch 55/500\n",
      "855/855 [==============================] - 0s 231us/step - loss: 7.6394e-04 - val_loss: 7.7487e-04\n",
      "Epoch 56/500\n",
      "855/855 [==============================] - 0s 206us/step - loss: 7.5723e-04 - val_loss: 7.6805e-04\n",
      "Epoch 57/500\n",
      "855/855 [==============================] - 0s 221us/step - loss: 7.5128e-04 - val_loss: 7.6196e-04\n",
      "Epoch 58/500\n",
      "855/855 [==============================] - 0s 227us/step - loss: 7.4597e-04 - val_loss: 7.5651e-04\n",
      "Epoch 59/500\n",
      "855/855 [==============================] - 0s 224us/step - loss: 7.4122e-04 - val_loss: 7.5160e-04\n",
      "Epoch 60/500\n",
      "855/855 [==============================] - 0s 227us/step - loss: 7.3694e-04 - val_loss: 7.4716e-04\n"
     ]
    },
    {
     "data": {
      "text/plain": [
       "<keras.callbacks.History at 0x1d32660e940>"
      ]
     },
     "execution_count": 46,
     "metadata": {},
     "output_type": "execute_result"
    }
   ],
   "source": [
    "es = [EarlyStopping(monitor='val_loss', min_delta=1e-05, patience=2)]\n",
    "\n",
    "autoencoder.fit(x_train, x_train,\n",
    "                epochs=500,\n",
    "                shuffle=True,\n",
    "                batch_size = 100,\n",
    "                validation_data=(x_test, x_test),\n",
    "                callbacks = es)\n"
   ]
  },
  {
   "cell_type": "code",
   "execution_count": 47,
   "metadata": {},
   "outputs": [],
   "source": [
    "list_of_samples = np.array([audio_dict['samples'] for audio_dict in list_of_audios])\n",
    "predictions = encoder.predict(list_of_samples)\n",
    "classes = [audio_dict['class'] for audio_dict in list_of_audios]\n",
    "colors = [\"red\" if category else \"green\" for category in classes]\n",
    "pred_class_col = list(zip(predictions, classes, colors))"
   ]
  },
  {
   "cell_type": "code",
   "execution_count": 48,
   "metadata": {},
   "outputs": [
    {
     "name": "stdout",
     "output_type": "stream",
     "text": [
      "[t-SNE] Computing 16 nearest neighbors...\n",
      "[t-SNE] Indexed 1069 samples in 0.003s...\n",
      "[t-SNE] Computed neighbors for 1069 samples in 0.062s...\n",
      "[t-SNE] Computed conditional probabilities for sample 1000 / 1069\n",
      "[t-SNE] Computed conditional probabilities for sample 1069 / 1069\n",
      "[t-SNE] Mean sigma: 30.804982\n",
      "[t-SNE] KL divergence after 250 iterations with early exaggeration: 84.465347\n",
      "[t-SNE] KL divergence after 2500 iterations: 1.344856\n"
     ]
    }
   ],
   "source": [
    "features_embedded = TSNE(n_components=2, perplexity=5, learning_rate=500, n_iter=2500, verbose=1) \\\n",
    "       .fit_transform([elem[0] for elem in pred_class_col])\n",
    "\n",
    "features_class_col = list(zip(features_embedded, classes, colors, [audio[\"timestamp\"] for audio in list_of_audios]))"
   ]
  },
  {
   "cell_type": "code",
   "execution_count": 49,
   "metadata": {},
   "outputs": [
    {
     "data": {
      "image/png": "[encoded data removed]",
      "text/plain": [
       "<Figure size 432x288 with 1 Axes>"
      ]
     },
     "metadata": {
      "needs_background": "light"
     },
     "output_type": "display_data"
    }
   ],
   "source": [
    "%matplotlib inline\n",
    "\n",
    "# # Create plot\n",
    "fig = plt.figure()\n",
    "ax = fig.add_subplot(1, 1, 1)\n",
    "\n",
    "for data, group, color, timestamp in features_class_col:\n",
    "    x, y = data\n",
    "    ax.scatter(x, y, alpha=0.8, c=color, edgecolors='none', s=30, label=str(group))\n",
    "    \n",
    "plt.show()\n"
   ]
  },
  {
   "cell_type": "code",
   "execution_count": 39,
   "metadata": {},
   "outputs": [
    {
     "data": {
      "text/plain": [
       "[(array([-32.41153 ,  69.287025], dtype=float32),\n",
       "  False,\n",
       "  'green',\n",
       "  '2019-05-30T12-26-12'),\n",
       " (array([-88.471054, -54.35925 ], dtype=float32),\n",
       "  False,\n",
       "  'green',\n",
       "  '2019-05-30T12-43-12')]"
      ]
     },
     "execution_count": 39,
     "metadata": {},
     "output_type": "execute_result"
    }
   ],
   "source": []
  },
  {
   "cell_type": "code",
   "execution_count": 40,
   "metadata": {},
   "outputs": [],
   "source": [
    "from bokeh.plotting import figure, show, output_file\n",
    "from bokeh.models import ColumnDataSource\n",
    "\n",
    "data_frame = pd.DataFrame()\n",
    "\n",
    "np_features_class_col_t = np.asarray(features_class_col)\n",
    "\n",
    "data_frame['colors'] = [\"#003399\" if group == True else \"#ff0000\" for group in np_features_class_col_t[:, 1]]\n",
    "data_frame['timestamp'] = np_features_class_col_t[:, 3]\n",
    "data_frame['group'] = np_features_class_col_t[:, 1]\n",
    "data_frame['x'] = [point[0] for point in np_features_class_col_t[:, 0]]\n",
    "data_frame['y'] = [point[1] for point in np_features_class_col_t[:, 0]]\n",
    "\n",
    "source = ColumnDataSource(data=data_frame)\n",
    "\n",
    "tools = \"hover,pan,wheel_zoom,zoom_in,zoom_out,box_zoom,undo,redo,reset,tap,save,box_select,\" \\\n",
    "        \"poly_select,lasso_select, \"\n",
    "tooltips = [\n",
    "    (\"timestamp\", \"@timestamp\"),\n",
    "    (\"class\", \"@group\")\n",
    "]\n",
    "p = figure(tools=tools, tooltips=tooltips)\n",
    "p.scatter(x='x', y='y', fill_color='colors', fill_alpha=0.4, source=source, size=15, line_color=None)\n",
    "output_file(\"color_scatter.html\", title=\"color_scatter.py example\")\n",
    "show(p)  # open a browser"
   ]
  },
  {
   "cell_type": "code",
   "execution_count": 33,
   "metadata": {},
   "outputs": [
    {
     "data": {
      "text/plain": [
       "array([array([-32.41153 ,  69.287025], dtype=float32),\n",
       "       array([-88.471054, -54.35925 ], dtype=float32)], dtype=object)"
      ]
     },
     "execution_count": 33,
     "metadata": {},
     "output_type": "execute_result"
    }
   ],
   "source": [
    "np_features_class_col_t[:2, 0]"
   ]
  }
 ],
 "metadata": {
  "kernelspec": {
   "display_name": "smartula-core",
   "language": "python",
   "name": "smartula-core"
  },
  "language_info": {
   "codemirror_mode": {
    "name": "ipython",
    "version": 3
   },
   "file_extension": ".py",
   "mimetype": "text/x-python",
   "name": "python",
   "nbconvert_exporter": "python",
   "pygments_lexer": "ipython3",
   "version": "3.6.8"
  }
 },
 "nbformat": 4,
 "nbformat_minor": 2
}
