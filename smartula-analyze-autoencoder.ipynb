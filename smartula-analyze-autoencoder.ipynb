{
 "cells": [
  {
   "cell_type": "code",
   "execution_count": 1,
   "metadata": {},
   "outputs": [
    {
     "name": "stderr",
     "output_type": "stream",
     "text": [
      "Using TensorFlow backend.\n"
     ]
    }
   ],
   "source": [
    "import matplotlib.pyplot as plt\n",
    "import numpy as np\n",
    "import pandas as pd\n",
    "import os \n",
    "import glob\n",
    "\n",
    "from keras.callbacks import EarlyStopping\n",
    "from keras.models import Model\n",
    "from keras.layers import (Input, Dense)\n",
    "\n",
    "from sklearn import preprocessing"
   ]
  },
  {
   "cell_type": "markdown",
   "metadata": {},
   "source": [
    "## Load data to tuple list"
   ]
  },
  {
   "cell_type": "code",
   "execution_count": 2,
   "metadata": {},
   "outputs": [
    {
     "name": "stdout",
     "output_type": "stream",
     "text": [
      "Error with: 2019-06-06T03-23-11.csv. Got length:1000\n",
      "Error with: 2019-06-07T03-09-11.csv. Got length:1000\n"
     ]
    }
   ],
   "source": [
    "audio_len = 1500\n",
    "\n",
    "if os.name == \"nt\":\n",
    "    os.chdir(\"C:\\\\Users\\\\tymons\\\\001.Projects\\\\003.eul\\\\workspace\\\\smartula-analysis\\\\core\\\\csv\")\n",
    "else:\n",
    "    os.chdir(\"/home/tymons/Projects/003.eul/workspace/smartula-analysis/csv\")\n",
    "    \n",
    "\n",
    "all_filenames = [i for i in glob.glob(\"*.{}\".format(\"csv\"))]\n",
    "#all_filenames = all_filenames[:600]\n",
    "list_of_audios = []\n",
    "for filename in all_filenames:\n",
    "    samples = np.ravel(pd.read_csv(filename, header=None))\n",
    "    array = np.array(samples[:audio_len]).astype(float)\n",
    "    samples = array - array.mean()\n",
    "    audio_tuple = (filename, samples)\n",
    "    if len(samples) == audio_len:\n",
    "        list_of_audios.append(audio_tuple)\n",
    "    else:\n",
    "        print(\"Error with: \" + filename +\". Got length:\" + str(len(samples)))\n"
   ]
  },
  {
   "cell_type": "markdown",
   "metadata": {},
   "source": [
    "## Model"
   ]
  },
  {
   "cell_type": "code",
   "execution_count": 3,
   "metadata": {},
   "outputs": [
    {
     "name": "stdout",
     "output_type": "stream",
     "text": [
      "WARNING:tensorflow:From C:\\Users\\tymons\\001.Projects\\003.eul\\workspace\\smartula-analysis\\core\\venv\\lib\\site-packages\\tensorflow\\python\\framework\\op_def_library.py:263: colocate_with (from tensorflow.python.framework.ops) is deprecated and will be removed in a future version.\n",
      "Instructions for updating:\n",
      "Colocations handled automatically by placer.\n"
     ]
    }
   ],
   "source": [
    "encoding_dim = 32  # 32 floats -> compression of factor 24.5, assuming the input is 784 floats\n",
    "\n",
    "sound_input = Input(shape=(1500,))\n",
    "encoded = Dense(784, activation='relu')(sound_input)\n",
    "encoded = Dense(128, activation='relu')(encoded)\n",
    "encoded = Dense(64, activation='relu')(encoded)\n",
    "latent = Dense(encoding_dim, activation='relu')(encoded)\n",
    "\n",
    "decoded = Dense(64, activation='relu')(latent)\n",
    "decoded = Dense(128, activation='relu')(decoded)\n",
    "decoded = Dense(784, activation='relu')(decoded)\n",
    "decoded = Dense(1500, activation='sigmoid')(decoded)\n",
    "\n",
    "# this model maps an input to its reconstruction\n",
    "autoencoder = Model(sound_input, decoded)\n",
    "encoder = Model(sound_input, latent)"
   ]
  },
  {
   "cell_type": "code",
   "execution_count": 4,
   "metadata": {},
   "outputs": [],
   "source": [
    "autoencoder.compile(optimizer='adadelta', loss='mse')"
   ]
  },
  {
   "cell_type": "markdown",
   "metadata": {},
   "source": [
    "## Normalization and Standarization\n"
   ]
  },
  {
   "cell_type": "code",
   "execution_count": 5,
   "metadata": {},
   "outputs": [],
   "source": [
    "k = 0.8\n",
    "\n",
    "data = np.array([audio[1] for audio in list_of_audios])\n",
    "data = preprocessing.scale(data)\n",
    "data = preprocessing.normalize(data)\n",
    "\n",
    "index = int(k*len(data))\n",
    "x_train = data[:index]\n",
    "x_test = data[index:]\n",
    "\n"
   ]
  },
  {
   "cell_type": "code",
   "execution_count": 6,
   "metadata": {},
   "outputs": [
    {
     "name": "stdout",
     "output_type": "stream",
     "text": [
      "WARNING:tensorflow:From C:\\Users\\tymons\\001.Projects\\003.eul\\workspace\\smartula-analysis\\core\\venv\\lib\\site-packages\\tensorflow\\python\\ops\\math_ops.py:3066: to_int32 (from tensorflow.python.ops.math_ops) is deprecated and will be removed in a future version.\n",
      "Instructions for updating:\n",
      "Use tf.cast instead.\n",
      "Train on 855 samples, validate on 214 samples\n",
      "Epoch 1/500\n",
      "855/855 [==============================] - 2s 2ms/step - loss: 0.2498 - val_loss: 0.2500\n",
      "Epoch 2/500\n",
      "855/855 [==============================] - 1s 1ms/step - loss: 0.2493 - val_loss: 0.2495\n",
      "Epoch 3/500\n",
      "855/855 [==============================] - 1s 1ms/step - loss: 0.2488 - val_loss: 0.2490\n",
      "Epoch 4/500\n",
      "855/855 [==============================] - 1s 1ms/step - loss: 0.2483 - val_loss: 0.2485\n",
      "Epoch 5/500\n",
      "855/855 [==============================] - 1s 1ms/step - loss: 0.2478 - val_loss: 0.2480\n",
      "Epoch 6/500\n",
      "855/855 [==============================] - 1s 1ms/step - loss: 0.2473 - val_loss: 0.2475\n",
      "Epoch 7/500\n",
      "855/855 [==============================] - 1s 1ms/step - loss: 0.2468 - val_loss: 0.2470\n",
      "Epoch 8/500\n",
      "855/855 [==============================] - 1s 1ms/step - loss: 0.2463 - val_loss: 0.2464\n",
      "Epoch 9/500\n",
      "855/855 [==============================] - 1s 1ms/step - loss: 0.2457 - val_loss: 0.2459\n",
      "Epoch 10/500\n",
      "855/855 [==============================] - 1s 1ms/step - loss: 0.2451 - val_loss: 0.2452\n",
      "Epoch 11/500\n",
      "855/855 [==============================] - 1s 1ms/step - loss: 0.2445 - val_loss: 0.2446\n",
      "Epoch 12/500\n",
      "855/855 [==============================] - 1s 1ms/step - loss: 0.2438 - val_loss: 0.2439\n",
      "Epoch 13/500\n",
      "855/855 [==============================] - 1s 1ms/step - loss: 0.2431 - val_loss: 0.2431\n",
      "Epoch 14/500\n",
      "855/855 [==============================] - 1s 1ms/step - loss: 0.2423 - val_loss: 0.2423\n",
      "Epoch 15/500\n",
      "855/855 [==============================] - 1s 1ms/step - loss: 0.2414 - val_loss: 0.2413\n",
      "Epoch 16/500\n",
      "855/855 [==============================] - 1s 1ms/step - loss: 0.2404 - val_loss: 0.2402\n",
      "Epoch 17/500\n",
      "855/855 [==============================] - 1s 1ms/step - loss: 0.2391 - val_loss: 0.2388\n",
      "Epoch 18/500\n",
      "855/855 [==============================] - 1s 1ms/step - loss: 0.2377 - val_loss: 0.2371\n",
      "Epoch 19/500\n",
      "855/855 [==============================] - 1s 1ms/step - loss: 0.2357 - val_loss: 0.2349\n",
      "Epoch 20/500\n",
      "855/855 [==============================] - 1s 1ms/step - loss: 0.2331 - val_loss: 0.2316\n",
      "Epoch 21/500\n",
      "855/855 [==============================] - 1s 1ms/step - loss: 0.2292 - val_loss: 0.2265\n",
      "Epoch 22/500\n",
      "855/855 [==============================] - 1s 1ms/step - loss: 0.2226 - val_loss: 0.2169\n",
      "Epoch 23/500\n",
      "855/855 [==============================] - 1s 1ms/step - loss: 0.2086 - val_loss: 0.1935\n",
      "Epoch 24/500\n",
      "855/855 [==============================] - 1s 1ms/step - loss: 0.1685 - val_loss: 0.1176\n",
      "Epoch 25/500\n",
      "855/855 [==============================] - 1s 1ms/step - loss: 0.0670 - val_loss: 0.0175\n",
      "Epoch 26/500\n",
      "855/855 [==============================] - 1s 1ms/step - loss: 0.0086 - val_loss: 0.0034\n",
      "Epoch 27/500\n",
      "855/855 [==============================] - 1s 1ms/step - loss: 0.0025 - val_loss: 0.0018\n",
      "Epoch 28/500\n",
      "855/855 [==============================] - 1s 1ms/step - loss: 0.0015 - val_loss: 0.0013\n",
      "Epoch 29/500\n",
      "855/855 [==============================] - 1s 1ms/step - loss: 0.0012 - val_loss: 0.0011\n",
      "Epoch 30/500\n",
      "855/855 [==============================] - 1s 1ms/step - loss: 0.0010 - val_loss: 9.8515e-04\n",
      "Epoch 31/500\n",
      "855/855 [==============================] - 1s 1ms/step - loss: 9.2969e-04 - val_loss: 9.1455e-04\n",
      "Epoch 32/500\n",
      "855/855 [==============================] - 1s 1ms/step - loss: 8.7294e-04 - val_loss: 8.6724e-04\n",
      "Epoch 33/500\n",
      "855/855 [==============================] - 1s 1ms/step - loss: 8.3415e-04 - val_loss: 8.3368e-04\n",
      "Epoch 34/500\n",
      "855/855 [==============================] - 1s 1ms/step - loss: 8.0623e-04 - val_loss: 8.0875e-04\n",
      "Epoch 35/500\n",
      "855/855 [==============================] - 1s 1ms/step - loss: 7.8528e-04 - val_loss: 7.8959e-04\n",
      "Epoch 36/500\n",
      "855/855 [==============================] - 1s 1ms/step - loss: 7.6906e-04 - val_loss: 7.7451e-04\n",
      "Epoch 37/500\n",
      "855/855 [==============================] - 1s 1ms/step - loss: 7.5623e-04 - val_loss: 7.6234e-04\n",
      "Epoch 38/500\n",
      "855/855 [==============================] - 1s 1ms/step - loss: 7.4585e-04 - val_loss: 7.5240e-04\n",
      "Epoch 39/500\n",
      "855/855 [==============================] - 1s 1ms/step - loss: 7.3733e-04 - val_loss: 7.4412e-04\n",
      "Epoch 40/500\n",
      "855/855 [==============================] - 1s 1ms/step - loss: 7.3024e-04 - val_loss: 7.3714e-04\n",
      "Epoch 41/500\n",
      "855/855 [==============================] - 1s 1ms/step - loss: 7.2424e-04 - val_loss: 7.3122e-04\n",
      "Epoch 42/500\n",
      "855/855 [==============================] - 1s 1ms/step - loss: 7.1915e-04 - val_loss: 7.2614e-04\n",
      "Epoch 43/500\n",
      "855/855 [==============================] - 1s 1ms/step - loss: 7.1478e-04 - val_loss: 7.2173e-04\n"
     ]
    },
    {
     "data": {
      "text/plain": [
       "<keras.callbacks.History at 0x21b5c029240>"
      ]
     },
     "execution_count": 6,
     "metadata": {},
     "output_type": "execute_result"
    }
   ],
   "source": [
    "es = [EarlyStopping(monitor='val_loss', min_delta=1e-05, patience=2)]\n",
    "\n",
    "autoencoder.fit(x_train, x_train,\n",
    "                epochs=500,\n",
    "                shuffle=True,\n",
    "                batch_size = 100,\n",
    "                validation_data=(x_test, x_test),\n",
    "                callbacks = es)\n"
   ]
  },
  {
   "cell_type": "code",
   "execution_count": 14,
   "metadata": {},
   "outputs": [
    {
     "data": {
      "text/plain": [
       "array([[ 0.00072173, -0.03094156,  0.03503067, ...,  0.02777295,\n",
       "         0.00894691, -0.01498   ],\n",
       "       [-0.02954881, -0.00932382, -0.0392583 , ...,  0.04015046,\n",
       "         0.03383381,  0.00238051],\n",
       "       [ 0.05133195,  0.0271058 , -0.03766019, ...,  0.04997449,\n",
       "        -0.01698882, -0.02845899],\n",
       "       ...,\n",
       "       [-0.00414083, -0.03682335,  0.01097654, ...,  0.04732382,\n",
       "        -0.01997022, -0.01941049],\n",
       "       [-0.03299856,  0.02043938, -0.03232971, ...,  0.02335959,\n",
       "         0.04058617,  0.01333566],\n",
       "       [-0.0094582 , -0.04848468,  0.0090522 , ..., -0.01397355,\n",
       "         0.0470532 ,  0.01798497]], dtype=float32)"
      ]
     },
     "execution_count": 14,
     "metadata": {},
     "output_type": "execute_result"
    }
   ],
   "source": [
    "\n"
   ]
  },
  {
   "cell_type": "code",
   "execution_count": null,
   "metadata": {},
   "outputs": [],
   "source": [
    "autoencoder.summary()"
   ]
  },
  {
   "cell_type": "code",
   "execution_count": null,
   "metadata": {},
   "outputs": [],
   "source": [
    "# encode and decode some digits\n",
    "# note that we take them from the *test* set\n",
    "encoded = encoder.predict(x_test)\n",
    "\n",
    "\n"
   ]
  },
  {
   "cell_type": "code",
   "execution_count": null,
   "metadata": {},
   "outputs": [],
   "source": [
    "%matplotlib inline\n",
    "\n",
    "n = 10  # how many digits we will display\n",
    "plt.figure(figsize=(20, 4))\n",
    "for i in range(n):\n",
    "    # display original\n",
    "    ax = plt.subplot(2, n, i + 1)\n",
    "    plt.imshow(x_test[i].reshape(28, 28))\n",
    "    plt.gray()\n",
    "    ax.get_xaxis().set_visible(False)\n",
    "    ax.get_yaxis().set_visible(False)\n",
    "\n",
    "    # display reconstruction\n",
    "    ax = plt.subplot(2, n, i + 1 + n)\n",
    "    plt.imshow(decoded_imgs[i].reshape(28, 28))\n",
    "    plt.gray()\n",
    "    ax.get_xaxis().set_visible(False)\n",
    "    ax.get_yaxis().set_visible(False)\n",
    "plt.show()"
   ]
  }
 ],
 "metadata": {
  "kernelspec": {
   "display_name": "smartula-core",
   "language": "python",
   "name": "smartula-core"
  },
  "language_info": {
   "codemirror_mode": {
    "name": "ipython",
    "version": 3
   },
   "file_extension": ".py",
   "mimetype": "text/x-python",
   "name": "python",
   "nbconvert_exporter": "python",
   "pygments_lexer": "ipython3",
   "version": "3.6.8"
  }
 },
 "nbformat": 4,
 "nbformat_minor": 2
}
