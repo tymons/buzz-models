{
 "cells": [
  {
   "cell_type": "code",
   "execution_count": 1,
   "metadata": {},
   "outputs": [
    {
     "name": "stderr",
     "output_type": "stream",
     "text": [
      "Using TensorFlow backend.\n"
     ]
    }
   ],
   "source": [
    "import matplotlib.pyplot as plt\n",
    "import numpy as np\n",
    "import pandas as pd\n",
    "import os \n",
    "import glob\n",
    "\n",
    "from keras.callbacks import EarlyStopping\n",
    "from keras.models import Model\n",
    "from keras.layers import (Input, Dense)\n",
    "from smartula_analyze import save_to_file, is_affected\n",
    "\n",
    "from sklearn import preprocessing\n",
    "from sklearn.manifold import TSNE\n",
    "from sklearn.decomposition import PCA"
   ]
  },
  {
   "cell_type": "markdown",
   "metadata": {},
   "source": [
    "## Load data to tuple list"
   ]
  },
  {
   "cell_type": "code",
   "execution_count": 2,
   "metadata": {},
   "outputs": [
    {
     "name": "stdout",
     "output_type": "stream",
     "text": [
      "Error with: C:\\Users\\tymons\\001.Projects\\003.eul\\workspace\\smartula-analysis\\core\\csv\\2019-06-06T03-23-11.csv. Got length:1000\n",
      "Error with: C:\\Users\\tymons\\001.Projects\\003.eul\\workspace\\smartula-analysis\\core\\csv\\2019-06-07T03-09-11.csv. Got length:1000\n"
     ]
    }
   ],
   "source": [
    "audio_len = 1500\n",
    "\n",
    "if os.name == \"nt\":\n",
    "    path_name = \"C:\\\\Users\\\\tymons\\\\001.Projects\\\\003.eul\\\\workspace\\\\smartula-analysis\\\\core\\\\csv\\\\\"\n",
    "else:\n",
    "    path_name = \"/home/tymons/Projects/003.eul/workspace/smartula-analysis/csv/\"\n",
    "    \n",
    "\n",
    "all_filenames = [i for i in glob.glob(f\"{path_name}*.csv\")]\n",
    "#all_filenames = all_filenames[:2]\n",
    "\n",
    "list_of_audios = []\n",
    "for filename in all_filenames:\n",
    "    samples = pd.read_csv(filename, header=None).values[:audio_len].astype(float)\n",
    "    samples = samples - samples.mean()\n",
    "    samples = samples.reshape(samples.size)\n",
    "    timestamp = filename.split(os.sep)[-1].split(\".\")[0]\n",
    "    \n",
    "    dict_sm = {\"timestamp\" : timestamp,\n",
    "               \"samples\" : samples,\n",
    "               \"class\" : is_affected(timestamp, [(\"2019-06-04T18-22-00\", \"2019-06-04T20-30-00\"),\n",
    "                                                (\"2019-06-05T20-46-00\", \"2019-06-05T23-48-00\"),\n",
    "                                                (\"2019-06-06T22-23-00\", \"2019-06-07T05-52-00\")])}\n",
    "           \n",
    "    if len(samples) == audio_len:\n",
    "        list_of_audios.append(dict_sm)\n",
    "    else:\n",
    "        print(\"Error with: \" + filename +\". Got length:\" + str(samples.size))\n"
   ]
  },
  {
   "cell_type": "markdown",
   "metadata": {},
   "source": [
    "## Model"
   ]
  },
  {
   "cell_type": "code",
   "execution_count": 3,
   "metadata": {},
   "outputs": [
    {
     "name": "stdout",
     "output_type": "stream",
     "text": [
      "WARNING:tensorflow:From C:\\Users\\tymons\\001.Projects\\003.eul\\workspace\\smartula-analysis\\core\\venv\\lib\\site-packages\\tensorflow\\python\\framework\\op_def_library.py:263: colocate_with (from tensorflow.python.framework.ops) is deprecated and will be removed in a future version.\n",
      "Instructions for updating:\n",
      "Colocations handled automatically by placer.\n"
     ]
    }
   ],
   "source": [
    "encoding_dim = 32 \n",
    "\n",
    "sound_input = Input(shape=(1500,))\n",
    "encoded = Dense(784, activation='relu')(sound_input)\n",
    "encoded = Dense(128, activation='relu')(encoded)\n",
    "encoded = Dense(64, activation='relu')(encoded)\n",
    "latent = Dense(encoding_dim, activation='relu')(encoded)\n",
    "\n",
    "decoded = Dense(64, activation='relu')(latent)\n",
    "decoded = Dense(128, activation='relu')(decoded)\n",
    "decoded = Dense(784, activation='relu')(decoded)\n",
    "decoded = Dense(1500, activation='sigmoid')(decoded)\n",
    "\n",
    "# this model maps an input to its reconstruction\n",
    "autoencoder = Model(sound_input, decoded)\n",
    "encoder = Model(sound_input, latent)"
   ]
  },
  {
   "cell_type": "code",
   "execution_count": 4,
   "metadata": {},
   "outputs": [],
   "source": [
    "autoencoder.compile(optimizer='adadelta', loss='mse')"
   ]
  },
  {
   "cell_type": "markdown",
   "metadata": {},
   "source": [
    "## Normalization and Standarization\n"
   ]
  },
  {
   "cell_type": "code",
   "execution_count": 5,
   "metadata": {},
   "outputs": [],
   "source": [
    "k = 0.8\n",
    "\n",
    "data = np.array([audio[\"samples\"] for audio in list_of_audios])\n",
    "data = preprocessing.scale(data)\n",
    "data = preprocessing.normalize(data)\n",
    "\n",
    "index = int(k*len(data))\n",
    "x_train = data[:index]\n",
    "x_test = data[index:]"
   ]
  },
  {
   "cell_type": "code",
   "execution_count": 6,
   "metadata": {},
   "outputs": [
    {
     "name": "stdout",
     "output_type": "stream",
     "text": [
      "WARNING:tensorflow:From C:\\Users\\tymons\\001.Projects\\003.eul\\workspace\\smartula-analysis\\core\\venv\\lib\\site-packages\\tensorflow\\python\\ops\\math_ops.py:3066: to_int32 (from tensorflow.python.ops.math_ops) is deprecated and will be removed in a future version.\n",
      "Instructions for updating:\n",
      "Use tf.cast instead.\n",
      "Train on 855 samples, validate on 214 samples\n",
      "Epoch 1/500\n",
      "855/855 [==============================] - 2s 2ms/step - loss: 0.2498 - val_loss: 0.2500\n",
      "Epoch 2/500\n",
      "855/855 [==============================] - 1s 1ms/step - loss: 0.2493 - val_loss: 0.2495\n",
      "Epoch 3/500\n",
      "855/855 [==============================] - 1s 1ms/step - loss: 0.2488 - val_loss: 0.2490\n",
      "Epoch 4/500\n",
      "855/855 [==============================] - 1s 1ms/step - loss: 0.2482 - val_loss: 0.2484\n",
      "Epoch 5/500\n",
      "855/855 [==============================] - 1s 1ms/step - loss: 0.2477 - val_loss: 0.2479\n",
      "Epoch 6/500\n",
      "855/855 [==============================] - 1s 1ms/step - loss: 0.2472 - val_loss: 0.2473\n",
      "Epoch 7/500\n",
      "855/855 [==============================] - 1s 1ms/step - loss: 0.2466 - val_loss: 0.2468\n",
      "Epoch 8/500\n",
      "855/855 [==============================] - 1s 1ms/step - loss: 0.2460 - val_loss: 0.2462\n",
      "Epoch 9/500\n",
      "855/855 [==============================] - 1s 1ms/step - loss: 0.2454 - val_loss: 0.2455\n",
      "Epoch 10/500\n",
      "855/855 [==============================] - 1s 1ms/step - loss: 0.2448 - val_loss: 0.2449\n",
      "Epoch 11/500\n",
      "855/855 [==============================] - 1s 1ms/step - loss: 0.2441 - val_loss: 0.2441\n",
      "Epoch 12/500\n",
      "855/855 [==============================] - 1s 1ms/step - loss: 0.2433 - val_loss: 0.2433\n",
      "Epoch 13/500\n",
      "855/855 [==============================] - 1s 1ms/step - loss: 0.2425 - val_loss: 0.2424\n",
      "Epoch 14/500\n",
      "855/855 [==============================] - 1s 1ms/step - loss: 0.2415 - val_loss: 0.2414\n",
      "Epoch 15/500\n",
      "855/855 [==============================] - 1s 1ms/step - loss: 0.2404 - val_loss: 0.2402\n",
      "Epoch 16/500\n",
      "855/855 [==============================] - 1s 1ms/step - loss: 0.2391 - val_loss: 0.2387\n",
      "Epoch 17/500\n",
      "855/855 [==============================] - 1s 1ms/step - loss: 0.2375 - val_loss: 0.2368\n",
      "Epoch 18/500\n",
      "855/855 [==============================] - 1s 1ms/step - loss: 0.2353 - val_loss: 0.2342\n",
      "Epoch 19/500\n",
      "855/855 [==============================] - 1s 1ms/step - loss: 0.2322 - val_loss: 0.2303\n",
      "Epoch 20/500\n",
      "855/855 [==============================] - 1s 1ms/step - loss: 0.2273 - val_loss: 0.2235\n",
      "Epoch 21/500\n",
      "855/855 [==============================] - 1s 1ms/step - loss: 0.2180 - val_loss: 0.2089\n",
      "Epoch 22/500\n",
      "855/855 [==============================] - 1s 1ms/step - loss: 0.1944 - val_loss: 0.1646\n",
      "Epoch 23/500\n",
      "855/855 [==============================] - 1s 1ms/step - loss: 0.1180 - val_loss: 0.0467\n",
      "Epoch 24/500\n",
      "855/855 [==============================] - 1s 1ms/step - loss: 0.0209 - val_loss: 0.0055\n",
      "Epoch 25/500\n",
      "855/855 [==============================] - 1s 1ms/step - loss: 0.0035 - val_loss: 0.0022\n",
      "Epoch 26/500\n",
      "855/855 [==============================] - 1s 1ms/step - loss: 0.0018 - val_loss: 0.0014\n",
      "Epoch 27/500\n",
      "855/855 [==============================] - 1s 1ms/step - loss: 0.0013 - val_loss: 0.0012\n",
      "Epoch 28/500\n",
      "855/855 [==============================] - 1s 1ms/step - loss: 0.0011 - val_loss: 0.0010\n",
      "Epoch 29/500\n",
      "855/855 [==============================] - 1s 1ms/step - loss: 9.6047e-04 - val_loss: 9.3712e-04\n",
      "Epoch 30/500\n",
      "855/855 [==============================] - 1s 1ms/step - loss: 8.9310e-04 - val_loss: 8.8240e-04\n",
      "Epoch 31/500\n",
      "855/855 [==============================] - 1s 1ms/step - loss: 8.4832e-04 - val_loss: 8.4431e-04\n",
      "Epoch 32/500\n",
      "855/855 [==============================] - 1s 1ms/step - loss: 8.1663e-04 - val_loss: 8.1654e-04\n",
      "Epoch 33/500\n",
      "855/855 [==============================] - 1s 1ms/step - loss: 7.9324e-04 - val_loss: 7.9545e-04\n",
      "Epoch 34/500\n",
      "855/855 [==============================] - 1s 1ms/step - loss: 7.7532e-04 - val_loss: 7.7898e-04\n",
      "Epoch 35/500\n",
      "855/855 [==============================] - 1s 1ms/step - loss: 7.6124e-04 - val_loss: 7.6584e-04\n",
      "Epoch 36/500\n",
      "855/855 [==============================] - 1s 1ms/step - loss: 7.4996e-04 - val_loss: 7.5516e-04\n",
      "Epoch 37/500\n",
      "855/855 [==============================] - 1s 1ms/step - loss: 7.4075e-04 - val_loss: 7.4632e-04\n",
      "Epoch 38/500\n",
      "855/855 [==============================] - 1s 1ms/step - loss: 7.3312e-04 - val_loss: 7.3892e-04\n",
      "Epoch 39/500\n",
      "855/855 [==============================] - 1s 1ms/step - loss: 7.2672e-04 - val_loss: 7.3267e-04\n",
      "Epoch 40/500\n",
      "855/855 [==============================] - 1s 1ms/step - loss: 7.2130e-04 - val_loss: 7.2731e-04\n",
      "Epoch 41/500\n",
      "855/855 [==============================] - 1s 1ms/step - loss: 7.1665e-04 - val_loss: 7.2269e-04\n",
      "Epoch 42/500\n",
      "855/855 [==============================] - 1s 1ms/step - loss: 7.1264e-04 - val_loss: 7.1867e-04\n",
      "Epoch 43/500\n",
      "855/855 [==============================] - 1s 1ms/step - loss: 7.0915e-04 - val_loss: 7.1515e-04\n",
      "Epoch 44/500\n",
      "855/855 [==============================] - 1s 1ms/step - loss: 7.0609e-04 - val_loss: 7.1203e-04\n",
      "Epoch 45/500\n",
      "855/855 [==============================] - 1s 1ms/step - loss: 7.0338e-04 - val_loss: 7.0926e-04\n",
      "Epoch 46/500\n",
      "855/855 [==============================] - 1s 1ms/step - loss: 7.0098e-04 - val_loss: 7.0679e-04\n",
      "Epoch 47/500\n",
      "855/855 [==============================] - 1s 1ms/step - loss: 6.9883e-04 - val_loss: 7.0457e-04\n",
      "Epoch 48/500\n",
      "855/855 [==============================] - 1s 1ms/step - loss: 6.9690e-04 - val_loss: 7.0256e-04\n",
      "Epoch 49/500\n",
      "855/855 [==============================] - 1s 1ms/step - loss: 6.9516e-04 - val_loss: 7.0074e-04\n",
      "Epoch 50/500\n",
      "855/855 [==============================] - 1s 1ms/step - loss: 6.9358e-04 - val_loss: 6.9909e-04\n",
      "Epoch 51/500\n",
      "855/855 [==============================] - 1s 1ms/step - loss: 6.9215e-04 - val_loss: 6.9758e-04\n",
      "Epoch 52/500\n",
      "855/855 [==============================] - 1s 1ms/step - loss: 6.9084e-04 - val_loss: 6.9619e-04\n",
      "Epoch 53/500\n",
      "855/855 [==============================] - 1s 1ms/step - loss: 6.8964e-04 - val_loss: 6.9491e-04\n",
      "Epoch 54/500\n",
      "855/855 [==============================] - 1s 1ms/step - loss: 6.8853e-04 - val_loss: 6.9374e-04\n",
      "Epoch 55/500\n",
      "855/855 [==============================] - 1s 1ms/step - loss: 6.8752e-04 - val_loss: 6.9265e-04\n",
      "Epoch 56/500\n",
      "855/855 [==============================] - 1s 1ms/step - loss: 6.8658e-04 - val_loss: 6.9164e-04\n",
      "Epoch 57/500\n",
      "855/855 [==============================] - 1s 1ms/step - loss: 6.8571e-04 - val_loss: 6.9070e-04\n",
      "Epoch 58/500\n",
      "855/855 [==============================] - 1s 1ms/step - loss: 6.8490e-04 - val_loss: 6.8983e-04\n",
      "Epoch 59/500\n",
      "855/855 [==============================] - 1s 1ms/step - loss: 6.8415e-04 - val_loss: 6.8901e-04\n",
      "Epoch 60/500\n",
      "855/855 [==============================] - 1s 1ms/step - loss: 6.8344e-04 - val_loss: 6.8824e-04\n",
      "Epoch 61/500\n",
      "855/855 [==============================] - 1s 1ms/step - loss: 6.8279e-04 - val_loss: 6.8753e-04\n",
      "Epoch 62/500\n",
      "855/855 [==============================] - 1s 1ms/step - loss: 6.8217e-04 - val_loss: 6.8685e-04\n",
      "Epoch 63/500\n",
      "855/855 [==============================] - 1s 1ms/step - loss: 6.8160e-04 - val_loss: 6.8622e-04\n",
      "Epoch 64/500\n",
      "855/855 [==============================] - 1s 1ms/step - loss: 6.8105e-04 - val_loss: 6.8562e-04\n",
      "Epoch 65/500\n",
      "855/855 [==============================] - 1s 1ms/step - loss: 6.8054e-04 - val_loss: 6.8506e-04\n",
      "Epoch 66/500\n",
      "855/855 [==============================] - 1s 1ms/step - loss: 6.8006e-04 - val_loss: 6.8453e-04\n",
      "Epoch 67/500\n",
      "855/855 [==============================] - 1s 1ms/step - loss: 6.7961e-04 - val_loss: 6.8402e-04\n",
      "Epoch 68/500\n",
      "855/855 [==============================] - 1s 1ms/step - loss: 6.7918e-04 - val_loss: 6.8354e-04\n",
      "Epoch 69/500\n",
      "855/855 [==============================] - 1s 1ms/step - loss: 6.7877e-04 - val_loss: 6.8309e-04\n",
      "Epoch 70/500\n",
      "855/855 [==============================] - 1s 1ms/step - loss: 6.7838e-04 - val_loss: 6.8266e-04\n",
      "Epoch 71/500\n",
      "855/855 [==============================] - 1s 1ms/step - loss: 6.7802e-04 - val_loss: 6.8224e-04\n",
      "Epoch 72/500\n",
      "855/855 [==============================] - 1s 1ms/step - loss: 6.7767e-04 - val_loss: 6.8185e-04\n",
      "Epoch 73/500\n",
      "855/855 [==============================] - 1s 1ms/step - loss: 6.7734e-04 - val_loss: 6.8148e-04\n",
      "Epoch 74/500\n",
      "855/855 [==============================] - 1s 1ms/step - loss: 6.7702e-04 - val_loss: 6.8112e-04\n",
      "Epoch 75/500\n",
      "855/855 [==============================] - 1s 1ms/step - loss: 6.7672e-04 - val_loss: 6.8078e-04\n",
      "Epoch 76/500\n",
      "855/855 [==============================] - 1s 1ms/step - loss: 6.7643e-04 - val_loss: 6.8046e-04\n",
      "Epoch 77/500\n",
      "855/855 [==============================] - 1s 1ms/step - loss: 6.7616e-04 - val_loss: 6.8014e-04\n",
      "Epoch 78/500\n",
      "855/855 [==============================] - 1s 1ms/step - loss: 6.7590e-04 - val_loss: 6.7985e-04\n"
     ]
    },
    {
     "data": {
      "text/plain": [
       "<keras.callbacks.History at 0x2ca3f8a3400>"
      ]
     },
     "execution_count": 6,
     "metadata": {},
     "output_type": "execute_result"
    }
   ],
   "source": [
    "es = [EarlyStopping(monitor='val_loss', min_delta=1e-06, patience=3)]\n",
    "\n",
    "autoencoder.fit(x_train, x_train,\n",
    "                epochs=500,\n",
    "                shuffle=True,\n",
    "                batch_size = 100,\n",
    "                validation_data=(x_test, x_test),\n",
    "                callbacks = es)\n"
   ]
  },
  {
   "cell_type": "code",
   "execution_count": 7,
   "metadata": {},
   "outputs": [],
   "source": [
    "list_of_samples = np.array([audio_dict['samples'] for audio_dict in list_of_audios])\n",
    "predictions = encoder.predict(list_of_samples)\n",
    "classes = [audio_dict['class'] for audio_dict in list_of_audios]\n",
    "colors = [\"red\" if category else \"green\" for category in classes]\n",
    "pred_class_col = list(zip(predictions, classes, colors))"
   ]
  },
  {
   "cell_type": "code",
   "execution_count": 8,
   "metadata": {},
   "outputs": [
    {
     "name": "stdout",
     "output_type": "stream",
     "text": [
      "[t-SNE] Computing 16 nearest neighbors...\n",
      "[t-SNE] Indexed 1069 samples in 0.002s...\n",
      "[t-SNE] Computed neighbors for 1069 samples in 0.042s...\n",
      "[t-SNE] Computed conditional probabilities for sample 1000 / 1069\n",
      "[t-SNE] Computed conditional probabilities for sample 1069 / 1069\n",
      "[t-SNE] Mean sigma: 27.492443\n",
      "[t-SNE] KL divergence after 250 iterations with early exaggeration: 79.645157\n",
      "[t-SNE] KL divergence after 2500 iterations: 1.065493\n"
     ]
    }
   ],
   "source": [
    "features_embedded = TSNE(n_components=2, perplexity=5, learning_rate=500, n_iter=2500, verbose=1) \\\n",
    "       .fit_transform([elem[0] for elem in pred_class_col])"
   ]
  },
  {
   "cell_type": "code",
   "execution_count": 10,
   "metadata": {},
   "outputs": [],
   "source": [
    "pca = PCA(n_components=2)\n",
    "features_embedded = pca.fit_transform([elem[0] for elem in pred_class_col])"
   ]
  },
  {
   "cell_type": "code",
   "execution_count": 12,
   "metadata": {},
   "outputs": [],
   "source": [
    "features_class_col = list(zip(features_embedded, classes, colors, [audio[\"timestamp\"] for audio in list_of_audios]))"
   ]
  },
  {
   "cell_type": "code",
   "execution_count": 13,
   "metadata": {},
   "outputs": [
    {
     "data": {
      "image/png": "[encoded data removed]",
      "text/plain": [
       "<Figure size 432x288 with 1 Axes>"
      ]
     },
     "metadata": {
      "needs_background": "light"
     },
     "output_type": "display_data"
    }
   ],
   "source": [
    "%matplotlib inline\n",
    "\n",
    "# # Create plot\n",
    "fig = plt.figure()\n",
    "ax = fig.add_subplot(1, 1, 1)\n",
    "\n",
    "for data, group, color, timestamp in features_class_col:\n",
    "    x, y = data\n",
    "    ax.scatter(x, y, alpha=0.8, c=color, edgecolors='none', s=30, label=str(group))\n",
    "    \n",
    "plt.show()\n"
   ]
  },
  {
   "cell_type": "code",
   "execution_count": null,
   "metadata": {},
   "outputs": [],
   "source": []
  },
  {
   "cell_type": "code",
   "execution_count": 14,
   "metadata": {},
   "outputs": [],
   "source": [
    "from bokeh.plotting import figure, show, output_file\n",
    "from bokeh.models import ColumnDataSource\n",
    "\n",
    "data_frame = pd.DataFrame()\n",
    "\n",
    "np_features_class_col_t = np.asarray(features_class_col)\n",
    "\n",
    "data_frame['colors'] = [\"#003399\" if group == True else \"#ff0000\" for group in np_features_class_col_t[:, 1]]\n",
    "data_frame['timestamp'] = np_features_class_col_t[:, 3]\n",
    "data_frame['group'] = np_features_class_col_t[:, 1]\n",
    "data_frame['x'] = [point[0] for point in np_features_class_col_t[:, 0]]\n",
    "data_frame['y'] = [point[1] for point in np_features_class_col_t[:, 0]]\n",
    "\n",
    "source = ColumnDataSource(data=data_frame)\n",
    "\n",
    "tools = \"hover,pan,wheel_zoom,zoom_in,zoom_out,box_zoom,undo,redo,reset,tap,save,box_select,\" \\\n",
    "        \"poly_select,lasso_select, \"\n",
    "tooltips = [\n",
    "    (\"timestamp\", \"@timestamp\"),\n",
    "    (\"class\", \"@group\")\n",
    "]\n",
    "p = figure(tools=tools, tooltips=tooltips)\n",
    "p.scatter(x='x', y='y', fill_color='colors', fill_alpha=0.4, source=source, size=15, line_color=None)\n",
    "output_file(\"color_scatter.html\", title=\"color_scatter.py example\")\n",
    "show(p)  # open a browser"
   ]
  },
  {
   "cell_type": "code",
   "execution_count": null,
   "metadata": {},
   "outputs": [],
   "source": [
    "np_features_class_col_t[:2, 0]"
   ]
  }
 ],
 "metadata": {
  "kernelspec": {
   "display_name": "smartula-core",
   "language": "python",
   "name": "smartula-core"
  },
  "language_info": {
   "codemirror_mode": {
    "name": "ipython",
    "version": 3
   },
   "file_extension": ".py",
   "mimetype": "text/x-python",
   "name": "python",
   "nbconvert_exporter": "python",
   "pygments_lexer": "ipython3",
   "version": "3.6.8"
  }
 },
 "nbformat": 4,
 "nbformat_minor": 2
}
