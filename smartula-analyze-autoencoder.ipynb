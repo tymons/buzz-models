{
 "cells": [
  {
   "cell_type": "code",
   "execution_count": 1,
   "metadata": {},
   "outputs": [
    {
     "name": "stderr",
     "output_type": "stream",
     "text": [
      "Using TensorFlow backend.\n"
     ]
    }
   ],
   "source": [
    "import matplotlib.pyplot as plt\n",
    "import numpy as np\n",
    "import pandas as pd\n",
    "import os \n",
    "import glob\n",
    "\n",
    "from keras.callbacks import EarlyStopping\n",
    "from keras.models import Model\n",
    "from keras.layers import (Input, Dense)\n",
    "\n",
    "from sklearn import preprocessing"
   ]
  },
  {
   "cell_type": "markdown",
   "metadata": {},
   "source": [
    "## Load data to tuple list"
   ]
  },
  {
   "cell_type": "code",
   "execution_count": 2,
   "metadata": {},
   "outputs": [
    {
     "name": "stdout",
     "output_type": "stream",
     "text": [
      "Error with: 2019-06-06T03-23-11.csv. Got length:1000\n",
      "Error with: 2019-06-07T03-09-11.csv. Got length:1000\n"
     ]
    }
   ],
   "source": [
    "audio_len = 1500\n",
    "\n",
    "if os.name == \"nt\":\n",
    "    os.chdir(\"C:\\\\Users\\\\tymons\\\\001.Projects\\\\003.eul\\\\workspace\\\\smartula-analysis\\\\core\\\\csv\")\n",
    "else:\n",
    "    os.chdir(\"/home/tymons/Projects/003.eul/workspace/smartula-analysis/csv\")\n",
    "    \n",
    "\n",
    "all_filenames = [i for i in glob.glob(\"*.{}\".format(\"csv\"))]\n",
    "#all_filenames = all_filenames[:600]\n",
    "list_of_audios = []\n",
    "for filename in all_filenames:\n",
    "    samples = np.ravel(pd.read_csv(filename, header=None))\n",
    "    array = np.array(samples[:audio_len]).astype(float)\n",
    "    samples = array - array.mean()\n",
    "    audio_tuple = (filename, samples)\n",
    "    if len(samples) == audio_len:\n",
    "        list_of_audios.append(audio_tuple)\n",
    "    else:\n",
    "        print(\"Error with: \" + filename +\". Got length:\" + str(len(samples)))\n"
   ]
  },
  {
   "cell_type": "markdown",
   "metadata": {},
   "source": [
    "## Model"
   ]
  },
  {
   "cell_type": "code",
   "execution_count": 8,
   "metadata": {},
   "outputs": [],
   "source": [
    "encoding_dim = 32  # 32 floats -> compression of factor 24.5, assuming the input is 784 floats\n",
    "\n",
    "sound_input = Input(shape=(1500,))\n",
    "encoded = Dense(784, activation='relu')(sound_input)\n",
    "encoded = Dense(128, activation='relu')(encoded)\n",
    "encoded = Dense(64, activation='relu')(encoded)\n",
    "encoded = Dense(encoding_dim, activation='relu')(encoded)\n",
    "encoder = encoded\n",
    "\n",
    "decoded = Dense(64, activation='relu')(encoded)\n",
    "decoded = Dense(128, activation='relu')(decoded)\n",
    "decoded = Dense(784, activation='relu')(decoded)\n",
    "decoded = Dense(1500, activation='sigmoid')(decoded)\n",
    "\n",
    "# this model maps an input to its reconstruction\n",
    "autoencoder = Model(sound_input, decoded)"
   ]
  },
  {
   "cell_type": "code",
   "execution_count": 10,
   "metadata": {},
   "outputs": [],
   "source": [
    "autoencoder.compile(optimizer='adadelta', loss='mse')"
   ]
  },
  {
   "cell_type": "markdown",
   "metadata": {},
   "source": [
    "## Normalization and Standarization\n"
   ]
  },
  {
   "cell_type": "code",
   "execution_count": 11,
   "metadata": {},
   "outputs": [],
   "source": [
    "k = 0.8\n",
    "\n",
    "data = np.array([audio[1] for audio in list_of_audios])\n",
    "data = preprocessing.scale(data)\n",
    "data = preprocessing.normalize(data)\n",
    "\n",
    "index = int(k*len(data))\n",
    "x_train = data[:index]\n",
    "x_test = data[index:]\n",
    "\n"
   ]
  },
  {
   "cell_type": "code",
   "execution_count": 12,
   "metadata": {},
   "outputs": [
    {
     "name": "stdout",
     "output_type": "stream",
     "text": [
      "Train on 855 samples, validate on 214 samples\n",
      "Epoch 1/500\n",
      "855/855 [==============================] - 2s 2ms/step - loss: 0.2498 - val_loss: 0.2500\n",
      "Epoch 2/500\n",
      "855/855 [==============================] - 1s 1ms/step - loss: 0.2493 - val_loss: 0.2495\n",
      "Epoch 3/500\n",
      "855/855 [==============================] - 1s 1ms/step - loss: 0.2488 - val_loss: 0.2490\n",
      "Epoch 4/500\n",
      "855/855 [==============================] - 1s 1ms/step - loss: 0.2483 - val_loss: 0.2485\n",
      "Epoch 5/500\n",
      "855/855 [==============================] - 1s 1ms/step - loss: 0.2478 - val_loss: 0.2480\n",
      "Epoch 6/500\n",
      "855/855 [==============================] - 1s 1ms/step - loss: 0.2473 - val_loss: 0.2475\n",
      "Epoch 7/500\n",
      "855/855 [==============================] - 1s 1ms/step - loss: 0.2468 - val_loss: 0.2470\n",
      "Epoch 8/500\n",
      "855/855 [==============================] - 1s 1ms/step - loss: 0.2463 - val_loss: 0.2464\n",
      "Epoch 9/500\n",
      "855/855 [==============================] - 1s 1ms/step - loss: 0.2457 - val_loss: 0.2459\n",
      "Epoch 10/500\n",
      "855/855 [==============================] - 1s 1ms/step - loss: 0.2451 - val_loss: 0.2453\n",
      "Epoch 11/500\n",
      "855/855 [==============================] - 1s 1ms/step - loss: 0.2445 - val_loss: 0.2446\n",
      "Epoch 12/500\n",
      "855/855 [==============================] - 1s 1ms/step - loss: 0.2438 - val_loss: 0.2439\n",
      "Epoch 13/500\n",
      "855/855 [==============================] - 1s 1ms/step - loss: 0.2431 - val_loss: 0.2432\n",
      "Epoch 14/500\n",
      "855/855 [==============================] - 1s 1ms/step - loss: 0.2424 - val_loss: 0.2424\n",
      "Epoch 15/500\n",
      "855/855 [==============================] - 1s 1ms/step - loss: 0.2415 - val_loss: 0.2415\n",
      "Epoch 16/500\n",
      "855/855 [==============================] - 1s 1ms/step - loss: 0.2406 - val_loss: 0.2405\n",
      "Epoch 17/500\n",
      "855/855 [==============================] - 1s 1ms/step - loss: 0.2395 - val_loss: 0.2393\n",
      "Epoch 18/500\n",
      "855/855 [==============================] - 1s 1ms/step - loss: 0.2382 - val_loss: 0.2378\n",
      "Epoch 19/500\n",
      "855/855 [==============================] - 1s 1ms/step - loss: 0.2366 - val_loss: 0.2360\n",
      "Epoch 20/500\n",
      "855/855 [==============================] - 1s 1ms/step - loss: 0.2345 - val_loss: 0.2335\n",
      "Epoch 21/500\n",
      "855/855 [==============================] - 1s 1ms/step - loss: 0.2317 - val_loss: 0.2299\n",
      "Epoch 22/500\n",
      "855/855 [==============================] - 1s 1ms/step - loss: 0.2272 - val_loss: 0.2238\n",
      "Epoch 23/500\n",
      "855/855 [==============================] - 1s 1ms/step - loss: 0.2188 - val_loss: 0.2109\n",
      "Epoch 24/500\n",
      "855/855 [==============================] - 1s 1ms/step - loss: 0.1981 - val_loss: 0.1724\n",
      "Epoch 25/500\n",
      "855/855 [==============================] - 1s 1ms/step - loss: 0.1284 - val_loss: 0.0560\n",
      "Epoch 26/500\n",
      "855/855 [==============================] - 1s 1ms/step - loss: 0.0248 - val_loss: 0.0059\n",
      "Epoch 27/500\n",
      "855/855 [==============================] - 1s 1ms/step - loss: 0.0036 - val_loss: 0.0022\n",
      "Epoch 28/500\n",
      "855/855 [==============================] - 1s 1ms/step - loss: 0.0017 - val_loss: 0.0014\n",
      "Epoch 29/500\n",
      "855/855 [==============================] - 1s 1ms/step - loss: 0.0013 - val_loss: 0.0012\n",
      "Epoch 30/500\n",
      "855/855 [==============================] - 1s 1ms/step - loss: 0.0011 - val_loss: 0.0010\n",
      "Epoch 31/500\n",
      "855/855 [==============================] - 1s 1ms/step - loss: 9.4938e-04 - val_loss: 9.3218e-04\n",
      "Epoch 32/500\n",
      "855/855 [==============================] - 1s 1ms/step - loss: 8.8407e-04 - val_loss: 8.7801e-04\n",
      "Epoch 33/500\n",
      "855/855 [==============================] - 1s 1ms/step - loss: 8.4072e-04 - val_loss: 8.4048e-04\n",
      "Epoch 34/500\n",
      "855/855 [==============================] - 1s 1ms/step - loss: 8.1017e-04 - val_loss: 8.1314e-04\n",
      "Epoch 35/500\n",
      "855/855 [==============================] - 1s 1ms/step - loss: 7.8766e-04 - val_loss: 7.9244e-04\n",
      "Epoch 36/500\n",
      "855/855 [==============================] - 1s 1ms/step - loss: 7.7047e-04 - val_loss: 7.7631e-04\n",
      "Epoch 37/500\n",
      "855/855 [==============================] - 1s 1ms/step - loss: 7.5699e-04 - val_loss: 7.6346e-04\n",
      "Epoch 38/500\n",
      "855/855 [==============================] - 1s 1ms/step - loss: 7.4620e-04 - val_loss: 7.5300e-04\n",
      "Epoch 39/500\n",
      "855/855 [==============================] - 1s 1ms/step - loss: 7.3739e-04 - val_loss: 7.4434e-04\n",
      "Epoch 40/500\n",
      "855/855 [==============================] - 1s 1ms/step - loss: 7.3008e-04 - val_loss: 7.3708e-04\n",
      "Epoch 41/500\n",
      "855/855 [==============================] - 1s 1ms/step - loss: 7.2395e-04 - val_loss: 7.3095e-04\n",
      "Epoch 42/500\n",
      "855/855 [==============================] - 1s 1ms/step - loss: 7.1876e-04 - val_loss: 7.2570e-04\n",
      "Epoch 43/500\n",
      "855/855 [==============================] - 1s 1ms/step - loss: 7.1431e-04 - val_loss: 7.2118e-04\n",
      "Epoch 44/500\n",
      "855/855 [==============================] - 1s 1ms/step - loss: 7.1048e-04 - val_loss: 7.1725e-04\n"
     ]
    },
    {
     "data": {
      "text/plain": [
       "<keras.callbacks.History at 0x1cac518ce10>"
      ]
     },
     "execution_count": 12,
     "metadata": {},
     "output_type": "execute_result"
    }
   ],
   "source": [
    "es = [EarlyStopping(monitor='val_loss', min_delta=1e-05, patience=2)]\n",
    "\n",
    "autoencoder.fit(x_train, x_train,\n",
    "                epochs=500,\n",
    "                shuffle=True,\n",
    "                batch_size = 100,\n",
    "                validation_data=(x_test, x_test),\n",
    "                callbacks = es)\n"
   ]
  },
  {
   "cell_type": "code",
   "execution_count": null,
   "metadata": {},
   "outputs": [],
   "source": [
    "# encode and decode some digits\n",
    "# note that we take them from the *test* set\n",
    "encoded = encoder.predict(x_test)\n",
    "\n",
    "\n"
   ]
  },
  {
   "cell_type": "code",
   "execution_count": null,
   "metadata": {},
   "outputs": [],
   "source": [
    "%matplotlib inline\n",
    "\n",
    "n = 10  # how many digits we will display\n",
    "plt.figure(figsize=(20, 4))\n",
    "for i in range(n):\n",
    "    # display original\n",
    "    ax = plt.subplot(2, n, i + 1)\n",
    "    plt.imshow(x_test[i].reshape(28, 28))\n",
    "    plt.gray()\n",
    "    ax.get_xaxis().set_visible(False)\n",
    "    ax.get_yaxis().set_visible(False)\n",
    "\n",
    "    # display reconstruction\n",
    "    ax = plt.subplot(2, n, i + 1 + n)\n",
    "    plt.imshow(decoded_imgs[i].reshape(28, 28))\n",
    "    plt.gray()\n",
    "    ax.get_xaxis().set_visible(False)\n",
    "    ax.get_yaxis().set_visible(False)\n",
    "plt.show()"
   ]
  }
 ],
 "metadata": {
  "kernelspec": {
   "display_name": "smartula-core",
   "language": "python",
   "name": "smartula-core"
  },
  "language_info": {
   "codemirror_mode": {
    "name": "ipython",
    "version": 3
   },
   "file_extension": ".py",
   "mimetype": "text/x-python",
   "name": "python",
   "nbconvert_exporter": "python",
   "pygments_lexer": "ipython3",
   "version": "3.6.8"
  }
 },
 "nbformat": 4,
 "nbformat_minor": 2
}
