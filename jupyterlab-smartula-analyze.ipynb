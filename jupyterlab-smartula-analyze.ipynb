{
 "cells": [
  {
   "cell_type": "code",
   "execution_count": 1,
   "metadata": {},
   "outputs": [],
   "source": [
    "import pandas as pd\n",
    "import numpy as np\n",
    "import glob\n",
    "\n",
    "from pathlib import Path, PurePath\n",
    "from sklearn.manifold import TSNE\n",
    "from bokeh.plotting import figure, show, output_file\n",
    "from bokeh.models import ColumnDataSource\n",
    "from smartula_sound import SmartulaSound"
   ]
  },
  {
   "cell_type": "markdown",
   "metadata": {},
   "source": [
    "## MFCC "
   ]
  },
  {
   "cell_type": "code",
   "execution_count": null,
   "metadata": {},
   "outputs": [],
   "source": [
    "folder_name = \"csv/mfcc-electromagnetic-field\"\n"
   ]
  },
  {
   "cell_type": "markdown",
   "metadata": {},
   "source": [
    "## LPC"
   ]
  },
  {
   "cell_type": "code",
   "execution_count": 2,
   "metadata": {},
   "outputs": [],
   "source": [
    "folder_name = \"csv/lpc-electromagnetic-field\""
   ]
  },
  {
   "cell_type": "code",
   "execution_count": 3,
   "metadata": {},
   "outputs": [],
   "source": [
    "data_folder = Path(folder_name)\n",
    "files_to_open = data_folder / \"*.csv\"\n",
    "\n",
    "all_filenames = [i for i in glob.glob(str(files_to_open))]\n",
    "# all_filenames = all_filenames[:10]\n",
    "list_of_features = [SmartulaSound(PurePath(f).name.split(\" \")[1].replace(\".csv\", \"\"),\n",
    "                                 PurePath(f).name.split(\" \")[0],\n",
    "                                 samples=None, features=np.ravel(pd.read_csv(f, header=None)))\n",
    "                   for f in all_filenames]"
   ]
  },
  {
   "cell_type": "markdown",
   "metadata": {},
   "source": [
    "## Dimension reduction"
   ]
  },
  {
   "cell_type": "code",
   "execution_count": 4,
   "metadata": {},
   "outputs": [
    {
     "name": "stdout",
     "output_type": "stream",
     "text": [
      "[t-SNE] Computing 31 nearest neighbors...\n",
      "[t-SNE] Indexed 1071 samples in 0.002s...\n",
      "[t-SNE] Computed neighbors for 1071 samples in 0.053s...\n",
      "[t-SNE] Computed conditional probabilities for sample 1000 / 1071\n",
      "[t-SNE] Computed conditional probabilities for sample 1071 / 1071\n",
      "[t-SNE] Mean sigma: 0.071363\n",
      "[t-SNE] Computed conditional probabilities in 0.029s\n",
      "[t-SNE] Iteration 50: error = 83.4197159, gradient norm = 0.3956720 (50 iterations in 0.547s)\n",
      "[t-SNE] Iteration 100: error = 79.9394379, gradient norm = 0.3881147 (50 iterations in 0.508s)\n",
      "[t-SNE] Iteration 150: error = 81.0683441, gradient norm = 0.3873584 (50 iterations in 0.480s)\n",
      "[t-SNE] Iteration 200: error = 80.0780029, gradient norm = 0.3916182 (50 iterations in 0.542s)\n",
      "[t-SNE] Iteration 250: error = 79.3510971, gradient norm = 0.3916323 (50 iterations in 0.469s)\n",
      "[t-SNE] KL divergence after 250 iterations with early exaggeration: 79.351097\n",
      "[t-SNE] Iteration 300: error = 1.6594059, gradient norm = 0.0017629 (50 iterations in 0.339s)\n",
      "[t-SNE] Iteration 350: error = 1.4507154, gradient norm = 0.0006704 (50 iterations in 0.340s)\n",
      "[t-SNE] Iteration 400: error = 1.3837978, gradient norm = 0.0003495 (50 iterations in 0.342s)\n",
      "[t-SNE] Iteration 450: error = 1.3544344, gradient norm = 0.0002329 (50 iterations in 0.337s)\n",
      "[t-SNE] Iteration 500: error = 1.3380274, gradient norm = 0.0001761 (50 iterations in 0.345s)\n",
      "[t-SNE] Iteration 550: error = 1.3276575, gradient norm = 0.0001489 (50 iterations in 0.350s)\n",
      "[t-SNE] Iteration 600: error = 1.3209242, gradient norm = 0.0001206 (50 iterations in 0.350s)\n",
      "[t-SNE] Iteration 650: error = 1.3154125, gradient norm = 0.0001780 (50 iterations in 0.355s)\n",
      "[t-SNE] Iteration 700: error = 1.3115355, gradient norm = 0.0001009 (50 iterations in 0.357s)\n",
      "[t-SNE] Iteration 750: error = 1.3083794, gradient norm = 0.0001031 (50 iterations in 0.357s)\n",
      "[t-SNE] Iteration 800: error = 1.3060143, gradient norm = 0.0000873 (50 iterations in 0.371s)\n",
      "[t-SNE] Iteration 850: error = 1.3041471, gradient norm = 0.0000858 (50 iterations in 0.365s)\n",
      "[t-SNE] Iteration 900: error = 1.3024023, gradient norm = 0.0000892 (50 iterations in 0.366s)\n",
      "[t-SNE] Iteration 950: error = 1.3010787, gradient norm = 0.0000725 (50 iterations in 0.365s)\n",
      "[t-SNE] Iteration 1000: error = 1.2998507, gradient norm = 0.0000819 (50 iterations in 0.377s)\n",
      "[t-SNE] Iteration 1050: error = 1.2987548, gradient norm = 0.0000634 (50 iterations in 0.364s)\n",
      "[t-SNE] Iteration 1100: error = 1.2976074, gradient norm = 0.0000590 (50 iterations in 0.389s)\n",
      "[t-SNE] Iteration 1150: error = 1.2967179, gradient norm = 0.0000685 (50 iterations in 0.364s)\n",
      "[t-SNE] Iteration 1200: error = 1.2957767, gradient norm = 0.0000759 (50 iterations in 0.367s)\n",
      "[t-SNE] Iteration 1250: error = 1.2950332, gradient norm = 0.0000558 (50 iterations in 0.377s)\n",
      "[t-SNE] Iteration 1300: error = 1.2943970, gradient norm = 0.0000778 (50 iterations in 0.364s)\n",
      "[t-SNE] Iteration 1350: error = 1.2937154, gradient norm = 0.0000760 (50 iterations in 0.376s)\n",
      "[t-SNE] Iteration 1400: error = 1.2931318, gradient norm = 0.0000623 (50 iterations in 0.501s)\n",
      "[t-SNE] Iteration 1450: error = 1.2925565, gradient norm = 0.0000563 (50 iterations in 0.481s)\n",
      "[t-SNE] Iteration 1500: error = 1.2920487, gradient norm = 0.0000485 (50 iterations in 0.411s)\n",
      "[t-SNE] Iteration 1550: error = 1.2916180, gradient norm = 0.0000565 (50 iterations in 0.380s)\n",
      "[t-SNE] Iteration 1600: error = 1.2910918, gradient norm = 0.0000454 (50 iterations in 0.378s)\n",
      "[t-SNE] Iteration 1650: error = 1.2905962, gradient norm = 0.0000494 (50 iterations in 0.373s)\n",
      "[t-SNE] Iteration 1700: error = 1.2902055, gradient norm = 0.0000431 (50 iterations in 0.418s)\n",
      "[t-SNE] Iteration 1750: error = 1.2897983, gradient norm = 0.0001003 (50 iterations in 0.410s)\n",
      "[t-SNE] Iteration 1800: error = 1.2895424, gradient norm = 0.0000447 (50 iterations in 0.369s)\n",
      "[t-SNE] Iteration 1850: error = 1.2891234, gradient norm = 0.0000367 (50 iterations in 0.369s)\n",
      "[t-SNE] Iteration 1900: error = 1.2887386, gradient norm = 0.0000523 (50 iterations in 0.392s)\n",
      "[t-SNE] Iteration 1950: error = 1.2884245, gradient norm = 0.0000415 (50 iterations in 0.368s)\n",
      "[t-SNE] Iteration 2000: error = 1.2881571, gradient norm = 0.0000439 (50 iterations in 0.375s)\n",
      "[t-SNE] Iteration 2050: error = 1.2877856, gradient norm = 0.0000551 (50 iterations in 0.384s)\n",
      "[t-SNE] Iteration 2100: error = 1.2875621, gradient norm = 0.0000366 (50 iterations in 0.377s)\n",
      "[t-SNE] Iteration 2150: error = 1.2872852, gradient norm = 0.0000589 (50 iterations in 0.380s)\n",
      "[t-SNE] Iteration 2200: error = 1.2871238, gradient norm = 0.0000419 (50 iterations in 0.380s)\n",
      "[t-SNE] Iteration 2250: error = 1.2868940, gradient norm = 0.0000412 (50 iterations in 0.376s)\n",
      "[t-SNE] Iteration 2300: error = 1.2866256, gradient norm = 0.0000412 (50 iterations in 0.371s)\n",
      "[t-SNE] Iteration 2350: error = 1.2863116, gradient norm = 0.0000424 (50 iterations in 0.372s)\n",
      "[t-SNE] Iteration 2400: error = 1.2860663, gradient norm = 0.0000351 (50 iterations in 0.382s)\n",
      "[t-SNE] Iteration 2450: error = 1.2859138, gradient norm = 0.0000408 (50 iterations in 0.368s)\n",
      "[t-SNE] Iteration 2500: error = 1.2856405, gradient norm = 0.0000408 (50 iterations in 0.422s)\n",
      "[t-SNE] Iteration 2550: error = 1.2853795, gradient norm = 0.0000530 (50 iterations in 0.376s)\n",
      "[t-SNE] Iteration 2600: error = 1.2852038, gradient norm = 0.0000416 (50 iterations in 0.367s)\n",
      "[t-SNE] Iteration 2650: error = 1.2851088, gradient norm = 0.0000335 (50 iterations in 0.367s)\n",
      "[t-SNE] Iteration 2700: error = 1.2849506, gradient norm = 0.0000473 (50 iterations in 0.369s)\n",
      "[t-SNE] Iteration 2750: error = 1.2847918, gradient norm = 0.0000417 (50 iterations in 0.386s)\n",
      "[t-SNE] Iteration 2800: error = 1.2846284, gradient norm = 0.0000456 (50 iterations in 0.376s)\n",
      "[t-SNE] Iteration 2850: error = 1.2845131, gradient norm = 0.0000432 (50 iterations in 0.373s)\n",
      "[t-SNE] Iteration 2900: error = 1.2842872, gradient norm = 0.0000434 (50 iterations in 0.377s)\n",
      "[t-SNE] Iteration 2950: error = 1.2841741, gradient norm = 0.0000359 (50 iterations in 0.394s)\n",
      "[t-SNE] Iteration 3000: error = 1.2840403, gradient norm = 0.0000323 (50 iterations in 0.367s)\n",
      "[t-SNE] KL divergence after 3000 iterations: 1.284040\n"
     ]
    }
   ],
   "source": [
    "df_embedded = TSNE(n_components=2, perplexity=10, learning_rate=300, n_iter=3000, verbose=2) \\\n",
    "    .fit_transform([ss.features for ss in list_of_features])\n"
   ]
  },
  {
   "cell_type": "code",
   "execution_count": null,
   "metadata": {},
   "outputs": [],
   "source": [
    "from sklearn.decomposition import PCA\n",
    "\n",
    "pca = PCA(n_components=2)\n",
    "df_embedded = pca.fit_transform([ss.features for ss in list_of_features])"
   ]
  },
  {
   "cell_type": "code",
   "execution_count": 5,
   "metadata": {},
   "outputs": [],
   "source": [
    "data_frame = pd.DataFrame()\n",
    "data_frame['x'] = df_embedded[:, 0]\n",
    "data_frame['y'] = df_embedded[:, 1]\n",
    "data_frame['elfield'] = [ss.electromagnetic_field_on for ss in list_of_features]\n",
    "data_frame['timestamp'] = [ss.timestamp for ss in list_of_features]"
   ]
  },
  {
   "cell_type": "markdown",
   "metadata": {},
   "source": [
    "## Data Visualization"
   ]
  },
  {
   "cell_type": "code",
   "execution_count": 6,
   "metadata": {},
   "outputs": [],
   "source": [
    "data_frame['colors'] = [\"#003399\" if elfield == \"True\" else \"#ff0000\" for elfield in data_frame['elfield']]\n",
    "source = ColumnDataSource(data=data_frame)\n",
    "\n",
    "tools = \"hover,pan,wheel_zoom,zoom_in,zoom_out,box_zoom,undo,redo,reset,tap,save,box_select,\" \\\n",
    "        \"poly_select,lasso_select, \"\n",
    "tooltips = [\n",
    "    (\"timestamp\", \"@timestamp\"),\n",
    "    (\"class\", \"@elfield\")\n",
    "]\n",
    "p = figure(tools=tools, tooltips=tooltips)\n",
    "p.scatter(x='x', y='y', fill_color='colors', fill_alpha=0.4, source=source, size=10, line_color=None)\n",
    "output_file(\"color_scatter.html\", title=\"color_scatter.py example\")\n",
    "show(p)  "
   ]
  }
 ],
 "metadata": {
  "kernelspec": {
   "display_name": "Python 3",
   "language": "python",
   "name": "python3"
  },
  "language_info": {
   "codemirror_mode": {
    "name": "ipython",
    "version": 3
   },
   "file_extension": ".py",
   "mimetype": "text/x-python",
   "name": "python",
   "nbconvert_exporter": "python",
   "pygments_lexer": "ipython3",
   "version": "3.7.1"
  }
 },
 "nbformat": 4,
 "nbformat_minor": 2
}
