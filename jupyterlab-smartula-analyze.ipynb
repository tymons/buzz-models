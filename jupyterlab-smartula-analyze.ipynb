{
 "cells": [
  {
   "cell_type": "code",
   "execution_count": null,
   "metadata": {},
   "outputs": [],
   "source": [
    "import pandas as pd\n",
    "import numpy as np\n",
    "import glob\n",
    "\n",
    "from pathlib import Path, PurePath\n",
    "from sklearn.manifold import TSNE\n",
    "from bokeh.plotting import figure, show, output_file\n",
    "from bokeh.models import ColumnDataSource\n",
    "from smartula_sound import SmartulaSound"
   ]
  },
  {
   "cell_type": "code",
   "execution_count": null,
   "metadata": {},
   "outputs": [],
   "source": [
    "folder_name = \"csv/mfcc-electromagnetic-field\"\n",
    "data_folder = Path(folder_name)\n",
    "files_to_open = data_folder / \"*.csv\"\n",
    "\n",
    "all_filenames = [i for i in glob.glob(str(files_to_open))]\n",
    "# all_filenames = all_filenames[:10]\n",
    "list_of_ss_mfcc = [SmartulaSound(PurePath(f).name.split(\" \")[1].replace(\".csv\", \"\"),\n",
    "                                 PurePath(f).name.split(\" \")[0],\n",
    "                                 samples=None, mfcc=np.ravel(pd.read_csv(f, header=None)))\n",
    "                   for f in all_filenames]"
   ]
  },
  {
   "cell_type": "code",
   "execution_count": 9,
   "metadata": {},
   "outputs": [
    {
     "name": "stdout",
     "output_type": "stream",
     "text": [
      "[t-SNE] Computing 16 nearest neighbors...\n",
      "[t-SNE] Indexed 1071 samples in 0.002s...\n",
      "[t-SNE] Computed neighbors for 1071 samples in 0.061s...\n",
      "[t-SNE] Computed conditional probabilities for sample 1000 / 1071\n",
      "[t-SNE] Computed conditional probabilities for sample 1071 / 1071\n",
      "[t-SNE] Mean sigma: 2.957399\n",
      "[t-SNE] KL divergence after 250 iterations with early exaggeration: 87.690292\n",
      "[t-SNE] KL divergence after 5000 iterations: 1.282760\n"
     ]
    }
   ],
   "source": [
    "mfccs_embedded = TSNE(n_components=2, perplexity=5, learning_rate=300, n_iter=5000, verbose=1) \\\n",
    "    .fit_transform([ss.mfcc_feature_vector for ss in list_of_ss_mfcc])\n",
    "\n",
    "data_frame = pd.DataFrame()\n",
    "data_frame['x'] = mfccs_embedded[:, 0]\n",
    "data_frame['y'] = mfccs_embedded[:, 1]\n",
    "data_frame['elfield'] = [ss.electromagnetic_field_on for ss in list_of_ss_mfcc]\n",
    "data_frame['timestamp'] = [ss.timestamp for ss in list_of_ss_mfcc]\n"
   ]
  },
  {
   "cell_type": "markdown",
   "metadata": {},
   "source": [
    "## Data Visualization"
   ]
  },
  {
   "cell_type": "code",
   "execution_count": 11,
   "metadata": {},
   "outputs": [],
   "source": [
    "data_frame['colors'] = [\"#003399\" if elfield == \"True\" else \"#ff0000\" for elfield in data_frame['elfield']]\n",
    "source = ColumnDataSource(data=data_frame)\n",
    "\n",
    "tools = \"hover,pan,wheel_zoom,zoom_in,zoom_out,box_zoom,undo,redo,reset,tap,save,box_select,\" \\\n",
    "        \"poly_select,lasso_select, \"\n",
    "tooltips = [\n",
    "    (\"timestamp\", \"@timestamp\"),\n",
    "    (\"class\", \"@elfield\")\n",
    "]\n",
    "p = figure(tools=tools, tooltips=tooltips)\n",
    "p.scatter(x='x', y='y', fill_color='colors', fill_alpha=0.4, source=source, size=10, line_color=None)\n",
    "output_file(\"color_scatter.html\", title=\"color_scatter.py example\")\n",
    "show(p)  # open a browser"
   ]
  }
 ],
 "metadata": {
  "kernelspec": {
   "display_name": "Python 3",
   "language": "python",
   "name": "python3"
  },
  "language_info": {
   "codemirror_mode": {
    "name": "ipython",
    "version": 3
   },
   "file_extension": ".py",
   "mimetype": "text/x-python",
   "name": "python",
   "nbconvert_exporter": "python",
   "pygments_lexer": "ipython3",
   "version": "3.7.1"
  }
 },
 "nbformat": 4,
 "nbformat_minor": 2
}
