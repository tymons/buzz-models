{
 "cells": [
  {
   "cell_type": "code",
   "execution_count": 1,
   "metadata": {},
   "outputs": [],
   "source": [
    "import os\n",
    "import pandas as pd\n",
    "\n",
    "from smartula_ask import SmartulaAsk\n",
    "from smartula_analyze import save_to_file"
   ]
  },
  {
   "cell_type": "code",
   "execution_count": 2,
   "metadata": {},
   "outputs": [],
   "source": [
    "username = \"tymoteusz\"\n",
    "password = \"etisreti69\"\n",
    "hives_ids = [1300001, 1300002]\n",
    "\n",
    "from_timestamp = \"2019-01-01T12:00:00\"\n",
    "to_timestamp = \"2020-01-01T12:00:00\" \n",
    "\n",
    "folder_name = \"measurements\"\n",
    "samples_length = 3000"
   ]
  },
  {
   "cell_type": "code",
   "execution_count": 3,
   "metadata": {},
   "outputs": [
    {
     "name": "stdout",
     "output_type": "stream",
     "text": [
      "Folder already exists.\n"
     ]
    }
   ],
   "source": [
    "sma = SmartulaAsk(username, password, \"http://cejrowskidev.com:8884/\")\n",
    "# Create folder for CSVs\n",
    "try:\n",
    "    for hive_id in hives_ids:\n",
    "        os.makedirs(f\"{folder_name}/{hive_id}/\")\n",
    "except FileExistsError:\n",
    "    print(\"Folder already exists.\")"
   ]
  },
  {
   "cell_type": "code",
   "execution_count": 4,
   "metadata": {},
   "outputs": [],
   "source": [
    "for hive_sn in hives_ids:\n",
    "    # Sound measurements\n",
    "    list_of_ids = sma.get_sound_ids(hive_sn, from_timestamp, to_timestamp)\n",
    "    for sound_id in list_of_ids:\n",
    "        samples, timestamp = sma.get_sound(hive_sn, sound_id)\n",
    "        if len(samples) == samples_length:\n",
    "            timestamp = timestamp.replace(\":\", \"-\")\n",
    "            df = pd.DataFrame(samples, columns=['samples'])\n",
    "            df.to_csv(f\"{folder_name}/{hive_sn}/{timestamp}.csv\", index=None, header=True)\n",
    "        else:\n",
    "            print(f\"Error with sound {sound_id} - invalid length of {len(samples)}\")\n",
    "            \n",
    "    # Temperature measurements\n",
    "    temperature_tuples_list = sma.get_temperatures(hive_sn, from_timestamp, to_timestamp)\n",
    "    df = pd.DataFrame(temperature_tuples_list, columns=['timestamp','value'])\n",
    "    df.to_csv(f\"{folder_name}/{hive_sn}/temperature.csv\", index=None, header=True)\n",
    "    \n",
    "    # Humidity measurements\n",
    "    humidity_tuples_list = sma.get_humidities(hive_sn, from_timestamp, to_timestamp)\n",
    "    df = pd.DataFrame(humidity_tuples_list, columns=['timestamp', 'value'])\n",
    "    df.to_csv(f\"{folder_name}/{hive_sn}/humidity.csv\", index=None, header=True)\n"
   ]
  }
 ],
 "metadata": {
  "kernelspec": {
   "display_name": "smartula-analyze",
   "language": "python",
   "name": "smartula-analyze"
  },
  "language_info": {
   "codemirror_mode": {
    "name": "ipython",
    "version": 3
   },
   "file_extension": ".py",
   "mimetype": "text/x-python",
   "name": "python",
   "nbconvert_exporter": "python",
   "pygments_lexer": "ipython3",
   "version": "3.6.8"
  }
 },
 "nbformat": 4,
 "nbformat_minor": 2
}
