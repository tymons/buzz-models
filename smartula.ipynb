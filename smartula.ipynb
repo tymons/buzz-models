{
 "cells": [
  {
   "cell_type": "markdown",
   "metadata": {},
   "source": [
    "# Data prepare "
   ]
  },
  {
   "cell_type": "markdown",
   "metadata": {},
   "source": [
    "This segment prepares dataset containig normalized sound recordings extended with temperature and humidity values. For now we support only one hive for data preparation."
   ]
  },
  {
   "cell_type": "code",
   "execution_count": null,
   "metadata": {},
   "outputs": [],
   "source": [
    "import pandas as pd\n",
    "import matplotlib.pyplot as plt\n",
    "import numpy as np\n",
    "import pandas as pd\n",
    "\n",
    "from tqdm import tqdm"
   ]
  },
  {
   "cell_type": "code",
   "execution_count": null,
   "metadata": {},
   "outputs": [],
   "source": [
    "# 1300001 - hive\n",
    "# 1300002 - not hive?\n",
    "# 1400001 - hive szymanski\n",
    "# 1400002 - hive szymanski\n",
    "#hives_ids = [1300001, 1300002, 1400001, 1400002]\n",
    "\n",
    "hives_ids = [1300001]\n",
    "DATA_INIT = True"
   ]
  },
  {
   "cell_type": "code",
   "execution_count": null,
   "metadata": {},
   "outputs": [],
   "source": [
    "if DATA_INIT:\n",
    "    dfh_hives = [pd.read_csv(f\"measurements/{hive_id}/humidity.csv\") for hive_id in hives_ids]\n",
    "    dft_hives = [pd.read_csv(f\"measurements/{hive_id}/temperature.csv\") for hive_id in hives_ids]\n",
    "    dfh_hivesWithoutDuplicates = [dfh_hive.drop_duplicates(subset=['timestamp'], keep=False) for dfh_hive in dfh_hives]\n",
    "    dft_hivesWithoutDuplicates = [dft_hive.drop_duplicates(subset=['timestamp'], keep=False) for dft_hive in dft_hives]\n",
    "\n",
    "    for idx, hive_id in enumerate(hives_ids):\n",
    "        print(f\"Hive no. {hives_ids[idx]} | humidity temperature dataset size : {dfh_hivesWithoutDuplicates[idx].shape} {dft_hivesWithoutDuplicates[idx].shape}\")\n",
    "\n",
    "    df_hive = [pd.merge(\n",
    "        dfh_hivesWithoutDuplicates[idx], dft_hivesWithoutDuplicates[idx], on='timestamp', suffixes=(f\"_humidity_{hive_id}\",f\"_temperature_{hive_id}\"))\n",
    "               for idx, hive_id in enumerate(hives_ids)]\n",
    "\n",
    "    \n",
    "    total = 0\n",
    "    for atmosphere_data in df_hive:\n",
    "        atmosphere_data['timestamp'] = pd.to_datetime(atmosphere_data['timestamp'], format='%Y-%m-%dT%H-%M-%S').sort_values()\n",
    "        atmosphere_data.set_index('timestamp', inplace=True)\n",
    "        print(f\"Atmospheric data after merge: {atmosphere_data.shape}\")\n",
    "        total += atmosphere_data.shape[0]\n",
    "    \n",
    "    print(f\"Total atmoshpere dataset size: {total}\")"
   ]
  },
  {
   "cell_type": "code",
   "execution_count": null,
   "metadata": {},
   "outputs": [],
   "source": [
    "import glob \n",
    "\n",
    "if DATA_INIT:\n",
    "    hive_sounds = []\n",
    "    hive_timestamps = []\n",
    "    for idx, hive_id in enumerate(hives_ids):\n",
    "        print(f\"Data preparation for hive: {hive_id}\")\n",
    "\n",
    "        sound_files = [f for f in glob.glob(f\"measurements\\\\{hive_id}\\\\sound*.csv\")]\n",
    "        sound_hive_list = []\n",
    "        for file in tqdm(sound_files):\n",
    "            df_samples = pd.read_csv(file)\n",
    "            pd_timestamp = pd.to_datetime(file.split(\"sound-\")[1].split(\".csv\")[0], format='%Y-%m-%dT%H-%M-%S')\n",
    "            if(len(df_samples.index) == 3000 and max(df_samples['samples'].values) < 4500):\n",
    "                np_samples = np.array(df_samples['samples'].values, dtype=\"float32\")\n",
    "                np_samples = np_samples / 4080\n",
    "                #np_samples = scaler.fit_transform(np_samples.reshape(-1, 1))\n",
    "                hive_sounds.append([pd_timestamp, np_samples])\n",
    "    sound_pd = pd.DataFrame(hive_sounds, columns=['timestamp', 'samples'])\n",
    "    sound_pd = sound_pd.set_index('timestamp')\n",
    "    \n",
    "    # Merge with atmosphere data\n",
    "    for index, row in sound_pd.iterrows():\n",
    "        atmosphere_nearest = atmosphere_data.iloc[atmosphere_data.index.get_loc(index, method='nearest')]\n",
    "        sound_pd.loc[index, 'humidity'] = atmosphere_nearest[f\"value_humidity_{hives_ids[0]}\"]\n",
    "        sound_pd.loc[index, 'temperature'] = atmosphere_nearest[f\"value_temperature_{hives_ids[0]}\"]\n",
    "    \n",
    "    np.save(f\"{hives_ids[0]}-data.npy\", sound_pd)\n",
    "    df_data = sound_pd\n",
    "else:\n",
    "    sound_pd = np.load(f\"{hives_ids[0]}-data.npy\", allow_pickle=True)\n",
    "    print(f\"Loaded dataset with size {len(hive_sounds)}.\")"
   ]
  },
  {
   "cell_type": "markdown",
   "metadata": {},
   "source": [
    "# MFCC"
   ]
  },
  {
   "cell_type": "markdown",
   "metadata": {},
   "source": [
    "This block assumes that we have data in <code>df_data</code> variable."
   ]
  },
  {
   "cell_type": "code",
   "execution_count": null,
   "metadata": {},
   "outputs": [],
   "source": [
    "import librosa\n",
    "import librosa.display\n",
    "\n",
    "data_mfcc_labeled = []\n",
    "night_timestamps = df_data.between_time(\"23:00\", \"3:30\").index.values.tolist()\n",
    "night_timestamps = pd.to_datetime(night_timestamps)\n",
    "\n",
    "for index, row in tqdm(df_data.iterrows(), total=df_data.shape[0]):\n",
    "    full_mfccs = librosa.feature.mfcc(y=row['samples'], sr=3000, n_fft=512, hop_length=256, n_mfcc=14)\n",
    "    data_mfcc_labeled.append([np.mean(full_mfccs,axis=1), row['temperature'], row['humidity'],\n",
    "                              int(index in night_timestamps)])"
   ]
  },
  {
   "cell_type": "markdown",
   "metadata": {},
   "source": [
    "# Basic classification PCA"
   ]
  },
  {
   "cell_type": "code",
   "execution_count": null,
   "metadata": {},
   "outputs": [],
   "source": [
    "from sklearn.preprocessing import StandardScaler\n",
    "from sklearn.decomposition import PCA"
   ]
  },
  {
   "cell_type": "code",
   "execution_count": null,
   "metadata": {},
   "outputs": [],
   "source": [
    "import matplotlib.pyplot as plt\n",
    "%matplotlib inline\n",
    "\n",
    "standarized_mfcc_avg = StandardScaler().fit_transform([data[0] for data in data_mfcc_labeled])\n",
    "standarized_temp = StandardScaler().fit_transform([[data[1]] for data in data_mfcc_labeled])\n",
    "standarized_hum = StandardScaler().fit_transform([[data[2]] for data in data_mfcc_labeled])\n",
    "\n",
    "zipped_data = list(zip(standarized_mfcc_avg, standarized_temp, standarized_hum))\n",
    "merged_data = [np.concatenate(list_to_con) for list_to_con in zipped_data]\n",
    "standarized_merged_data = StandardScaler().fit_transform(merged_data)\n",
    "\n",
    "pca = PCA(n_components=2)\n",
    "pc_data = pca.fit_transform(merged_data)"
   ]
  },
  {
   "cell_type": "markdown",
   "metadata": {},
   "source": [
    "# Basic classification t-sne"
   ]
  },
  {
   "cell_type": "code",
   "execution_count": null,
   "metadata": {},
   "outputs": [],
   "source": [
    "import numpy as np\n",
    "from sklearn.manifold import TSNE\n",
    "\n",
    "X_embedded = TSNE(n_components=2).fit_transform(merged_data)"
   ]
  },
  {
   "cell_type": "markdown",
   "metadata": {},
   "source": [
    "# Visualize"
   ]
  },
  {
   "cell_type": "code",
   "execution_count": null,
   "metadata": {},
   "outputs": [],
   "source": [
    "pc_data_labeled = list(zip(pc_data, [mfcc_data[3] for mfcc_data in data_mfcc_labeled]))\n",
    "colors = ['red', 'green', 'blue', 'yellow']\n",
    "labels = ['day', 'night']\n",
    "\n",
    "fig = plt.figure()\n",
    "\n",
    "ax = fig.add_subplot(1, 1, 1)\n",
    "\n",
    "ax.scatter(x=[data[0][0] for data in pc_data_labeled],\n",
    "           y=[data[0][1] for data in pc_data_labeled],\n",
    "           c=[colors[int(data[1])] for data in pc_data_labeled],\n",
    "          alpha=0.3)\n",
    "ax.legend()\n",
    "\n",
    "plt.title(\"Mfcc scatter plot\")\n",
    "plt.show()"
   ]
  },
  {
   "cell_type": "markdown",
   "metadata": {},
   "source": [
    "# AUTOENCODER - BASIC"
   ]
  },
  {
   "cell_type": "code",
   "execution_count": 2,
   "metadata": {},
   "outputs": [],
   "source": [
    "import torch\n",
    "import torch.nn as nn\n",
    "import torch.utils.data as utils\n",
    "import numpy as np\n",
    "import pandas as pd\n",
    "\n",
    "from tqdm import tqdm"
   ]
  },
  {
   "cell_type": "code",
   "execution_count": 3,
   "metadata": {},
   "outputs": [
    {
     "name": "stdout",
     "output_type": "stream",
     "text": [
      "Data preparation for hive: 1300001\n"
     ]
    },
    {
     "name": "stderr",
     "output_type": "stream",
     "text": [
      "100%|██████████| 1664/1664 [00:03<00:00, 427.10it/s]\n"
     ]
    },
    {
     "name": "stdout",
     "output_type": "stream",
     "text": [
      "Data preparation for hive: 1300002\n"
     ]
    },
    {
     "name": "stderr",
     "output_type": "stream",
     "text": [
      "100%|██████████| 1637/1637 [00:03<00:00, 433.30it/s]\n"
     ]
    },
    {
     "name": "stdout",
     "output_type": "stream",
     "text": [
      "Data preparation for hive: 1400001\n"
     ]
    },
    {
     "name": "stderr",
     "output_type": "stream",
     "text": [
      "100%|██████████| 705/705 [00:01<00:00, 431.84it/s]\n"
     ]
    },
    {
     "name": "stdout",
     "output_type": "stream",
     "text": [
      "Data preparation for hive: 1400002\n"
     ]
    },
    {
     "name": "stderr",
     "output_type": "stream",
     "text": [
      "100%|██████████| 587/587 [00:01<00:00, 431.29it/s]\n"
     ]
    }
   ],
   "source": [
    "DATA_INIT = True\n",
    "import glob \n",
    "\n",
    "auto_hives = [1300001, 1300002, 1400001, 1400002]\n",
    "if DATA_INIT:\n",
    "    auto_max_sample_value = 0\n",
    "    auto_hive_sounds = []\n",
    "    auto_hive_timestamps = []\n",
    "    for idx, hive_id in enumerate(auto_hives):\n",
    "        print(f\"Data preparation for hive: {hive_id}\")\n",
    "\n",
    "        auto_sound_files = [f for f in glob.glob(f\"measurements\\\\{hive_id}\\\\sound*.csv\")]\n",
    "        auto_sound_hive_list = []\n",
    "        for file in tqdm(auto_sound_files):\n",
    "            df_samples = pd.read_csv(file)\n",
    "            pd_timestamp = pd.to_datetime(file.split(\"sound-\")[1].split(\".csv\")[0], format='%Y-%m-%dT%H-%M-%S')\n",
    "            if(len(df_samples.index) == 3000 and max(df_samples['samples'].values) < 4500):\n",
    "                np_samples = np.array(df_samples['samples'].values, dtype=\"float32\")\n",
    "                np_samples = np_samples / 4080\n",
    "                auto_hive_sounds.append([pd_timestamp, np_samples])\n",
    "    np.random.shuffle(auto_hive_sounds)\n",
    "    sound_pd = pd.DataFrame(auto_hive_sounds, columns=['timestamp', 'samples'])\n",
    "    auto_df_data = sound_pd.set_index('timestamp')\n",
    "    auto_df_data = sound_pd\n",
    "else:\n",
    "    sound_pd = np.load(f\"{hives_ids[0]}-data.npy\", allow_pickle=True)\n",
    "    print(f\"Loaded dataset with size {len(hive_sounds)}.\")"
   ]
  },
  {
   "cell_type": "code",
   "execution_count": 14,
   "metadata": {},
   "outputs": [
    {
     "name": "stdout",
     "output_type": "stream",
     "text": [
      "We are running on : cuda:0\n"
     ]
    }
   ],
   "source": [
    "device = torch.device('cuda:0' if torch.cuda.is_available() else 'cpu')\n",
    "print(f'We are running on : {device}')\n",
    "\n",
    "num_epochs = 40\n",
    "learning_rate = 1e-4\n",
    "BATCH_SIZE = 100\n",
    "\n",
    "class autoencoder(nn.Module):\n",
    "    def __init__(self):\n",
    "        super(autoencoder, self).__init__()\n",
    "        self.encoder = nn.Sequential(\n",
    "            nn.Linear(3000, 2048),\n",
    "            nn.ReLU(True),\n",
    "            nn.Linear(2048, 1024),\n",
    "            nn.ReLU(True),\n",
    "            nn.Linear(1024, 512),\n",
    "            nn.ReLU(True),\n",
    "            nn.Linear(512, 256))\n",
    "        self.decoder = nn.Sequential(\n",
    "            nn.Linear(256, 512),\n",
    "            nn.ReLU(True),\n",
    "            nn.Linear(512, 1024),\n",
    "            nn.ReLU(True),\n",
    "            nn.Linear(1024, 2048),\n",
    "            nn.ReLU(True),\n",
    "            nn.Linear(2048, 3000), nn.Tanh())\n",
    "\n",
    "    def forward(self, x):\n",
    "        x = self.encoder(x)\n",
    "        x = self.decoder(x)\n",
    "        return x"
   ]
  },
  {
   "cell_type": "code",
   "execution_count": 5,
   "metadata": {},
   "outputs": [
    {
     "data": {
      "text/plain": [
       "torch.Size([1, 4529, 3000])"
      ]
     },
     "execution_count": 5,
     "metadata": {},
     "output_type": "execute_result"
    }
   ],
   "source": [
    "tensor_data = torch.FloatTensor([auto_df_data['samples'].values])\n",
    "tensor_data.shape"
   ]
  },
  {
   "cell_type": "code",
   "execution_count": 15,
   "metadata": {},
   "outputs": [],
   "source": [
    "model = autoencoder()\n",
    "model.to(device)\n",
    "\n",
    "losses = []\n",
    "def train(net):\n",
    "    criterion = nn.MSELoss(reduction='sum')\n",
    "    optimizer = torch.optim.Adam(net.parameters(), lr=learning_rate, weight_decay=1e-6)\n",
    "    \n",
    "    for epoch in range(num_epochs):\n",
    "        train_loss = 0\n",
    "        for i in tqdm(range(0, tensor_data.size()[1], BATCH_SIZE)):\n",
    "            batch_X = tensor_data[:, i:i+BATCH_SIZE, :]\n",
    "            batch_X = batch_X.to(device)\n",
    "\n",
    "            net.zero_grad()\n",
    "            \n",
    "            output = net(batch_X)\n",
    "            loss = criterion(output, batch_X)\n",
    "            loss.backward()\n",
    "            optimizer.step()\n",
    "    \n",
    "            train_loss += loss.item()\n",
    "        # ===================log========================\n",
    "        loss_per_epoch = train_loss/tensor_data.size()[1]\n",
    "        print(f\"epoch [{epoch}/{num_epochs}], loss:{loss_per_epoch}\")\n",
    "        losses.append(loss_per_epoch)"
   ]
  },
  {
   "cell_type": "code",
   "execution_count": 16,
   "metadata": {},
   "outputs": [
    {
     "name": "stderr",
     "output_type": "stream",
     "text": [
      "100%|██████████| 46/46 [00:01<00:00, 33.00it/s]\n"
     ]
    },
    {
     "name": "stdout",
     "output_type": "stream",
     "text": [
      "epoch [0/40], loss:298.817330476437\n"
     ]
    },
    {
     "name": "stderr",
     "output_type": "stream",
     "text": [
      "100%|██████████| 46/46 [00:01<00:00, 33.20it/s]\n"
     ]
    },
    {
     "name": "stdout",
     "output_type": "stream",
     "text": [
      "epoch [1/40], loss:2.2011639929207303\n"
     ]
    },
    {
     "name": "stderr",
     "output_type": "stream",
     "text": [
      "100%|██████████| 46/46 [00:01<00:00, 33.18it/s]\n"
     ]
    },
    {
     "name": "stdout",
     "output_type": "stream",
     "text": [
      "epoch [2/40], loss:0.3269893979362948\n"
     ]
    },
    {
     "name": "stderr",
     "output_type": "stream",
     "text": [
      "100%|██████████| 46/46 [00:01<00:00, 33.47it/s]\n"
     ]
    },
    {
     "name": "stdout",
     "output_type": "stream",
     "text": [
      "epoch [3/40], loss:0.31367899771951685\n"
     ]
    },
    {
     "name": "stderr",
     "output_type": "stream",
     "text": [
      "100%|██████████| 46/46 [00:01<00:00, 33.42it/s]\n"
     ]
    },
    {
     "name": "stdout",
     "output_type": "stream",
     "text": [
      "epoch [4/40], loss:0.31375251908153856\n"
     ]
    },
    {
     "name": "stderr",
     "output_type": "stream",
     "text": [
      "100%|██████████| 46/46 [00:01<00:00, 33.69it/s]\n"
     ]
    },
    {
     "name": "stdout",
     "output_type": "stream",
     "text": [
      "epoch [5/40], loss:0.3138814392561522\n"
     ]
    },
    {
     "name": "stderr",
     "output_type": "stream",
     "text": [
      "100%|██████████| 46/46 [00:01<00:00, 33.11it/s]\n"
     ]
    },
    {
     "name": "stdout",
     "output_type": "stream",
     "text": [
      "epoch [6/40], loss:0.3140341787576202\n"
     ]
    },
    {
     "name": "stderr",
     "output_type": "stream",
     "text": [
      "100%|██████████| 46/46 [00:01<00:00, 33.30it/s]\n"
     ]
    },
    {
     "name": "stdout",
     "output_type": "stream",
     "text": [
      "epoch [7/40], loss:0.3141744600592083\n"
     ]
    },
    {
     "name": "stderr",
     "output_type": "stream",
     "text": [
      "100%|██████████| 46/46 [00:01<00:00, 33.40it/s]\n"
     ]
    },
    {
     "name": "stdout",
     "output_type": "stream",
     "text": [
      "epoch [8/40], loss:0.3142870650119828\n"
     ]
    },
    {
     "name": "stderr",
     "output_type": "stream",
     "text": [
      "100%|██████████| 46/46 [00:01<00:00, 32.83it/s]\n"
     ]
    },
    {
     "name": "stdout",
     "output_type": "stream",
     "text": [
      "epoch [9/40], loss:0.31437157331699567\n"
     ]
    },
    {
     "name": "stderr",
     "output_type": "stream",
     "text": [
      "100%|██████████| 46/46 [00:01<00:00, 33.40it/s]\n"
     ]
    },
    {
     "name": "stdout",
     "output_type": "stream",
     "text": [
      "epoch [10/40], loss:0.3143887480880862\n"
     ]
    },
    {
     "name": "stderr",
     "output_type": "stream",
     "text": [
      "100%|██████████| 46/46 [00:01<00:00, 33.07it/s]\n"
     ]
    },
    {
     "name": "stdout",
     "output_type": "stream",
     "text": [
      "epoch [11/40], loss:0.3144393707379834\n"
     ]
    },
    {
     "name": "stderr",
     "output_type": "stream",
     "text": [
      "100%|██████████| 46/46 [00:01<00:00, 32.78it/s]\n"
     ]
    },
    {
     "name": "stdout",
     "output_type": "stream",
     "text": [
      "epoch [12/40], loss:0.31449118416470967\n"
     ]
    },
    {
     "name": "stderr",
     "output_type": "stream",
     "text": [
      "100%|██████████| 46/46 [00:01<00:00, 33.37it/s]\n"
     ]
    },
    {
     "name": "stdout",
     "output_type": "stream",
     "text": [
      "epoch [13/40], loss:0.31451477418016405\n"
     ]
    },
    {
     "name": "stderr",
     "output_type": "stream",
     "text": [
      "100%|██████████| 46/46 [00:01<00:00, 33.41it/s]\n"
     ]
    },
    {
     "name": "stdout",
     "output_type": "stream",
     "text": [
      "epoch [14/40], loss:0.3145039030510112\n"
     ]
    },
    {
     "name": "stderr",
     "output_type": "stream",
     "text": [
      "100%|██████████| 46/46 [00:01<00:00, 33.38it/s]\n"
     ]
    },
    {
     "name": "stdout",
     "output_type": "stream",
     "text": [
      "epoch [15/40], loss:0.31449325975926407\n"
     ]
    },
    {
     "name": "stderr",
     "output_type": "stream",
     "text": [
      "100%|██████████| 46/46 [00:01<00:00, 33.26it/s]\n"
     ]
    },
    {
     "name": "stdout",
     "output_type": "stream",
     "text": [
      "epoch [16/40], loss:0.31465062381258385\n"
     ]
    },
    {
     "name": "stderr",
     "output_type": "stream",
     "text": [
      "100%|██████████| 46/46 [00:01<00:00, 33.34it/s]\n"
     ]
    },
    {
     "name": "stdout",
     "output_type": "stream",
     "text": [
      "epoch [17/40], loss:0.3147382243470815\n"
     ]
    },
    {
     "name": "stderr",
     "output_type": "stream",
     "text": [
      "100%|██████████| 46/46 [00:01<00:00, 32.53it/s]\n"
     ]
    },
    {
     "name": "stdout",
     "output_type": "stream",
     "text": [
      "epoch [18/40], loss:0.3145769015661953\n"
     ]
    },
    {
     "name": "stderr",
     "output_type": "stream",
     "text": [
      "100%|██████████| 46/46 [00:01<00:00, 33.19it/s]\n"
     ]
    },
    {
     "name": "stdout",
     "output_type": "stream",
     "text": [
      "epoch [19/40], loss:0.31481835552071546\n"
     ]
    },
    {
     "name": "stderr",
     "output_type": "stream",
     "text": [
      "100%|██████████| 46/46 [00:01<00:00, 33.39it/s]\n"
     ]
    },
    {
     "name": "stdout",
     "output_type": "stream",
     "text": [
      "epoch [20/40], loss:0.3148596713705604\n"
     ]
    },
    {
     "name": "stderr",
     "output_type": "stream",
     "text": [
      "100%|██████████| 46/46 [00:01<00:00, 32.77it/s]\n"
     ]
    },
    {
     "name": "stdout",
     "output_type": "stream",
     "text": [
      "epoch [21/40], loss:0.3151257957783617\n"
     ]
    },
    {
     "name": "stderr",
     "output_type": "stream",
     "text": [
      "100%|██████████| 46/46 [00:01<00:00, 33.43it/s]\n"
     ]
    },
    {
     "name": "stdout",
     "output_type": "stream",
     "text": [
      "epoch [22/40], loss:0.3151701655338394\n"
     ]
    },
    {
     "name": "stderr",
     "output_type": "stream",
     "text": [
      "100%|██████████| 46/46 [00:01<00:00, 33.16it/s]\n"
     ]
    },
    {
     "name": "stdout",
     "output_type": "stream",
     "text": [
      "epoch [23/40], loss:0.31519517458466983\n"
     ]
    },
    {
     "name": "stderr",
     "output_type": "stream",
     "text": [
      "100%|██████████| 46/46 [00:01<00:00, 33.48it/s]\n"
     ]
    },
    {
     "name": "stdout",
     "output_type": "stream",
     "text": [
      "epoch [24/40], loss:0.3151323506310434\n"
     ]
    },
    {
     "name": "stderr",
     "output_type": "stream",
     "text": [
      "100%|██████████| 46/46 [00:01<00:00, 33.63it/s]\n"
     ]
    },
    {
     "name": "stdout",
     "output_type": "stream",
     "text": [
      "epoch [25/40], loss:0.31545035584816794\n"
     ]
    },
    {
     "name": "stderr",
     "output_type": "stream",
     "text": [
      "100%|██████████| 46/46 [00:01<00:00, 33.40it/s]\n"
     ]
    },
    {
     "name": "stdout",
     "output_type": "stream",
     "text": [
      "epoch [26/40], loss:0.31567019809816393\n"
     ]
    },
    {
     "name": "stderr",
     "output_type": "stream",
     "text": [
      "100%|██████████| 46/46 [00:01<00:00, 33.49it/s]\n"
     ]
    },
    {
     "name": "stdout",
     "output_type": "stream",
     "text": [
      "epoch [27/40], loss:0.31566220525875077\n"
     ]
    },
    {
     "name": "stderr",
     "output_type": "stream",
     "text": [
      "100%|██████████| 46/46 [00:01<00:00, 33.14it/s]\n"
     ]
    },
    {
     "name": "stdout",
     "output_type": "stream",
     "text": [
      "epoch [28/40], loss:0.31575629642189246\n"
     ]
    },
    {
     "name": "stderr",
     "output_type": "stream",
     "text": [
      "100%|██████████| 46/46 [00:01<00:00, 33.29it/s]\n"
     ]
    },
    {
     "name": "stdout",
     "output_type": "stream",
     "text": [
      "epoch [29/40], loss:0.31594641157585307\n"
     ]
    },
    {
     "name": "stderr",
     "output_type": "stream",
     "text": [
      "100%|██████████| 46/46 [00:01<00:00, 33.00it/s]\n"
     ]
    },
    {
     "name": "stdout",
     "output_type": "stream",
     "text": [
      "epoch [30/40], loss:0.3160670342153733\n"
     ]
    },
    {
     "name": "stderr",
     "output_type": "stream",
     "text": [
      "100%|██████████| 46/46 [00:01<00:00, 32.84it/s]\n"
     ]
    },
    {
     "name": "stdout",
     "output_type": "stream",
     "text": [
      "epoch [31/40], loss:0.3161439733490509\n"
     ]
    },
    {
     "name": "stderr",
     "output_type": "stream",
     "text": [
      "100%|██████████| 46/46 [00:01<00:00, 32.94it/s]\n"
     ]
    },
    {
     "name": "stdout",
     "output_type": "stream",
     "text": [
      "epoch [32/40], loss:0.31597634418880893\n"
     ]
    },
    {
     "name": "stderr",
     "output_type": "stream",
     "text": [
      "100%|██████████| 46/46 [00:01<00:00, 33.30it/s]\n"
     ]
    },
    {
     "name": "stdout",
     "output_type": "stream",
     "text": [
      "epoch [33/40], loss:0.3162266894875575\n"
     ]
    },
    {
     "name": "stderr",
     "output_type": "stream",
     "text": [
      "100%|██████████| 46/46 [00:01<00:00, 32.74it/s]\n"
     ]
    },
    {
     "name": "stdout",
     "output_type": "stream",
     "text": [
      "epoch [34/40], loss:0.3159906926811018\n"
     ]
    },
    {
     "name": "stderr",
     "output_type": "stream",
     "text": [
      "100%|██████████| 46/46 [00:01<00:00, 32.67it/s]\n"
     ]
    },
    {
     "name": "stdout",
     "output_type": "stream",
     "text": [
      "epoch [35/40], loss:0.31634314472403163\n"
     ]
    },
    {
     "name": "stderr",
     "output_type": "stream",
     "text": [
      "100%|██████████| 46/46 [00:01<00:00, 32.24it/s]\n"
     ]
    },
    {
     "name": "stdout",
     "output_type": "stream",
     "text": [
      "epoch [36/40], loss:0.3163796216611384\n"
     ]
    },
    {
     "name": "stderr",
     "output_type": "stream",
     "text": [
      "100%|██████████| 46/46 [00:01<00:00, 32.90it/s]\n"
     ]
    },
    {
     "name": "stdout",
     "output_type": "stream",
     "text": [
      "epoch [37/40], loss:0.31650527188466804\n"
     ]
    },
    {
     "name": "stderr",
     "output_type": "stream",
     "text": [
      "100%|██████████| 46/46 [00:01<00:00, 32.93it/s]\n"
     ]
    },
    {
     "name": "stdout",
     "output_type": "stream",
     "text": [
      "epoch [38/40], loss:0.31642557111737163\n"
     ]
    },
    {
     "name": "stderr",
     "output_type": "stream",
     "text": [
      "100%|██████████| 46/46 [00:01<00:00, 32.39it/s]\n"
     ]
    },
    {
     "name": "stdout",
     "output_type": "stream",
     "text": [
      "epoch [39/40], loss:0.3164847132437907\n"
     ]
    }
   ],
   "source": [
    "train(model)"
   ]
  },
  {
   "cell_type": "code",
   "execution_count": 18,
   "metadata": {},
   "outputs": [
    {
     "data": {
      "application/javascript": [
       "/* Put everything inside the global mpl namespace */\n",
       "window.mpl = {};\n",
       "\n",
       "\n",
       "mpl.get_websocket_type = function() {\n",
       "    if (typeof(WebSocket) !== 'undefined') {\n",
       "        return WebSocket;\n",
       "    } else if (typeof(MozWebSocket) !== 'undefined') {\n",
       "        return MozWebSocket;\n",
       "    } else {\n",
       "        alert('Your browser does not have WebSocket support. ' +\n",
       "              'Please try Chrome, Safari or Firefox ≥ 6. ' +\n",
       "              'Firefox 4 and 5 are also supported but you ' +\n",
       "              'have to enable WebSockets in about:config.');\n",
       "    };\n",
       "}\n",
       "\n",
       "mpl.figure = function(figure_id, websocket, ondownload, parent_element) {\n",
       "    this.id = figure_id;\n",
       "\n",
       "    this.ws = websocket;\n",
       "\n",
       "    this.supports_binary = (this.ws.binaryType != undefined);\n",
       "\n",
       "    if (!this.supports_binary) {\n",
       "        var warnings = document.getElementById(\"mpl-warnings\");\n",
       "        if (warnings) {\n",
       "            warnings.style.display = 'block';\n",
       "            warnings.textContent = (\n",
       "                \"This browser does not support binary websocket messages. \" +\n",
       "                    \"Performance may be slow.\");\n",
       "        }\n",
       "    }\n",
       "\n",
       "    this.imageObj = new Image();\n",
       "\n",
       "    this.context = undefined;\n",
       "    this.message = undefined;\n",
       "    this.canvas = undefined;\n",
       "    this.rubberband_canvas = undefined;\n",
       "    this.rubberband_context = undefined;\n",
       "    this.format_dropdown = undefined;\n",
       "\n",
       "    this.image_mode = 'full';\n",
       "\n",
       "    this.root = $('<div/>');\n",
       "    this._root_extra_style(this.root)\n",
       "    this.root.attr('style', 'display: inline-block');\n",
       "\n",
       "    $(parent_element).append(this.root);\n",
       "\n",
       "    this._init_header(this);\n",
       "    this._init_canvas(this);\n",
       "    this._init_toolbar(this);\n",
       "\n",
       "    var fig = this;\n",
       "\n",
       "    this.waiting = false;\n",
       "\n",
       "    this.ws.onopen =  function () {\n",
       "            fig.send_message(\"supports_binary\", {value: fig.supports_binary});\n",
       "            fig.send_message(\"send_image_mode\", {});\n",
       "            if (mpl.ratio != 1) {\n",
       "                fig.send_message(\"set_dpi_ratio\", {'dpi_ratio': mpl.ratio});\n",
       "            }\n",
       "            fig.send_message(\"refresh\", {});\n",
       "        }\n",
       "\n",
       "    this.imageObj.onload = function() {\n",
       "            if (fig.image_mode == 'full') {\n",
       "                // Full images could contain transparency (where diff images\n",
       "                // almost always do), so we need to clear the canvas so that\n",
       "                // there is no ghosting.\n",
       "                fig.context.clearRect(0, 0, fig.canvas.width, fig.canvas.height);\n",
       "            }\n",
       "            fig.context.drawImage(fig.imageObj, 0, 0);\n",
       "        };\n",
       "\n",
       "    this.imageObj.onunload = function() {\n",
       "        fig.ws.close();\n",
       "    }\n",
       "\n",
       "    this.ws.onmessage = this._make_on_message_function(this);\n",
       "\n",
       "    this.ondownload = ondownload;\n",
       "}\n",
       "\n",
       "mpl.figure.prototype._init_header = function() {\n",
       "    var titlebar = $(\n",
       "        '<div class=\"ui-dialog-titlebar ui-widget-header ui-corner-all ' +\n",
       "        'ui-helper-clearfix\"/>');\n",
       "    var titletext = $(\n",
       "        '<div class=\"ui-dialog-title\" style=\"width: 100%; ' +\n",
       "        'text-align: center; padding: 3px;\"/>');\n",
       "    titlebar.append(titletext)\n",
       "    this.root.append(titlebar);\n",
       "    this.header = titletext[0];\n",
       "}\n",
       "\n",
       "\n",
       "\n",
       "mpl.figure.prototype._canvas_extra_style = function(canvas_div) {\n",
       "\n",
       "}\n",
       "\n",
       "\n",
       "mpl.figure.prototype._root_extra_style = function(canvas_div) {\n",
       "\n",
       "}\n",
       "\n",
       "mpl.figure.prototype._init_canvas = function() {\n",
       "    var fig = this;\n",
       "\n",
       "    var canvas_div = $('<div/>');\n",
       "\n",
       "    canvas_div.attr('style', 'position: relative; clear: both; outline: 0');\n",
       "\n",
       "    function canvas_keyboard_event(event) {\n",
       "        return fig.key_event(event, event['data']);\n",
       "    }\n",
       "\n",
       "    canvas_div.keydown('key_press', canvas_keyboard_event);\n",
       "    canvas_div.keyup('key_release', canvas_keyboard_event);\n",
       "    this.canvas_div = canvas_div\n",
       "    this._canvas_extra_style(canvas_div)\n",
       "    this.root.append(canvas_div);\n",
       "\n",
       "    var canvas = $('<canvas/>');\n",
       "    canvas.addClass('mpl-canvas');\n",
       "    canvas.attr('style', \"left: 0; top: 0; z-index: 0; outline: 0\")\n",
       "\n",
       "    this.canvas = canvas[0];\n",
       "    this.context = canvas[0].getContext(\"2d\");\n",
       "\n",
       "    var backingStore = this.context.backingStorePixelRatio ||\n",
       "\tthis.context.webkitBackingStorePixelRatio ||\n",
       "\tthis.context.mozBackingStorePixelRatio ||\n",
       "\tthis.context.msBackingStorePixelRatio ||\n",
       "\tthis.context.oBackingStorePixelRatio ||\n",
       "\tthis.context.backingStorePixelRatio || 1;\n",
       "\n",
       "    mpl.ratio = (window.devicePixelRatio || 1) / backingStore;\n",
       "\n",
       "    var rubberband = $('<canvas/>');\n",
       "    rubberband.attr('style', \"position: absolute; left: 0; top: 0; z-index: 1;\")\n",
       "\n",
       "    var pass_mouse_events = true;\n",
       "\n",
       "    canvas_div.resizable({\n",
       "        start: function(event, ui) {\n",
       "            pass_mouse_events = false;\n",
       "        },\n",
       "        resize: function(event, ui) {\n",
       "            fig.request_resize(ui.size.width, ui.size.height);\n",
       "        },\n",
       "        stop: function(event, ui) {\n",
       "            pass_mouse_events = true;\n",
       "            fig.request_resize(ui.size.width, ui.size.height);\n",
       "        },\n",
       "    });\n",
       "\n",
       "    function mouse_event_fn(event) {\n",
       "        if (pass_mouse_events)\n",
       "            return fig.mouse_event(event, event['data']);\n",
       "    }\n",
       "\n",
       "    rubberband.mousedown('button_press', mouse_event_fn);\n",
       "    rubberband.mouseup('button_release', mouse_event_fn);\n",
       "    // Throttle sequential mouse events to 1 every 20ms.\n",
       "    rubberband.mousemove('motion_notify', mouse_event_fn);\n",
       "\n",
       "    rubberband.mouseenter('figure_enter', mouse_event_fn);\n",
       "    rubberband.mouseleave('figure_leave', mouse_event_fn);\n",
       "\n",
       "    canvas_div.on(\"wheel\", function (event) {\n",
       "        event = event.originalEvent;\n",
       "        event['data'] = 'scroll'\n",
       "        if (event.deltaY < 0) {\n",
       "            event.step = 1;\n",
       "        } else {\n",
       "            event.step = -1;\n",
       "        }\n",
       "        mouse_event_fn(event);\n",
       "    });\n",
       "\n",
       "    canvas_div.append(canvas);\n",
       "    canvas_div.append(rubberband);\n",
       "\n",
       "    this.rubberband = rubberband;\n",
       "    this.rubberband_canvas = rubberband[0];\n",
       "    this.rubberband_context = rubberband[0].getContext(\"2d\");\n",
       "    this.rubberband_context.strokeStyle = \"#000000\";\n",
       "\n",
       "    this._resize_canvas = function(width, height) {\n",
       "        // Keep the size of the canvas, canvas container, and rubber band\n",
       "        // canvas in synch.\n",
       "        canvas_div.css('width', width)\n",
       "        canvas_div.css('height', height)\n",
       "\n",
       "        canvas.attr('width', width * mpl.ratio);\n",
       "        canvas.attr('height', height * mpl.ratio);\n",
       "        canvas.attr('style', 'width: ' + width + 'px; height: ' + height + 'px;');\n",
       "\n",
       "        rubberband.attr('width', width);\n",
       "        rubberband.attr('height', height);\n",
       "    }\n",
       "\n",
       "    // Set the figure to an initial 600x600px, this will subsequently be updated\n",
       "    // upon first draw.\n",
       "    this._resize_canvas(600, 600);\n",
       "\n",
       "    // Disable right mouse context menu.\n",
       "    $(this.rubberband_canvas).bind(\"contextmenu\",function(e){\n",
       "        return false;\n",
       "    });\n",
       "\n",
       "    function set_focus () {\n",
       "        canvas.focus();\n",
       "        canvas_div.focus();\n",
       "    }\n",
       "\n",
       "    window.setTimeout(set_focus, 100);\n",
       "}\n",
       "\n",
       "mpl.figure.prototype._init_toolbar = function() {\n",
       "    var fig = this;\n",
       "\n",
       "    var nav_element = $('<div/>');\n",
       "    nav_element.attr('style', 'width: 100%');\n",
       "    this.root.append(nav_element);\n",
       "\n",
       "    // Define a callback function for later on.\n",
       "    function toolbar_event(event) {\n",
       "        return fig.toolbar_button_onclick(event['data']);\n",
       "    }\n",
       "    function toolbar_mouse_event(event) {\n",
       "        return fig.toolbar_button_onmouseover(event['data']);\n",
       "    }\n",
       "\n",
       "    for(var toolbar_ind in mpl.toolbar_items) {\n",
       "        var name = mpl.toolbar_items[toolbar_ind][0];\n",
       "        var tooltip = mpl.toolbar_items[toolbar_ind][1];\n",
       "        var image = mpl.toolbar_items[toolbar_ind][2];\n",
       "        var method_name = mpl.toolbar_items[toolbar_ind][3];\n",
       "\n",
       "        if (!name) {\n",
       "            // put a spacer in here.\n",
       "            continue;\n",
       "        }\n",
       "        var button = $('<button/>');\n",
       "        button.addClass('ui-button ui-widget ui-state-default ui-corner-all ' +\n",
       "                        'ui-button-icon-only');\n",
       "        button.attr('role', 'button');\n",
       "        button.attr('aria-disabled', 'false');\n",
       "        button.click(method_name, toolbar_event);\n",
       "        button.mouseover(tooltip, toolbar_mouse_event);\n",
       "\n",
       "        var icon_img = $('<span/>');\n",
       "        icon_img.addClass('ui-button-icon-primary ui-icon');\n",
       "        icon_img.addClass(image);\n",
       "        icon_img.addClass('ui-corner-all');\n",
       "\n",
       "        var tooltip_span = $('<span/>');\n",
       "        tooltip_span.addClass('ui-button-text');\n",
       "        tooltip_span.html(tooltip);\n",
       "\n",
       "        button.append(icon_img);\n",
       "        button.append(tooltip_span);\n",
       "\n",
       "        nav_element.append(button);\n",
       "    }\n",
       "\n",
       "    var fmt_picker_span = $('<span/>');\n",
       "\n",
       "    var fmt_picker = $('<select/>');\n",
       "    fmt_picker.addClass('mpl-toolbar-option ui-widget ui-widget-content');\n",
       "    fmt_picker_span.append(fmt_picker);\n",
       "    nav_element.append(fmt_picker_span);\n",
       "    this.format_dropdown = fmt_picker[0];\n",
       "\n",
       "    for (var ind in mpl.extensions) {\n",
       "        var fmt = mpl.extensions[ind];\n",
       "        var option = $(\n",
       "            '<option/>', {selected: fmt === mpl.default_extension}).html(fmt);\n",
       "        fmt_picker.append(option);\n",
       "    }\n",
       "\n",
       "    // Add hover states to the ui-buttons\n",
       "    $( \".ui-button\" ).hover(\n",
       "        function() { $(this).addClass(\"ui-state-hover\");},\n",
       "        function() { $(this).removeClass(\"ui-state-hover\");}\n",
       "    );\n",
       "\n",
       "    var status_bar = $('<span class=\"mpl-message\"/>');\n",
       "    nav_element.append(status_bar);\n",
       "    this.message = status_bar[0];\n",
       "}\n",
       "\n",
       "mpl.figure.prototype.request_resize = function(x_pixels, y_pixels) {\n",
       "    // Request matplotlib to resize the figure. Matplotlib will then trigger a resize in the client,\n",
       "    // which will in turn request a refresh of the image.\n",
       "    this.send_message('resize', {'width': x_pixels, 'height': y_pixels});\n",
       "}\n",
       "\n",
       "mpl.figure.prototype.send_message = function(type, properties) {\n",
       "    properties['type'] = type;\n",
       "    properties['figure_id'] = this.id;\n",
       "    this.ws.send(JSON.stringify(properties));\n",
       "}\n",
       "\n",
       "mpl.figure.prototype.send_draw_message = function() {\n",
       "    if (!this.waiting) {\n",
       "        this.waiting = true;\n",
       "        this.ws.send(JSON.stringify({type: \"draw\", figure_id: this.id}));\n",
       "    }\n",
       "}\n",
       "\n",
       "\n",
       "mpl.figure.prototype.handle_save = function(fig, msg) {\n",
       "    var format_dropdown = fig.format_dropdown;\n",
       "    var format = format_dropdown.options[format_dropdown.selectedIndex].value;\n",
       "    fig.ondownload(fig, format);\n",
       "}\n",
       "\n",
       "\n",
       "mpl.figure.prototype.handle_resize = function(fig, msg) {\n",
       "    var size = msg['size'];\n",
       "    if (size[0] != fig.canvas.width || size[1] != fig.canvas.height) {\n",
       "        fig._resize_canvas(size[0], size[1]);\n",
       "        fig.send_message(\"refresh\", {});\n",
       "    };\n",
       "}\n",
       "\n",
       "mpl.figure.prototype.handle_rubberband = function(fig, msg) {\n",
       "    var x0 = msg['x0'] / mpl.ratio;\n",
       "    var y0 = (fig.canvas.height - msg['y0']) / mpl.ratio;\n",
       "    var x1 = msg['x1'] / mpl.ratio;\n",
       "    var y1 = (fig.canvas.height - msg['y1']) / mpl.ratio;\n",
       "    x0 = Math.floor(x0) + 0.5;\n",
       "    y0 = Math.floor(y0) + 0.5;\n",
       "    x1 = Math.floor(x1) + 0.5;\n",
       "    y1 = Math.floor(y1) + 0.5;\n",
       "    var min_x = Math.min(x0, x1);\n",
       "    var min_y = Math.min(y0, y1);\n",
       "    var width = Math.abs(x1 - x0);\n",
       "    var height = Math.abs(y1 - y0);\n",
       "\n",
       "    fig.rubberband_context.clearRect(\n",
       "        0, 0, fig.canvas.width / mpl.ratio, fig.canvas.height / mpl.ratio);\n",
       "\n",
       "    fig.rubberband_context.strokeRect(min_x, min_y, width, height);\n",
       "}\n",
       "\n",
       "mpl.figure.prototype.handle_figure_label = function(fig, msg) {\n",
       "    // Updates the figure title.\n",
       "    fig.header.textContent = msg['label'];\n",
       "}\n",
       "\n",
       "mpl.figure.prototype.handle_cursor = function(fig, msg) {\n",
       "    var cursor = msg['cursor'];\n",
       "    switch(cursor)\n",
       "    {\n",
       "    case 0:\n",
       "        cursor = 'pointer';\n",
       "        break;\n",
       "    case 1:\n",
       "        cursor = 'default';\n",
       "        break;\n",
       "    case 2:\n",
       "        cursor = 'crosshair';\n",
       "        break;\n",
       "    case 3:\n",
       "        cursor = 'move';\n",
       "        break;\n",
       "    }\n",
       "    fig.rubberband_canvas.style.cursor = cursor;\n",
       "}\n",
       "\n",
       "mpl.figure.prototype.handle_message = function(fig, msg) {\n",
       "    fig.message.textContent = msg['message'];\n",
       "}\n",
       "\n",
       "mpl.figure.prototype.handle_draw = function(fig, msg) {\n",
       "    // Request the server to send over a new figure.\n",
       "    fig.send_draw_message();\n",
       "}\n",
       "\n",
       "mpl.figure.prototype.handle_image_mode = function(fig, msg) {\n",
       "    fig.image_mode = msg['mode'];\n",
       "}\n",
       "\n",
       "mpl.figure.prototype.updated_canvas_event = function() {\n",
       "    // Called whenever the canvas gets updated.\n",
       "    this.send_message(\"ack\", {});\n",
       "}\n",
       "\n",
       "// A function to construct a web socket function for onmessage handling.\n",
       "// Called in the figure constructor.\n",
       "mpl.figure.prototype._make_on_message_function = function(fig) {\n",
       "    return function socket_on_message(evt) {\n",
       "        if (evt.data instanceof Blob) {\n",
       "            /* FIXME: We get \"Resource interpreted as Image but\n",
       "             * transferred with MIME type text/plain:\" errors on\n",
       "             * Chrome.  But how to set the MIME type?  It doesn't seem\n",
       "             * to be part of the websocket stream */\n",
       "            evt.data.type = \"image/png\";\n",
       "\n",
       "            /* Free the memory for the previous frames */\n",
       "            if (fig.imageObj.src) {\n",
       "                (window.URL || window.webkitURL).revokeObjectURL(\n",
       "                    fig.imageObj.src);\n",
       "            }\n",
       "\n",
       "            fig.imageObj.src = (window.URL || window.webkitURL).createObjectURL(\n",
       "                evt.data);\n",
       "            fig.updated_canvas_event();\n",
       "            fig.waiting = false;\n",
       "            return;\n",
       "        }\n",
       "        else if (typeof evt.data === 'string' && evt.data.slice(0, 21) == \"data:image/png;base64\") {\n",
       "            fig.imageObj.src = evt.data;\n",
       "            fig.updated_canvas_event();\n",
       "            fig.waiting = false;\n",
       "            return;\n",
       "        }\n",
       "\n",
       "        var msg = JSON.parse(evt.data);\n",
       "        var msg_type = msg['type'];\n",
       "\n",
       "        // Call the  \"handle_{type}\" callback, which takes\n",
       "        // the figure and JSON message as its only arguments.\n",
       "        try {\n",
       "            var callback = fig[\"handle_\" + msg_type];\n",
       "        } catch (e) {\n",
       "            console.log(\"No handler for the '\" + msg_type + \"' message type: \", msg);\n",
       "            return;\n",
       "        }\n",
       "\n",
       "        if (callback) {\n",
       "            try {\n",
       "                // console.log(\"Handling '\" + msg_type + \"' message: \", msg);\n",
       "                callback(fig, msg);\n",
       "            } catch (e) {\n",
       "                console.log(\"Exception inside the 'handler_\" + msg_type + \"' callback:\", e, e.stack, msg);\n",
       "            }\n",
       "        }\n",
       "    };\n",
       "}\n",
       "\n",
       "// from http://stackoverflow.com/questions/1114465/getting-mouse-location-in-canvas\n",
       "mpl.findpos = function(e) {\n",
       "    //this section is from http://www.quirksmode.org/js/events_properties.html\n",
       "    var targ;\n",
       "    if (!e)\n",
       "        e = window.event;\n",
       "    if (e.target)\n",
       "        targ = e.target;\n",
       "    else if (e.srcElement)\n",
       "        targ = e.srcElement;\n",
       "    if (targ.nodeType == 3) // defeat Safari bug\n",
       "        targ = targ.parentNode;\n",
       "\n",
       "    // jQuery normalizes the pageX and pageY\n",
       "    // pageX,Y are the mouse positions relative to the document\n",
       "    // offset() returns the position of the element relative to the document\n",
       "    var x = e.pageX - $(targ).offset().left;\n",
       "    var y = e.pageY - $(targ).offset().top;\n",
       "\n",
       "    return {\"x\": x, \"y\": y};\n",
       "};\n",
       "\n",
       "/*\n",
       " * return a copy of an object with only non-object keys\n",
       " * we need this to avoid circular references\n",
       " * http://stackoverflow.com/a/24161582/3208463\n",
       " */\n",
       "function simpleKeys (original) {\n",
       "  return Object.keys(original).reduce(function (obj, key) {\n",
       "    if (typeof original[key] !== 'object')\n",
       "        obj[key] = original[key]\n",
       "    return obj;\n",
       "  }, {});\n",
       "}\n",
       "\n",
       "mpl.figure.prototype.mouse_event = function(event, name) {\n",
       "    var canvas_pos = mpl.findpos(event)\n",
       "\n",
       "    if (name === 'button_press')\n",
       "    {\n",
       "        this.canvas.focus();\n",
       "        this.canvas_div.focus();\n",
       "    }\n",
       "\n",
       "    var x = canvas_pos.x * mpl.ratio;\n",
       "    var y = canvas_pos.y * mpl.ratio;\n",
       "\n",
       "    this.send_message(name, {x: x, y: y, button: event.button,\n",
       "                             step: event.step,\n",
       "                             guiEvent: simpleKeys(event)});\n",
       "\n",
       "    /* This prevents the web browser from automatically changing to\n",
       "     * the text insertion cursor when the button is pressed.  We want\n",
       "     * to control all of the cursor setting manually through the\n",
       "     * 'cursor' event from matplotlib */\n",
       "    event.preventDefault();\n",
       "    return false;\n",
       "}\n",
       "\n",
       "mpl.figure.prototype._key_event_extra = function(event, name) {\n",
       "    // Handle any extra behaviour associated with a key event\n",
       "}\n",
       "\n",
       "mpl.figure.prototype.key_event = function(event, name) {\n",
       "\n",
       "    // Prevent repeat events\n",
       "    if (name == 'key_press')\n",
       "    {\n",
       "        if (event.which === this._key)\n",
       "            return;\n",
       "        else\n",
       "            this._key = event.which;\n",
       "    }\n",
       "    if (name == 'key_release')\n",
       "        this._key = null;\n",
       "\n",
       "    var value = '';\n",
       "    if (event.ctrlKey && event.which != 17)\n",
       "        value += \"ctrl+\";\n",
       "    if (event.altKey && event.which != 18)\n",
       "        value += \"alt+\";\n",
       "    if (event.shiftKey && event.which != 16)\n",
       "        value += \"shift+\";\n",
       "\n",
       "    value += 'k';\n",
       "    value += event.which.toString();\n",
       "\n",
       "    this._key_event_extra(event, name);\n",
       "\n",
       "    this.send_message(name, {key: value,\n",
       "                             guiEvent: simpleKeys(event)});\n",
       "    return false;\n",
       "}\n",
       "\n",
       "mpl.figure.prototype.toolbar_button_onclick = function(name) {\n",
       "    if (name == 'download') {\n",
       "        this.handle_save(this, null);\n",
       "    } else {\n",
       "        this.send_message(\"toolbar_button\", {name: name});\n",
       "    }\n",
       "};\n",
       "\n",
       "mpl.figure.prototype.toolbar_button_onmouseover = function(tooltip) {\n",
       "    this.message.textContent = tooltip;\n",
       "};\n",
       "mpl.toolbar_items = [[\"Home\", \"Reset original view\", \"fa fa-home icon-home\", \"home\"], [\"Back\", \"Back to previous view\", \"fa fa-arrow-left icon-arrow-left\", \"back\"], [\"Forward\", \"Forward to next view\", \"fa fa-arrow-right icon-arrow-right\", \"forward\"], [\"\", \"\", \"\", \"\"], [\"Pan\", \"Pan axes with left mouse, zoom with right\", \"fa fa-arrows icon-move\", \"pan\"], [\"Zoom\", \"Zoom to rectangle\", \"fa fa-square-o icon-check-empty\", \"zoom\"], [\"\", \"\", \"\", \"\"], [\"Download\", \"Download plot\", \"fa fa-floppy-o icon-save\", \"download\"]];\n",
       "\n",
       "mpl.extensions = [\"eps\", \"jpeg\", \"pdf\", \"png\", \"ps\", \"raw\", \"svg\", \"tif\"];\n",
       "\n",
       "mpl.default_extension = \"png\";var comm_websocket_adapter = function(comm) {\n",
       "    // Create a \"websocket\"-like object which calls the given IPython comm\n",
       "    // object with the appropriate methods. Currently this is a non binary\n",
       "    // socket, so there is still some room for performance tuning.\n",
       "    var ws = {};\n",
       "\n",
       "    ws.close = function() {\n",
       "        comm.close()\n",
       "    };\n",
       "    ws.send = function(m) {\n",
       "        //console.log('sending', m);\n",
       "        comm.send(m);\n",
       "    };\n",
       "    // Register the callback with on_msg.\n",
       "    comm.on_msg(function(msg) {\n",
       "        //console.log('receiving', msg['content']['data'], msg);\n",
       "        // Pass the mpl event to the overridden (by mpl) onmessage function.\n",
       "        ws.onmessage(msg['content']['data'])\n",
       "    });\n",
       "    return ws;\n",
       "}\n",
       "\n",
       "mpl.mpl_figure_comm = function(comm, msg) {\n",
       "    // This is the function which gets called when the mpl process\n",
       "    // starts-up an IPython Comm through the \"matplotlib\" channel.\n",
       "\n",
       "    var id = msg.content.data.id;\n",
       "    // Get hold of the div created by the display call when the Comm\n",
       "    // socket was opened in Python.\n",
       "    var element = $(\"#\" + id);\n",
       "    var ws_proxy = comm_websocket_adapter(comm)\n",
       "\n",
       "    function ondownload(figure, format) {\n",
       "        window.open(figure.imageObj.src);\n",
       "    }\n",
       "\n",
       "    var fig = new mpl.figure(id, ws_proxy,\n",
       "                           ondownload,\n",
       "                           element.get(0));\n",
       "\n",
       "    // Call onopen now - mpl needs it, as it is assuming we've passed it a real\n",
       "    // web socket which is closed, not our websocket->open comm proxy.\n",
       "    ws_proxy.onopen();\n",
       "\n",
       "    fig.parent_element = element.get(0);\n",
       "    fig.cell_info = mpl.find_output_cell(\"<div id='\" + id + \"'></div>\");\n",
       "    if (!fig.cell_info) {\n",
       "        console.error(\"Failed to find cell for figure\", id, fig);\n",
       "        return;\n",
       "    }\n",
       "\n",
       "    var output_index = fig.cell_info[2]\n",
       "    var cell = fig.cell_info[0];\n",
       "\n",
       "};\n",
       "\n",
       "mpl.figure.prototype.handle_close = function(fig, msg) {\n",
       "    var width = fig.canvas.width/mpl.ratio\n",
       "    fig.root.unbind('remove')\n",
       "\n",
       "    // Update the output cell to use the data from the current canvas.\n",
       "    fig.push_to_output();\n",
       "    var dataURL = fig.canvas.toDataURL();\n",
       "    // Re-enable the keyboard manager in IPython - without this line, in FF,\n",
       "    // the notebook keyboard shortcuts fail.\n",
       "    IPython.keyboard_manager.enable()\n",
       "    $(fig.parent_element).html('<img src=\"' + dataURL + '\" width=\"' + width + '\">');\n",
       "    fig.close_ws(fig, msg);\n",
       "}\n",
       "\n",
       "mpl.figure.prototype.close_ws = function(fig, msg){\n",
       "    fig.send_message('closing', msg);\n",
       "    // fig.ws.close()\n",
       "}\n",
       "\n",
       "mpl.figure.prototype.push_to_output = function(remove_interactive) {\n",
       "    // Turn the data on the canvas into data in the output cell.\n",
       "    var width = this.canvas.width/mpl.ratio\n",
       "    var dataURL = this.canvas.toDataURL();\n",
       "    this.cell_info[1]['text/html'] = '<img src=\"' + dataURL + '\" width=\"' + width + '\">';\n",
       "}\n",
       "\n",
       "mpl.figure.prototype.updated_canvas_event = function() {\n",
       "    // Tell IPython that the notebook contents must change.\n",
       "    IPython.notebook.set_dirty(true);\n",
       "    this.send_message(\"ack\", {});\n",
       "    var fig = this;\n",
       "    // Wait a second, then push the new image to the DOM so\n",
       "    // that it is saved nicely (might be nice to debounce this).\n",
       "    setTimeout(function () { fig.push_to_output() }, 1000);\n",
       "}\n",
       "\n",
       "mpl.figure.prototype._init_toolbar = function() {\n",
       "    var fig = this;\n",
       "\n",
       "    var nav_element = $('<div/>');\n",
       "    nav_element.attr('style', 'width: 100%');\n",
       "    this.root.append(nav_element);\n",
       "\n",
       "    // Define a callback function for later on.\n",
       "    function toolbar_event(event) {\n",
       "        return fig.toolbar_button_onclick(event['data']);\n",
       "    }\n",
       "    function toolbar_mouse_event(event) {\n",
       "        return fig.toolbar_button_onmouseover(event['data']);\n",
       "    }\n",
       "\n",
       "    for(var toolbar_ind in mpl.toolbar_items){\n",
       "        var name = mpl.toolbar_items[toolbar_ind][0];\n",
       "        var tooltip = mpl.toolbar_items[toolbar_ind][1];\n",
       "        var image = mpl.toolbar_items[toolbar_ind][2];\n",
       "        var method_name = mpl.toolbar_items[toolbar_ind][3];\n",
       "\n",
       "        if (!name) { continue; };\n",
       "\n",
       "        var button = $('<button class=\"btn btn-default\" href=\"#\" title=\"' + name + '\"><i class=\"fa ' + image + ' fa-lg\"></i></button>');\n",
       "        button.click(method_name, toolbar_event);\n",
       "        button.mouseover(tooltip, toolbar_mouse_event);\n",
       "        nav_element.append(button);\n",
       "    }\n",
       "\n",
       "    // Add the status bar.\n",
       "    var status_bar = $('<span class=\"mpl-message\" style=\"text-align:right; float: right;\"/>');\n",
       "    nav_element.append(status_bar);\n",
       "    this.message = status_bar[0];\n",
       "\n",
       "    // Add the close button to the window.\n",
       "    var buttongrp = $('<div class=\"btn-group inline pull-right\"></div>');\n",
       "    var button = $('<button class=\"btn btn-mini btn-primary\" href=\"#\" title=\"Stop Interaction\"><i class=\"fa fa-power-off icon-remove icon-large\"></i></button>');\n",
       "    button.click(function (evt) { fig.handle_close(fig, {}); } );\n",
       "    button.mouseover('Stop Interaction', toolbar_mouse_event);\n",
       "    buttongrp.append(button);\n",
       "    var titlebar = this.root.find($('.ui-dialog-titlebar'));\n",
       "    titlebar.prepend(buttongrp);\n",
       "}\n",
       "\n",
       "mpl.figure.prototype._root_extra_style = function(el){\n",
       "    var fig = this\n",
       "    el.on(\"remove\", function(){\n",
       "\tfig.close_ws(fig, {});\n",
       "    });\n",
       "}\n",
       "\n",
       "mpl.figure.prototype._canvas_extra_style = function(el){\n",
       "    // this is important to make the div 'focusable\n",
       "    el.attr('tabindex', 0)\n",
       "    // reach out to IPython and tell the keyboard manager to turn it's self\n",
       "    // off when our div gets focus\n",
       "\n",
       "    // location in version 3\n",
       "    if (IPython.notebook.keyboard_manager) {\n",
       "        IPython.notebook.keyboard_manager.register_events(el);\n",
       "    }\n",
       "    else {\n",
       "        // location in version 2\n",
       "        IPython.keyboard_manager.register_events(el);\n",
       "    }\n",
       "\n",
       "}\n",
       "\n",
       "mpl.figure.prototype._key_event_extra = function(event, name) {\n",
       "    var manager = IPython.notebook.keyboard_manager;\n",
       "    if (!manager)\n",
       "        manager = IPython.keyboard_manager;\n",
       "\n",
       "    // Check for shift+enter\n",
       "    if (event.shiftKey && event.which == 13) {\n",
       "        this.canvas_div.blur();\n",
       "        event.shiftKey = false;\n",
       "        // Send a \"J\" for go to next cell\n",
       "        event.which = 74;\n",
       "        event.keyCode = 74;\n",
       "        manager.command_mode();\n",
       "        manager.handle_keydown(event);\n",
       "    }\n",
       "}\n",
       "\n",
       "mpl.figure.prototype.handle_save = function(fig, msg) {\n",
       "    fig.ondownload(fig, null);\n",
       "}\n",
       "\n",
       "\n",
       "mpl.find_output_cell = function(html_output) {\n",
       "    // Return the cell and output element which can be found *uniquely* in the notebook.\n",
       "    // Note - this is a bit hacky, but it is done because the \"notebook_saving.Notebook\"\n",
       "    // IPython event is triggered only after the cells have been serialised, which for\n",
       "    // our purposes (turning an active figure into a static one), is too late.\n",
       "    var cells = IPython.notebook.get_cells();\n",
       "    var ncells = cells.length;\n",
       "    for (var i=0; i<ncells; i++) {\n",
       "        var cell = cells[i];\n",
       "        if (cell.cell_type === 'code'){\n",
       "            for (var j=0; j<cell.output_area.outputs.length; j++) {\n",
       "                var data = cell.output_area.outputs[j];\n",
       "                if (data.data) {\n",
       "                    // IPython >= 3 moved mimebundle to data attribute of output\n",
       "                    data = data.data;\n",
       "                }\n",
       "                if (data['text/html'] == html_output) {\n",
       "                    return [cell, data, j];\n",
       "                }\n",
       "            }\n",
       "        }\n",
       "    }\n",
       "}\n",
       "\n",
       "// Register the function which deals with the matplotlib target/channel.\n",
       "// The kernel may be null if the page has been refreshed.\n",
       "if (IPython.notebook.kernel != null) {\n",
       "    IPython.notebook.kernel.comm_manager.register_target('matplotlib', mpl.mpl_figure_comm);\n",
       "}\n"
      ],
      "text/plain": [
       "<IPython.core.display.Javascript object>"
      ]
     },
     "metadata": {},
     "output_type": "display_data"
    },
    {
     "data": {
      "text/html": [
       "<img src=\"data:image/png;base64,iVBORw0KGgoAAAANSUhEUgAAAoAAAAHgCAYAAAA10dzkAAAgAElEQVR4nO3de3wV9Z3/8eGSREDMClKu67BV1CrCeqnV1oXlItgC2u26RSs/07VcNaKWbQdxJeIFoSptbUUqKuoWCa0gxUlAEgigEBAISLjfQ0yQWwgQ4ERC3r8/fHDwkETRuRzOzOv5eMwfPZl8vzOez6PnZZJzNAQAAIBQMeJ9AQAAAPAXAQgAABAyBCAAAEDIEIAAAAAhQwACAACEDAEIAAAQMgQgAABAyBCAAAAAIUMAAgAAhAwBCAAAEDIEIAAAQMgQgAAAACFDAAIAAIQMAQgAABAyBCAAAEDIEIAAAAAhQwACAACEDAEIAAAQMgQgAABAyBCAAAAAIUMAAgAAhAwBCAAAEDIEIAAAQMgQgAAAACFDAAIAAIQMAQgAABAyBCAAAEDIEIAAAAAhQwACAACEDAEIAAAQMgQgAABAyBCAAAAAIUMAAgAAhAwBCAAAEDIEIAAAQMgQgAAAACFDAAKI+uMf/yjDMHTNNdc4XisrK0sZGRnOLyoBmaaptLS0wO0FIDgIQABRnTt3lmEYMgxDy5Ytc7TWgw8+KMMI5//FEIAAznfh/H9nADWsWLFChmGoT58+MgxDgwYNcrQeAZjmylpVVVWKRCK+7AUgPML5/84Aahg6dKgMw1BhYaF++MMfqmnTpjp27FjMOXl5eTIMQ3l5eTGP79y5U4ZhaMqUKZKktLS06E8Sv3zs3LlTknTixAmNHDlS7du3V1JSktq0aaMHHnhAhw4dqnFdmZmZuvnmm9W4cWM1adJEvXr1UkFBQcw5aWlpatKkibZu3aof//jHatKkidq1a6df//rXNeIpEolozJgxuuqqq5SSkqJmzZrp3//937VkyZLoOed6fZ9//rl+85vfqGXLlmrUqJF+9KMfafny5bVG2Z49ezR48GC1bdtWSUlJat++vZ588kmdPHmyxj/H8ePH6+mnn1b79u3VoEEDzZkzp87nrba9ioqKdO+996pFixZKTk7WVVddpRdeeEGnTp2KOW/ixInq1KmTmjRpogsvvFBXXnmlHnvssejXjx07phEjRqh9+/ZKSUnRxRdfrBtuuEHvvPNOndcDIDEQgAB0/Phxpaam6vvf/74k6bXXXpNhGHrzzTdjzjvXANy2bZvuuusuGYah/Pz86BGJRFRdXa3evXurYcOGeuKJJzRv3jy98MILatKkia677rqYYHv22WdVr1493X///bJtWzNnztQtt9yiJk2aaP369dHz0tLSlJycrO9973t64YUXlJubq9GjR6tevXoaM2ZM9LyTJ0+qW7duatiwof7nf/5H2dnZmj17tkaNGqVp06ZJ0je6vrS0NNWrV0+/+c1vNG/ePE2YMEFt27bVRRddFBNle/bs0T//8z/LNE395S9/UW5urp5++mmlpKTol7/8ZY1/jm3btlW3bt307rvvat68edFwrs3ZAbhv3z61bdtWLVq00KRJkzR37lylp6fLMAwNGzYset60adNkGIYeeughzZs3T7m5uZo0aZKGDx8ePWfIkCFq3LixJkyYoLy8PNm2rXHjxulPf/pTndcDIDEQgAD09ttvyzAMTZo0SZJ09OhRXXjhhfq3f/u3mPPONQClun8FPHfuXBmGod/97ncxj0+fPl2GYejVV1+VJO3evVsNGzbUQw89FHPe0aNH1apVK/385z+PPnb6J45/+9vfYs79yU9+oiuvvLLGfU6ePLnOfxbnen0bN26UYRh69NFHY86bOnWqDMOIibIhQ4bowgsvVFFRUcy5L7zwggzDiMbs6X+Ol112mT7//PM6r/HLzg7AkSNHyjAMLV++POa8YcOGqV69etq8ebMkKT09Xf/0T//0lWt37NhRP/3pT8/pOgAkFgIQgLp27apGjRqpvLw8+th///d/yzAMbdmyJfqYGwH429/+VoZhaN++fTGPV1dXq0mTJurfv78kafLkyTIMQytWrNDJkydjjv79++s73/lO9HtP/yTuxIkTMWuOHDlSF1xwQfR/33PPPbrgggtq/Cr021zfxIkTZRiGVq5cGXPeyZMn1bBhw5goa9u2rfr161fjPtavXy/DMDRx4sSYf45nR+VXOTsAb7rpJl199dU1zlu+fLkMw9Arr7wi6UwM33333Zo1a5b2799f43vuv/9+paSkyLIs5eXl6fjx4+d8XQDObwQgEHJbt25VvXr1dNddd+nQoUPRIysrS4ZhaOTIkdFz3QjAX/3qV2rYsGGt13LZZZepZ8+ekqRnnnmm1r8jPH3Ur18/+n2n/wbwbBkZGTHX0LNnT333u9/9yn8e53p9Tz/9tAzD0KefflrjvJYtW8ZEWcOGDb/yXp566ilJZ/45nv3Tx69ydgBedtll6tGjR43ziouLZRiGnnnmmehjb7zxhm655RY1aNBA9erV00033aR58+ZFv15RUaHRo0fryiuvlGEYuuCCC3TnnXfG/EsBgMREAAIh99hjj31lnLRu3VpVVVWSpPz8fBmGoblz58ascfodxG78BPDuu++WJE2aNEmGYejdd9/VihUraj1OO9cAdOMngKev75v8BLBVq1bq1atXnfdRUlIi6UwAPv/883Ve39m+6U8AT/+a/8sqKiqUnZ2t73//+0pOTtauXbtqnPPZZ59pypQpatmyZcyv1QEkJgIQCLGqqiq1adNGl112mfLy8mocI0aMkGEYev/99yV98WaG2n5C9cQTT9QIwF//+tcyDKPGrw0/+OADGYahCRMmxDz+97//Pebv83bu3KmGDRtq/PjxX3sf5xqAp3/t+frrr9e51rle34YNG875bwAHDhyoNm3aqKys7Cvvw40APB30q1atijnvwQcfjPkbwNrMmjVLhmEoKyurznMeeeQRGYZR4x3iABILAQiE2Pvvvx/92JHa7N+/XykpKTFvBOjZs6cuvvhiTZ48WfPmzZNlWerQoUONAJwyZYoMw1BGRoaWLVumFStWqLKyMvou26SkJD355JPKycnRiy++qAsvvLDGu2zHjh2rhg0basiQIXrvvfe0cOFCTZ8+XSNGjNDo0aOj551rAJ5+F3BSUpJ++9vfas6cOcrKytLo0aNrvAv4XK5vwIABqlevnn77299G3wXcpk2bGu8CLi0tlWmauuqqqzRx4kTNnz9fWVlZevnll9WnTx8VFxdLcicAT78LuFWrVnr11Vf1wQcfaPjw4apXr54eeOCB6HkDBw7UQw89pMzMTC1atEjTp0/Xv/7rvyo1NTX608+bbrpJTz31lGbNmqVFixZp0qRJat68uW655ZZzvj4A5ycCEAixn/70p0pOTq7x684vu/vuu9WwYUN99tlnkr74KeBdd92lZs2aKTU1VQMGDNDKlStrBGBlZaUGDhyoFi1aqF69ejU+B9CyLJmmqaSkJLVu3VrDhg2r9XMAZ82apW7duumiiy5SSkqKTNPUXXfdpdzc3Og55xqAp/cePXq0OnTooOTkZDVv3lzdu3fX0qVLY845l+urrKzUiBEj9J3vfEcXXHCBbr75ZuXn59f62Xz79+/X8OHD9S//8i9KSkpSs2bNdMMNN+jxxx9XRUWFJHcCUPricwB/8YtfqHnz5kpKStKVV16p559/PuZX32+99Za6deumli1bKjk5WW3atNHPf/5zrV27NnrOyJEjdeONN+riiy9WSkqKvvvd7+rRRx/VgQMHzvn6AJyfCEAAAICQIQABAABChgAEAAAIGQIQAAAgZAhAAACAkCEAAQAAQoYABAAACBkCEAAAIGQIQAdOnTql4uJilZeX6/DhwxwcHBwcHBwJcJSXl6u4uPgr/7vgQUcAOlBcXCzDMDg4ODg4ODgS8Dj9n2EMo4QMwIkTJ+raa69V06ZN1bRpU918883Kzs6Ofj0SiSg9PV3NmzdX48aN1a9fvxpPclFRkfr27avGjRurefPmeuihh1RZWfmNrqO8vDw6QPH+txkODg4ODg6OcztO/wCnvLzclS5JRAkZgLNnz1ZWVpY2b96szZs3a9SoUUpKStK6deskSUOHDlXbtm2Vk5OjgoICdevWTZ07d1ZVVZUkqaqqSh07dlS3bt1UUFCgnJwctWnTRunp6d/oOg4fPizDMHT48GHX7xEAAHiD1+8EDcDaXHzxxXrttddUXl6upKQkZWZmRr9WUlKi+vXra+7cuZKk7Oxs1a9fXyUlJdFzpk2bppSUlG80DAwQAACJh9fvAARgVVWVpk2bpuTkZK1fv17z58+XYRgqKyuLOa9Tp04aPXq0JOmJJ55Qp06dYr5eVlYmwzC0YMGCOveKRCK1/gg5zAMEAECiIQATOADXrl2rJk2aqEGDBkpNTVVWVpYkaerUqUpOTq5x/m233abBgwdLkgYNGqTbbrutxjnJycl655136twzIyOj1j8idWOAsteWavi0Av1txW7HawEAgLoRgAkcgJWVldq6datWrFihkSNH6pJLLtH69evrDMCePXtqyJAhkr4IwF69etU4JykpSdOmTatzTy9/Avj7nM0yLVujZq51vBYAAKgbAZjAAXi2Hj16aPDgwZ7+Cvhsbg7QKwu3ybRs/Xr6GsdrAQCAuhGAAQrA7t27Ky0tLfomkOnTp0e/VlpaWuubQEpLS6PnZGZmxvVNIFM+2iHTsvXA1FWO1wIAAHUjABM0AB977DEtXrxYO3fu1Nq1azVq1CjVr19f8+bNk/TFx8C0a9dOubm5KigoUPfu3Wv9GJgePXqooKBAubm5ateuXVw/Buad5UUyLVu/evNjx2sBAIC6EYAJGoD333+/TNNUcnKyWrRooR49ekTjT5JOnDih9PR0NWvWTI0aNVLfvn21e3fsmyuKiorUp08fNWrUSM2aNVN6eroikcg3ug43B2hmQbFMy9a9k5c5XgsAANSNAEzQADxfuDlA2WtLZVq2/nPiEheuDAAA1IUAJAAdcXOAFmzcK9Oy1eelxS5cGQAAqAsBSAA64uYALdm2X6Zlq+eLC124MgAAUBcCkAB0xM0BWlVUJtOydev4+S5cGQAAqAsBSAA64uYArS85LNOydeMzOS5cGQAAqAsBSAA64uYAbd93VKZlq2PGXBeuDAAA1IUAJAAdcXOAPj10XKZlq8OobBeuDAAA1IUAJAAdcXOADhyNyLRsmZatqlPVLlwdAACoDQFIADri5gBVRE5GA/BY5UkXrg4AANSGACQAHXFzgKpOVUcDsKyi0oWrAwAAtSEACUBH3B6gy0dlybRslZYfd2U9AABQEwFIADri9gB1HD1XpmVrx/4KV9YDAAA1EYAEoCNuD9ANT+fItGxtKA3vQAIA4DUCkAB0xO0B+uFz82VatgqKylxZDwAA1EQAEoCOuD1A3V/Ik2nZWrrtgCvrAQCAmghAAtARtwfoJ39cLNOytWDTXlfWAwAANRGABKAjbg/QzyYukWnZmlNY6sp6AACgJgKQAHTE7QH6xeR8mZatWas/dWU9AABQEwFIADri9gDdP+VjmZatzI+LXFkPAADURAASgI64PUAP/HWVTMvWm0t2urIeAACoiQAkAB1xe4AezVwt07I1aeE2V9YDAAA1EYAEoCNuD9DIGWtlWrb+kLPFlfUAAEBNBCAB6IjbA/Tk7HUyLVvj5mx0ZT0AAFATAUgAOuL2AI2bs1GmZevJ2etcWQ8AANREABKAjrg9QH/I2SLTsvXYzLWurAcAAGoiAAlAR9weoEkLt8m0bD06fbUr6wEAgJoIQALQEbcH6M0lO2Vath746ypX1gMAADURgASgI24PUObHRTItW/dP+diV9QAAQE0EIAHoiNsD9F7BpzItW7+YnO/KegAAoCYCkAB0xO0BmlNYKtOy9bOJS1xZDwAA1EQAEoCOuD1ACzbtlWnZ+skfF7uyHgAAqIkAJAAdcXuAlm47INOy1f2FPFfWAwAANRGABKAjbg9QQVGZTMvWj8bNd2U9AABQEwFIADri9gBtKD0s07J1w9M5rqwHAABqIgAJQEfcHqAd+ytkWrY6jp7rynoAAKAmApAAdMTtASo5dFymZevyUVmurAcAAGoiAAlAR9weoIMVlTItW6Zlq+pUtStrAgCAWAQgAeiI2wN0rPJkNAArIiddWRMAAMQiAAlAR9weoFOnqqMBeOBoxJU1AQBALAKQAHTEiwHqMCpbpmWr5NBx19YEAABnEIAEoCNeDFDHjLkyLVvb9x11bU0AAHAGAUgAOuLFAN34TI5My9b6kvAOJQAAXiIACUBHvBigW8fPl2nZWlVU5tqaAADgDAKQAHTEiwHq8eJCmZatJdv2u7YmAAA4gwAkAB3xYoD6vLRYpmVrwca9rq0JAADOIAAJQEe8GKD/nLhEpmUre22pa2sCAIAzCMAEDcCxY8fqxhtv1IUXXqgWLVrozjvv1KZNm2LO6dq1qwzDiDn69+8fc05ZWZkGDBigiy66SBdddJEGDBigQ4cOnfN1eDFA905eJtOyNbOg2LU1AQDAGQRgggZg7969NWXKFK1bt05r1qxRnz59dOmll6qioiJ6TteuXTVo0CDt2bMnepSXl8esc/vtt6tjx45aunSpli5dqo4dO6pv377nfB1eDNCv3vxYpmVr2vIi19YEAABnEIAJGoBn27dvnwzD0KJFi6KPde3aVQ8//HCd37NhwwYZhqFly5ZFH8vPz5dhGDV+mlgXLwbogamrZFq2pny0w7U1AQDAGQRgQAJw69atMgxDhYWF0ce6du2qSy65RM2bN9fVV1+tESNG6MiRI9Gvv/7660pNTa2xVmpqqt54441a94lEIjp8+HD0KC4udn2Afj19jUzL1isLt7m2JgAAOIMADEAAVldXq1+/frr11ltjHn/11VeVk5OjwsJCTZs2Te3bt1fPnj2jX3/22WfVoUOHGut16NBBY8eOrXWvjIyMGn9X6PYAPTZzrUzL1u9zNru2JgAAOIMADEAAPvDAAzJNU8XFX/2miZUrV8owDK1atUrSFwF4xRVX1Djv8ssv13PPPVfrGn78BHDM7PUyLVvPZW90bU0AAHAGAZjgAZienq527dppx46v/3u56upqJSUlKTMzU9K3+xXw2bwYoPFzNsq0bGX8Y51rawIAgDMIwAQNwOrqaj344INq06aNtmzZck7fU1hYGPNGkdNvAlm+fHn0nGXLlsX9TSB/zN0i07I1csYnrq0JAADOIAATNACHDRum1NRULVy4MOZjXo4fPy5J2rZtm8aMGaMVK1Zo586dysrK0lVXXaXrrrtOVVVV0XVuv/12derUSfn5+crPz9e1114b94+B+cuibTItW49mrnZtTQAAcAYBmKABWNsbMQzD0JQpUyRJu3fvVpcuXdSsWTMlJyfrsssu0/Dhw3Xw4MGYdQ4ePKh7771XTZs2VdOmTXXvvffG/YOg31q6U6Zla9hfV7q2JgAAOIMATNAAPF94MUDTP94t07L131M+dm1NAABwBgFIADrixQDNWv2pTMvWPa/mu7YmAAA4gwAkAB3xYoDmFO6Radn6j5c/cm1NAABwBgFIADrixQDlbdor07L14z8sdm1NAABwBgFIADrixQDlbz8g07LV7YU819YEAABnEIAEoCNeDNDq3YdkWrZ++Nx819YEAABnEIAEoCNeDNDGPYdlWrZueHqea2sCAIAzCEAC0BEvBmjn/gqZlq1rRs91bU0AAHAGAUgAOuLFAO0pPyHTsnXZY1murQkAAM4gAAlAR7wYoLKKSpmWLdOydbLqlGvrAgCALxCABKAjXgzQ8cqqaAAejZx0bV0AAPAFApAAdMSLATp1qjoagPuPRlxbFwAAfIEAJAAd8WqAOjyeLdOyVVx2zNV1AQAAASgRgI54NUDXZsyVadnatu+oq+sCAAACUCIAHfFqgL7/TI5My9a6knJX1wUAAASgRAA64tUA/dv4BTItWyt3lbm6LgAAIAAlAtARrwao54sLZVq2lmzd7+q6AACAAJQIQEe8GqC+L30o07I1f+Nnrq4LAAAIQIkAdMSrAbrrlSUyLVtZa0tdXRcAABCAEgHoiFcDNOC1ZTItWzNWFbu6LgAAIAAlAtARrwboV2+ukGnZmrqsyNV1AQAAASgRgI54NUAPTl0l07L1xkc7XF0XAAAQgBIB6IhXAzTib2tkWrYm5m1zdV0AAEAASgSgI14N0OPvrZVp2Zowb7Or6wIAAAJQIgAd8WqAnnp/vUzL1tjsDa6uCwAACECJAHTEqwH63dyNMi1bGf9Y5+q6AACAAJQIQEe8GqCXcrfItGxZ737i6roAAIAAlAhAR7waoFcXbZdp2Xp4WoGr6wIAAAJQIgAd8WqA3l66U6Zla+j/rXR1XQAAQABKBKAjXg3Q9BW7ZVq2fvnGclfXBQAABKBEADri1QD9Y02JTMvW3X/Jd3VdAABAAEoEoCNeDdDcdXtkWrZ++vJHrq4LAAAIQIkAdMSrAVq4eZ9My9btf1js6roAAIAAlAhAR7waoGXbD8i0bHV7Ps/VdQEAAAEoEYCOeDVAa3YfkmnZumVsrqvrAgAAAlAiAB3xaoA27Tki07J13VPzXF0XAAAQgBIB6IhXA7TrQIVMy9bVT8xxdV0AAEAASgSgI14N0GeHT8i0bH33sSxX1wUAAASgRAA64tUAHTpWKdOyZVq2Pq865eraAACEHQFIADri1QCd+LwqGoBHTnzu6toAAIQdAUgAOuLVAFVXV0cDcN+RiKtrAwAQdgQgAeiIlwN0xePZMi1buw8ec31tAADCjAAkAB3xcoA6PfmBTMvW1r1HXF8bAIAwIwAJQEe8HKCbns2Radkq/LTc9bUBAAgzApAAdMTLAeryuwUyLVsrdx10fW0AAMKMACQAHfFygHpNWCTTsvXR1v2urw0AQJgRgAkagGPHjtWNN96oCy+8UC1atNCdd96pTZs2xZwTiUSUnp6u5s2bq3HjxurXr5+Ki4tjzikqKlLfvn3VuHFjNW/eXA899JAqKyvP+Tq8HKB+f/pQpmUrd8Nnrq8NAECYEYAJGoC9e/fWlClTtG7dOq1Zs0Z9+vTRpZdeqoqKiug5Q4cOVdu2bZWTk6OCggJ169ZNnTt3VlVVlSSpqqpKHTt2VLdu3VRQUKCcnBy1adNG6enp53wdXg7Qf72yVKZly/6k1PW1AQAIMwIwQQPwbPv27ZNhGFq0aJEkqby8XElJScrMzIyeU1JSovr162vu3LmSpOzsbNWvX18lJSXRc6ZNm6aUlJRzHggvB2jAa8tkWrbeXVn89ScDAIBzRgAGJAC3bt0qwzBUWFgoSZo/f74Mw1BZWVnMeZ06ddLo0aMlSU888YQ6deoU8/WysjIZhqEFCxac075eDtDAt1bItGz9ddku19cGACDMCMAABGB1dbX69eunW2+9NfrY1KlTlZycXOPc2267TYMHD5YkDRo0SLfddluNc5KTk/XOO+/UulckEtHhw4ejR3FxsWcDlP5OgUzL1msf7nB9bQAAwowADEAAPvDAAzJNM+YNHnUFYM+ePTVkyBBJXwRgr169apyTlJSkadOm1bpXRkaGDMOocXgxQP/ztzUyLVsv5211fW0AAMKMAEzwAExPT1e7du20Y0fsT8m8+hWwnz8B/N/3CmVatl6ct9n1tQEACDMCMEEDsLq6Wg8++KDatGmjLVu21Pj66TeBTJ8+PfpYaWlprW8CKS098y7bzMzM8+ZNIE+/v16mZWts1gbX1wYAIMwIwAQNwGHDhik1NVULFy7Unj17osfx48ej5wwdOlTt2rVTbm6uCgoK1L1791o/BqZHjx4qKChQbm6u2rVrd958DMzzczfJtGyNnlXo+toAAIQZAZigAVjb3+EZhqEpU6ZEzzlx4oTS09PVrFkzNWrUSH379tXu3btj1ikqKlKfPn3UqFEjNWvWTOnp6YpEIud8HV4O0J/mb5Fp2frt3z9xfW0AAMKMAEzQADxfeDlAkxdvl2nZGj6twPW1AQAIMwKQAHTEywF6O3+XTMvW4LdXuL42AABhRgASgI54OUB/W7FbpmUr7Y3lrq8NAECYEYAEoCNeDtDsNSUyLVv9/7LU9bUBAAgzApAAdMTLAZq3/jOZlq07//yR62sDABBmBCAB6IiXA7Ro8z6Zlq3ev1/k+toAAIQZAUgAOuLlAC3fcVCmZevfn89zfW0AAMKMACQAHfFygD4pPiTTsnXz2FzX1wYAIMwIQALQES8HaPNnR2Ratv51zAeurw0AQJgRgASgI14OUNGBYzItW997Yo7rawMAEGYEIAHoiJcDtPfwCZmWrX8Zaau6utr19QEACCsCkAB0xMsBKj/+uUzLlmnZqjx5yvX1AQAIKwKQAHTEywE68XlVNAAPn/jc9fUBAAgrApAAdMTLAaqurlb7kV8E4N4jJ1xfHwCAsCIACUBHvB6gK/83W6Zla/fBY56sDwBAGBGABKAjXg9Q5zEfyLRsbfnsiCfrAwAQRgQgAeiI1wP0g2dzZVq21haXe7I+AABhRAASgI54PUBdf7dApmVrxc6DnqwPAEAYEYAEoCNeD1Dv3y+Sadn6cMt+T9YHACCMCEAC0BGvB+iOP30o07KVs/4zT9YHACCMCEAC0BGvB+i/Ji2Vadl6/5MST9YHACCMCEAC0BGvB+j/vb5cpmXr7yuLPVkfAIAwIgAJQEe8HqBBb62Qadn6v/xdnqwPAEAYEYAEoCNeD9BD7xTItGxNXrzdk/UBAAgjApAAdMTrAfrN39fItGz9ecFWT9YHACCMCEAC0BGvB+iJWYUyLVsvfrDJk/UBAAgjApAAdMTrAXo2a4NMy9azWRs8WR8AgDAiAAlAR7weoBc+2CTTsvXErEJP1gcAIIwIQALQEa8H6M8Ltsq0bP3m72s8WR8AgDAiAAlAR7weoMmLt8u0bD30ToEn6wMAEEYEIAHoiNcD9H/5u2Ratga9tcKT9QEACCMCkAB0xOsB+vvKYpmWrf/3+nJP1gcAIIwIQALQEa8H6P1PSmRatn4+aYtqCAcAACAASURBVKkn6wMAEEYEIAHoiNcDlLP+M5mWrTv+/JEn6wMAEEYEIAHoiNcDtHjLPpmWrd6/X+TJ+gAAhBEBSAA64vUAfbzzoEzLVtffLfBkfQAAwogAJAAd8XqA1haXy7Rs/eDZXE/WBwAgjAhAAtARrwdoy2dHZFq2Oo/5wJP1AQAIIwKQAHTE6wHaffCYTMvWlf+b7cn6AACEEQFIADri9QDtPXJCpmWr/Uhb1dXVnuwBAEDYEIAEoCNeD9DhE5/LtGyZlq3IySpP9gAAIGwIQALQEa8HqPLkqWgAlh//3JM9AAAIGwKQAHTE6wGqrq5W+5FfBODewyc82QMAgLAhAAlAR/wYoKv+d45My1bRgWOe7QEAQJgQgASgI34M0L+O+UCmZWvzZ0c82wMAgDAhAAlAR/wYoJvH5sq0bH1SfMizPQAACBMCMEEDcNGiRerbt69at24twzD03nvvxXw9LS1NhmHEHD/4wQ9izolEIkpPT1fz5s3VuHFj9evXT8XFxd/oOvwYoH9/Pk+mZWv5joOe7QEAQJgQgAkagNnZ2Xr88cc1Y8aMOgPw9ttv1549e6LHwYOxATV06FC1bdtWOTk5KigoULdu3dS5c2dVVZ37x634MUC9f79IpmVr8ZZ9nu0BAECYEIAJGoBfVlcA3nnnnXV+T3l5uZKSkpSZmRl9rKSkRPXr19fcuXPPeW8/BujOP38k07I1b/1nnu0BAECYEIABDsDU1FS1aNFCHTp00MCBA7V3797o1+fPny/DMFRWVhbzfZ06ddLo0aPPeW8/Bujnk5bKtGzNXlPi2R4AAIQJARjQAMzMzJRt2yosLNTs2bPVuXNnXXPNNYpEIpKkqVOnKjk5ucZat912mwYPHlznXpFIRIcPH44excXFng/Qfa8vl2nZ+tuK3Z7tAQBAmBCAAQ3As5WWliopKUkzZsyQVHcA9uzZU0OGDKlznYyMjBpvLvF6gAa/vUKmZevt/F2e7QEAQJgQgCEJQEm6/PLLNW7cOEnf/lfA8fgJ4PBpBTItW5MXb/dsDwAAwoQADEkAHjhwQCkpKXrrrbcknXkTyPTp06PnlJaWnpdvAvnt3z+Radn60/wtnu0BAECYEIAJGoBHjx7V6tWrtXr1ahmGoQkTJmj16tUqKirS0aNHNWLECC1dulQ7d+5UXl6ebrnlFrVt21ZHjpz5r2kMHTpU7dq1U25urgoKCtS9e/fz8mNgRs8qlGnZeuGDTZ7tAQBAmBCACRqAeXl5tf4tXlpamo4fP65evXqpRYsWSkpK0qWXXqq0tDTt3h37JooTJ04oPT1dzZo1U6NGjdS3b98a53wdPwZobNYGmZatZ+z1nu0BAECYEIAJGoDnCz8G6MUPNsm0bP3ve4We7QEAQJgQgASgI34M0J8XbJVp2fqfv63xbA8AAMKEACQAHfFjgF77cIdMy1b6OwWe7QEAQJgQgASgI34M0F+X7ZJp2Rr41grP9gAAIEwIQALQET8G6N2VxTItWwNeW+bZHgAAhAkBSAA64scA2Z+UyrRs/dcrSz3bAwCAMCEACUBH/Big3A2fybRs3fGnDz3bAwCAMCEACUBH/Bigj7bul2nZ6jVhkWd7AAAQJgQgAeiIHwO0YudBmZatLr9b4NkeAACECQFIADrixwAVflou07J107M5nu0BAECYEIAEoCN+DNDWvUdkWrY6PfmBZ3sAABAmBCAB6IgfA7T74DGZlq0rHs/2bA8AAMKEACQAHfFjgPYdici0bJmWrerqas/2AQAgLAhAAtARPwboyInPowF44vMqz/YBACAsCEAC0BE/BujzqlPRACw/9rln+wAAEBYEIAHoiB8DVF1drX8Z+UUAfnb4hGf7AAAQFgQgAeiIXwP0vSfmyLRs7TpQ4ek+AACEAQFIADri1wBd99Q8mZatTXuOeLoPAABhQAASgI74NUC3jM2Vadlas/uQp/sAABAGBCAB6IhfA9Tt+TyZlq1l2w94ug8AAGFAABKAjvg1QLf/YbFMy9bCzfs83QcAgDAgAAlAR/waoJ++/JFMy9YH6/Z4ug8AAGFAABKAjvg1QHf/JV+mZesfa0o83QcAgDAgAAlAR/waoLQ3lsu0bE1fsdvTfQAACAMCkAB0xK8BGvL2SpmWrbeX7vR0HwAAwoAAJAAd8WuAHp5WINOy9eqi7Z7uAwBAGBCABKAjfg2Q9e4nMi1bL+Vu8XQfAADCgAAkAB3xa4Ay/rFOpmXrd3M3eroPAABhQAASgI74NUBjszfItGw9/f56T/cBACAMCEAC0BG/BmjCvM0yLVuPv7fW030AAAgDApAAdMSvAXo5b6tMy9aIv63xdB8AAMKAACQAHfFrgF7/cIdMy9aDU1d5ug8AAGFAABKAjvg1QFOXFcm0bP3qzRWe7gMAQBgQgASgI34N0IxVxTItWwNeW+bpPgAAhAEBSAA64tcAZa0tlWnZuuuVJZ7uAwBAGBCABKAjfg3Q/I2fybRs9X3pQ0/3AQAgDAhAAtARvwZoydb9Mi1bt01Y6Ok+AACEAQFIADri1wCt3HVQpmXr38Yv8HQfAADCgAAkAB3xa4AKPy2Xadn6/jM5nu4DAEAYEIAEoCN+DdDWvUdlWrauzZjr6T4AAIQBAUgAOuLXABWXHZNp2erweLan+wAAEAYEIAHoiF8DtP9oRKZly7RsnTpV7eleAAAEHQFIADri1wAdjZyMBuDxyipP9wIAIOgIQALQEb8G6GTVqWgAHjpW6eleAAAEHQFIADri5wBd9liWTMvWnvITnu8FAECQEYAEoCN+DtDVT8yRadnaub/C870AAAgyApAAdMTPAbr+qXkyLVsb94R3WAEAcAMBmKABuGjRIvXt21etW7eWYRh67733Yr5eXV2tjIwMtW7dWhdccIG6du2qdevWxZxTVlamAQMG6KKLLtJFF12kAQMG6NChQ9/oOvwcoB8+N1+mZWv17m92jQAAIBYBmKABmJ2drccff1wzZsyoNQDHjRunpk2basaMGSosLFT//v3VunVrHTlyJHrO7bffro4dO2rp0qVaunSpOnbsqL59+36j6/BzgLq9kCfTspW//YDnewEAEGQEYIIG4JedHYDV1dVq1aqVxo0bF30sEokoNTVVkyZNkiRt2LBBhmFo2bJl0XPy8/NlGIY2bdp0znv7OUA//sNimZatvE17Pd8LAIAgIwADGIDbt2+XYRgqKCiIOe+OO+7QfffdJ0l6/fXXlZqaWmOt1NRUvfHGG3XuFYlEdPjw4ehRXFzs2wD9x8sfybRszSnc4/leAAAEGQEYwABcsmSJDMNQSUlJzHmDBg1Sr169JEnPPvusOnToUGOtDh06aOzYsXXulZGRIcMwahx+DNA9r+bLtGzNWv2p53sBABBkBGCAA7C0tDTmvIEDB6p3796SvgjAK664osZal19+uZ577rk694rnTwB/+cZymZat6R/v9nwvAACCjAAMYAB6+Svgs/k5QEP/b6VMy9ZbS3d6vhcAAEFGAAYwAE+/CWT8+PHRxyorK2t9E8jy5cuj5yxbtuy8fhPII5mrZVq2/rJom+d7AQAQZARgggbg0aNHtXr1aq1evVqGYWjChAlavXq1ioqKJH3xMTCpqamaOXOmCgsLdc8999T6MTCdOnVSfn6+8vPzde21157XHwMzcsYnMi1bf8zd4vleAAAEGQGYoAGYl5dX65sx0tLSJJ35IOhWrVopJSVFXbp0UWFhYcwaBw8e1L333qumTZuqadOmuvfee8/rD4LO+Mc6mZat8XM2er4XAABBRgAmaACeL/wcoOeyN8q0bI2Zvd7zvQAACDICkAB0xM8B+n3OZpmWrVEz13q+FwAAQUYAEoCO+DlAryzcJtOy9evpazzfCwCAICMACUBH/BygNz7aIdOy9cDUVZ7vBQBAkBGABKAjfg7QO8uLZFq2fvXmx57vBQBAkBGABKAjfg7QzIJimZateycv83wvAACCjAAkAB3xc4Cy15bKtGz958Qlnu8FAECQEYAEoCN+DtCCjXtlWrb6vLTY870AAAgyApAAdMTPAVqybb9My1aPFxd6vhcAAEFGABKAjvg5QKuKymRatm4dP9/zvQAACDICkAB0xM8BWldSLtOydeMzOZ7vBQBAkBGABKAjfg7Qtn1HZVq2OmbM9XwvAACCjAAkAB3xc4A+PXRcpmWrw6hsz/cCACDICEAC0BE/B+jA0YhMy5Zp2ao6Ve35fgAABBUBSAA64ucAVURORgPwWOVJz/cDACCoCEAC0BE/B6jqVHU0AA9WVHq+HwAAQUUAEoCO+D1Al4/KkmnZKi0/7st+AAAEEQFIADri9wBdM3quTMvWjv0VvuwHAEAQEYAEoCN+D9ANT8+TadnaUBregQUAwCkCkAB0xO8B+uFz82VatgqKynzZDwCAICIACUBH/B6g7i/kybRsLd12wJf9AAAIIgKQAHTE7wH6yR8Xy7RsLdi015f9AAAIIgKQAHTE7wH62cQlMi1bcwpLfdkPAIAgIgAJQEf8HqBfTM6Xadl6r+BTX/YDACCICEAC0BG/B+j+KR/LtGxlflzky34AAAQRAUgAOuL3AA3760qZlq03l+z0ZT8AAIKIACQAHfF7gB7NXC3TsjVp4TZf9gMAIIgIQALQEb8HaOSMtTItW3/I2eLLfgAABBEBSAA64vcAPTl7nUzL1rg5G33ZDwCAICIACUBH/B6gcXM2yrRsPTl7nS/7AQAQRAQgAeiI3wP0h5wtMi1bI2es9WU/AACCiAAkAB3xe4AmLdwm07L16PTVvuwHAEAQEYAEoCN+D9CUj3bItGw98NdVvuwHAEAQEYAEoCN+D9C05UUyLVv3T/nYl/0AAAgiApAAdMTvAXqv4FOZlq1fTM73ZT8AAIKIACQAHfF7gOYUlsq0bP1s4hJf9gMAIIgIQALQEb8HaMGmvTItWz/542Jf9gMAIIgIQALQEb8HaOm2AzItW91fyPNlPwAAgogAJAAd8XuACorKZFq2fjRuvi/7AQAQRAQgAeiI3wO0ofSwTMvWDU/n+LIfAABBRAASgI74PUDb9x2VadnqOHquL/sBABBEBCAB6IjfA1Ry6LhMy9blo7J82Q8AgCAiAAlAR/weoIMVlTItW6Zlq+pUtS97AgAQNAQgAeiI3wN0rPJkNAArIid92RMAgKAhAAlAR/weoFOnqqMBeOBoxJc9AQAIGgKQAHQkHgPUYVS2TMvWp4eO+7YnAABBQgAGOAAzMjJkGEbM0bJly+jXq6urlZGRodatW+uCCy5Q165dtW7dum+0RzwGqGPGXJmWre37jvq2JwAAQUIABjwAr7nmGu3Zsyd67Nu3L/r1cePGqWnTppoxY4YKCwvVv39/tW7dWkeOHDnnPeIxQDc8nSPTsrW+JLxDCwCAEwRgwAOwc+fOtX6turparVq10rhx46KPRSIRpaamatKkSee8RzwG6Efj5su0bK0qKvNtTwAAgoQADHgANm7cWK1bt1b79u3Vv39/bd++XZK0fft2GYahgoKCmO+54447dN9999W5ZiQS0eHDh6NHcXGx7wPU48WFMi1bS7bt921PAACChAAMcABmZ2fr3Xff1dq1a5WTk6OuXbuqZcuWOnDggJYsWSLDMFRSUhLzPYMGDVKvXr3qXLO2vyv0e4D6vLRYpmVrwca9vu0JAECQEIABDsCzVVRUqGXLlnrxxRejAVhaWhpzzsCBA9W7d+861zgffgL4nxOXyLRsZa8t/fqTAQBADQRgiAJQknr27KmhQ4d+618Bny0eA3Tv5GUyLVszC4p92xMAgCAhAEMUgJFIRG3bttWYMWOibwIZP3589OuVlZUJ8SaQX735sUzL1rTlRb7tCQBAkBCAAQ7AESNGaOHChdqxY4eWLVumvn37qmnTptq1a5ekLz4GJjU1VTNnzlRhYaHuueeehPgYmAf+ukqmZWvKRzt82xMAgCAhAAMcgKc/1y8pKUlt2rTRz372M61fvz769dMfBN2qVSulpKSoS5cuKiws/EZ7xGOAHp2+WqZl65WF23zbEwCAICEAAxyAfojHAD02c61My9bvczb7ticAAEFCABKAjsRjgMbMXi/TsvVc9kbf9gQAIEgIQALQkXgM0Pg5G2VatjL+8c3+u8UAAOALBCAB6Eg8BuiPuVtkWrZGzvjEtz0BAAgSApAAdCQeA/SXRdtkWrYeyVzt254AAAQJAUgAOhKPAXpr6U6Zlq1hf13p254AAAQJAUgAOhKPAcr8uEimZeu/p3zs254AAAQJAUgAOhKPAZq1+lOZlq17Xs33bU8AAIKEACQAHYnHAM0p3CPTsvUfL3/k254AAAQJAUgAOhKPAcrbtFemZevHf1js254AAAQJAUgAOhKPAcrffkCmZavbC3m+7QkAQJAQgASgI/EYoNW7D8m0bP3wufm+7QkAQJAQgASgI/EYoI17Dsu0bN3w9Dzf9gQAIEgIQALQkXgM0I79FTItW9eMnuvbngAABAkBSAA6Eo8BKi0/LtOyddljWb7tCQBAkBCABKAj8RigsopKmZYt07J1suqUb/sCABAUBCAB6Eg8Buh4ZVU0AI9GTvq2LwAAQUEAEoCOxGOATp2qjgbg/qMR3/YFACAoCEAC0JF4DVCHx7NlWraKy475ui8AAEFAABKAjsRrgK7NmCvTsrV171Ff9wUAIAgIQALQkXgN0PefyZFp2VpXUu7rvgAABAEBSAA6Eq8BunX8fJmWrZW7ynzdFwCAICAACUBH4jVAPV9cKNOytWTrfl/3BQAgCAhAAtCReA1Q35c+lGnZmr/xM1/3BQAgCAhAAtCReA3QXa8skWnZylpb6uu+AAAEAQFIADoSrwEa8NoymZatGauKfd0XAIAgIAAJQEfiNUC/enOFTMvW1GVFvu4LAEAQEIAEoCPxGqAHp66Sadl646Mdvu4LAEAQEIAEoCPxGqBfT18j07I1MW+br/sCABAEBCAB6Ei8BmjUzLUyLVsT5m32dV8AAIKAACQAHYnXAD31/nqZlq2x2Rt83RcAgCAgAAlAR+I1QL+bu1GmZSvjH+t83RcAgCAgAAlAR+I1QC/lbpFp2bLe/cTXfQEACAICkAB0JF4D9Oqi7TItWw9PK/B1XwAAgoAAJAAdidcAvb10p0zL1pC3V/q6LwAAQUAAEoCOxGuApn+8W6Zl65dvLPd1XwAAgoAAJAAdidcAzVr9qUzL1t1/yfd1XwAAgoAAJAAdidcAzV23R6Zl66cvf+TrvgAABAEBSAA6Eq8BWrh5n0zL1u1/WOzrvgAABAEBSAA6Eq8BWrb9gEzLVrfn83zdFwCAICAACUBH4jVAa3YfkmnZumVsrq/7AgAQBAQgAehIvAZo054jMi1b1z01z9d9AQAIAgKQAHQkXgO060CFTMvW1U/M8XVfAACCgAAkAB2J1wDtKT8h07L13ceyfN0XAIAgIAAJQEfiNUCHjlXKtGyZlq3Pq075ujcAAImOACQAHYnXAJ34vCoagEdOfO7r3gAAJDoCkADUyy+/rPbt2yslJUXXX3+9Fi8+98/Wi9cAVVdXRwNw35GIr3sDAJDoCMCQB2BmZqaSkpI0efJkbdiwQQ8//LCaNGmioqKic/r+eA7QFY9ny7RsjZ5VqFmrP9Xmz47oJL8OBgDgaxGAIQ/Am266SUOHDo157KqrrtLIkSPP6fvjOUDdXsiL/hTw9NHh8Wz1eWmxRvxtjV77cIeWbNuvsopK368NAIDzGQEY4gCsrKxUgwYNNHPmzJjHhw8fri5dupzTGvEcoD3lJ/R/+bs0auZa/WziEl39xJwaQXj6+MGzuUp7Y7kenLoqeqS/UxA9HvrSMXzameNhDt+O4RwcHBwc0WNOYamnr6EEYIgDsKSkRIZhaMmSJTGPP/vss7riiitq/Z5IJKLDhw9Hj+Li4vNmgE6dqtauAxWaU1iqCfM2a9BbK3Tr+Pl1RiEHBwcHB8f5evw+Z7Onr5kEIAGopUuXxjz+zDPP6Morr6z1ezIyMmQYRo3jfB6gIyc+14qdBzV1WZGmfLRDUz7aoTe+dLz+4ZnjtS8dkxdv5+DgCOHx2ln/X8DBEY9jVVGZp6+NBGCIA/Db/Ar4fP4JIAAAODcEYIgDUPriTSDDhg2Leex73/teQrwJBAAAfDu8foc8AE9/DMzrr7+uDRs26JFHHlGTJk20a9euc/p+BggAgMTD63fIA1D64oOgTdNUcnKyrr/+ei1atOicv5cBAgAg8fD6TQA6wgABAJB4eP0mAB1hgAAASDy8fhOAjjBAAAAkHl6/CUBHGCAAABIPr98EoCMMEAAAiYfXbwLQEQYIAIDEw+s3AegIAwQAQOLh9ZsAdIQBAgAg8fD6TQA6wgABAJB4eP0mAB1hgAAASDy8fhOAjjBAAAAkHl6/CUBHGCAAABIPr98EoCMMEAAAiYfXbwLQEQYIAIDEw+s3AegIAwQAQOLh9ZsAdIQBAgAg8fD6TQA6wgABAJB4eP0mAB1hgAAASDy8fhOAjjBAAAAkHl6/CUBHGCAAABIPr98EoCPl5eUyDEPFxcU6fPgwBwcHBwcHRwIcxcXFMgxD5eXl8U6JuCEAHTg9QBwcHBwcHByJdxQXF8c7JeKGAHTg1KlTKi4uVnl5uav/RhLknyiG4R65z+Ad3GdwjjDcI/f59Ud5ebmKi4t16tSpeKdE3BCA55HDh4P/NwlhuEeJ+wwa7jM4wnCPEveJr0cAnkfCMMhhuEeJ+wwa7jM4wnCPEveJr0cAnkfCMMhhuEeJ+wwa7jM4wnCPEveJr0cAnkcikYgyMjIUiUTifSmeCcM9Stxn0HCfwRGGe5S4T3w9AhAAACBkCEAAAICQIQABAABChgAEAAAIGQIQAAAgZAjA88TLL7+s9u3bKyUlRddff70WL14c70tyVUZGRo3/BE/Lli3jfVmOLVq0SH379lXr1q1lGIbee++9mK9XV1crIyNDrVu31gUXXKCuXbtq3bp1cbrab+/r7jMtLa3G8/uDH/wgTlf77YwdO1Y33nijLrzwQrVo0UJ33nmnNm3aFHNOJBJRenq6mjdvrsaNG6tfv34J95+SOpf77Nq1a43ns3///nG64m9n4sSJuvbaa9W0aVM1bdpUN998s7Kzs6NfD8Jz+XX3GITnsTZjx46VYRh6+OGHo48F4fn0GwF4HsjMzFRSUpImT56sDRs26OGHH1aTJk1UVFQU70tzTUZGhq655hrt2bMneuzbty/el+VYdna2Hn/8cc2YMaPWMBo3bpyaNm2qGTNmqLCwUP3791fr1q115MiROF3xt/N195mWlqbbb7895vk9ePBgnK722+ndu7emTJmidevWac2aNerTp48uvfRSVVRURM8ZOnSo2rZtq5ycHBUUFKhbt27q3Lmzqqqq4njl38y53GfXrl01aNCgmOezvLw8jlf9zc2ePVtZWVnavHmzNm/erFGjRikpKSn6L2BBeC6/7h6D8Dye7eOPP1b79u3VqVOnmAAMwvPpNwLwPHDTTTdp6NChMY9dddVVGjlyZJyuyH0ZGRnq3LlzvC/DU2eHUXV1tVq1aqVx48ZFH4tEIkpNTdWkSZPicYmuqCsA77zzzjhdkTf27dsnwzC0aNEiSVJ5ebmSkpKUmZkZPaekpET169fX3Llz43WZjp19n9IX4fDlF9eguPjii/Xaa68F9rmUztyjFLzn8ejRo+rQoYNycnJi7i3Iz6eXCMA4q6ysVIMGDTRz5syYx4cPH64uXbrE6arcl5GRocaNG6t169Zq3769+vfvr+3bt8f7slx1dhht375dhmGooKAg5rw77rhD9913n9+X55q6AjA1NVUtWrRQhw4dNHDgQO3duzdOV+iOrVu3yjAMFRYWSpLmz58vwzBUVlYWc16nTp00evToeFyiK86+T+mLcLjkkkvUvHlzXX311RoxYkTC/dT6y6qqqjRt2jQlJydr/fr1gXwuz75HKXjP43333adHHnlEUmzcBvH59AMBGGclJSUyDENLliyJefzZZ5/VFVdcEaercl92drbeffddrV27Nvpvby1bttSBAwfifWmuOTuMlixZIsMwVFJSEnPeoEGD1KtXL78vzzW1BWBmZqZs21ZhYaFmz56tzp0765prrknYT+evrq5Wv379dOutt0Yfmzp1qpKTk2uce9ttt2nw4MF+Xp5rartPSXr11VeVk5OjwsJCTZs2Te3bt1fPnj3jdJXf3tq1a9WkSRM1aNBAqampysrKkhSs57Kue5SC8zxK0rRp03TNNdfoxIkTkmIDMEjPp58IwDg7HYBLly6NefyZZ57RlVdeGaer8l5FRYVatmypF198Md6X4pq6ArC0tDTmvIEDB6p3795+X55ragvAs5WWliopKUkzZszw6arc9cADD8g0zZg/Iq/rRaZnz54aMmSIn5fnmtruszYrV66UYRhatWqVT1fmjsrKSm3dulUrVqzQyJEjdckll2j9+vWBei7rusfaJOrzuHv3bn3nO9/RmjVroo+dSwAm4vPpJwIwzsLyK+Da9OzZs8bfPiayMP8KuDaXX355zN8/Jor09HS1a9dOO3bsiHk8aL9mqus+a1NdXV3jb6wSUY8ePTR48ODAPZdfdvoea5Ooz+N7770nwzDUoEGD6GEYhurVq6cGDRooNzc3sM+nlwjA88BNN92kYcOGxTz2ve99L1BvAjlbJBJR27ZtNWbMmHhfimvqehPI+PHjo49VVlYG8k0gZztw4IBSUlL01ltv+XRVzlVXV+vBBx9UmzZttGXLlhpfP/2H5tOnT48+VlpamnB/aP5191mbwsLCGm8USUTdu3dXWlpaYJ7L2py+x9ok6vN45MgRFRYWxhw33nijBgwYoMLCwkA/n14iAM8Dpz8G5vXXX9eGDRv0yCOPqEmTJtq1a1e8L801I0aM0MKFC7Vjxw4tW7ZMffv2VdOm96SKugAAAmFJREFUTRP+Ho8eParVq1dr9erVMgxDEyZM0OrVq6Mf4TNu3DilpqZq5syZKiws1D333JOQHwPzVfd59OhRjRgxQkuXLtXOnTuVl5enW265RW3btk2o+xw2bJhSU1O1cOHCmI/NOH78ePScoUOHql27dsrNzVVBQYG6d++ecB818XX3uW3bNo0ZM0YrVqzQzp07lZWVpauuukrXXXddQt3nY489psWLF2vnzp1au3atRo0apfr162vevHmSgvFcftU9BuV5rMvZ73AOwvPpNwLwPPHyyy/LNE0lJyfr+uuvT7h/Q/s6pz//LikpSW3atNHPfvazOv9OJZHk5eXV+KBVwzCi/wZ++oOgW7VqpZSUFHXp0iXm3ZaJ4qvu8/jx4+rVq5datGihpKQkXXrppUpLS9Pu3bvjfdnfSG33ZxiGpkyZEj3nxIkTSk9PV7NmzdSoUSP17ds3cPe5e/dudenSRc2aNVNycrIuu+wyDR8+POE+1/H++++P/n9qixYt1KNHj2j8ScF4Lr/qHoPyPNbl7AAMwvPpNwIQAAAgZAhAAACAkCEAAQAAQoYABAAACBkCEAAAIGQIQAAAgJAhAAEAAEKGAAQAAAgZAhAAACBkCEAAAICQIQABAABChgAEAAAIGQIQAAAgZAhAAACAkCEAAQAAQoYABAAACBkCEAAAIGQIQAAAgJAhAAEAAEKGAAQAAAgZAhAAACBkCEAAAICQIQABAABChgAEAAAIGQIQAAAgZAhAAACAkCEAAQAAQoYABAAACBkCEAAAIGQIQAAAgJAhAAEAAEKGAAQAAAiZ/w/mrfkDpM7T+QAAAABJRU5ErkJggg==\" width=\"640\">"
      ],
      "text/plain": [
       "<IPython.core.display.HTML object>"
      ]
     },
     "metadata": {},
     "output_type": "display_data"
    }
   ],
   "source": [
    "%matplotlib notebook  \n",
    "%matplotlib notebook  \n",
    "import matplotlib.pyplot as plt\n",
    "\n",
    "\n",
    "plt.plot(losses)\n",
    "plt.title(\"Autoencoder loss\")\n",
    "plt.show()"
   ]
  },
  {
   "cell_type": "code",
   "execution_count": 19,
   "metadata": {},
   "outputs": [],
   "source": [
    "torch.save(model.state_dict(), 'autoencoder-06-11-2019-model.pth')"
   ]
  },
  {
   "cell_type": "markdown",
   "metadata": {},
   "source": [
    "### Evaluation"
   ]
  },
  {
   "cell_type": "code",
   "execution_count": null,
   "metadata": {},
   "outputs": [],
   "source": [
    "model.load_state_dict(torch.load('autoencoder-basic-model.pth'))"
   ]
  },
  {
   "cell_type": "code",
   "execution_count": 29,
   "metadata": {},
   "outputs": [
    {
     "name": "stderr",
     "output_type": "stream",
     "text": [
      "100%|██████████| 4529/4529 [00:04<00:00, 1077.02it/s]\n"
     ]
    }
   ],
   "source": [
    "with torch.no_grad():\n",
    "    for data in tqdm(tensor_data.squeeze(0)):\n",
    "        X = data.unsqueeze(0).to(device)\n",
    "        output = model.encoder(X)"
   ]
  },
  {
   "cell_type": "code",
   "execution_count": null,
   "metadata": {},
   "outputs": [],
   "source": []
  },
  {
   "cell_type": "code",
   "execution_count": null,
   "metadata": {},
   "outputs": [],
   "source": [
    "import torch\n",
    "import numpy as np\n",
    "from torchvision import datasets\n",
    "import torchvision.transforms as transforms\n",
    "\n",
    "# convert data to torch.FloatTensor\n",
    "transform = transforms.ToTensor()\n",
    "\n",
    "# load the training and test datasets\n",
    "train_data = datasets.MNIST(root='mnist', train=True,\n",
    "                                   download=False, transform=transform)\n",
    "test_data = datasets.MNIST(root='mnist', train=False,\n",
    "                                  download=False, transform=transform)\n",
    "\n",
    "# Create training and test dataloaders\n",
    "\n",
    "# number of subprocesses to use for data loading\n",
    "num_workers = 0\n",
    "# how many samples per batch to load\n",
    "batch_size = 20\n",
    "\n",
    "# prepare data loaders\n",
    "train_loader = torch.utils.data.DataLoader(train_data, batch_size=batch_size, num_workers=num_workers)\n",
    "test_loader = torch.utils.data.DataLoader(test_data, batch_size=batch_size, num_workers=num_workers)\n",
    "\n",
    "import matplotlib.pyplot as plt\n",
    "%matplotlib inline\n",
    "    \n",
    "# obtain one batch of training images\n",
    "dataiter = iter(train_loader)\n",
    "images, labels = dataiter.next()\n",
    "images = images.numpy()\n",
    "\n",
    "# get one image from the batch\n",
    "img = np.squeeze(images[0])\n",
    "\n",
    "fig = plt.figure(figsize = (5,5)) \n",
    "ax = fig.add_subplot(111)\n",
    "ax.imshow(img, cmap='gray')\n",
    "\n",
    "import torch.nn as nn\n",
    "import torch.nn.functional as F\n",
    "\n",
    "# define the NN architecture\n",
    "class Autoencoder(nn.Module):\n",
    "    def __init__(self, encoding_dim):\n",
    "        super(Autoencoder, self).__init__()\n",
    "        ## encoder ##\n",
    "        # linear layer (784 -> encoding_dim)\n",
    "        self.fc1 = nn.Linear(28 * 28, encoding_dim)\n",
    "        \n",
    "        ## decoder ##\n",
    "        # linear layer (encoding_dim -> input size)\n",
    "        self.fc2 = nn.Linear(encoding_dim, 28*28)\n",
    "        \n",
    "\n",
    "    def forward(self, x):\n",
    "        # add layer, with relu activation function\n",
    "        x = F.relu(self.fc1(x))\n",
    "        # output layer (sigmoid for scaling from 0 to 1)\n",
    "        x = F.sigmoid(self.fc2(x))\n",
    "        return x\n",
    "\n",
    "# initialize the NN\n",
    "encoding_dim = 32\n",
    "model = Autoencoder(encoding_dim).to(device)\n",
    "print(model)\n",
    "\n",
    "# specify loss function\n",
    "criterion = nn.MSELoss()\n",
    "\n",
    "# specify loss function\n",
    "optimizer = torch.optim.Adam(model.parameters(), lr=0.001)\n",
    "\n",
    "# number of epochs to train the model\n",
    "n_epochs = 20\n",
    "\n",
    "\n",
    "for epoch in range(1, n_epochs+1):\n",
    "    # monitor training loss\n",
    "    train_loss = 0.0\n",
    "    \n",
    "    ###################\n",
    "    # train the model #\n",
    "    ###################\n",
    "    for data in train_loader:\n",
    "        # _ stands in for labels, here\n",
    "        images, _ = data\n",
    "        # flatten images\n",
    "        images = images.view(images.size(0), -1).to(device)\n",
    "        print(images.shape)\n",
    "        # clear the gradients of all optimized variables\n",
    "        optimizer.zero_grad()\n",
    "        # forward pass: compute predicted outputs by passing inputs to the model\n",
    "        outputs = model(images)\n",
    "        # calculate the loss\n",
    "        loss = criterion(outputs, images)\n",
    "        # backward pass: compute gradient of the loss with respect to model parameters\n",
    "        loss.backward()\n",
    "        # perform a single optimization step (parameter update)\n",
    "        optimizer.step()\n",
    "        # update running training loss\n",
    "        print(images.size(0))\n",
    "        train_loss += loss.item()*images.size(0)\n",
    "            \n",
    "    # print avg training statistics \n",
    "    train_loss = train_loss/len(train_loader)\n",
    "    print('Epoch: {} \\tTraining Loss: {:.6f}'.format(\n",
    "        epoch, \n",
    "        train_loss\n",
    "        ))"
   ]
  }
 ],
 "metadata": {
  "kernelspec": {
   "display_name": "Python 3",
   "language": "python",
   "name": "python3"
  },
  "language_info": {
   "codemirror_mode": {
    "name": "ipython",
    "version": 3
   },
   "file_extension": ".py",
   "mimetype": "text/x-python",
   "name": "python",
   "nbconvert_exporter": "python",
   "pygments_lexer": "ipython3",
   "version": "3.7.4"
  }
 },
 "nbformat": 4,
 "nbformat_minor": 2
}
