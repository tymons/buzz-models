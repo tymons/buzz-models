{
 "cells": [
  {
   "cell_type": "code",
   "execution_count": 4,
   "metadata": {},
   "outputs": [],
   "source": [
    "import pandas as pd\n",
    "import matplotlib.pyplot as plt\n",
    "import numpy as np\n",
    "from tqdm import tqdm\n",
    "import glob\n",
    "\n",
    "hives_ids = [\"smrpiclient7\", \"smrpiclient6\", \"smrpiclient3\"]\n",
    "\n",
    "hive_under_analysis = hives_ids[0]\n",
    "timezone_offset_hours = 2"
   ]
  },
  {
   "cell_type": "markdown",
   "metadata": {},
   "source": [
    "\n",
    "Here we load train data sound samples and prepare spectrogram. We should provide data with utc_timestamps as it will be shifted with `timezone_offset_hours` var."
   ]
  },
  {
   "cell_type": "code",
   "execution_count": 2,
   "metadata": {},
   "outputs": [
    {
     "name": "stdout",
     "output_type": "stream",
     "text": [
      "Sound data preparation for hive: smrpiclient7 which has 3367 recordings... "
     ]
    },
    {
     "name": "stderr",
     "output_type": "stream",
     "text": [
      "100%|█████████████████████████████████████████████████████████████████████████████████████████████████████████████████████████████████████████████████████████████████████████| 3367/3367 [01:51<00:00, 30.32it/s]"
     ]
    },
    {
     "name": "stdout",
     "output_type": "stream",
     "text": [
      " done.\n",
      "Sound data preparation for hive: smrpiclient6 which has 3172 recordings... "
     ]
    },
    {
     "name": "stderr",
     "output_type": "stream",
     "text": [
      "\n",
      "100%|█████████████████████████████████████████████████████████████████████████████████████████████████████████████████████████████████████████████████████████████████████████| 3172/3172 [01:48<00:00, 29.34it/s]"
     ]
    },
    {
     "name": "stdout",
     "output_type": "stream",
     "text": [
      " done.\n",
      "Sound data preparation for hive: smrpiclient3 which has 602 recordings... "
     ]
    },
    {
     "name": "stderr",
     "output_type": "stream",
     "text": [
      "\n",
      "100%|███████████████████████████████████████████████████████████████████████████████████████████████████████████████████████████████████████████████████████████████████████████| 602/602 [00:18<00:00, 32.91it/s]"
     ]
    },
    {
     "name": "stdout",
     "output_type": "stream",
     "text": [
      " done.\n",
      "got full dataset of 7033 sound samples\n"
     ]
    },
    {
     "name": "stderr",
     "output_type": "stream",
     "text": [
      "\n"
     ]
    }
   ],
   "source": [
    "import struct\n",
    "import math\n",
    "import numpy as np\n",
    "import librosa\n",
    "import librosa.display\n",
    "\n",
    "from tqdm import tqdm\n",
    "from datetime import datetime, timedelta\n",
    "from scipy.io import wavfile\n",
    "from scipy import signal\n",
    "from scipy.fftpack import fft\n",
    "\n",
    "import matplotlib.pyplot as plt\n",
    "%matplotlib widget\n",
    "\n",
    "sound_time_ms = 2000\n",
    "# ~93 ms for fft window\n",
    "nfft = 4096\n",
    "# ~34% overlapping\n",
    "hop_len = (nfft//3) + 30\n",
    "# This can be manipulated to adjust number of bins for conv layer\n",
    "fmax = 2750\n",
    "\n",
    "hives_data = []\n",
    "rmses = {}\n",
    "max_to_norm = 0\n",
    "for idx, hive_id in enumerate(hives_ids):\n",
    "    sound_files = [f for f in glob.glob(f\"..\\\\measurements\\\\smartulav2\\\\{hive_id}_*\\\\*.wav\")]\n",
    "    print(f\"Sound data preparation for hive: {hive_id} which has {len(sound_files)} recordings...\", end=' ', flush=True)\n",
    "    rmses[hive_id] = []\n",
    "    for file in tqdm(sound_files):\n",
    "        sample_rate, sound_samples = wavfile.read(file)\n",
    "        sound_samples = sound_samples.T[0]/(2.0**31)\n",
    "        rms = np.sqrt(sum(sound_samples**2)/len(sound_samples))\n",
    "        if(rms < 0.7):    # that threshold was observed from plot_distribution() function\n",
    "            rmses[hive_id].append(rms)\n",
    "            \n",
    "            mfccs = librosa.feature.mfcc(y=sound_samples, sr=sample_rate, n_fft=nfft, hop_length=hop_len, n_mfcc=13)\n",
    "            np_mfcc_avg = np.mean(mfccs, axis=1)\n",
    "\n",
    "            spectrogram = librosa.core.stft(sound_samples, n_fft=nfft, hop_length=hop_len)\n",
    "            spectrogram_magnitude = np.abs(spectrogram)\n",
    "            spectrogram_phase = np.angle(spectrogram)\n",
    "            spectrogram_db = librosa.amplitude_to_db(spectrogram_magnitude, ref=np.max)\n",
    "            frequencies = librosa.fft_frequencies(sr=sample_rate, n_fft=nfft)\n",
    "            times = (np.arange(0, spectrogram_magnitude.shape[1])*hop_len)/sample_rate\n",
    "\n",
    "            freq_slice = np.where((frequencies < fmax))\n",
    "            frequencies = frequencies[freq_slice]\n",
    "            spectrogram_db = spectrogram_db[freq_slice, :][0]    \n",
    "\n",
    "            filename = file.rsplit('\\\\', 1)[-1]\n",
    "            utc_timestamp = filename[filename.index('-')+1:].rsplit(\".wav\")[0]\n",
    "            sound_datetime = datetime.strptime(utc_timestamp, '%Y-%m-%dT%H-%M-%S') + timedelta(hours=timezone_offset_hours)\n",
    "            hives_data.append([sound_datetime, hive_id, sound_samples, [frequencies, times, spectrogram_db], np_mfcc_avg])\n",
    "    print(\" done.\")\n",
    "\n",
    "print(f\"got full dataset of {len(hives_data)} sound samples\")"
   ]
  },
  {
   "cell_type": "code",
   "execution_count": 3,
   "metadata": {},
   "outputs": [
    {
     "name": "stdout",
     "output_type": "stream",
     "text": [
      "Got dataset of size: 7033\n"
     ]
    }
   ],
   "source": [
    "from sklearn.preprocessing import StandardScaler, MinMaxScaler\n",
    "\n",
    "sc = StandardScaler()\n",
    "mm = MinMaxScaler()\n",
    "\n",
    "spectrogram_ae_data = [hive_data[3][2] for hive_data in hives_data]\n",
    "standarized_ae_data = [sc.fit_transform(spec.T).T for spec in spectrogram_ae_data]\n",
    "scaled_ae_data = [mm.fit_transform(stan.T).T for stan in standarized_ae_data]\n",
    "datetimes = [hive_data[0] for hive_data in hives_data]\n",
    "names = [hive_data[1] for hive_data in hives_data]\n",
    "\n",
    "data_to_analyze = list(zip(scaled_ae_data, datetimes, names))\n",
    "\n",
    "print(f\"Got dataset of size: {len(scaled_ae_data)}\")"
   ]
  },
  {
   "cell_type": "markdown",
   "metadata": {},
   "source": [
    "## Train CONV AE"
   ]
  },
  {
   "cell_type": "code",
   "execution_count": 13,
   "metadata": {},
   "outputs": [
    {
     "data": {
      "text/plain": [
       "(3367, 3)"
      ]
     },
     "execution_count": 13,
     "metadata": {},
     "output_type": "execute_result"
    }
   ],
   "source": [
    "autoencoder_data.shape"
   ]
  },
  {
   "cell_type": "code",
   "execution_count": 16,
   "metadata": {},
   "outputs": [
    {
     "name": "stdout",
     "output_type": "stream",
     "text": [
      "Dataset shape: torch.Size([3367, 256, 64])\n",
      "Train set size: 3030\n",
      "Validation set size: 337\n"
     ]
    }
   ],
   "source": [
    "import torch \n",
    "from torch.utils import data as tdata\n",
    "\n",
    "autoencoder_data = pd.DataFrame(data_to_analyze, columns=['spectrogram', 'datatime', 'name'])\n",
    "autoencoder_data = autoencoder_data[autoencoder_data['name'] == hive_under_analysis] \n",
    "\n",
    "train_data_size = (autoencoder_data.shape[0]*90)//100\n",
    "val_data_size = autoencoder_data.shape[0] - train_data_size\n",
    "\n",
    "dataset_tensor = torch.Tensor(autoencoder_data['spectrogram'].values.tolist())\n",
    "print(f\"Dataset shape: {dataset_tensor.shape}\")\n",
    "print(f\"Train set size: {train_data_size}\")\n",
    "print(f\"Validation set size: {val_data_size}\")\n",
    "\n",
    "# add one extra dimension as it is required for conv layer\n",
    "dataset_tensor = dataset_tensor[:, None, :, :] \n",
    "dataset = tdata.TensorDataset(dataset_tensor)\n",
    "train_set, val_set = torch.utils.data.random_split(dataset, [train_data_size, val_data_size])\n",
    "\n",
    "dataloader_train = tdata.DataLoader(train_set, batch_size=32, shuffle=True)\n",
    "dataloader_val = tdata.DataLoader(val_set, batch_size=32, shuffle=True)"
   ]
  },
  {
   "cell_type": "code",
   "execution_count": null,
   "metadata": {},
   "outputs": [],
   "source": [
    "del modelConvAE"
   ]
  },
  {
   "cell_type": "code",
   "execution_count": 19,
   "metadata": {},
   "outputs": [
    {
     "name": "stdout",
     "output_type": "stream",
     "text": [
      "[ 1/50] train_loss: 0.08649 valid_loss: 0.05190 checkpoint!\n",
      "[ 2/50] train_loss: 0.05308 valid_loss: 0.04704 checkpoint!\n",
      "[ 3/50] train_loss: 0.04841 valid_loss: 0.04520 checkpoint!\n",
      "[ 4/50] train_loss: 0.04658 valid_loss: 0.04379 checkpoint!\n",
      "[ 5/50] train_loss: 0.04556 valid_loss: 0.04510 .\n",
      "[ 6/50] train_loss: 0.04517 valid_loss: 0.04502 .\n",
      "[ 7/50] train_loss: 0.04460 valid_loss: 0.04612 .\n",
      "[ 8/50] train_loss: 0.04417 valid_loss: 0.04469 .\n",
      "[ 9/50] train_loss: 0.04392 valid_loss: 0.04419 .\n",
      "[10/50] train_loss: 0.04362 valid_loss: 0.04339 checkpoint!\n",
      "[11/50] train_loss: 0.04344 valid_loss: 0.04390 .\n",
      "[12/50] train_loss: 0.04322 valid_loss: 0.04400 .\n",
      "[13/50] train_loss: 0.04303 valid_loss: 0.04347 .\n",
      "[14/50] train_loss: 0.04284 valid_loss: 0.04501 .\n",
      "[15/50] train_loss: 0.04272 valid_loss: 0.04317 checkpoint!\n",
      "[16/50] train_loss: 0.04264 valid_loss: 0.04275 checkpoint!\n",
      "[17/50] train_loss: 0.04254 valid_loss: 0.04567 .\n",
      "[18/50] train_loss: 0.04249 valid_loss: 0.04389 .\n",
      "[19/50] train_loss: 0.04246 valid_loss: 0.04490 .\n",
      "[20/50] train_loss: 0.04232 valid_loss: 0.04397 .\n",
      "[21/50] train_loss: 0.04220 valid_loss: 0.04319 .\n",
      "[22/50] train_loss: 0.04213 valid_loss: 0.04296 .\n",
      "[23/50] train_loss: 0.04208 valid_loss: 0.04233 checkpoint!\n",
      "[24/50] train_loss: 0.04193 valid_loss: 0.04266 .\n",
      "[25/50] train_loss: 0.04193 valid_loss: 0.04172 checkpoint!\n",
      "[26/50] train_loss: 0.04190 valid_loss: 0.04228 .\n",
      "[27/50] train_loss: 0.04185 valid_loss: 0.04281 .\n",
      "[28/50] train_loss: 0.04170 valid_loss: 0.04394 .\n",
      "[29/50] train_loss: 0.04166 valid_loss: 0.04286 .\n",
      "[30/50] train_loss: 0.04163 valid_loss: 0.04329 .\n",
      "[31/50] train_loss: 0.04159 valid_loss: 0.04257 .\n",
      "[32/50] train_loss: 0.04158 valid_loss: 0.04402 .\n",
      "[33/50] train_loss: 0.04150 valid_loss: 0.04403 .\n",
      "[34/50] train_loss: 0.04155 valid_loss: 0.04340 .\n",
      "[35/50] train_loss: 0.04146 valid_loss: 0.04360 .\n",
      "[36/50] train_loss: 0.04140 valid_loss: 0.04241 early stopping.\n",
      "=> loading checkpoint checkpoint.pth\n"
     ]
    },
    {
     "data": {
      "application/vnd.jupyter.widget-view+json": {
       "model_id": "c997bfe7560747be97d1f4bf179a6e52",
       "version_major": 2,
       "version_minor": 0
      },
      "text/plain": [
       "Canvas(toolbar=Toolbar(toolitems=[('Home', 'Reset original view', 'home', 'home'), ('Back', 'Back to previous …"
      ]
     },
     "metadata": {},
     "output_type": "display_data"
    }
   ],
   "source": [
    "%matplotlib widget\n",
    "\n",
    "import sys\n",
    "import matplotlib.pyplot as plt\n",
    "\n",
    "num_epochs = 50\n",
    "learning_rate = 1e-3\n",
    "\n",
    "device = torch.device(\"cuda\" if torch.cuda.is_available() else \"cpu\")\n",
    "\n",
    "# del modelConvAE\n",
    "\n",
    "modelConvAE = ConvAutoencoder().to(device)\n",
    "criterion = nn.MSELoss()\n",
    "optimizer = torch.optim.Adam(modelConvAE.parameters(), lr=learning_rate, weight_decay=1e-6)\n",
    "\n",
    "# monitor training loss per batch\n",
    "train_loss = []\n",
    "# monitor validation loss per batch\n",
    "val_loss = []\n",
    "# save avg train losses for early stopping visualization\n",
    "avg_train_loss = []\n",
    "# save avg train losses for early stopping visualization\n",
    "avg_val_loss = [] \n",
    "# patience when stop training\n",
    "patience = 10\n",
    "# counter for patience in early sotpping\n",
    "patience_counter = 0\n",
    "# best validation score\n",
    "best_val_loss = -1\n",
    "# model checkpoint filename\n",
    "checkpoint_filename = 'checkpoint.pth'\n",
    "# early stopping epoch\n",
    "win_epoch = 0\n",
    "    \n",
    "for epoch in range(1, num_epochs+1):    \n",
    "    ###################\n",
    "    # train the model #\n",
    "    ###################\n",
    "    modelConvAE.train()\n",
    "    for data in dataloader_train:\n",
    "        # transfer data to device\n",
    "        periodogram = data[0].to(device)\n",
    "        # clear the gradients of all optimized variables\n",
    "        optimizer.zero_grad()\n",
    "        # forward pass\n",
    "        outputs = modelConvAE(periodogram)\n",
    "        # calculate the loss\n",
    "        loss = criterion(outputs, periodogram)\n",
    "        # backward pass: compute gradient of the loss with respect to model parameters\n",
    "        loss.backward()\n",
    "        # perform a single optimization step (parameter update)\n",
    "        optimizer.step()\n",
    "        # update running training loss\n",
    "        train_loss.append(float(loss.item()))\n",
    "        \n",
    "    ###################\n",
    "    # val the model   #\n",
    "    ###################\n",
    "    modelConvAE.eval()\n",
    "    for val_data in dataloader_val:\n",
    "        # transfer data to device\n",
    "        periodogram_val = val_data[0].to(device)\n",
    "        # forward pass\n",
    "        voutputs = modelConvAE(periodogram_val)\n",
    "        # calculate the loss\n",
    "        vloss = criterion(voutputs, periodogram_val)\n",
    "        # update running val loss\n",
    "        val_loss.append(float(vloss.item()))\n",
    "    \n",
    "    # print training/validation statistics \n",
    "    # calculate average loss over an epoch\n",
    "    train_loss = np.average(train_loss)\n",
    "    val_loss = np.average(val_loss)\n",
    "    avg_train_loss.append(train_loss)\n",
    "    avg_val_loss.append(val_loss)\n",
    "    \n",
    "    epoch_len = len(str(num_epochs))\n",
    "    # print avg training statistics \n",
    "    print(f'[{epoch:>{epoch_len}}/{num_epochs:>{epoch_len}}] train_loss: {train_loss:.5f} valid_loss: {val_loss:.5f}', end=' ', flush=True)\n",
    "    \n",
    "    if val_loss < best_val_loss or best_val_loss == -1:\n",
    "        # new checkpoint\n",
    "        print(\"checkpoint!\")\n",
    "        best_val_loss = val_loss\n",
    "        patience_counter = 0\n",
    "        torch.save(modelConvAE.state_dict(), checkpoint_filename)\n",
    "        win_epoch = epoch\n",
    "    elif patience_counter >= patience:\n",
    "        print(\"early stopping.\")\n",
    "        print(f\"=> loading checkpoint {checkpoint_filename}\")\n",
    "        device = torch.device(\"cuda\")\n",
    "        modelConvAE.load_state_dict(torch.load(checkpoint_filename))\n",
    "        break\n",
    "    else:\n",
    "        print(\".\")\n",
    "        patience_counter = patience_counter + 1\n",
    "        \n",
    "    # clear batch losses\n",
    "    train_loss = []\n",
    "    val_loss = []\n",
    "\n",
    "fig = plt.figure(figsize=(10,5))\n",
    "plt.plot(np.arange(1, epoch + 1), avg_train_loss, 'r', label=\"train loss\")\n",
    "plt.plot(np.arange(1, epoch + 1), avg_val_loss, 'b', label=\"validation loss\")\n",
    "plt.axvline(win_epoch, linestyle='--', color='g',label='Early Stopping Checkpoint')\n",
    "plt.legend(loc='best')\n",
    "plt.grid(True)\n",
    "plt.show()"
   ]
  },
  {
   "cell_type": "markdown",
   "metadata": {},
   "source": [
    "# Encode data"
   ]
  },
  {
   "cell_type": "code",
   "execution_count": 22,
   "metadata": {},
   "outputs": [],
   "source": [
    "encoded_data = conv2d_encode(modelConvAE, scaled_ae_data)"
   ]
  },
  {
   "cell_type": "code",
   "execution_count": 25,
   "metadata": {},
   "outputs": [
    {
     "data": {
      "application/vnd.jupyter.widget-view+json": {
       "model_id": "0917aadae6b44c28877295137a453c23",
       "version_major": 2,
       "version_minor": 0
      },
      "text/plain": [
       "Canvas(toolbar=Toolbar(toolitems=[('Home', 'Reset original view', 'home', 'home'), ('Back', 'Back to previous …"
      ]
     },
     "metadata": {},
     "output_type": "display_data"
    },
    {
     "name": "stderr",
     "output_type": "stream",
     "text": [
      "<ipython-input-25-11d830e735aa>:17: MatplotlibDeprecationWarning: shading='flat' when X and Y have the same dimensions as C is deprecated since 3.3.  Either specify the corners of the quadrilaterals with X and Y, or pass shading='auto', 'nearest' or 'gouraud', or set rcParams['pcolor.shading'].  This will become an error two minor releases later.\n",
      "  axs[0].pcolormesh(times, frequencies, scaled_ae_data[idx])\n",
      "<ipython-input-25-11d830e735aa>:18: MatplotlibDeprecationWarning: shading='flat' when X and Y have the same dimensions as C is deprecated since 3.3.  Either specify the corners of the quadrilaterals with X and Y, or pass shading='auto', 'nearest' or 'gouraud', or set rcParams['pcolor.shading'].  This will become an error two minor releases later.\n",
      "  axs[1].pcolormesh(times, frequencies, modelConvAE(elem.to(device)).cpu().numpy().squeeze())\n"
     ]
    }
   ],
   "source": [
    "%matplotlib widget\n",
    "import matplotlib.pyplot as plt\n",
    "import random\n",
    "\n",
    "idx = random.randint(0, len(hives_data) - 1)\n",
    "with torch.no_grad():\n",
    "    fig, axs = plt.subplots(2, 1)\n",
    "    frequencies = librosa.fft_frequencies(sr=sample_rate, n_fft=nfft)\n",
    "    freq_slice = np.where((frequencies < fmax))\n",
    "    frequencies = frequencies[freq_slice]\n",
    "    times = (np.arange(0, spectrogram_magnitude.shape[1])*hop_len)/sample_rate    \n",
    "    \n",
    "    elem = scaled_ae_data[idx]\n",
    "    elem = elem[None, None,: ,:]\n",
    "    elem = torch.Tensor(elem)\n",
    "\n",
    "    axs[0].pcolormesh(times, frequencies, scaled_ae_data[idx])\n",
    "    axs[1].pcolormesh(times, frequencies, modelConvAE(elem.to(device)).cpu().numpy().squeeze())"
   ]
  },
  {
   "cell_type": "markdown",
   "metadata": {},
   "source": [
    "# Add temperature/humidity/gas"
   ]
  },
  {
   "cell_type": "code",
   "execution_count": 53,
   "metadata": {},
   "outputs": [
    {
     "name": "stdout",
     "output_type": "stream",
     "text": [
      "extracting data for hive under analysis: smrpiclient7 from 2020-08-10 00:00:00 to 2020-09-16 00:00:00...\n",
      "-> prepared base of 3367 numer of sound spectrum <-\n",
      "got 3488 of temperature samples\n",
      "got 3488 of humidity samples\n",
      "got 5141 of alcohol samples\n",
      "got 5141 of aceton samples\n",
      "got 5141 of jon-amonowy samples\n",
      "got 5141 of toluen samples\n",
      "got 5141 of co2 samples\n",
      "got 5129 of siarkowodor samples\n",
      "got 5129 of metanotiol samples\n",
      "got 5129 of trimetyloamina samples\n",
      "got 5129 of wodor samples\n",
      "got 5112 of co samples\n",
      "merging data to sound samples...\n",
      "encoding sound samples with autoencoder... finish!\n"
     ]
    }
   ],
   "source": [
    "start_time = '2020-08-10 00:00:00'\n",
    "end_time = '2020-09-16 00:00:00'\n",
    "print(f\"extracting data for hive under analysis: {hive_under_analysis} from {start_time} to {end_time}...\")\n",
    "\n",
    "df_hives_sound = pd.DataFrame(data_to_analyze, columns=['spectrogram', 'timestamp', 'name'])\n",
    "df_hive_sound_ua = df_hives_sound[(df_hives_sound['name'] == hive_under_analysis)\n",
    "                                 & (df_hives_sound['timestamp'] > start_time)\n",
    "                                 & (df_hives_sound['timestamp'] < end_time)]\n",
    "df_hive_sound_ua.set_index('timestamp', inplace=True)\n",
    "print(f\"-> prepared base of {df_hive_sound_ua.count()['spectrogram']} numer of sound spectrum <-\")\n",
    "\n",
    "df_hive_temperature_ua = read_sensor_data('..//measurements//smartulav2//sulmin-10082020-15092020-inside-temperature.csv', hive_under_analysis, start_time, end_time, 'temperature')\n",
    "df_hive_humidity_ua = read_sensor_data('..//measurements//smartulav2//sulmin-10082020-15092020-inside-humidity.csv', hive_under_analysis, start_time, end_time, 'humidity')\n",
    "df_hive_alcohol_ua = read_sensor_data('..//measurements//smartulav2//sulmin-10082020-15092020-inside-alcohol.csv', hive_under_analysis, start_time, end_time, 'alcohol')\n",
    "df_hive_aceton_ua = read_sensor_data('..//measurements//smartulav2//sulmin-10082020-15092020-inside-aceton.csv', hive_under_analysis, start_time, end_time, 'aceton')\n",
    "df_hive_amon_ua = read_sensor_data('..//measurements//smartulav2//sulmin-10082020-15092020-inside-jon-amonowy.csv', hive_under_analysis, start_time, end_time, 'jon-amonowy')\n",
    "df_hive_toluen_ua = read_sensor_data('..//measurements//smartulav2//sulmin-10082020-15092020-inside-toluen.csv', hive_under_analysis, start_time, end_time, 'toluen')\n",
    "df_hive_co2_ua = read_sensor_data('..//measurements//smartulav2//sulmin-10082020-15092020-inside-co2.csv', hive_under_analysis, start_time, end_time, 'co2')\n",
    "df_hive_siarkowodor_ua = read_sensor_data('..//measurements//smartulav2//sulmin-10082020-15092020-inside-siarkowodor.csv', hive_under_analysis, start_time, end_time, 'siarkowodor')\n",
    "df_hive_metanotiol_ua = read_sensor_data('..//measurements//smartulav2//sulmin-10082020-15092020-inside-metanotiol.csv', hive_under_analysis, start_time, end_time, 'metanotiol')\n",
    "df_hive_trimetyloamina_ua = read_sensor_data('..//measurements//smartulav2//sulmin-10082020-15092020-inside-trimetyloamina.csv', hive_under_analysis, start_time, end_time, 'trimetyloamina')\n",
    "df_hive_wodor_ua = read_sensor_data('..//measurements//smartulav2//sulmin-10082020-15092020-inside-wodor.csv', hive_under_analysis, start_time, end_time, 'wodor')\n",
    "df_hive_co_ua = read_sensor_data('..//measurements//smartulav2//sulmin-10082020-15092020-inside-co.csv', hive_under_analysis, start_time, end_time, 'co')\n",
    "\n",
    "print(\"merging data to sound samples...\")\n",
    "df_hive_data = merge_dataframes_ontimestamp(df_hive_sound_ua,\n",
    "                                            df_hive_temperature_ua, df_hive_humidity_ua)\n",
    "#                                             df_hive_alcohol_ua, df_hive_aceton_ua, df_hive_amon_ua, df_hive_toluen_ua, df_hive_co2_ua,\n",
    "#                                             df_hive_siarkowodor_ua, df_hive_metanotiol_ua, df_hive_trimetyloamina_ua, df_hive_wodor_ua,\n",
    "#                                             df_hive_co_ua)\n",
    "\n",
    "print(f\"encoding sound samples with autoencoder...\", end=' ')\n",
    "df_hive_data['conv_ae'] = conv2d_encode(modelConvAE, df_hive_data['spectrogram'].to_list())\n",
    "print(f\"finish!\")\n",
    "\n",
    "df_hive_data['feature_vector'] = merge_columns(df_hive_data, ['conv_ae', 'humidity', 'temperature'])\n",
    "#                                                 'alcohol', 'aceton', 'jon-amonowy', 'toluen', 'co2', \n",
    "#                                                 'siarkowodor', 'metanotiol', 'trimetyloamina', 'wodor',\n",
    "#                                                 'co',\n",
    "#                                                 'conv_ae'])"
   ]
  },
  {
   "cell_type": "markdown",
   "metadata": {},
   "source": [
    "# SVM classification "
   ]
  },
  {
   "cell_type": "code",
   "execution_count": 95,
   "metadata": {},
   "outputs": [
    {
     "name": "stdout",
     "output_type": "stream",
     "text": [
      "calculating mfccs match... done.\n",
      "calculating feature vector match... done.\n"
     ]
    },
    {
     "data": {
      "application/vnd.jupyter.widget-view+json": {
       "model_id": "e6b931fd0cf24e9eadca2abdeac5306a",
       "version_major": 2,
       "version_minor": 0
      },
      "text/plain": [
       "Canvas(toolbar=Toolbar(toolitems=[('Home', 'Reset original view', 'home', 'home'), ('Back', 'Back to previous …"
      ]
     },
     "metadata": {},
     "output_type": "display_data"
    }
   ],
   "source": [
    "from sklearn.preprocessing import StandardScaler\n",
    "\n",
    "start_hours = [20, 21, 22, 23, 0, 1, 2, 3, 4, 5]\n",
    "\n",
    "# data for convolutional autoencoder\n",
    "pd_convae_data = pd.DataFrame(df_hive_data)\n",
    "pd_convae_data['feature_vector'] = StandardScaler().fit_transform(df_hive_data['feature_vector'].values.tolist()).tolist()\n",
    "\n",
    "# data for mfcc \n",
    "mfccs = [hive_data[4] for hive_data in hives_data if hive_data[1] == hive_under_analysis]\n",
    "mfccs = StandardScaler().fit_transform(mfccs)\n",
    "datetimes = [hive_data[0] for hive_data in hives_data if hive_data[1] == hive_under_analysis]\n",
    "mfccs_data = list(zip(datetimes, mfccs))\n",
    "pd_mfcc_data = pd.DataFrame(mfccs_data, columns=['datetime', 'mfcc'])\n",
    "pd_mfcc_data.set_index('datetime', inplace=True)\n",
    "\n",
    "print('calculating mfccs match...', end=' ', flush=True)\n",
    "mfcc_accs = search_best_night_day(pd_mfcc_data, 'mfcc', 10, start_hours, 7, verbose=0)\n",
    "print('done.')\n",
    "print('calculating feature vector match...', end=' ', flush=True)\n",
    "ae_accs = search_best_night_day(pd_convae_data, 'feature_vector', 10, start_hours, 7, verbose=0)\n",
    "print('done.')\n",
    "plot_6hour_shift(mfcc_accs, ae_accs, xticklabels=[str(start_hour) for start_hour in start_hours])"
   ]
  },
  {
   "cell_type": "code",
   "execution_count": null,
   "metadata": {},
   "outputs": [],
   "source": [
    "import matplotlib.pyplot as plt\n",
    "from sklearn.decomposition import PCA\n",
    "from sklearn.manifold import TSNE\n",
    "\n",
    "reduced_ae_pca = PCA(n_components=2).fit_transform(df_svm['feature_vector'].values.tolist())\n",
    "reduced_ae_tsne =  TSNE(n_components=2, perplexity=100, learning_rate=500).fit_transform(df_svm['feature_vector'].values.tolist())\n",
    "\n",
    "colors = ['red', 'green', 'blue', 'yellow']\n",
    "labels = ['day', 'night']\n",
    "\n",
    "fig, axs = plt.subplots(2, figsize=(10,10))\n",
    "\n",
    "axs[0].scatter(x=[data[0] for data in reduced_ae_pca],\n",
    "               y=[data[1] for data in reduced_ae_pca],\n",
    "               c=[colors[data] for data in initial_list],\n",
    "              alpha=0.3)\n",
    "axs[0].set_title('PCA')\n",
    "\n",
    "axs[1].scatter(x=[data[0] for data in reduced_ae_tsne],\n",
    "               y=[data[1] for data in reduced_ae_tsne],\n",
    "               c=[colors[data] for data in initial_list],\n",
    "              alpha=0.3)\n",
    "axs[1].set_title('TSNE')\n",
    "\n",
    "plt.show()"
   ]
  },
  {
   "cell_type": "code",
   "execution_count": null,
   "metadata": {},
   "outputs": [],
   "source": [
    "pca = PCA().fit(ae_standarized)\n",
    "\n",
    "plt.figure()\n",
    "plt.plot(np.cumsum(pca.explained_variance_ratio_))\n",
    "plt.xlabel('number of components')\n",
    "plt.ylabel('cumulative explained variance');"
   ]
  },
  {
   "cell_type": "markdown",
   "metadata": {},
   "source": [
    "# ----- Functions/Classes -----"
   ]
  },
  {
   "cell_type": "markdown",
   "metadata": {},
   "source": [
    "plotting sepctrogram by fucntion "
   ]
  },
  {
   "cell_type": "code",
   "execution_count": null,
   "metadata": {},
   "outputs": [],
   "source": [
    "import matplotlib.pyplot as plt\n",
    "\n",
    "%matplotlib widget\n",
    "\n",
    "def plot_spectrogram(frequency, time_x, spectrocgram, title):\n",
    "    fig = plt.figure(figsize=(6,4))\n",
    "    plt.title(title)\n",
    "    plt.pcolormesh(time_x, frequency, spectrocgram)\n",
    "    plt.ylabel('Frequency [Hz]')\n",
    "    plt.xlabel('Time [sec]')\n",
    "    plt.show()"
   ]
  },
  {
   "cell_type": "markdown",
   "metadata": {},
   "source": [
    "convolutional autoencoder"
   ]
  },
  {
   "cell_type": "code",
   "execution_count": 18,
   "metadata": {},
   "outputs": [],
   "source": [
    "import torch.nn as nn\n",
    "import torch.nn.functional as F\n",
    "\n",
    "class View(nn.Module):\n",
    "    \"\"\" Function for nn.Sequentional to reshape data \"\"\"\n",
    "    def __init__(self, shape):\n",
    "        super(View, self).__init__()\n",
    "        self.shape = shape\n",
    "\n",
    "    def forward(self, x):\n",
    "        return x.view(*self.shape)\n",
    "\n",
    "def conv2d_block(in_f, out_f, *args, **kwargs):\n",
    "    \"\"\" Function for building convolutional block\n",
    "\n",
    "        Attributes\n",
    "            in_f - number of input features\n",
    "            out_f - number of output features\n",
    "    \"\"\"\n",
    "    return nn.Sequential(\n",
    "        nn.Conv2d(in_f, out_f, *args, **kwargs),\n",
    "        nn.BatchNorm2d(out_f),\n",
    "        nn.ReLU(),\n",
    "        nn.Dropout2d(p=0.2)\n",
    "    )\n",
    "\n",
    "def conv2d_transpose_block(in_f, out_f, *args, **kwargs):\n",
    "    \"\"\" Function for building transpose convolutional block\n",
    "        \n",
    "        Attributes\n",
    "            in_f - number of input features\n",
    "            out_f - number of output features\n",
    "    \"\"\"\n",
    "    return nn.Sequential(\n",
    "        nn.ConvTranspose2d(in_f, out_f, *args, **kwargs),\n",
    "        nn.BatchNorm2d(out_f),\n",
    "        nn.ReLU(),\n",
    "        nn.Dropout2d(p=0.2)\n",
    "    )\n",
    "\n",
    "######################################\n",
    "#                                    #\n",
    "#   Main convolutional autoencoder   #\n",
    "#                                    #\n",
    "######################################\n",
    "class ConvAutoencoder(nn.Module):\n",
    "    def __init__(self):\n",
    "        super(ConvAutoencoder, self).__init__()\n",
    "        \n",
    "        ## encoder layers ##\n",
    "        self.encoder = nn.Sequential(\n",
    "            # [1x256x64] => [64x256x64]\n",
    "            conv2d_block(1, 64, kernel_size=3, padding=1),\n",
    "            # [64x256x64] => [64x128x32]\n",
    "            nn.MaxPool2d(2, 2),\n",
    "            # [64x128x32] => [32x128x32]\n",
    "            conv2d_block(64, 32, kernel_size=3, padding=1),\n",
    "            # [32x128x32] => [32x64x16]\n",
    "            nn.MaxPool2d(2, 2),\n",
    "            # [32x64x16] => [16x64x16]\n",
    "            conv2d_block(32, 16, kernel_size=3, padding=1),\n",
    "            # [16x64x16] => [16x32x8]\n",
    "            nn.MaxPool2d(2, 2),\n",
    "            # [16x32x8] => [4x32x8]\n",
    "            conv2d_block(16, 4, kernel_size=3, padding=1),\n",
    "            # [4x32x8] => [4x16x4]\n",
    "            nn.MaxPool2d(2, 2),\n",
    "            # [4x16x4] => [1x256]\n",
    "            nn.Flatten(),\n",
    "            # [1x256] => [1x64]\n",
    "            nn.Linear(256, 64),\n",
    "            nn.ReLU()\n",
    "        )\n",
    "        \n",
    "        ## decoder layers ##\n",
    "        self.decoder = nn.Sequential(\n",
    "            # [1x64] => [1x256]\n",
    "            nn.Linear(64, 256),\n",
    "            nn.ReLU(),\n",
    "            # [1x256] => [4x16x4]\n",
    "            View([-1, 4, 16, 4]),\n",
    "            # [4x16x4] => [16x32x8]\n",
    "            conv2d_transpose_block(4, 16, kernel_size=2, stride=2),\n",
    "            # [16x32x8] => [32x64x16]\n",
    "            conv2d_transpose_block(16, 32, kernel_size=2, stride=2),\n",
    "            # [32x64x16] => [64x128x32]\n",
    "            conv2d_transpose_block(32, 64, kernel_size=2, stride=2),\n",
    "            # [64x128x32] => [1x256x64]\n",
    "            nn.ConvTranspose2d(64, 1, kernel_size=2, stride=2),\n",
    "            nn.Sigmoid()\n",
    "        )\n",
    "\n",
    "\n",
    "    def forward(self, x):\n",
    "        x = self.encoder(x)\n",
    "        x = self.decoder(x)\n",
    "        \n",
    "        return x"
   ]
  },
  {
   "cell_type": "markdown",
   "metadata": {},
   "source": [
    "basic fully connected autoencoder"
   ]
  },
  {
   "cell_type": "code",
   "execution_count": null,
   "metadata": {},
   "outputs": [],
   "source": [
    "import torch\n",
    "from torch import nn\n",
    "\n",
    "class autoencoder_basic(nn.Module):\n",
    "    def __init__(self):\n",
    "        super(autoencoder_basic, self).__init__()\n",
    "        self.encoder = nn.Sequential(\n",
    "            nn.Linear(1499, 512),\n",
    "            nn.SELU(True),\n",
    "            nn.Linear(512, 128),\n",
    "            nn.SELU(True),\n",
    "            nn.Linear(128, 64),\n",
    "            nn.SELU(True))\n",
    "        self.decoder = nn.Sequential(\n",
    "            nn.Linear(64, 128),\n",
    "            nn.SELU(True),\n",
    "            nn.Linear(128, 512),\n",
    "            nn.SELU(True),\n",
    "            nn.Linear(128, 1499),\n",
    "            nn.Sigmoid())\n",
    "\n",
    "    def forward(self, x):\n",
    "        x = self.encoder(x)\n",
    "        x = self.decoder(x)\n",
    "        return x"
   ]
  },
  {
   "cell_type": "markdown",
   "metadata": {},
   "source": [
    "function for extracting ecoded data from trained model"
   ]
  },
  {
   "cell_type": "code",
   "execution_count": 21,
   "metadata": {},
   "outputs": [],
   "source": [
    "def conv2d_encode(model, data_intput):\n",
    "    \"\"\" Function for encoding data and returning encoded \"\"\"\n",
    "    dataset_tensor = torch.Tensor(data_intput)\n",
    "    dataset_tensor = dataset_tensor[:, None, :, :]\n",
    "    dataset_tensor = tdata.TensorDataset(dataset_tensor)\n",
    "    dataset = tdata.DataLoader(dataset_tensor, batch_size=32, shuffle=True)\n",
    "    encoded_data = []\n",
    "    \n",
    "    model.eval()\n",
    "    with torch.no_grad():\n",
    "        for data in dataset:\n",
    "            periodograms = data[0].to(device)\n",
    "            output = modelConvAE.encoder(periodograms).cpu().numpy().squeeze()\n",
    "            encoded_data.extend(output)\n",
    "    \n",
    "    return encoded_data"
   ]
  },
  {
   "cell_type": "code",
   "execution_count": 27,
   "metadata": {},
   "outputs": [],
   "source": [
    "import pandas as pd\n",
    "from datetime import datetime, timedelta\n",
    "\n",
    "def read_sensor_data(filename, hive_sn, start_time, end_time, sensor_column_name):\n",
    "    \"\"\" Function for reading smartula sensor file (from grafana) and build pandas dataframe \"\"\"\n",
    "    df_sensor_data = pd.read_csv(filename, skiprows=1, sep=\";\")\n",
    "    \n",
    "    if hive_sn not in hives_ids:\n",
    "        print(f\"Hive {hive_sn} is not in hives_ids set! Returning empty dataframe\")\n",
    "        return pd.DataFrame()\n",
    "    \n",
    "    # change series column to be coherent with sounds\n",
    "    for hive in hives_ids:\n",
    "        df_sensor_data.loc[df_sensor_data['Series'].str.contains(hive[2:]), 'Series'] = hive\n",
    "\n",
    "    # change column names to match sound\n",
    "    df_sensor_data.columns = ['name', 'timestamp', sensor_column_name]\n",
    "    # convert timestamp to pandas timestamp\n",
    "    df_sensor_data['timestamp'] = [(datetime.strptime(date_pd[:-6], '%Y-%m-%dT%H:%M:%S') + timedelta(hours=timezone_offset_hours)) for date_pd in df_sensor_data['timestamp'].values.tolist()]\n",
    "    \n",
    "    df_sensor_data = df_sensor_data[(df_sensor_data['name'] == hive_sn) & (df_sensor_data['timestamp'] > start_time) & (df_sensor_data['timestamp'] < end_time)]\n",
    "    df_sensor_data.set_index('timestamp', inplace=True)\n",
    "    print(f\"got {df_sensor_data[sensor_column_name].count()} of {sensor_column_name} samples\")\n",
    "    \n",
    "    return df_sensor_data\n",
    "\n",
    "def merge_dataframes_ontimestamp(df_merge_to, *args):\n",
    "    \"\"\" Merging dataframes to df_merge_to \"\"\"\n",
    "    df_hive_data_ua = df_merge_to\n",
    "    for dataframe in args:\n",
    "        df_hive_data_ua = pd.merge(df_hive_data_ua, dataframe.reindex(df_hive_data_ua.index, method='nearest'), on=['timestamp', 'name'])\n",
    "        \n",
    "    return df_hive_data_ua"
   ]
  },
  {
   "cell_type": "markdown",
   "metadata": {},
   "source": [
    "flatten util"
   ]
  },
  {
   "cell_type": "code",
   "execution_count": 29,
   "metadata": {},
   "outputs": [],
   "source": [
    "import collections\n",
    "\n",
    "def flatten(x):\n",
    "    if isinstance(x, collections.abc.Iterable):\n",
    "        return [a for i in x for a in flatten(i)]\n",
    "    else:\n",
    "        return [x]\n",
    "    \n",
    "def merge_columns(dataframe, column_names):\n",
    "    \"\"\" Function for merging columns with irregular size \"\"\"\n",
    "    return [flatten(val) for val in  dataframe[column_names].values.tolist()]\n",
    "    "
   ]
  },
  {
   "cell_type": "markdown",
   "metadata": {},
   "source": [
    "Function for performing grid search on best OneClasSVM on day/night classification and visualizing results"
   ]
  },
  {
   "cell_type": "code",
   "execution_count": 94,
   "metadata": {},
   "outputs": [],
   "source": [
    "from sklearn.svm import SVC\n",
    "import pandas as pd\n",
    "\n",
    "  \n",
    "def plot_6hour_shift(*args, xticklabels):\n",
    "    \"\"\" Function for plotting six hour shift \"\"\"\n",
    "    fig, axs  = plt.subplots(3, 2, figsize=(10,8))\n",
    "    fig.subplots_adjust(hspace=0.7)\n",
    "    \n",
    "    colors = ['ro', 'bx', 'go', 'yx', 'ko']\n",
    "    \n",
    "    if len(args) > len(colors):\n",
    "        print('warning your accuracies are bigger than colors for plot!')\n",
    "    \n",
    "    for idx, accuracy in enumerate(args):\n",
    "        axs[0][0].plot(accuracy[0], colors[idx])\n",
    "        axs[0][0].grid()\n",
    "        axs[0][0].set_xticks(np.arange(0, 10, 1))\n",
    "        axs[0][0].tick_params(axis='x', rotation=270)\n",
    "        axs[0][0].set_xticklabels(xticklabels)\n",
    "        axs[0][0].set_title('1 hour long bee-night')\n",
    "        axs[0][0].set_ylabel('SVM accuracy')\n",
    "        axs[0][0].set_xlabel('Hour')\n",
    "\n",
    "        axs[0][1].plot(accuracy[1], colors[idx])\n",
    "        axs[0][1].grid()\n",
    "        axs[0][1].set_xticks(np.arange(0, 10, 1))\n",
    "        axs[0][1].tick_params(axis='x', rotation=270)\n",
    "        axs[0][1].set_xticklabels(xticklabels)\n",
    "        axs[0][1].set_title('2 hours long bee-night')\n",
    "        axs[0][1].set_ylabel('SVM accuracy')\n",
    "        axs[0][1].set_xlabel('Hour')\n",
    "\n",
    "        axs[1][0].plot(accuracy[2], colors[idx])\n",
    "        axs[1][0].grid()\n",
    "        axs[1][0].set_xticks(np.arange(0, 10, 1))\n",
    "        axs[1][0].tick_params(axis='x', rotation=270)\n",
    "        axs[1][0].set_xticklabels(xticklabels)\n",
    "        axs[1][0].set_title('3 hours long bee-night')\n",
    "        axs[1][0].set_ylabel('SVM accuracy')\n",
    "        axs[1][0].set_xlabel('Hour')\n",
    "\n",
    "        axs[1][1].plot(accuracy[3], colors[idx])\n",
    "        axs[1][1].grid()\n",
    "        axs[1][1].set_xticks(np.arange(0, 10, 1))\n",
    "        axs[1][1].tick_params(axis='x', rotation=270)\n",
    "        axs[1][1].set_xticklabels(xticklabels)\n",
    "        axs[1][1].set_title('4 hours long bee-night')\n",
    "        axs[1][1].set_ylabel('SVM accuracy')\n",
    "        axs[1][1].set_xlabel('Hour')\n",
    "\n",
    "        axs[2][0].plot(accuracy[4], colors[idx])\n",
    "        axs[2][0].grid()\n",
    "        axs[2][0].set_xticks(np.arange(0, 10, 1))\n",
    "        axs[2][0].tick_params(axis='x', rotation=270)\n",
    "        axs[2][0].set_xticklabels(xticklabels)\n",
    "        axs[2][0].set_title('5 hours long bee-night')\n",
    "        axs[2][0].set_ylabel('SVM accuracy')\n",
    "        axs[2][0].set_xlabel('Hour')\n",
    "\n",
    "        axs[2][1].plot(accuracy[5], colors[idx])\n",
    "        axs[2][1].grid()\n",
    "        axs[2][1].set_xticks(np.arange(0, 10, 1))\n",
    "        axs[2][1].tick_params(axis='x', rotation=270)\n",
    "        axs[2][1].set_xticklabels(xticklabels)\n",
    "        axs[2][1].set_title('6 hours long bee-night')\n",
    "        axs[2][1].set_ylabel('SVM accuracy')\n",
    "        axs[2][1].set_xlabel('Hour')\n",
    "    \n",
    "    fig.show()\n",
    "\n",
    "def search_best_night_day(input_data, feature_name, days_test, start_hours, max_shift, verbose=0):\n",
    "    \"\"\" Function performing One-class SVM\n",
    "    \n",
    "        attribute: train_data - pandas series dataframe\n",
    "        attribute: feature_name - name of column from dataframe which will be used as feature\n",
    "        attribute: days_test - number of last days which will be used to create train data\n",
    "        attribute: start_hours - list with start hours\n",
    "        attribute: max_shift - max shift in hours\n",
    "    \"\"\"\n",
    "    max_accuracy = 0\n",
    "    \n",
    "    accs_per_shift = []\n",
    "    final_accs = []\n",
    "\n",
    "    for shift in range(1, max_shift):\n",
    "        for start_hour in start_hours:\n",
    "            data_to_svm = pd.DataFrame(input_data)\n",
    "            data_to_svm.sort_index(inplace=True)\n",
    "            \n",
    "            end_hour = (start_hour + shift) % 24\n",
    "            if end_hour > 12 or start_hour < max_shift:\n",
    "                data_to_svm['is_night'] = (data_to_svm.index.hour >= start_hour) & (data_to_svm.index.hour <= end_hour)\n",
    "            else:\n",
    "                data_to_svm['is_night'] = (data_to_svm.index.hour >= start_hour) | (data_to_svm.index.hour <= end_hour)\n",
    "                \n",
    "            samples_in_day = data_to_svm[data_to_svm.index < (data_to_svm.index[0] + timedelta(days=1))].count()\n",
    "            data_test = data_to_svm.tail(samples_in_day[0]*days_test)\n",
    "            data_train = data_to_svm[~data_to_svm.isin(data_test)].dropna(how='all')\n",
    "            \n",
    "            train_data = data_train[feature_name].values.tolist()\n",
    "            train_labels = data_train['is_night'].values.tolist()\n",
    "            test_data = data_test[feature_name].values.tolist()\n",
    "            test_labels = data_test['is_night'].values.tolist()\n",
    "            \n",
    "            if verbose > 0:\n",
    "                print(f'learning with train data size: {len(train_data)} and test data size: {len(test_data)}')\n",
    "                print(f'number of nights in train/test data: {sum(train_labels)}/{sum(test_labels)}')\n",
    "            svc = SVC(kernel='rbf', class_weight='balanced', gamma='auto')\n",
    "            svc.fit(train_data, train_labels)\n",
    "            predicted = svc.predict(test_data)\n",
    "            \n",
    "            sum_correct = 0\n",
    "            for idx, label_predicted in enumerate(predicted):\n",
    "                if(label_predicted == int(test_labels[idx])):\n",
    "                    sum_correct += 1\n",
    "\n",
    "            accuracy = (sum_correct/len(test_labels)*100)\n",
    "            if accuracy > max_accuracy:\n",
    "                if verbose > 0:\n",
    "                    print(f'new max acuuracy for {start_hour} to {end_hour}, accuracy: {accuracy:.2f}')\n",
    "                max_accuracy = accuracy\n",
    "            \n",
    "            if verbose > 0:\n",
    "                print(f'for night start at {start_hour} and end at {end_hour} got accuracy: {accuracy:.2f}')\n",
    "                print('==============================================================================')\n",
    "            \n",
    "            accs_per_shift.append(accuracy)\n",
    "        final_accs.append(accs_per_shift)\n",
    "        accs_per_shift = []\n",
    "        \n",
    "    return final_accs"
   ]
  },
  {
   "cell_type": "code",
   "execution_count": null,
   "metadata": {},
   "outputs": [],
   "source": [
    "import matplotlib\n",
    "\n",
    "def plot_distribution(distribution_dict, bin_size):\n",
    "    \"\"\" Plotting distribiution for dictionary elements\"\"\"\n",
    "    colors = ['blue', 'green', 'red', 'yellow', 'black', 'pink', 'purple']\n",
    "    rms_max = 0\n",
    "    rms_min = 65535\n",
    "    for k, v in rmses.items():\n",
    "        if np.max(v) > rms_max:\n",
    "            rms_max = np.max(v)\n",
    "        if np.min(v) < rms_min:\n",
    "            rms_min = np.min(v)\n",
    "        \n",
    "    plt.figure()\n",
    "    for idx, (k, v) in enumerate(distribution_dict.items()):\n",
    "        plt.hist(v, color=colors[idx%len(colors)], bins=int(np.abs(rms_max-rms_min)/bin_size))\n",
    "    plt.show()"
   ]
  },
  {
   "cell_type": "markdown",
   "metadata": {},
   "source": [
    "# ------------------------"
   ]
  },
  {
   "cell_type": "markdown",
   "metadata": {},
   "source": [
    "# ------------------------------------"
   ]
  },
  {
   "cell_type": "markdown",
   "metadata": {},
   "source": [
    "## Train basic AE"
   ]
  },
  {
   "cell_type": "code",
   "execution_count": null,
   "metadata": {},
   "outputs": [],
   "source": [
    "from scipy import signal as sig\n",
    "from sklearn.preprocessing import MinMaxScaler\n",
    "from torch.utils.data import DataLoader\n",
    "from torch.utils import data as tdata\n",
    "\n",
    "# Divide data to test, validation and train\n",
    "train_stop_idx = int(pd_ae_data.shape[0]*90/100)\n",
    "\n",
    "pd_ae_data_train = pd_ae_data[:train_stop_idx]\n",
    "pd_ae_data_test = pd_ae_data[train_stop_idx:]\n",
    "\n",
    "print(f'Train data size: {pd_ae_data_train.shape[0]}')\n",
    "print(f'Test data size: {pd_ae_data_test.shape[0]}')\n",
    "\n",
    "tensor_train = torch.Tensor(pd_ae_data_train['periodogram'].values.tolist())\n",
    "tensor_test = torch.Tensor(pd_ae_data_test['periodogram'].values.tolist())\n",
    "\n",
    "train_dataset = tdata.TensorDataset(tensor_train)\n",
    "test_dataset = tdata.TensorDataset(tensor_test)\n",
    "\n",
    "dataloader = DataLoader(train_dataset, batch_size=32, shuffle=True)\n",
    "dataloader_test = DataLoader(test_dataset, batch_size=32, shuffle=True)"
   ]
  },
  {
   "cell_type": "code",
   "execution_count": null,
   "metadata": {},
   "outputs": [],
   "source": [
    "device = torch.device(\"cuda\" if torch.cuda.is_available() else \"cpu\")"
   ]
  },
  {
   "cell_type": "code",
   "execution_count": null,
   "metadata": {},
   "outputs": [],
   "source": [
    "from torch.autograd import Variable\n",
    "from torchvision import transforms\n",
    "import torch.nn.functional as F\n",
    "\n",
    "num_epochs = 1000\n",
    "learning_rate = 1e-3\n",
    "\n",
    "model = autoencoder_basic().to(device)\n",
    "criterion = nn.MSELoss()\n",
    "optimizer = torch.optim.Adam(model.parameters(), lr=learning_rate, weight_decay=1e-5)\n",
    "\n",
    "for epoch in range(num_epochs):\n",
    "    loss = 0\n",
    "    for data in dataloader:\n",
    "        periodogram = data[0].to(device)\n",
    "        # ===================forward=====================\n",
    "        output = model(periodogram)\n",
    "        #train_loss = criterion(output, periodogram)\n",
    "        train_loss = F.binary_cross_entropy(output, periodogram)\n",
    "        # ===================backward====================\n",
    "        optimizer.zero_grad()\n",
    "        train_loss.backward()\n",
    "        optimizer.step()\n",
    "        loss += train_loss.item()\n",
    "    loss = loss / len(dataloader)\n",
    "    if (epoch+1) % (num_epochs/10) == 0:\n",
    "        print(f'epoch {epoch + 1}/{num_epochs}, loss:{loss}')"
   ]
  },
  {
   "cell_type": "code",
   "execution_count": null,
   "metadata": {},
   "outputs": [],
   "source": [
    "import matplotlib.pyplot as plt\n",
    "\n",
    "counter = 0\n",
    "with torch.no_grad():\n",
    "    loss_test = 0\n",
    "    for data in dataloader_test:\n",
    "        periodograms_test = data[0].to(device)\n",
    "        output = model(periodograms_test)\n",
    "        for idx, i in enumerate(output):\n",
    "            #loss_test += nn.MSELoss()(periodograms_test[idx], i)\n",
    "            loss_test += F.binary_cross_entropy(periodograms_test[idx], i)\n",
    "\n",
    "loss_test = loss_test/len(pd_ae_data_test)\n",
    "print(f'Final test loss: {loss_test}')\n"
   ]
  }
 ],
 "metadata": {
  "kernelspec": {
   "display_name": "Python 3",
   "language": "python",
   "name": "python3"
  },
  "language_info": {
   "codemirror_mode": {
    "name": "ipython",
    "version": 3
   },
   "file_extension": ".py",
   "mimetype": "text/x-python",
   "name": "python",
   "nbconvert_exporter": "python",
   "pygments_lexer": "ipython3",
   "version": "3.8.5"
  }
 },
 "nbformat": 4,
 "nbformat_minor": 4
}
