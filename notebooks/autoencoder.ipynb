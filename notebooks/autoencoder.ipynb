{
 "cells": [
  {
   "cell_type": "code",
   "execution_count": 4,
   "metadata": {},
   "outputs": [],
   "source": [
    "hives_ids = [\"smrpiclient7\", \"smrpiclient6\", \"smrpiclient3\"]\n",
    "\n",
    "# define hive under analysis\n",
    "hive_under_analysis = hives_ids[0]\n",
    "# define offset as all data should be utc\n",
    "timezone_offset_hours = 2\n",
    "# define if we should reinit our data\n",
    "DATA_INIT = False"
   ]
  },
  {
   "cell_type": "markdown",
   "metadata": {},
   "source": [
    "# Data Preprocessing\n",
    "\n",
    "Here we load train data sound samples and prepare spectrogram, periodogram and mfcc features (along with some data to visualize this). We should provide data with **utc timestamps** as it will be shifted with `timezone_offset_hours` var. What we also do is remove those samples which has strange rms signal. Threshold 0.8 was chosen based on `plot_distribution` output.\n"
   ]
  },
  {
   "cell_type": "code",
   "execution_count": 5,
   "metadata": {},
   "outputs": [
    {
     "name": "stdout",
     "output_type": "stream",
     "text": [
      "got full dataset of 7033 sound samples\n"
     ]
    }
   ],
   "source": [
    "import numpy as np\n",
    "import glob\n",
    "import librosa.display\n",
    "\n",
    "from tqdm import tqdm\n",
    "from datetime import datetime, timedelta\n",
    "from scipy.io import wavfile\n",
    "\n",
    "sound_time_ms = 2000\n",
    "# ~93 ms for fft window\n",
    "nfft = 4096\n",
    "# ~34% overlapping\n",
    "hop_len = (nfft//3) + 30\n",
    "# This can be manipulated to adjust number of bins for conv layer\n",
    "fmax = 2750\n",
    "\n",
    "hives_data = []\n",
    "rmses = {}\n",
    "max_to_norm = 0\n",
    "\n",
    "if DATA_INIT:\n",
    "    for idx, hive_id in enumerate(hives_ids):\n",
    "        sound_files = [f for f in glob.glob(f\"..\\\\measurements\\\\smartulav2\\\\{hive_id}_*\\\\*.wav\")]\n",
    "        print(f\"Sound data preparation for hive: {hive_id} which has {len(sound_files)} recordings...\", end=' ', flush=True)\n",
    "        for file in tqdm(sound_files):\n",
    "            sample_rate, sound_samples = wavfile.read(file)\n",
    "            sound_samples = sound_samples.T[0]/(2.0**31)\n",
    "            rms = np.sqrt(sum(sound_samples**2)/len(sound_samples))\n",
    "            if rms < 0.7:    # that threshold was observed from plot_distribution() function\n",
    "                # calculate timestamp\n",
    "                filename = file.rsplit('\\\\', 1)[-1]\n",
    "                utc_timestamp = filename[filename.index('-')+1:].rsplit(\".wav\")[0]\n",
    "                sound_datetime = datetime.strptime(utc_timestamp, '%Y-%m-%dT%H-%M-%S') + timedelta(hours=timezone_offset_hours)\n",
    "                \n",
    "                # calculate mfcc feature\n",
    "                mfccs = librosa.feature.mfcc(y=sound_samples, sr=sample_rate, n_fft=nfft, hop_length=hop_len, n_mfcc=13)\n",
    "                np_mfcc_avg = np.mean(mfccs, axis=1)\n",
    "                \n",
    "                # calculate spectrogram\n",
    "                spectrogram = librosa.core.stft(sound_samples, n_fft=nfft, hop_length=hop_len)\n",
    "                spectrogram_magnitude = np.abs(spectrogram)\n",
    "                spectrogram_phase = np.angle(spectrogram)\n",
    "                spectrogram_db = librosa.amplitude_to_db(spectrogram_magnitude, ref=np.max)\n",
    "                frequencies = librosa.fft_frequencies(sr=sample_rate, n_fft=nfft)\n",
    "                times = (np.arange(0, spectrogram_magnitude.shape[1])*hop_len)/sample_rate\n",
    "                freq_slice = np.where((frequencies < fmax))\n",
    "                frequencies = frequencies[freq_slice]\n",
    "                spectrogram_db = spectrogram_db[freq_slice, :][0]    \n",
    "                spectrogram_mean = np.mean(spectrogram_db, axis=1)\n",
    "                # decimate?\n",
    "                # spectrogram_db_decimated = decimate(spectrogram_db.T, 4).T\n",
    "                # frequencies_decimated = decimate(frequencies, 4)\n",
    "                \n",
    "                hives_data.append(\n",
    "                    {\n",
    "                        'datetime': sound_datetime,\n",
    "                        'id': hive_id,\n",
    "                        'samples': sound_samples,\n",
    "                        'freq':\n",
    "                            {\n",
    "                                'frequencies': frequencies,\n",
    "                                'time': times,\n",
    "                                'spectrogram_full_db': spectrogram_db,\n",
    "                                'spectrogram_mean': spectrogram_mean\n",
    "                            },\n",
    "                        'features':\n",
    "                            {\n",
    "                                'mfcc_avg': np_mfcc_avg\n",
    "                            }\n",
    "                    }\n",
    "                )\n",
    "        print(\" done.\")\n",
    "        np.save('data/raw_hives_data.npy', hives_data, allow_pickle=True)\n",
    "else:\n",
    "    hives_data = np.load('data/raw_hives_data.npy', allow_pickle=True)\n",
    "    \n",
    "print(f\"got full dataset of {len(hives_data)} sound samples\")"
   ]
  },
  {
   "cell_type": "markdown",
   "source": [
    "### Data preprocessing \n",
    "\n",
    "Here we perform scaling standarization etc.\n",
    " "
   ],
   "metadata": {
    "collapsed": false,
    "pycharm": {
     "name": "#%% md\n"
    }
   }
  },
  {
   "cell_type": "code",
   "execution_count": 6,
   "metadata": {},
   "outputs": [
    {
     "name": "stdout",
     "output_type": "stream",
     "text": [
      "Got dataset of size: 7033\n"
     ]
    }
   ],
   "source": [
    "import pandas as pd\n",
    "from sklearn.preprocessing import StandardScaler, MinMaxScaler\n",
    "\n",
    "sc = StandardScaler()\n",
    "mm = MinMaxScaler()\n",
    "\n",
    "# extract every spectrogram from hives data list and standarize every periodogram from stft \n",
    "# so data for spectrogram will have zero mean and unit variance + scale every standarized periodogram\n",
    "spectrograms = [hive_data['freq']['spectrogram_full_db'] for hive_data in hives_data]\n",
    "standarized_spectrograms = [sc.fit_transform(spectrogram.T).T for spectrogram in spectrograms] \n",
    "scaled_spectrogram = [mm.fit_transform(spectrogram_stan.T).T for spectrogram_stan in standarized_spectrograms]\n",
    "\n",
    "# get datatime, names and mfcc\n",
    "datetimes = [hive_data['datetime'] for hive_data in hives_data]\n",
    "names = [hive_data['id'] for hive_data in hives_data]\n",
    "mfccs = [hive_data['features']['mfcc_avg'] for hive_data in hives_data]\n",
    "\n",
    "# standarize and scale periodogram for sounds \n",
    "periodograms_mean = [hive_data['freq']['spectrogram_mean'] for hive_data in hives_data]\n",
    "standarized_periodograms = StandardScaler().fit_transform(periodograms_mean)\n",
    "scaled_periodograms = MinMaxScaler().fit_transform(standarized_periodograms)\n",
    "\n",
    "sounds = list(zip(scaled_spectrogram, mfccs, scaled_periodograms, datetimes, names))\n",
    "\n",
    "sounds_data = pd.DataFrame(sounds, columns=['spectrogram', 'mfccs', 'periodogram', 'datetime', 'name'])\n",
    "sounds_data['datetime'] = pd.to_datetime(sounds_data['datetime'])\n",
    "sounds_hive_data = sounds_data[sounds_data['name'] == hive_under_analysis]\n",
    "\n",
    "print(f\"Got dataset of size: {len(sounds)}\")"
   ]
  },
  {
   "cell_type": "markdown",
   "metadata": {},
   "source": [
    "## Train BASIC AE\n",
    "Here we train basic fully connected autoencoder on data from particular hive"
   ]
  },
  {
   "cell_type": "code",
   "execution_count": 7,
   "metadata": {},
   "outputs": [
    {
     "name": "stdout",
     "output_type": "stream",
     "text": [
      "Dataset shape: torch.Size([3367, 256])\n",
      "Train set size: 2693\n",
      "Validation set size: 674\n",
      "[  1/200] train_loss: 0.15818 valid_loss: 0.12371 checkpoint!\n",
      "[  2/200] train_loss: 0.13555 valid_loss: 0.11677 checkpoint!\n",
      "[  3/200] train_loss: 0.12062 valid_loss: 0.10718 checkpoint!\n",
      "[  4/200] train_loss: 0.10891 valid_loss: 0.08114 checkpoint!\n",
      "[  5/200] train_loss: 0.09969 valid_loss: 0.08067 checkpoint!\n",
      "[  6/200] train_loss: 0.09195 valid_loss: 0.06935 checkpoint!\n",
      "[  7/200] train_loss: 0.08346 valid_loss: 0.07444 .\n",
      "[  8/200] train_loss: 0.07835 valid_loss: 0.05075 checkpoint!\n",
      "[  9/200] train_loss: 0.07176 valid_loss: 0.05394 .\n",
      "[ 10/200] train_loss: 0.06618 valid_loss: 0.04885 checkpoint!\n",
      "[ 11/200] train_loss: 0.06138 valid_loss: 0.04268 checkpoint!\n",
      "[ 12/200] train_loss: 0.05720 valid_loss: 0.04817 .\n",
      "[ 13/200] train_loss: 0.05426 valid_loss: 0.04241 checkpoint!\n",
      "[ 14/200] train_loss: 0.05040 valid_loss: 0.04095 checkpoint!\n",
      "[ 15/200] train_loss: 0.04738 valid_loss: 0.03146 checkpoint!\n",
      "[ 16/200] train_loss: 0.04539 valid_loss: 0.03237 .\n",
      "[ 17/200] train_loss: 0.04323 valid_loss: 0.03218 .\n",
      "[ 18/200] train_loss: 0.04104 valid_loss: 0.02758 checkpoint!\n",
      "[ 19/200] train_loss: 0.03982 valid_loss: 0.03107 .\n",
      "[ 20/200] train_loss: 0.03874 valid_loss: 0.03768 .\n",
      "[ 21/200] train_loss: 0.03646 valid_loss: 0.03615 .\n",
      "[ 22/200] train_loss: 0.03741 valid_loss: 0.03488 .\n",
      "[ 23/200] train_loss: 0.03361 valid_loss: 0.02320 checkpoint!\n",
      "[ 24/200] train_loss: 0.03254 valid_loss: 0.03656 .\n",
      "[ 25/200] train_loss: 0.03182 valid_loss: 0.02347 .\n",
      "[ 26/200] train_loss: 0.03163 valid_loss: 0.01706 checkpoint!\n",
      "[ 27/200] train_loss: 0.02917 valid_loss: 0.02177 .\n",
      "[ 28/200] train_loss: 0.02906 valid_loss: 0.02221 .\n",
      "[ 29/200] train_loss: 0.02805 valid_loss: 0.02301 .\n",
      "[ 30/200] train_loss: 0.02669 valid_loss: 0.02131 .\n",
      "[ 31/200] train_loss: 0.02802 valid_loss: 0.02089 .\n",
      "[ 32/200] train_loss: 0.02597 valid_loss: 0.02031 .\n",
      "[ 33/200] train_loss: 0.02582 valid_loss: 0.02087 .\n",
      "[ 34/200] train_loss: 0.02456 valid_loss: 0.01817 .\n",
      "[ 35/200] train_loss: 0.02366 valid_loss: 0.02769 .\n",
      "[ 36/200] train_loss: 0.02270 valid_loss: 0.01414 checkpoint!\n",
      "[ 37/200] train_loss: 0.02308 valid_loss: 0.01555 .\n",
      "[ 38/200] train_loss: 0.02215 valid_loss: 0.01572 .\n",
      "[ 39/200] train_loss: 0.02280 valid_loss: 0.01727 .\n",
      "[ 40/200] train_loss: 0.02314 valid_loss: 0.01206 checkpoint!\n",
      "[ 41/200] train_loss: 0.02156 valid_loss: 0.01571 .\n",
      "[ 42/200] train_loss: 0.02080 valid_loss: 0.01363 .\n",
      "[ 43/200] train_loss: 0.02067 valid_loss: 0.01734 .\n",
      "[ 44/200] train_loss: 0.01909 valid_loss: 0.01237 .\n",
      "[ 45/200] train_loss: 0.01677 valid_loss: 0.01429 .\n",
      "[ 46/200] train_loss: 0.01582 valid_loss: 0.01087 checkpoint!\n",
      "[ 47/200] train_loss: 0.01471 valid_loss: 0.01313 .\n",
      "[ 48/200] train_loss: 0.01332 valid_loss: 0.01334 .\n",
      "[ 49/200] train_loss: 0.01277 valid_loss: 0.00973 checkpoint!\n",
      "[ 50/200] train_loss: 0.01178 valid_loss: 0.01159 .\n",
      "[ 51/200] train_loss: 0.01085 valid_loss: 0.00985 .\n",
      "[ 52/200] train_loss: 0.01001 valid_loss: 0.00884 checkpoint!\n",
      "[ 53/200] train_loss: 0.00864 valid_loss: 0.00949 .\n",
      "[ 54/200] train_loss: 0.00784 valid_loss: 0.00828 checkpoint!\n",
      "[ 55/200] train_loss: 0.00752 valid_loss: 0.00717 checkpoint!\n",
      "[ 56/200] train_loss: 0.00708 valid_loss: 0.00745 .\n",
      "[ 57/200] train_loss: 0.00656 valid_loss: 0.00850 .\n",
      "[ 58/200] train_loss: 0.00622 valid_loss: 0.00732 .\n",
      "[ 59/200] train_loss: 0.00598 valid_loss: 0.00677 checkpoint!\n",
      "[ 60/200] train_loss: 0.00587 valid_loss: 0.00747 .\n",
      "[ 61/200] train_loss: 0.00555 valid_loss: 0.00721 .\n",
      "[ 62/200] train_loss: 0.00543 valid_loss: 0.00670 checkpoint!\n",
      "[ 63/200] train_loss: 0.00529 valid_loss: 0.00660 checkpoint!\n",
      "[ 64/200] train_loss: 0.00513 valid_loss: 0.00530 checkpoint!\n",
      "[ 65/200] train_loss: 0.00496 valid_loss: 0.00583 .\n",
      "[ 66/200] train_loss: 0.00472 valid_loss: 0.00585 .\n",
      "[ 67/200] train_loss: 0.00414 valid_loss: 0.00642 .\n",
      "[ 68/200] train_loss: 0.00403 valid_loss: 0.00747 .\n",
      "[ 69/200] train_loss: 0.00398 valid_loss: 0.00438 checkpoint!\n",
      "[ 70/200] train_loss: 0.00395 valid_loss: 0.00500 .\n",
      "[ 71/200] train_loss: 0.00395 valid_loss: 0.00520 .\n",
      "[ 72/200] train_loss: 0.00391 valid_loss: 0.00461 .\n",
      "[ 73/200] train_loss: 0.00383 valid_loss: 0.00467 .\n",
      "[ 74/200] train_loss: 0.00402 valid_loss: 0.00830 .\n",
      "[ 75/200] train_loss: 0.00382 valid_loss: 0.00579 .\n",
      "[ 76/200] train_loss: 0.00377 valid_loss: 0.00562 .\n",
      "[ 77/200] train_loss: 0.00388 valid_loss: 0.00419 checkpoint!\n",
      "[ 78/200] train_loss: 0.00410 valid_loss: 0.00438 .\n",
      "[ 79/200] train_loss: 0.00373 valid_loss: 0.00497 .\n",
      "[ 80/200] train_loss: 0.00378 valid_loss: 0.00526 .\n",
      "[ 81/200] train_loss: 0.00372 valid_loss: 0.00623 .\n",
      "[ 82/200] train_loss: 0.00375 valid_loss: 0.00484 .\n",
      "[ 83/200] train_loss: 0.00369 valid_loss: 0.00544 .\n",
      "[ 84/200] train_loss: 0.00368 valid_loss: 0.00453 .\n",
      "[ 85/200] train_loss: 0.00367 valid_loss: 0.00481 .\n",
      "[ 86/200] train_loss: 0.00367 valid_loss: 0.00505 .\n",
      "[ 87/200] train_loss: 0.00359 valid_loss: 0.00557 .\n",
      "[ 88/200] train_loss: 0.00361 valid_loss: 0.00510 .\n",
      "[ 89/200] train_loss: 0.00360 valid_loss: 0.00443 .\n",
      "[ 90/200] train_loss: 0.00358 valid_loss: 0.00449 .\n",
      "[ 91/200] train_loss: 0.00367 valid_loss: 0.00498 .\n",
      "[ 92/200] train_loss: 0.00356 valid_loss: 0.00469 .\n",
      "[ 93/200] train_loss: 0.00360 valid_loss: 0.00508 .\n",
      "[ 94/200] train_loss: 0.00358 valid_loss: 0.01227 .\n",
      "[ 95/200] train_loss: 0.00360 valid_loss: 0.00419 checkpoint!\n",
      "[ 96/200] train_loss: 0.00359 valid_loss: 0.00438 .\n",
      "[ 97/200] train_loss: 0.00347 valid_loss: 0.00475 .\n",
      "[ 98/200] train_loss: 0.00347 valid_loss: 0.00497 .\n",
      "[ 99/200] train_loss: 0.00358 valid_loss: 0.00504 .\n",
      "[100/200] train_loss: 0.00348 valid_loss: 0.00458 .\n",
      "[101/200] train_loss: 0.00346 valid_loss: 0.00448 .\n",
      "[102/200] train_loss: 0.00356 valid_loss: 0.00421 .\n",
      "[103/200] train_loss: 0.00349 valid_loss: 0.00389 checkpoint!\n",
      "[104/200] train_loss: 0.00350 valid_loss: 0.00378 checkpoint!\n",
      "[105/200] train_loss: 0.00349 valid_loss: 0.00556 .\n",
      "[106/200] train_loss: 0.00351 valid_loss: 0.00495 .\n",
      "[107/200] train_loss: 0.00345 valid_loss: 0.00451 .\n",
      "[108/200] train_loss: 0.00342 valid_loss: 0.00384 .\n",
      "[109/200] train_loss: 0.00345 valid_loss: 0.00408 .\n",
      "[110/200] train_loss: 0.00346 valid_loss: 0.00362 checkpoint!\n",
      "[111/200] train_loss: 0.00344 valid_loss: 0.00432 .\n",
      "[112/200] train_loss: 0.00341 valid_loss: 0.00441 .\n",
      "[113/200] train_loss: 0.00345 valid_loss: 0.00416 .\n",
      "[114/200] train_loss: 0.00347 valid_loss: 0.00389 .\n",
      "[115/200] train_loss: 0.00340 valid_loss: 0.00424 .\n",
      "[116/200] train_loss: 0.00343 valid_loss: 0.00413 .\n",
      "[117/200] train_loss: 0.00342 valid_loss: 0.00401 .\n",
      "[118/200] train_loss: 0.00347 valid_loss: 0.00391 .\n",
      "[119/200] train_loss: 0.00346 valid_loss: 0.00452 .\n",
      "[120/200] train_loss: 0.00349 valid_loss: 0.00479 .\n",
      "[121/200] train_loss: 0.00357 valid_loss: 0.00396 .\n",
      "[122/200] train_loss: 0.00341 valid_loss: 0.00367 .\n",
      "[123/200] train_loss: 0.00342 valid_loss: 0.00412 .\n",
      "[124/200] train_loss: 0.00347 valid_loss: 0.00374 .\n",
      "[125/200] train_loss: 0.00339 valid_loss: 0.00307 checkpoint!\n",
      "[126/200] train_loss: 0.00332 valid_loss: 0.00404 .\n",
      "[127/200] train_loss: 0.00335 valid_loss: 0.00381 .\n",
      "[128/200] train_loss: 0.00356 valid_loss: 0.00432 .\n",
      "[129/200] train_loss: 0.00340 valid_loss: 0.00357 .\n",
      "[130/200] train_loss: 0.00333 valid_loss: 0.00366 .\n",
      "[131/200] train_loss: 0.00337 valid_loss: 0.00345 .\n",
      "[132/200] train_loss: 0.00340 valid_loss: 0.00380 .\n",
      "[133/200] train_loss: 0.00332 valid_loss: 0.00358 .\n",
      "[134/200] train_loss: 0.00344 valid_loss: 0.00299 checkpoint!\n",
      "[135/200] train_loss: 0.00335 valid_loss: 0.00384 .\n",
      "[136/200] train_loss: 0.00334 valid_loss: 0.00325 .\n",
      "[137/200] train_loss: 0.00326 valid_loss: 0.00336 .\n",
      "[138/200] train_loss: 0.00336 valid_loss: 0.00327 .\n",
      "[139/200] train_loss: 0.00331 valid_loss: 0.00325 .\n",
      "[140/200] train_loss: 0.00323 valid_loss: 0.00339 .\n",
      "[141/200] train_loss: 0.00330 valid_loss: 0.00404 .\n",
      "[142/200] train_loss: 0.00331 valid_loss: 0.00327 .\n",
      "[143/200] train_loss: 0.00328 valid_loss: 0.00359 .\n",
      "[144/200] train_loss: 0.00331 valid_loss: 0.00373 .\n",
      "[145/200] train_loss: 0.00332 valid_loss: 0.00360 .\n",
      "[146/200] train_loss: 0.00329 valid_loss: 0.00342 .\n",
      "[147/200] train_loss: 0.00334 valid_loss: 0.00343 .\n",
      "[148/200] train_loss: 0.00315 valid_loss: 0.00332 .\n",
      "[149/200] train_loss: 0.00321 valid_loss: 0.00345 .\n",
      "[150/200] train_loss: 0.00325 valid_loss: 0.00372 .\n",
      "[151/200] train_loss: 0.00324 valid_loss: 0.00317 .\n",
      "[152/200] train_loss: 0.00320 valid_loss: 0.00368 .\n",
      "[153/200] train_loss: 0.00321 valid_loss: 0.00330 .\n",
      "[154/200] train_loss: 0.00330 valid_loss: 0.00346 .\n",
      "[155/200] train_loss: 0.00316 valid_loss: 0.00355 early stopping.\n",
      "=> loading checkpoint checkpoint.pth\n"
     ]
    },
    {
     "data": {
      "text/plain": "<Figure size 720x360 with 1 Axes>",
      "image/png": "[encoded data removed]"
     },
     "metadata": {
      "needs_background": "light"
     },
     "output_type": "display_data"
    }
   ],
   "source": [
    "from torch.utils import data as tdata\n",
    "from utils.data_utils import prepare_dataset1d\n",
    "from utils.autoencoder_utils import BasicAutoencoder, train_model\n",
    "\n",
    "ae_basic_train, ae_basic_val = prepare_dataset1d(sounds_hive_data['periodogram'], train_ratio=0.8)\n",
    "\n",
    "dl_aebasic_train = tdata.DataLoader(ae_basic_train, batch_size=32, shuffle=True)\n",
    "dl_aebasic_val = tdata.DataLoader(ae_basic_val, batch_size=32, shuffle=True)\n",
    "\n",
    "modelBasicAE = BasicAutoencoder()\n",
    "modelBasicAE = train_model(modelBasicAE,\n",
    "                           learning_rate=1e-3, weight_decay=1e-5, num_epochs=200, patience=20,\n",
    "                           dataloader_train=dl_aebasic_train, dataloader_val=dl_aebasic_val)"
   ]
  },
  {
   "cell_type": "markdown",
   "metadata": {},
   "source": [
    "## Train CONV AE"
   ]
  },
  {
   "cell_type": "markdown",
   "metadata": {},
   "source": [
    "Here we train convolutional autoencoder on data from particular hive"
   ]
  },
  {
   "cell_type": "code",
   "execution_count": 12,
   "metadata": {},
   "outputs": [
    {
     "name": "stdout",
     "output_type": "stream",
     "text": [
      "Dataset shape: torch.Size([3367, 256, 64])\n",
      "Train set size: 2693\n",
      "Validation set size: 674\n",
      "[  1/100] train_loss: 0.07106 valid_loss: 0.04434 checkpoint!\n",
      "[  2/100] train_loss: 0.05009 valid_loss: 0.04363 checkpoint!\n",
      "[  3/100] train_loss: 0.04732 valid_loss: 0.04322 checkpoint!\n",
      "[  4/100] train_loss: 0.04527 valid_loss: 0.04392 .\n",
      "[  5/100] train_loss: 0.04460 valid_loss: 0.04324 .\n",
      "[  6/100] train_loss: 0.04416 valid_loss: 0.04270 checkpoint!\n",
      "[  7/100] train_loss: 0.04388 valid_loss: 0.04271 .\n",
      "[  8/100] train_loss: 0.04353 valid_loss: 0.04284 .\n",
      "[  9/100] train_loss: 0.04353 valid_loss: 0.04226 checkpoint!\n",
      "[ 10/100] train_loss: 0.04316 valid_loss: 0.04184 checkpoint!\n",
      "[ 11/100] train_loss: 0.04324 valid_loss: 0.04206 .\n",
      "[ 12/100] train_loss: 0.04288 valid_loss: 0.04165 checkpoint!\n",
      "[ 13/100] train_loss: 0.04287 valid_loss: 0.04192 .\n",
      "[ 14/100] train_loss: 0.04308 valid_loss: 0.04163 checkpoint!\n",
      "[ 15/100] train_loss: 0.04266 valid_loss: 0.04195 .\n",
      "[ 16/100] train_loss: 0.04236 valid_loss: 0.04177 .\n",
      "[ 17/100] train_loss: 0.04238 valid_loss: 0.04202 .\n",
      "[ 18/100] train_loss: 0.04228 valid_loss: 0.04162 checkpoint!\n",
      "[ 19/100] train_loss: 0.04223 valid_loss: 0.04163 .\n",
      "[ 20/100] train_loss: 0.04241 valid_loss: 0.04151 checkpoint!\n",
      "[ 21/100] train_loss: 0.04206 valid_loss: 0.04169 .\n",
      "[ 22/100] train_loss: 0.04207 valid_loss: 0.04159 .\n",
      "[ 23/100] train_loss: 0.04201 valid_loss: 0.04135 checkpoint!\n",
      "[ 24/100] train_loss: 0.04187 valid_loss: 0.04143 .\n",
      "[ 25/100] train_loss: 0.04197 valid_loss: 0.04138 .\n",
      "[ 26/100] train_loss: 0.04183 valid_loss: 0.04149 .\n",
      "[ 27/100] train_loss: 0.04182 valid_loss: 0.04151 .\n",
      "[ 28/100] train_loss: 0.04187 valid_loss: 0.04160 .\n",
      "[ 29/100] train_loss: 0.04175 valid_loss: 0.04131 checkpoint!\n",
      "[ 30/100] train_loss: 0.04171 valid_loss: 0.04118 checkpoint!\n",
      "[ 31/100] train_loss: 0.04182 valid_loss: 0.04145 .\n",
      "[ 32/100] train_loss: 0.04165 valid_loss: 0.04133 .\n",
      "[ 33/100] train_loss: 0.04160 valid_loss: 0.04142 .\n",
      "[ 34/100] train_loss: 0.04156 valid_loss: 0.04122 .\n",
      "[ 35/100] train_loss: 0.04164 valid_loss: 0.04096 checkpoint!\n",
      "[ 36/100] train_loss: 0.04159 valid_loss: 0.04117 .\n",
      "[ 37/100] train_loss: 0.04164 valid_loss: 0.04131 .\n",
      "[ 38/100] train_loss: 0.04149 valid_loss: 0.04116 .\n",
      "[ 39/100] train_loss: 0.04146 valid_loss: 0.04110 .\n",
      "[ 40/100] train_loss: 0.04145 valid_loss: 0.04099 .\n",
      "[ 41/100] train_loss: 0.04151 valid_loss: 0.04134 .\n",
      "[ 42/100] train_loss: 0.04141 valid_loss: 0.04102 .\n",
      "[ 43/100] train_loss: 0.04142 valid_loss: 0.04113 .\n",
      "[ 44/100] train_loss: 0.04130 valid_loss: 0.04117 .\n",
      "[ 45/100] train_loss: 0.04138 valid_loss: 0.04097 .\n",
      "[ 46/100] train_loss: 0.04129 valid_loss: 0.04090 checkpoint!\n",
      "[ 47/100] train_loss: 0.04133 valid_loss: 0.04090 checkpoint!\n",
      "[ 48/100] train_loss: 0.04136 valid_loss: 0.04122 .\n",
      "[ 49/100] train_loss: 0.04121 valid_loss: 0.04101 .\n",
      "[ 50/100] train_loss: 0.04124 valid_loss: 0.04090 .\n",
      "[ 51/100] train_loss: 0.04116 valid_loss: 0.04094 .\n",
      "[ 52/100] train_loss: 0.04125 valid_loss: 0.04117 .\n",
      "[ 53/100] train_loss: 0.04123 valid_loss: 0.04108 .\n",
      "[ 54/100] train_loss: 0.04121 valid_loss: 0.04101 .\n",
      "[ 55/100] train_loss: 0.04110 valid_loss: 0.04106 .\n",
      "[ 56/100] train_loss: 0.04111 valid_loss: 0.04112 .\n",
      "[ 57/100] train_loss: 0.04118 valid_loss: 0.04098 .\n",
      "[ 58/100] train_loss: 0.04108 valid_loss: 0.04098 .\n",
      "[ 59/100] train_loss: 0.04116 valid_loss: 0.04093 .\n",
      "[ 60/100] train_loss: 0.04118 valid_loss: 0.04089 checkpoint!\n",
      "[ 61/100] train_loss: 0.04108 valid_loss: 0.04098 .\n",
      "[ 62/100] train_loss: 0.04112 valid_loss: 0.04093 .\n",
      "[ 63/100] train_loss: 0.04106 valid_loss: 0.04097 .\n",
      "[ 64/100] train_loss: 0.04105 valid_loss: 0.04086 checkpoint!\n",
      "[ 65/100] train_loss: 0.04100 valid_loss: 0.04089 .\n",
      "[ 66/100] train_loss: 0.04102 valid_loss: 0.04076 checkpoint!\n",
      "[ 67/100] train_loss: 0.04104 valid_loss: 0.04096 .\n",
      "[ 68/100] train_loss: 0.04094 valid_loss: 0.04097 .\n",
      "[ 69/100] train_loss: 0.04097 valid_loss: 0.04046 checkpoint!\n",
      "[ 70/100] train_loss: 0.04092 valid_loss: 0.04086 .\n",
      "[ 71/100] train_loss: 0.04102 valid_loss: 0.04079 .\n",
      "[ 72/100] train_loss: 0.04087 valid_loss: 0.04061 .\n",
      "[ 73/100] train_loss: 0.04090 valid_loss: 0.04102 .\n",
      "[ 74/100] train_loss: 0.04087 valid_loss: 0.04123 .\n",
      "[ 75/100] train_loss: 0.04087 valid_loss: 0.04106 .\n",
      "[ 76/100] train_loss: 0.04088 valid_loss: 0.04109 .\n",
      "[ 77/100] train_loss: 0.04093 valid_loss: 0.04101 .\n",
      "[ 78/100] train_loss: 0.04094 valid_loss: 0.04075 .\n",
      "[ 79/100] train_loss: 0.04088 valid_loss: 0.04074 .\n",
      "[ 80/100] train_loss: 0.04088 valid_loss: 0.04059 .\n",
      "[ 81/100] train_loss: 0.04084 valid_loss: 0.04076 .\n",
      "[ 82/100] train_loss: 0.04089 valid_loss: 0.04135 .\n",
      "[ 83/100] train_loss: 0.04079 valid_loss: 0.04077 .\n",
      "[ 84/100] train_loss: 0.04084 valid_loss: 0.04076 .\n",
      "[ 85/100] train_loss: 0.04082 valid_loss: 0.04103 .\n",
      "[ 86/100] train_loss: 0.04081 valid_loss: 0.04068 .\n",
      "[ 87/100] train_loss: 0.04081 valid_loss: 0.04073 .\n",
      "[ 88/100] train_loss: 0.04080 valid_loss: 0.04061 .\n",
      "[ 89/100] train_loss: 0.04076 valid_loss: 0.04082 .\n",
      "[ 90/100] train_loss: 0.04075 valid_loss: 0.04069 early stopping.\n",
      "=> loading checkpoint checkpoint.pth\n"
     ]
    },
    {
     "data": {
      "text/plain": "<Figure size 720x360 with 1 Axes>",
      "image/png": "[encoded data removed]"
     },
     "metadata": {
      "needs_background": "light"
     },
     "output_type": "display_data"
    }
   ],
   "source": [
    "from torch.utils import data as tdata\n",
    "from utils.data_utils import prepare_dataset2d\n",
    "from utils.autoencoder_utils import ConvAutoencoder, train_model\n",
    "\n",
    "train_set, val_set = prepare_dataset2d(sounds_hive_data['spectrogram'], train_ratio=0.8)\n",
    "\n",
    "dataloader_train = tdata.DataLoader(train_set, batch_size=6, shuffle=True)\n",
    "dataloader_val = tdata.DataLoader(val_set, batch_size=6, shuffle=True)\n",
    "\n",
    "modelConvAE = ConvAutoencoder()\n",
    "modelConvAE = train_model(modelConvAE,\n",
    "                           learning_rate=1e-3, weight_decay=1e-6, num_epochs=100, patience=20,\n",
    "                           dataloader_train=dataloader_train, dataloader_val=dataloader_val)"
   ]
  },
  {
   "cell_type": "markdown",
   "metadata": {},
   "source": [
    "# Encode data"
   ]
  },
  {
   "cell_type": "code",
   "execution_count": 18,
   "metadata": {},
   "outputs": [],
   "source": [
    "from utils.autoencoder_utils import basic_ae_encode, conv2d_encode\n",
    "encoded_data = conv2d_encode(modelConvAE, scaled_spectrogram)\n",
    "encoded_basic_data = basic_ae_encode(modelBasicAE, scaled_periodograms)"
   ]
  },
  {
   "cell_type": "code",
   "execution_count": 13,
   "metadata": {},
   "outputs": [
    {
     "ename": "NameError",
     "evalue": "name 'sample_rate' is not defined",
     "output_type": "error",
     "traceback": [
      "\u001B[1;31m---------------------------------------------------------------------------\u001B[0m",
      "\u001B[1;31mNameError\u001B[0m                                 Traceback (most recent call last)",
      "\u001B[1;32m<ipython-input-13-d288b28a6034>\u001B[0m in \u001B[0;36m<module>\u001B[1;34m\u001B[0m\n\u001B[0;32m      6\u001B[0m \u001B[1;32mwith\u001B[0m \u001B[0mtorch\u001B[0m\u001B[1;33m.\u001B[0m\u001B[0mno_grad\u001B[0m\u001B[1;33m(\u001B[0m\u001B[1;33m)\u001B[0m\u001B[1;33m:\u001B[0m\u001B[1;33m\u001B[0m\u001B[1;33m\u001B[0m\u001B[0m\n\u001B[0;32m      7\u001B[0m     \u001B[0mfig\u001B[0m\u001B[1;33m,\u001B[0m \u001B[0maxs\u001B[0m \u001B[1;33m=\u001B[0m \u001B[0mplt\u001B[0m\u001B[1;33m.\u001B[0m\u001B[0msubplots\u001B[0m\u001B[1;33m(\u001B[0m\u001B[1;36m2\u001B[0m\u001B[1;33m,\u001B[0m \u001B[1;36m1\u001B[0m\u001B[1;33m)\u001B[0m\u001B[1;33m\u001B[0m\u001B[1;33m\u001B[0m\u001B[0m\n\u001B[1;32m----> 8\u001B[1;33m     \u001B[0mfrequencies\u001B[0m \u001B[1;33m=\u001B[0m \u001B[0mlibrosa\u001B[0m\u001B[1;33m.\u001B[0m\u001B[0mfft_frequencies\u001B[0m\u001B[1;33m(\u001B[0m\u001B[0msr\u001B[0m\u001B[1;33m=\u001B[0m\u001B[0msample_rate\u001B[0m\u001B[1;33m,\u001B[0m \u001B[0mn_fft\u001B[0m\u001B[1;33m=\u001B[0m\u001B[0mnfft\u001B[0m\u001B[1;33m)\u001B[0m\u001B[1;33m\u001B[0m\u001B[1;33m\u001B[0m\u001B[0m\n\u001B[0m\u001B[0;32m      9\u001B[0m     \u001B[0mfreq_slice\u001B[0m \u001B[1;33m=\u001B[0m \u001B[0mnp\u001B[0m\u001B[1;33m.\u001B[0m\u001B[0mwhere\u001B[0m\u001B[1;33m(\u001B[0m\u001B[1;33m(\u001B[0m\u001B[0mfrequencies\u001B[0m \u001B[1;33m<\u001B[0m \u001B[0mfmax\u001B[0m\u001B[1;33m)\u001B[0m\u001B[1;33m)\u001B[0m\u001B[1;33m\u001B[0m\u001B[1;33m\u001B[0m\u001B[0m\n\u001B[0;32m     10\u001B[0m     \u001B[0mfrequencies\u001B[0m \u001B[1;33m=\u001B[0m \u001B[0mfrequencies\u001B[0m\u001B[1;33m[\u001B[0m\u001B[0mfreq_slice\u001B[0m\u001B[1;33m]\u001B[0m\u001B[1;33m\u001B[0m\u001B[1;33m\u001B[0m\u001B[0m\n",
      "\u001B[1;31mNameError\u001B[0m: name 'sample_rate' is not defined"
     ]
    },
    {
     "data": {
      "text/plain": "<Figure size 432x288 with 2 Axes>",
      "image/png": "[encoded data removed]"
     },
     "metadata": {
      "needs_background": "light"
     },
     "output_type": "display_data"
    }
   ],
   "source": [
    "import matplotlib.pyplot as plt\n",
    "import random\n",
    "import torch\n",
    "\n",
    "idx = random.randint(0, len(hives_data) - 1)\n",
    "with torch.no_grad():\n",
    "    fig, axs = plt.subplots(2, 1)\n",
    "    frequencies = librosa.fft_frequencies(sr=sample_rate, n_fft=nfft)\n",
    "    freq_slice = np.where((frequencies < fmax))\n",
    "    frequencies = frequencies[freq_slice]\n",
    "    times = (np.arange(0, spectrogram_magnitude.shape[1])*hop_len)/sample_rate    \n",
    "    elem = scaled_spectrogram[idx]\n",
    "    elem = elem[None, None,: ,:]\n",
    "    elem = torch.Tensor(elem)\n",
    "\n",
    "    axs[0].pcolormesh(times, frequencies, scaled_spectrogram[idx])\n",
    "    axs[1].pcolormesh(times, frequencies, modelConvAE(elem.to(device)).cpu().numpy().squeeze())"
   ]
  },
  {
   "cell_type": "markdown",
   "metadata": {},
   "source": [
    "# Add temperature/humidity/gas"
   ]
  },
  {
   "cell_type": "code",
   "execution_count": 21,
   "metadata": {},
   "outputs": [
    {
     "name": "stdout",
     "output_type": "stream",
     "text": [
      "extracting data for hive under analysis: smrpiclient7 from 2020-08-10 00:00:00 to 2020-09-16 00:00:00...\n",
      "-> prepared base of 3367 numer of sound spectrum <-\n",
      "got 3488 of temperature samples\n",
      "got 3488 of humidity samples\n",
      "got 5141 of alcohol samples\n",
      "got 5141 of aceton samples\n",
      "got 5141 of jon-amonowy samples\n",
      "got 5141 of toluen samples\n",
      "got 5141 of co2 samples\n",
      "got 5129 of siarkowodor samples\n",
      "got 5129 of metanotiol samples\n",
      "got 5129 of trimetyloamina samples\n",
      "got 5129 of wodor samples\n",
      "got 5112 of co samples\n"
     ]
    }
   ],
   "source": [
    "from utils.data_utils import read_sensor_data\n",
    "\n",
    "start_time = '2020-08-10 00:00:00'\n",
    "end_time = '2020-09-16 00:00:00'\n",
    "print(f\"extracting data for hive under analysis: {hive_under_analysis} from {start_time} to {end_time}...\")\n",
    "\n",
    "df_hives_sound = pd.DataFrame(sounds_data)\n",
    "df_hive_sound_ua = df_hives_sound[(df_hives_sound['name'] == hive_under_analysis)\n",
    "                                 & (df_hives_sound['datetime'] > start_time)\n",
    "                                 & (df_hives_sound['datetime'] < end_time)]\n",
    "df_hive_sound_ua.set_index('datetime', inplace=True)\n",
    "print(f\"-> prepared base of {df_hive_sound_ua.count()['spectrogram']} numer of sound spectrum <-\")\n",
    "\n",
    "df_hive_temperature_ua = read_sensor_data('..//measurements//smartulav2//sulmin-10082020-15092020-inside-temperature.csv',\n",
    "                                          hive_under_analysis, hives_ids, start_time, end_time, timezone_offset_hours, 'temperature')\n",
    "df_hive_humidity_ua = read_sensor_data('..//measurements//smartulav2//sulmin-10082020-15092020-inside-humidity.csv',\n",
    "                                       hive_under_analysis, hives_ids, start_time, end_time, timezone_offset_hours, 'humidity')\n",
    "df_hive_alcohol_ua = read_sensor_data('..//measurements//smartulav2//sulmin-10082020-15092020-inside-alcohol.csv',\n",
    "                                      hive_under_analysis, hives_ids, start_time, end_time, timezone_offset_hours, 'alcohol')\n",
    "df_hive_aceton_ua = read_sensor_data('..//measurements//smartulav2//sulmin-10082020-15092020-inside-aceton.csv',\n",
    "                                     hive_under_analysis, hives_ids, start_time, end_time, timezone_offset_hours, 'aceton')\n",
    "df_hive_amon_ua = read_sensor_data('..//measurements//smartulav2//sulmin-10082020-15092020-inside-jon-amonowy.csv',\n",
    "                                   hive_under_analysis, hives_ids, start_time, end_time, timezone_offset_hours, 'jon-amonowy')\n",
    "df_hive_toluen_ua = read_sensor_data('..//measurements//smartulav2//sulmin-10082020-15092020-inside-toluen.csv',\n",
    "                                     hive_under_analysis, hives_ids, start_time, end_time, timezone_offset_hours, 'toluen')\n",
    "df_hive_co2_ua = read_sensor_data('..//measurements//smartulav2//sulmin-10082020-15092020-inside-co2.csv',\n",
    "                                    hive_under_analysis, hives_ids, start_time, end_time, timezone_offset_hours, 'co2')\n",
    "df_hive_siarkowodor_ua = read_sensor_data('..//measurements//smartulav2//sulmin-10082020-15092020-inside-siarkowodor.csv',\n",
    "                                          hive_under_analysis, hives_ids, start_time, end_time, timezone_offset_hours, 'siarkowodor')\n",
    "df_hive_metanotiol_ua = read_sensor_data('..//measurements//smartulav2//sulmin-10082020-15092020-inside-metanotiol.csv',\n",
    "                                         hive_under_analysis, hives_ids, start_time, end_time, timezone_offset_hours, 'metanotiol')\n",
    "df_hive_trimetyloamina_ua = read_sensor_data('..//measurements//smartulav2//sulmin-10082020-15092020-inside-trimetyloamina.csv',\n",
    "                                         hive_under_analysis, hives_ids, start_time, end_time, timezone_offset_hours, 'trimetyloamina')\n",
    "df_hive_wodor_ua = read_sensor_data('..//measurements//smartulav2//sulmin-10082020-15092020-inside-wodor.csv',\n",
    "                                    hive_under_analysis, hives_ids, start_time, end_time, timezone_offset_hours, 'wodor')\n",
    "df_hive_co_ua = read_sensor_data('..//measurements//smartulav2//sulmin-10082020-15092020-inside-co.csv',\n",
    "                                 hive_under_analysis, hives_ids, start_time, end_time, timezone_offset_hours, 'co')\n"
   ]
  },
  {
   "cell_type": "markdown",
   "metadata": {},
   "source": [
    "Check autocorrelation for specific features"
   ]
  },
  {
   "cell_type": "code",
   "execution_count": 24,
   "metadata": {},
   "outputs": [],
   "source": [
    "from utils.data_utils import merge_dataframes_ontimestamp, merge_columns\n",
    "from utils.autoencoder_utils import conv2d_encode, basic_ae_encode\n",
    "\n",
    "df_hive_data = merge_dataframes_ontimestamp(df_hive_sound_ua,\n",
    "                                            df_hive_temperature_ua, df_hive_humidity_ua,\n",
    "                                            df_hive_alcohol_ua, df_hive_aceton_ua, df_hive_amon_ua, df_hive_toluen_ua, df_hive_co2_ua,\n",
    "                                            df_hive_siarkowodor_ua, df_hive_metanotiol_ua, df_hive_trimetyloamina_ua, df_hive_wodor_ua,\n",
    "                                            df_hive_co_ua)\n",
    "\n",
    "df_hive_data['conv_ae'] = conv2d_encode(modelConvAE, df_hive_data['spectrogram'].to_list())\n",
    "df_hive_data['basic_ae'] = basic_ae_encode(modelBasicAE, df_hive_data['periodogram'].to_list())\n",
    "\n",
    "df_hive_data['bae_feature_vector'] = merge_columns(df_hive_data, ['basic_ae', 'humidity', 'temperature', \n",
    "                                                                  'alcohol', 'aceton', 'jon-amonowy', 'toluen', 'co2', 'trimetyloamina', 'co'])\n",
    "df_hive_data['conv_feature_vector'] = merge_columns(df_hive_data, ['conv_ae', 'humidity', 'temperature', \n",
    "                                                                  'alcohol', 'aceton', 'jon-amonowy', 'toluen', 'co2', 'trimetyloamina', 'co'])\n",
    "df_hive_data['mfcc_feature_vector'] = merge_columns(df_hive_data, ['mfccs', 'humidity', 'temperature', \n",
    "                                                                  'alcohol', 'aceton', 'jon-amonowy', 'toluen', 'co2', 'trimetyloamina', 'co'])"
   ]
  },
  {
   "cell_type": "markdown",
   "metadata": {},
   "source": [
    "# SVM classification "
   ]
  },
  {
   "cell_type": "code",
   "execution_count": 28,
   "metadata": {},
   "outputs": [
    {
     "name": "stdout",
     "output_type": "stream",
     "text": [
      "calculating mfccs match... done. 6/9\n",
      "calculating conv ae feature vector match... done. 6/9\n",
      "calculating basic ae feature vector match... done. 6/9\n",
      "calculating mfccs extended feature vector match... done. 6/9\n"
     ]
    }
   ],
   "source": [
    "from sklearn.preprocessing import StandardScaler\n",
    "from utils.data_utils import search_best_night_day\n",
    "\n",
    "start_hours = [20, 21, 22, 23, 0, 1, 2, 3, 4]\n",
    "\n",
    "# data for convolutional autoencoder\n",
    "pd_convae_data = pd.DataFrame(df_hive_data)\n",
    "pd_convae_data['conv_feature_vector'] = StandardScaler().fit_transform(df_hive_data['conv_feature_vector'].values.tolist()).tolist()\n",
    "\n",
    "# data for basic autoencoder\n",
    "pd_convae_data = pd.DataFrame(df_hive_data)\n",
    "pd_convae_data['bae_feature_vector'] = StandardScaler().fit_transform(df_hive_data['bae_feature_vector'].values.tolist()).tolist()\n",
    "\n",
    "# data for mfcc features\n",
    "pd_convae_data = pd.DataFrame(df_hive_data)\n",
    "pd_convae_data['mfcc_feature_vector'] = StandardScaler().fit_transform(df_hive_data['mfcc_feature_vector'].values.tolist()).tolist()\n",
    "\n",
    "# data for plain mfcc \n",
    "mfccs = [hive_data['features']['mfcc_avg'] for hive_data in hives_data if hive_data['id'] == hive_under_analysis]\n",
    "mfccs = StandardScaler().fit_transform(mfccs)\n",
    "datetimes = [hive_data['datetime'] for hive_data in hives_data if hive_data['id'] == hive_under_analysis]\n",
    "mfccs_data = list(zip(datetimes, mfccs))\n",
    "pd_mfcc_data = pd.DataFrame(mfccs_data, columns=['datetime', 'mfcc'])\n",
    "pd_mfcc_data.set_index('datetime', inplace=True)\n",
    "\n",
    "# calculate one class SVM match\n",
    "print('calculating mfccs match...', end=' ', flush=True)\n",
    "mfcc_accs = search_best_night_day(pd_mfcc_data, 'mfcc', days_as_test=10, start_hours=start_hours, max_shift=6, verbose=0)\n",
    "print(f'done. {len(mfcc_accs)}/{len(mfcc_accs[0])}')\n",
    "print('calculating conv ae feature vector match...', end=' ', flush=True)\n",
    "conv_ae_accs = search_best_night_day(pd_convae_data, 'conv_feature_vector', days_as_test=10, start_hours=start_hours, max_shift=6, verbose=0)\n",
    "print(f'done. {len(conv_ae_accs)}/{len(conv_ae_accs[0])}')\n",
    "print('calculating basic ae feature vector match...', end=' ', flush=True)\n",
    "bae_accs = search_best_night_day(pd_convae_data, 'bae_feature_vector', days_as_test=10, start_hours=start_hours, max_shift=6, verbose=0)\n",
    "print(f'done. {len(bae_accs)}/{len(bae_accs[0])}')\n",
    "print('calculating mfccs extended feature vector match...', end=' ', flush=True)\n",
    "mffce_accs = search_best_night_day(pd_convae_data, 'mfcc_feature_vector', days_as_test=10, start_hours=start_hours, max_shift=6, verbose=0)\n",
    "print(f'done. {len(mffce_accs)}/{len(mffce_accs[0])}')"
   ]
  },
  {
   "cell_type": "code",
   "execution_count": 29,
   "metadata": {},
   "outputs": [
    {
     "name": "stderr",
     "output_type": "stream",
     "text": [
      "C:\\Users\\tymot\\projects\\001.smartula\\smartula-analysis\\smartula-analysis\\notebooks\\utils\\data_utils.py:144: UserWarning: Matplotlib is currently using module://ipykernel.pylab.backend_inline, which is a non-GUI backend, so cannot show the figure.\n",
      "  fig.show()\n"
     ]
    },
    {
     "data": {
      "text/plain": "<Figure size 720x576 with 6 Axes>",
      "image/png": "[encoded data removed]"
     },
     "metadata": {
      "needs_background": "light"
     },
     "output_type": "display_data"
    }
   ],
   "source": [
    "from utils.data_utils import plot_hour_shift\n",
    "\n",
    "plot_hour_shift(mfcc_accs, conv_ae_accs, bae_accs, mffce_accs,\n",
    "                labels_list=['mfcc', 'conv', 'bae', 'mfcce'], xticklabels=[str(start_hour) for start_hour in start_hours])"
   ]
  },
  {
   "cell_type": "markdown",
   "metadata": {},
   "source": [
    "Visualize on 2D map, we basically perform TSNE and PCA dimension reduction in order to visualize night and day. Probably this will be not efficent but it is worth to hive a shot."
   ]
  },
  {
   "cell_type": "code",
   "execution_count": null,
   "metadata": {},
   "outputs": [],
   "source": [
    "import matplotlib.pyplot as plt\n",
    "from sklearn.decomposition import PCA\n",
    "from sklearn.manifold import TSNE\n",
    "\n",
    "start_hour = 23\n",
    "end_hour = 2\n",
    "\n",
    "reduce_df = pd.DataFrame(df_hive_data)\n",
    "reduce_df['feature_vector'] = StandardScaler().fit_transform(df_hive_data['feature_vector'].values.tolist()).tolist()\n",
    "\n",
    "reduced_ae_pca = PCA(n_components=2).fit_transform(reduce_df['feature_vector'].values.tolist())\n",
    "reduced_ae_tsne =  TSNE(n_components=2, perplexity=100, learning_rate=500).fit_transform(reduce_df['feature_vector'].values.tolist())\n",
    "is_night_list = (reduce_df.index.hour >= start_hour) | (reduce_df.index.hour <= end_hour)\n",
    "                \n",
    "colors = ['red', 'green', 'blue', 'yellow']\n",
    "labels = ['day', 'night']\n",
    "\n",
    "fig, axs = plt.subplots(2, figsize=(10,10))\n",
    "\n",
    "axs[0].scatter(x=[data[0] for data in reduced_ae_pca],\n",
    "               y=[data[1] for data in reduced_ae_pca],\n",
    "               c=[colors[night] for night in is_night_list],\n",
    "              alpha=0.3)\n",
    "axs[0].set_title('PCA')\n",
    "\n",
    "axs[1].scatter(x=[data[0] for data in reduced_ae_tsne],\n",
    "               y=[data[1] for data in reduced_ae_tsne],\n",
    "               c=[colors[night] for night in is_night_list],\n",
    "              alpha=0.3)\n",
    "axs[1].set_title('TSNE')\n",
    "\n",
    "plt.show()"
   ]
  },
  {
   "cell_type": "code",
   "execution_count": null,
   "metadata": {},
   "outputs": [],
   "source": [
    "pca = PCA().fit(reduce_df['feature_vector'].values.tolist())\n",
    "\n",
    "plt.figure()\n",
    "plt.plot(np.cumsum(pca.explained_variance_ratio_))\n",
    "plt.xlabel('number of components')\n",
    "plt.ylabel('cumulative explained variance');\n",
    "\n",
    "\n"
   ]
  },
  {
   "cell_type": "code",
   "execution_count": null,
   "metadata": {},
   "outputs": [],
   "source": [
    "import matplotlib\n",
    "\n",
    "def plot_distribution(distribution_dict, bin_size):\n",
    "    \"\"\" Plotting distribiution for dictionary elements\"\"\"\n",
    "    colors = ['blue', 'green', 'red', 'yellow', 'black', 'pink', 'purple']\n",
    "    rms_max = 0\n",
    "    rms_min = 65535\n",
    "    for k, v in rmses.items():\n",
    "        if np.max(v) > rms_max:\n",
    "            rms_max = np.max(v)\n",
    "        if np.min(v) < rms_min:\n",
    "            rms_min = np.min(v)\n",
    "        \n",
    "    plt.figure()\n",
    "    for idx, (k, v) in enumerate(distribution_dict.items()):\n",
    "        plt.hist(v, color=colors[idx%len(colors)], bins=int(np.abs(rms_max-rms_min)/bin_size))\n",
    "    plt.show()"
   ]
  },
  {
   "cell_type": "markdown",
   "metadata": {},
   "source": [
    "Part of code for calculating autocorrelaction for specific feature"
   ]
  },
  {
   "cell_type": "code",
   "execution_count": null,
   "metadata": {},
   "outputs": [],
   "source": [
    "import matplotlib.pyplot as plt\n",
    "from statsmodels.graphics.tsaplots import plot_acf, plot_pacf\n",
    "from statsmodels.tsa.stattools import acf\n",
    "\n",
    "%matplotlib widget\n",
    "\n",
    "features = ['conv_ae', 'humidity', 'temperature',\n",
    "            'alcohol', 'aceton', 'jon-amonowy',\n",
    "            'toluen', 'co2', 'siarkowodor',\n",
    "            'metanotiol', 'trimetyloamina', 'wodor', 'co']\n",
    "\n",
    "feature = features[12]\n",
    "data_to_autocorr = df_hive_co_ua\n",
    "\n",
    "roll_len = 3\n",
    "interval = (data_to_autocorr.index[2] - data_to_autocorr.index[1]).seconds//60%60\n",
    "\n",
    "y2 = data_to_autocorr[feature].rolling(window=roll_len).mean().values\n",
    "y_corr = y2[roll_len:]\n",
    "x_corelation = np.arange(start=0, step=2, stop=150)\n",
    "\n",
    "fig, axes = plt.subplots(1, figsize=(8,5))\n",
    "x = plot_acf(y_corr, lags=x_corelation, zero=False, ax=axes)\n",
    "x_raw = acf(y_corr, nlags=150)\n",
    "axes.set_title(f'{feature} autocorrelaction')\n",
    "axes.set_xlabel(f'Lag (1 lag = {interval} minutes)') \n",
    "axes.set_ylabel('Correlation')\n",
    "axes.set_xticks(np.arange(0, 151, step=10))\n",
    "\n",
    "print(f'{feature} with max {max(x_raw[60:]):.2f} at {60 + np.argmax(x_raw[60:])}')\n",
    "\n",
    "# temperature with max 0.74 at 93 (15 mint)\n",
    "# humidity with max 0.58 at 92 (15 min)\n",
    "# alcohol with max 0.53 at 134 (10 min)\n",
    "# aceton with max 0.52 at 133 (10 min)\n",
    "# jon-amonowy with max 0.57 at 133 (10 min)\n",
    "# toluen with max 0.52 at 134 (10 min)\n",
    "# co2 with max 0.54 at 133 (10 min)\n",
    "# siarkowodor with max 0.16 at 142 (10 min)\n",
    "# metanotiol with max 0.34 at 140 (10 min)\n",
    "# trimetyloamina with max 0.56 at 138 (10 min)\n",
    "# wodor with max 0.14 at 142 (10 min)\n",
    "# co with max 0.62 at 134 (10 min)"
   ]
  },
  {
   "cell_type": "code",
   "execution_count": 26,
   "outputs": [
    {
     "data": {
      "text/plain": "<module 'utils.autoencoder_utils' from 'C:\\\\Users\\\\tymot\\\\projects\\\\001.smartula\\\\smartula-analysis\\\\smartula-analysis\\\\notebooks\\\\utils\\\\autoencoder_utils.py'>"
     },
     "execution_count": 26,
     "metadata": {},
     "output_type": "execute_result"
    }
   ],
   "source": [
    "import importlib\n",
    "import utils.autoencoder_utils as ae\n",
    "import utils.data_utils as du\n",
    "\n",
    "importlib.reload(ae)\n"
   ],
   "metadata": {
    "collapsed": false,
    "pycharm": {
     "name": "#%%\n"
    }
   }
  }
 ],
 "metadata": {
  "kernelspec": {
   "display_name": "Python 3",
   "language": "python",
   "name": "python3"
  },
  "language_info": {
   "codemirror_mode": {
    "name": "ipython",
    "version": 3
   },
   "file_extension": ".py",
   "mimetype": "text/x-python",
   "name": "python",
   "nbconvert_exporter": "python",
   "pygments_lexer": "ipython3",
   "version": "3.8.5"
  }
 },
 "nbformat": 4,
 "nbformat_minor": 4
}