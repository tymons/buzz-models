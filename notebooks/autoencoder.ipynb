{
 "cells": [
  {
   "cell_type": "code",
   "execution_count": 182,
   "metadata": {},
   "outputs": [
    {
     "output_type": "execute_result",
     "data": {
      "text/plain": [
       "<module 'data.indice.compute_indice' from 'c:\\\\Users\\\\tymot\\\\projects\\\\001.smartula\\\\smartula-analysis\\\\smartula-analysis\\\\notebooks\\\\data\\\\indice\\\\compute_indice.py'>"
      ]
     },
     "metadata": {},
     "execution_count": 182
    }
   ],
   "source": [
    "\n",
    "import utils.periodogram_dataset_keras as pdk\n",
    "import utils.contrastive_keras as ck\n",
    "import utils.data_utils as du\n",
    "import importlib\n",
    "import data.spectrogram_dataset as sd\n",
    "import data.melspectrogram_dataset as md\n",
    "import data.periodogram_dataset as pd\n",
    "import data.mfcc_dataset as mfcd\n",
    "import data.sound as sound\n",
    "import data.indice.sound_indicies_dataset as si\n",
    "import data.indice.compute_indice as compute_indice\n",
    "import data.double_feature_dataset as dfd\n",
    "\n",
    "importlib.reload(pd)\n",
    "importlib.reload(md)\n",
    "importlib.reload(sound)\n",
    "importlib.reload(mfcd)\n",
    "importlib.reload(si)\n",
    "importlib.reload(sd)\n",
    "importlib.reload(dfd)\n",
    "importlib.reload(compute_indice)\n",
    "\n",
    "\n"
   ]
  },
  {
   "cell_type": "code",
   "execution_count": 21,
   "metadata": {},
   "outputs": [
    {
     "output_type": "stream",
     "name": "stdout",
     "text": [
      "got 39678 sound filenames read for 5 files/folders\n"
     ]
    }
   ],
   "source": [
    "import torch\n",
    "\n",
    "from utils.data_utils import create_valid_sounds_datalist, get_valid_sounds_datalist\n",
    "\n",
    "device = torch.device(\"cuda\" if torch.cuda.is_available() else \"cpu\")\n",
    "\n",
    "CHECK_FILES = False                             # should we perform sound checking (long)\n",
    "\n",
    "root_folder = \"..\\\\measurements\\\\smartulav2\"    # root folder with folder containing sounds\n",
    "valid_filename = \"valid-files.txt\"              # filename for file which will be contain\n",
    "                                                # filenames for valid recordings\n",
    "checked_folders = []\n",
    "if CHECK_FILES:\n",
    "    checked_folders = create_valid_sounds_datalist(root_folder, valid_filename, \"smrpiclient\")\n",
    "else:\n",
    "     checked_folders = [os.path.join(root_folder, \"smrpiclient0_10082020-19012021\"),       \n",
    "                        os.path.join(root_folder, \"smrpiclient3_10082020-19012021\"), \n",
    "                        os.path.join(root_folder, \"smrpiclient5_10082020-19012021\"),    \n",
    "                        os.path.join(root_folder, \"smrpiclient6_10082020-19012021\"),\n",
    "                        os.path.join(root_folder, \"smrpiclient7_10082020-19012021\")]\n",
    "\n",
    "sound_filenames = get_valid_sounds_datalist(checked_folders, valid_filename)"
   ]
  },
  {
   "cell_type": "markdown",
   "metadata": {},
   "source": [
    "# Variational autoencoder\n",
    "\n",
    "1. Convolutional version - dedicated to mel spectrograms and spectrograms\n",
    "2. Simple Autoencoder - fetures extracted from stationary signals and periodograms itself?"
   ]
  },
  {
   "cell_type": "code",
   "execution_count": null,
   "metadata": {},
   "outputs": [],
   "source": [
    "import os\n",
    "import matplotlib.pyplot as plt\n",
    "\n",
    "from data.periodogram_dataset import PeriodogramDataset\n",
    "from data.spectrogram_dataset import SpectrogramDataset\n",
    "from data.melspectrogram_dataset import MelSpectrogramDataset\n",
    "from data.mfcc_dataset import MfccDataset\n",
    "\n",
    "from utils.contrastive_pytorch import VAE, train_vae_model\n",
    "from utils.data_utils import filter_strlist\n",
    "from utils.contrastive_pytorch import ConvolutionalVAE\n",
    "\n",
    "from torch.utils.data import DataLoader, random_split\n",
    "from tqdm import tqdm\n",
    "\n",
    "PATH = 'models\\\\vae-apprirary-approach-10022021.pth'\n",
    "TRAIN = True\n",
    "BATCH_SCALE = True\n",
    "\n",
    "# model for \n",
    "modelVAE = VAE(encoder_layer_sizes=[2048, 512, 64], latent_size=16, decoder_layer_sizes=[64, 512, 2048]).to(device)\n",
    "# model for mfcc \n",
    "mfccVAE = VAE(encoder_layer_sizes=[64, 32], latent_size=4, decoder_layer_sizes=[32, 64]).to(device)\n",
    "# model for spectrogram\n",
    "convVAE = ConvolutionalVAE(encoder_conv_sizes=[128, 64, 32, 16], encoder_mlp_sizes=[1024, 512, 128],\n",
    "                            decoder_conv_sizes=[16, 32, 64, 128], decoder_mlp_sizes=[128, 512, 1024], latent=16).to(device)\n",
    "# model for melspectrogram\n",
    "melsConvVAE = ConvolutionalVAE(encoder_conv_sizes=[128, 64, 32, 16], encoder_mlp_sizes=[256, 128],\n",
    "                            decoder_conv_sizes=[16, 32, 64, 128], decoder_mlp_sizes=[128, 256], latent=16).to(device)\n",
    "\n",
    "if TRAIN:\n",
    "    # training hyperparameters\n",
    "    batch_size = 16\n",
    "    epochs = 10\n",
    "    lr = 1e-3\n",
    "    weight_decay = 1e-5\n",
    "\n",
    "    # prepare train data for complete dataset\n",
    "    train_hives_soundfiles = filter_strlist(sound_filenames, \"smrpiclient6\", \"smrpiclient7\")\n",
    "    print(f\"preparing train dataset with len: {len(train_hives_soundfiles)}...\")\n",
    "\n",
    "    # --- HERE CHOOSE CORRECT DATASET AS FEATURE --- #\n",
    "    # dataset = PeriodogramDataset(train_hives_soundfiles, [\"smrpiclient6\", \"smrpiclient7\"], slice_freq=(0, 2048))    \n",
    "    # dataset = SpectrogramDataset(train_hives_soundfiles, [\"smrpiclient6\", \"smrpiclient7\"], nfft=4096, hop_len=(4096//3)+30, fmax=2750)\n",
    "    # dataset = MelSpectrogramDataset(train_hives_soundfiles, [\"smrpiclient6\", \"smrpiclient7\"], nfft=4096, hop_len=(4096//3)+30, mels=64)\n",
    "    dataset = MfccDataset(train_hives_soundfiles, [\"smrpiclient6\", \"smrpiclient7\"], nfft=4096, hop_len=(4096//3)+30, mels=64)\n",
    "\n",
    "    # --- HERE COOSE CORRECT MODEL --- #\n",
    "    model = mfccVAE\n",
    "\n",
    "    val_amount = int(dataset.__len__() * 0.15)\n",
    "    train_set, val_set = random_split(dataset, [(dataset.__len__() - val_amount), val_amount])\n",
    "    train_loader = DataLoader(train_set, batch_size=batch_size, shuffle=True, num_workers=4)\n",
    "    val_loader = DataLoader(val_set, batch_size=batch_size, shuffle=True, num_workers=4)\n",
    "\n",
    "    # train model\n",
    "    modelVAE = train_vae_model(model, learning_rate=lr, weight_decay=weight_decay, num_epochs=epochs, patience=100, \\\n",
    "                                  dataloader_train=train_loader, dataloader_val=val_loader, scale=BATCH_SCALE, checkpoint_name=PATH)\n",
    "else:\n",
    "    if os.path.isfile(PATH) and os.access(PATH, os.R_OK):\n",
    "        modelVAE.load_state_dict(torch.load(PATH))\n",
    "        print('model load success!')\n",
    "    else:\n",
    "        print(f'ERROR! There is no file: {PATH}')"
   ]
  },
  {
   "source": [
    "### - inference -\n",
    "here we perform inference to see how our vae models handle data"
   ],
   "cell_type": "markdown",
   "metadata": {}
  },
  {
   "cell_type": "code",
   "execution_count": null,
   "metadata": {},
   "outputs": [],
   "source": [
    "import librosa.display\n",
    "from data.melspectrogram_dataset import MelSpectrogramDataset\n",
    "\n",
    "temp_dataset = MelSpectrogramDataset(inference_hives, [\"smrpiclient6\"],  nfft=4096, hop_len=(4096//3)+30, mels=64)\n",
    "\n",
    "for data, label in spec_dataset:\n",
    "    print(data.shape)\n",
    "    break"
   ]
  },
  {
   "cell_type": "code",
   "execution_count": null,
   "metadata": {},
   "outputs": [],
   "source": [
    "import torch\n",
    "import random \n",
    "import matplotlib.pyplot as plt\n",
    "\n",
    "from data.spectrogram_dataset import SpectrogramDataset\n",
    "from data.melspectrogram_dataset import MelSpectrogramDataset\n",
    "\n",
    "inference_hives = filter_strlist(sound_filenames, \"smrpiclient6\")\n",
    "idx = random.randrange(len(inference_hives))\n",
    "\n",
    "spec_dataset = SpectrogramDataset(inference_hives, [\"smrpiclient6\"], nfft=4096, hop_len=(4096//3)+30, fmax=2750)\n",
    "melspec_dataset = MelSpectrogramDataset(inference_hives, [\"smrpiclient6\"], nfft=4096, hop_len=(4096//3)+30, mels=64)\n",
    "\n",
    "(spectrogram_db, freqs, times), _ = spec_dataset.sample(idx)\n",
    "melspectrogram_db, _ = melspec_dataset.sample(idx)\n",
    "\n",
    "with torch.no_grad():\n",
    "    modelVAE.eval()\n",
    "    \n",
    "    fig, axs = plt.subplots(2,2, figsize=(16, 8))\n",
    "\n",
    "    axs[0][0].set_title('orginal spectrogram')\n",
    "    axs[0][0].pcolormesh(times, freqs, spectrogram_db.squeeze())\n",
    "    axs[0][1].set_title('reconstructed spectrogram (convVAE)')\n",
    "    axs[0][1].pcolormesh(times, freqs, modelVAE(spectrogram_db)[0].cpu().squeeze())\n",
    "    \n",
    "    axs[1][0].set_title('original mel-spectrogram')\n",
    "    axs[1][0].imshow(melspectrogram_db.squeeze())"
   ]
  },
  {
   "cell_type": "markdown",
   "metadata": {},
   "source": [
    "# Contrastive Variational Autoencoder\n",
    "\n",
    "-- keras implementation --"
   ]
  },
  {
   "cell_type": "code",
   "execution_count": null,
   "metadata": {},
   "outputs": [],
   "source": [
    "import glob\n",
    "import random \n",
    "\n",
    "from utils.periodogram_dataset_keras import PeriodogramGenerator\n",
    "from utils.contrastive_keras import contrastive_keras_vae\n",
    "from utils.data_utils import filter_strlist\n",
    "from tensorflow import keras\n",
    "\n",
    "bsize = 64\n",
    "TRAIN = True\n",
    "MIXED = True\n",
    "\n",
    "# background_hives = [\"smrpiclient6\", \"smrpiclient5\"]\n",
    "# target_hives = [\"smrpiclient7\"]\n",
    "\n",
    "cvae_keras, _, z_encoder, s_encoder, sb_encoder, cvae_decoder = contrastive_keras_vae(input_dim=2048, intermediate_dim=[512, 64], latent_dim=16,\n",
    "                                                                                        disentangle=True, gamma=1, batch_size=bsize)\n",
    "\n",
    "if TRAIN:        \n",
    "    # prepare train data for complete dataset\n",
    "    target_soundfilenames = filter_strlist(sound_filenames, \"smrpiclient5\")\n",
    "    background_soundfilenames = random.sample(filter_strlist(sound_filenames, \"smrpiclient6\", \"smrpiclient7\"), len(target_soundfilenames))\n",
    "    print(f\"preparing target dataset with len: {len(target_soundfilenames)} and background with len: {len(background_soundfilenames)}\")\n",
    "            \n",
    "    # Prepare dataset and train\n",
    "    train_generator = PeriodogramGenerator(target_soundfilenames, background_soundfilenames, batch_size=bsize, labels=[\"smrpiclient5\"], slice_freq=(0, 2048))\n",
    "    history = cvae_keras.fit(train_generator, epochs=10, batch_size=bsize, verbose=1)\n",
    "\n",
    "    cvae_keras.save_weights('models/cvae_keras_weights_10022021.h5')\n",
    "    sb_encoder.save_weights('models/sb_encoder_weights_10022021.h5')\n",
    "    cvae_decoder.save_weights('models/cvae_decoder_weights_10022021.h5')\n",
    "else:\n",
    "    cvae_keras.load_weights('models/cvae_keras_weights_10022021.h5')\n",
    "    sb_encoder.load_weights('models/sb_encoder_weights_10022021.h5')\n",
    "    cvae_decoder.load_weights('models/cvae_decoder_weights_10022021.h5')\n",
    "    print(f'model loaded successfully')\n"
   ]
  },
  {
   "source": [
    "-- pytorch implementation --"
   ],
   "cell_type": "markdown",
   "metadata": {}
  },
  {
   "cell_type": "code",
   "execution_count": 129,
   "metadata": {
    "tags": []
   },
   "outputs": [
    {
     "output_type": "stream",
     "name": "stdout",
     "text": [
      "(86, 1024)\n"
     ]
    }
   ],
   "source": [
    "import numpy as np\n",
    "\n",
    "from scipy import signal\n",
    "from data.sound import read_samples\n",
    "\n",
    "W = signal.get_window('hanning', 1024, fftbins=False)\n",
    "samples, sampling_rate = read_samples(target_soundfilenames[0], raw=True)\n",
    "\n",
    "time_shift = int(1024/2)\n",
    "times = range(time_shift, len(samples)+1-time_shift, 1024) # centered\n",
    "frames = [samples[i-time_shift:i+time_shift]*W for i in times] # centered frames\n",
    "\n",
    "windowed_signal = np.array([frame*W for frame in frames])\n",
    "print(windowed_signal.shape)\n"
   ]
  },
  {
   "cell_type": "code",
   "execution_count": 185,
   "metadata": {},
   "outputs": [
    {
     "output_type": "stream",
     "name": "stdout",
     "text": [
      "preparing target dataset with len: 10947 and background with len: 10947\nparams: scale_db(False), slice_freq((0, 3000))\nparams: scale_db(False), slice_freq((0, 3000))\n"
     ]
    },
    {
     "output_type": "display_data",
     "data": {
      "text/plain": "<Figure size 432x288 with 2 Axes>",
      "image/svg+xml": "<?xml version=\"1.0\" encoding=\"utf-8\" standalone=\"no\"?>\r\n<!DOCTYPE svg PUBLIC \"-//W3C//DTD SVG 1.1//EN\"\r\n  \"http://www.w3.org/Graphics/SVG/1.1/DTD/svg11.dtd\">\r\n<!-- Created with matplotlib (https://matplotlib.org/) -->\r\n<svg height=\"259.116562pt\" version=\"1.1\" viewBox=\"0 0 372.103125 259.116562\" width=\"372.103125pt\" xmlns=\"http://www.w3.org/2000/svg\" xmlns:xlink=\"http://www.w3.org/1999/xlink\">\r\n <metadata>\r\n  <rdf:RDF xmlns:cc=\"http://creativecommons.org/ns#\" xmlns:dc=\"http://purl.org/dc/elements/1.1/\" xmlns:rdf=\"http://www.w3.org/1999/02/22-rdf-syntax-ns#\">\r\n   <cc:Work>\r\n    <dc:type rdf:resource=\"http://purl.org/dc/dcmitype/StillImage\"/>\r\n    <dc:date>2021-03-03T12:24:12.529062</dc:date>\r\n    <dc:format>image/svg+xml</dc:format>\r\n    <dc:creator>\r\n     <cc:Agent>\r\n      <dc:title>Matplotlib v3.3.4, https://matplotlib.org/</dc:title>\r\n     </cc:Agent>\r\n    </dc:creator>\r\n   </cc:Work>\r\n  </rdf:RDF>\r\n </metadata>\r\n <defs>\r\n  <style type=\"text/css\">*{stroke-linecap:butt;stroke-linejoin:round;}</style>\r\n </defs>\r\n <g id=\"figure_1\">\r\n  <g id=\"patch_1\">\r\n   <path d=\"M 0 259.116562 \r\nL 372.103125 259.116562 \r\nL 372.103125 0 \r\nL 0 0 \r\nz\r\n\" style=\"fill:none;\"/>\r\n  </g>\r\n  <g id=\"axes_1\">\r\n   <g id=\"patch_2\">\r\n    <path d=\"M 30.103125 116.634801 \r\nL 364.903125 116.634801 \r\nL 364.903125 17.798437 \r\nL 30.103125 17.798437 \r\nz\r\n\" style=\"fill:#ffffff;\"/>\r\n   </g>\r\n   <g id=\"matplotlib.axis_1\">\r\n    <g id=\"xtick_1\">\r\n     <g id=\"line2d_1\">\r\n      <defs>\r\n       <path d=\"M 0 0 \r\nL 0 3.5 \r\n\" id=\"m197713d7a9\" style=\"stroke:#000000;stroke-width:0.8;\"/>\r\n      </defs>\r\n      <g>\r\n       <use style=\"stroke:#000000;stroke-width:0.8;\" x=\"45.219818\" xlink:href=\"#m197713d7a9\" y=\"116.634801\"/>\r\n      </g>\r\n     </g>\r\n     <g id=\"text_1\">\r\n      <!-- 0 -->\r\n      <g transform=\"translate(42.038568 131.233239)scale(0.1 -0.1)\">\r\n       <defs>\r\n        <path d=\"M 31.78125 66.40625 \r\nQ 24.171875 66.40625 20.328125 58.90625 \r\nQ 16.5 51.421875 16.5 36.375 \r\nQ 16.5 21.390625 20.328125 13.890625 \r\nQ 24.171875 6.390625 31.78125 6.390625 \r\nQ 39.453125 6.390625 43.28125 13.890625 \r\nQ 47.125 21.390625 47.125 36.375 \r\nQ 47.125 51.421875 43.28125 58.90625 \r\nQ 39.453125 66.40625 31.78125 66.40625 \r\nz\r\nM 31.78125 74.21875 \r\nQ 44.046875 74.21875 50.515625 64.515625 \r\nQ 56.984375 54.828125 56.984375 36.375 \r\nQ 56.984375 17.96875 50.515625 8.265625 \r\nQ 44.046875 -1.421875 31.78125 -1.421875 \r\nQ 19.53125 -1.421875 13.0625 8.265625 \r\nQ 6.59375 17.96875 6.59375 36.375 \r\nQ 6.59375 54.828125 13.0625 64.515625 \r\nQ 19.53125 74.21875 31.78125 74.21875 \r\nz\r\n\" id=\"DejaVuSans-48\"/>\r\n       </defs>\r\n       <use xlink:href=\"#DejaVuSans-48\"/>\r\n      </g>\r\n     </g>\r\n    </g>\r\n    <g id=\"xtick_2\">\r\n     <g id=\"line2d_2\">\r\n      <g>\r\n       <use style=\"stroke:#000000;stroke-width:0.8;\" x=\"95.964006\" xlink:href=\"#m197713d7a9\" y=\"116.634801\"/>\r\n      </g>\r\n     </g>\r\n     <g id=\"text_2\">\r\n      <!-- 500 -->\r\n      <g transform=\"translate(86.420256 131.233239)scale(0.1 -0.1)\">\r\n       <defs>\r\n        <path d=\"M 10.796875 72.90625 \r\nL 49.515625 72.90625 \r\nL 49.515625 64.59375 \r\nL 19.828125 64.59375 \r\nL 19.828125 46.734375 \r\nQ 21.96875 47.46875 24.109375 47.828125 \r\nQ 26.265625 48.1875 28.421875 48.1875 \r\nQ 40.625 48.1875 47.75 41.5 \r\nQ 54.890625 34.8125 54.890625 23.390625 \r\nQ 54.890625 11.625 47.5625 5.09375 \r\nQ 40.234375 -1.421875 26.90625 -1.421875 \r\nQ 22.3125 -1.421875 17.546875 -0.640625 \r\nQ 12.796875 0.140625 7.71875 1.703125 \r\nL 7.71875 11.625 \r\nQ 12.109375 9.234375 16.796875 8.0625 \r\nQ 21.484375 6.890625 26.703125 6.890625 \r\nQ 35.15625 6.890625 40.078125 11.328125 \r\nQ 45.015625 15.765625 45.015625 23.390625 \r\nQ 45.015625 31 40.078125 35.4375 \r\nQ 35.15625 39.890625 26.703125 39.890625 \r\nQ 22.75 39.890625 18.8125 39.015625 \r\nQ 14.890625 38.140625 10.796875 36.28125 \r\nz\r\n\" id=\"DejaVuSans-53\"/>\r\n       </defs>\r\n       <use xlink:href=\"#DejaVuSans-53\"/>\r\n       <use x=\"63.623047\" xlink:href=\"#DejaVuSans-48\"/>\r\n       <use x=\"127.246094\" xlink:href=\"#DejaVuSans-48\"/>\r\n      </g>\r\n     </g>\r\n    </g>\r\n    <g id=\"xtick_3\">\r\n     <g id=\"line2d_3\">\r\n      <g>\r\n       <use style=\"stroke:#000000;stroke-width:0.8;\" x=\"146.708193\" xlink:href=\"#m197713d7a9\" y=\"116.634801\"/>\r\n      </g>\r\n     </g>\r\n     <g id=\"text_3\">\r\n      <!-- 1000 -->\r\n      <g transform=\"translate(133.983193 131.233239)scale(0.1 -0.1)\">\r\n       <defs>\r\n        <path d=\"M 12.40625 8.296875 \r\nL 28.515625 8.296875 \r\nL 28.515625 63.921875 \r\nL 10.984375 60.40625 \r\nL 10.984375 69.390625 \r\nL 28.421875 72.90625 \r\nL 38.28125 72.90625 \r\nL 38.28125 8.296875 \r\nL 54.390625 8.296875 \r\nL 54.390625 0 \r\nL 12.40625 0 \r\nz\r\n\" id=\"DejaVuSans-49\"/>\r\n       </defs>\r\n       <use xlink:href=\"#DejaVuSans-49\"/>\r\n       <use x=\"63.623047\" xlink:href=\"#DejaVuSans-48\"/>\r\n       <use x=\"127.246094\" xlink:href=\"#DejaVuSans-48\"/>\r\n       <use x=\"190.869141\" xlink:href=\"#DejaVuSans-48\"/>\r\n      </g>\r\n     </g>\r\n    </g>\r\n    <g id=\"xtick_4\">\r\n     <g id=\"line2d_4\">\r\n      <g>\r\n       <use style=\"stroke:#000000;stroke-width:0.8;\" x=\"197.452381\" xlink:href=\"#m197713d7a9\" y=\"116.634801\"/>\r\n      </g>\r\n     </g>\r\n     <g id=\"text_4\">\r\n      <!-- 1500 -->\r\n      <g transform=\"translate(184.727381 131.233239)scale(0.1 -0.1)\">\r\n       <use xlink:href=\"#DejaVuSans-49\"/>\r\n       <use x=\"63.623047\" xlink:href=\"#DejaVuSans-53\"/>\r\n       <use x=\"127.246094\" xlink:href=\"#DejaVuSans-48\"/>\r\n       <use x=\"190.869141\" xlink:href=\"#DejaVuSans-48\"/>\r\n      </g>\r\n     </g>\r\n    </g>\r\n    <g id=\"xtick_5\">\r\n     <g id=\"line2d_5\">\r\n      <g>\r\n       <use style=\"stroke:#000000;stroke-width:0.8;\" x=\"248.196568\" xlink:href=\"#m197713d7a9\" y=\"116.634801\"/>\r\n      </g>\r\n     </g>\r\n     <g id=\"text_5\">\r\n      <!-- 2000 -->\r\n      <g transform=\"translate(235.471568 131.233239)scale(0.1 -0.1)\">\r\n       <defs>\r\n        <path d=\"M 19.1875 8.296875 \r\nL 53.609375 8.296875 \r\nL 53.609375 0 \r\nL 7.328125 0 \r\nL 7.328125 8.296875 \r\nQ 12.9375 14.109375 22.625 23.890625 \r\nQ 32.328125 33.6875 34.8125 36.53125 \r\nQ 39.546875 41.84375 41.421875 45.53125 \r\nQ 43.3125 49.21875 43.3125 52.78125 \r\nQ 43.3125 58.59375 39.234375 62.25 \r\nQ 35.15625 65.921875 28.609375 65.921875 \r\nQ 23.96875 65.921875 18.8125 64.3125 \r\nQ 13.671875 62.703125 7.8125 59.421875 \r\nL 7.8125 69.390625 \r\nQ 13.765625 71.78125 18.9375 73 \r\nQ 24.125 74.21875 28.421875 74.21875 \r\nQ 39.75 74.21875 46.484375 68.546875 \r\nQ 53.21875 62.890625 53.21875 53.421875 \r\nQ 53.21875 48.921875 51.53125 44.890625 \r\nQ 49.859375 40.875 45.40625 35.40625 \r\nQ 44.1875 33.984375 37.640625 27.21875 \r\nQ 31.109375 20.453125 19.1875 8.296875 \r\nz\r\n\" id=\"DejaVuSans-50\"/>\r\n       </defs>\r\n       <use xlink:href=\"#DejaVuSans-50\"/>\r\n       <use x=\"63.623047\" xlink:href=\"#DejaVuSans-48\"/>\r\n       <use x=\"127.246094\" xlink:href=\"#DejaVuSans-48\"/>\r\n       <use x=\"190.869141\" xlink:href=\"#DejaVuSans-48\"/>\r\n      </g>\r\n     </g>\r\n    </g>\r\n    <g id=\"xtick_6\">\r\n     <g id=\"line2d_6\">\r\n      <g>\r\n       <use style=\"stroke:#000000;stroke-width:0.8;\" x=\"298.940756\" xlink:href=\"#m197713d7a9\" y=\"116.634801\"/>\r\n      </g>\r\n     </g>\r\n     <g id=\"text_6\">\r\n      <!-- 2500 -->\r\n      <g transform=\"translate(286.215756 131.233239)scale(0.1 -0.1)\">\r\n       <use xlink:href=\"#DejaVuSans-50\"/>\r\n       <use x=\"63.623047\" xlink:href=\"#DejaVuSans-53\"/>\r\n       <use x=\"127.246094\" xlink:href=\"#DejaVuSans-48\"/>\r\n       <use x=\"190.869141\" xlink:href=\"#DejaVuSans-48\"/>\r\n      </g>\r\n     </g>\r\n    </g>\r\n    <g id=\"xtick_7\">\r\n     <g id=\"line2d_7\">\r\n      <g>\r\n       <use style=\"stroke:#000000;stroke-width:0.8;\" x=\"349.684943\" xlink:href=\"#m197713d7a9\" y=\"116.634801\"/>\r\n      </g>\r\n     </g>\r\n     <g id=\"text_7\">\r\n      <!-- 3000 -->\r\n      <g transform=\"translate(336.959943 131.233239)scale(0.1 -0.1)\">\r\n       <defs>\r\n        <path d=\"M 40.578125 39.3125 \r\nQ 47.65625 37.796875 51.625 33 \r\nQ 55.609375 28.21875 55.609375 21.1875 \r\nQ 55.609375 10.40625 48.1875 4.484375 \r\nQ 40.765625 -1.421875 27.09375 -1.421875 \r\nQ 22.515625 -1.421875 17.65625 -0.515625 \r\nQ 12.796875 0.390625 7.625 2.203125 \r\nL 7.625 11.71875 \r\nQ 11.71875 9.328125 16.59375 8.109375 \r\nQ 21.484375 6.890625 26.8125 6.890625 \r\nQ 36.078125 6.890625 40.9375 10.546875 \r\nQ 45.796875 14.203125 45.796875 21.1875 \r\nQ 45.796875 27.640625 41.28125 31.265625 \r\nQ 36.765625 34.90625 28.71875 34.90625 \r\nL 20.21875 34.90625 \r\nL 20.21875 43.015625 \r\nL 29.109375 43.015625 \r\nQ 36.375 43.015625 40.234375 45.921875 \r\nQ 44.09375 48.828125 44.09375 54.296875 \r\nQ 44.09375 59.90625 40.109375 62.90625 \r\nQ 36.140625 65.921875 28.71875 65.921875 \r\nQ 24.65625 65.921875 20.015625 65.03125 \r\nQ 15.375 64.15625 9.8125 62.3125 \r\nL 9.8125 71.09375 \r\nQ 15.4375 72.65625 20.34375 73.4375 \r\nQ 25.25 74.21875 29.59375 74.21875 \r\nQ 40.828125 74.21875 47.359375 69.109375 \r\nQ 53.90625 64.015625 53.90625 55.328125 \r\nQ 53.90625 49.265625 50.4375 45.09375 \r\nQ 46.96875 40.921875 40.578125 39.3125 \r\nz\r\n\" id=\"DejaVuSans-51\"/>\r\n       </defs>\r\n       <use xlink:href=\"#DejaVuSans-51\"/>\r\n       <use x=\"63.623047\" xlink:href=\"#DejaVuSans-48\"/>\r\n       <use x=\"127.246094\" xlink:href=\"#DejaVuSans-48\"/>\r\n       <use x=\"190.869141\" xlink:href=\"#DejaVuSans-48\"/>\r\n      </g>\r\n     </g>\r\n    </g>\r\n   </g>\r\n   <g id=\"matplotlib.axis_2\">\r\n    <g id=\"ytick_1\">\r\n     <g id=\"line2d_8\">\r\n      <defs>\r\n       <path d=\"M 0 0 \r\nL -3.5 0 \r\n\" id=\"m19b5afce19\" style=\"stroke:#000000;stroke-width:0.8;\"/>\r\n      </defs>\r\n      <g>\r\n       <use style=\"stroke:#000000;stroke-width:0.8;\" x=\"30.103125\" xlink:href=\"#m19b5afce19\" y=\"112.180115\"/>\r\n      </g>\r\n     </g>\r\n     <g id=\"text_8\">\r\n      <!-- 0 -->\r\n      <g transform=\"translate(16.740625 115.979334)scale(0.1 -0.1)\">\r\n       <use xlink:href=\"#DejaVuSans-48\"/>\r\n      </g>\r\n     </g>\r\n    </g>\r\n    <g id=\"ytick_2\">\r\n     <g id=\"line2d_9\">\r\n      <g>\r\n       <use style=\"stroke:#000000;stroke-width:0.8;\" x=\"30.103125\" xlink:href=\"#m19b5afce19\" y=\"65.014984\"/>\r\n      </g>\r\n     </g>\r\n     <g id=\"text_9\">\r\n      <!-- 2 -->\r\n      <g transform=\"translate(16.740625 68.814202)scale(0.1 -0.1)\">\r\n       <use xlink:href=\"#DejaVuSans-50\"/>\r\n      </g>\r\n     </g>\r\n    </g>\r\n    <g id=\"ytick_3\">\r\n     <g id=\"line2d_10\">\r\n      <g>\r\n       <use style=\"stroke:#000000;stroke-width:0.8;\" x=\"30.103125\" xlink:href=\"#m19b5afce19\" y=\"17.849852\"/>\r\n      </g>\r\n     </g>\r\n     <g id=\"text_10\">\r\n      <!-- 4 -->\r\n      <g transform=\"translate(16.740625 21.649071)scale(0.1 -0.1)\">\r\n       <defs>\r\n        <path d=\"M 37.796875 64.3125 \r\nL 12.890625 25.390625 \r\nL 37.796875 25.390625 \r\nz\r\nM 35.203125 72.90625 \r\nL 47.609375 72.90625 \r\nL 47.609375 25.390625 \r\nL 58.015625 25.390625 \r\nL 58.015625 17.1875 \r\nL 47.609375 17.1875 \r\nL 47.609375 0 \r\nL 37.796875 0 \r\nL 37.796875 17.1875 \r\nL 4.890625 17.1875 \r\nL 4.890625 26.703125 \r\nz\r\n\" id=\"DejaVuSans-52\"/>\r\n       </defs>\r\n       <use xlink:href=\"#DejaVuSans-52\"/>\r\n      </g>\r\n     </g>\r\n    </g>\r\n    <g id=\"text_11\">\r\n     <!-- 1e9 -->\r\n     <g transform=\"translate(30.103125 14.798437)scale(0.1 -0.1)\">\r\n      <defs>\r\n       <path d=\"M 56.203125 29.59375 \r\nL 56.203125 25.203125 \r\nL 14.890625 25.203125 \r\nQ 15.484375 15.921875 20.484375 11.0625 \r\nQ 25.484375 6.203125 34.421875 6.203125 \r\nQ 39.59375 6.203125 44.453125 7.46875 \r\nQ 49.3125 8.734375 54.109375 11.28125 \r\nL 54.109375 2.78125 \r\nQ 49.265625 0.734375 44.1875 -0.34375 \r\nQ 39.109375 -1.421875 33.890625 -1.421875 \r\nQ 20.796875 -1.421875 13.15625 6.1875 \r\nQ 5.515625 13.8125 5.515625 26.8125 \r\nQ 5.515625 40.234375 12.765625 48.109375 \r\nQ 20.015625 56 32.328125 56 \r\nQ 43.359375 56 49.78125 48.890625 \r\nQ 56.203125 41.796875 56.203125 29.59375 \r\nz\r\nM 47.21875 32.234375 \r\nQ 47.125 39.59375 43.09375 43.984375 \r\nQ 39.0625 48.390625 32.421875 48.390625 \r\nQ 24.90625 48.390625 20.390625 44.140625 \r\nQ 15.875 39.890625 15.1875 32.171875 \r\nz\r\n\" id=\"DejaVuSans-101\"/>\r\n       <path d=\"M 10.984375 1.515625 \r\nL 10.984375 10.5 \r\nQ 14.703125 8.734375 18.5 7.8125 \r\nQ 22.3125 6.890625 25.984375 6.890625 \r\nQ 35.75 6.890625 40.890625 13.453125 \r\nQ 46.046875 20.015625 46.78125 33.40625 \r\nQ 43.953125 29.203125 39.59375 26.953125 \r\nQ 35.25 24.703125 29.984375 24.703125 \r\nQ 19.046875 24.703125 12.671875 31.3125 \r\nQ 6.296875 37.9375 6.296875 49.421875 \r\nQ 6.296875 60.640625 12.9375 67.421875 \r\nQ 19.578125 74.21875 30.609375 74.21875 \r\nQ 43.265625 74.21875 49.921875 64.515625 \r\nQ 56.59375 54.828125 56.59375 36.375 \r\nQ 56.59375 19.140625 48.40625 8.859375 \r\nQ 40.234375 -1.421875 26.421875 -1.421875 \r\nQ 22.703125 -1.421875 18.890625 -0.6875 \r\nQ 15.09375 0.046875 10.984375 1.515625 \r\nz\r\nM 30.609375 32.421875 \r\nQ 37.25 32.421875 41.125 36.953125 \r\nQ 45.015625 41.5 45.015625 49.421875 \r\nQ 45.015625 57.28125 41.125 61.84375 \r\nQ 37.25 66.40625 30.609375 66.40625 \r\nQ 23.96875 66.40625 20.09375 61.84375 \r\nQ 16.21875 57.28125 16.21875 49.421875 \r\nQ 16.21875 41.5 20.09375 36.953125 \r\nQ 23.96875 32.421875 30.609375 32.421875 \r\nz\r\n\" id=\"DejaVuSans-57\"/>\r\n      </defs>\r\n      <use xlink:href=\"#DejaVuSans-49\"/>\r\n      <use x=\"63.623047\" xlink:href=\"#DejaVuSans-101\"/>\r\n      <use x=\"125.146484\" xlink:href=\"#DejaVuSans-57\"/>\r\n     </g>\r\n    </g>\r\n   </g>\r\n   <g id=\"line2d_11\">\r\n    <path clip-path=\"url(#pdc177f8152)\" d=\"M 45.321307 86.733955 \r\nL 45.422795 74.05348 \r\nL 45.524284 104.717351 \r\nL 45.72726 84.928682 \r\nL 45.828749 106.9239 \r\nL 45.930237 95.987003 \r\nL 46.031725 107.279276 \r\nL 46.133214 105.648337 \r\nL 46.234702 93.00494 \r\nL 46.336191 103.993026 \r\nL 46.437679 92.062905 \r\nL 46.539167 105.718163 \r\nL 46.640656 105.556821 \r\nL 46.742144 98.336876 \r\nL 46.843632 107.286602 \r\nL 46.945121 104.615052 \r\nL 47.046609 106.318372 \r\nL 47.148098 103.10208 \r\nL 47.249586 85.61355 \r\nL 47.554051 102.243696 \r\nL 47.757028 104.378448 \r\nL 47.858516 103.851689 \r\nL 47.960005 110.057211 \r\nL 48.061493 106.220402 \r\nL 48.162981 108.229531 \r\nL 48.365958 96.601827 \r\nL 48.467446 110.71198 \r\nL 48.568935 101.836375 \r\nL 48.670423 106.513977 \r\nL 48.771912 104.308381 \r\nL 48.8734 106.312307 \r\nL 48.974888 99.172216 \r\nL 49.177865 105.836895 \r\nL 49.380842 90.180657 \r\nL 49.583819 108.839105 \r\nL 49.786795 102.629594 \r\nL 49.888284 106.266789 \r\nL 49.989772 98.927261 \r\nL 50.192749 104.400335 \r\nL 50.294237 95.825462 \r\nL 50.395726 101.034911 \r\nL 50.497214 96.005817 \r\nL 50.598702 107.950265 \r\nL 50.700191 105.034316 \r\nL 50.801679 111.198915 \r\nL 51.106144 102.425765 \r\nL 51.207633 99.457993 \r\nL 51.309121 93.215066 \r\nL 51.512098 106.798999 \r\nL 51.613586 106.394317 \r\nL 51.715074 105.68541 \r\nL 51.918051 106.648609 \r\nL 52.01954 99.863114 \r\nL 52.121028 108.906474 \r\nL 52.222516 92.320077 \r\nL 52.324005 101.126521 \r\nL 52.526981 89.452105 \r\nL 52.729958 96.960504 \r\nL 52.831447 97.147 \r\nL 53.034423 100.151063 \r\nL 53.135912 60.318333 \r\nL 53.2374 93.785045 \r\nL 53.338888 93.064208 \r\nL 53.440377 94.490978 \r\nL 53.643354 83.322849 \r\nL 53.744842 91.767559 \r\nL 53.84633 82.322652 \r\nL 53.947819 90.553055 \r\nL 54.049307 40.996736 \r\nL 54.150795 54.152732 \r\nL 54.353772 94.260252 \r\nL 54.455261 87.177393 \r\nL 54.556749 64.522791 \r\nL 54.658237 84.513973 \r\nL 54.861214 50.883652 \r\nL 55.064191 96.785997 \r\nL 55.165679 75.494143 \r\nL 55.267168 98.495807 \r\nL 55.368656 97.046465 \r\nL 55.470144 99.546374 \r\nL 55.571633 83.240158 \r\nL 55.673121 95.079352 \r\nL 55.774609 91.53183 \r\nL 55.876098 80.967257 \r\nL 56.079075 108.925592 \r\nL 56.180563 99.893357 \r\nL 56.282051 100.177383 \r\nL 56.38354 100.400919 \r\nL 56.485028 108.472694 \r\nL 56.586516 106.158941 \r\nL 56.688005 96.938781 \r\nL 56.789493 97.850935 \r\nL 57.093958 107.471431 \r\nL 57.195447 104.039152 \r\nL 57.296935 96.316302 \r\nL 57.499912 111.424833 \r\nL 57.6014 108.797584 \r\nL 57.702889 109.663717 \r\nL 57.804377 105.205727 \r\nL 57.905865 108.84517 \r\nL 58.007354 95.100441 \r\nL 58.21033 110.563915 \r\nL 58.311819 110.993944 \r\nL 58.514796 106.35327 \r\nL 58.616284 107.52413 \r\nL 58.717772 99.108135 \r\nL 58.920749 105.225039 \r\nL 59.225214 107.842815 \r\nL 59.326703 108.04606 \r\nL 59.529679 105.557756 \r\nL 59.631168 105.4671 \r\nL 59.834144 108.416627 \r\nL 59.935633 109.513714 \r\nL 60.037121 101.990244 \r\nL 60.13861 102.792136 \r\nL 60.240098 98.755738 \r\nL 60.341586 100.85031 \r\nL 60.443075 107.737649 \r\nL 60.544563 106.466586 \r\nL 60.646051 101.624032 \r\nL 60.74754 103.166881 \r\nL 60.950517 87.768454 \r\nL 61.052005 88.997413 \r\nL 61.153493 109.082827 \r\nL 61.254982 103.63363 \r\nL 61.35647 84.556864 \r\nL 61.457958 99.001909 \r\nL 61.559447 95.625682 \r\nL 61.660935 80.917514 \r\nL 61.762424 93.763597 \r\nL 61.863912 78.893673 \r\nL 62.066889 95.944911 \r\nL 62.168377 93.85873 \r\nL 62.371354 94.595304 \r\nL 62.472842 82.835609 \r\nL 62.574331 103.670698 \r\nL 62.675819 47.008879 \r\nL 62.777307 99.829144 \r\nL 62.878796 57.710646 \r\nL 62.980284 61.525929 \r\nL 63.081772 31.05793 \r\nL 63.183261 91.657243 \r\nL 63.386238 47.444748 \r\nL 63.487726 89.412957 \r\nL 63.589214 62.525893 \r\nL 63.690703 91.594598 \r\nL 63.893679 67.781979 \r\nL 63.995168 62.457894 \r\nL 64.096656 104.570715 \r\nL 64.198145 71.303993 \r\nL 64.299633 80.785431 \r\nL 64.401121 105.397341 \r\nL 64.50261 73.191754 \r\nL 64.604098 98.864804 \r\nL 64.705586 92.328228 \r\nL 64.807075 108.71934 \r\nL 64.908563 104.333837 \r\nL 65.010052 79.911966 \r\nL 65.213028 100.82948 \r\nL 65.314517 100.471213 \r\nL 65.416005 84.080428 \r\nL 65.517493 96.824409 \r\nL 65.72047 87.445119 \r\nL 65.821959 91.742369 \r\nL 65.923447 78.874804 \r\nL 66.024935 103.815544 \r\nL 66.126424 81.769991 \r\nL 66.227912 109.013264 \r\nL 66.532377 86.892239 \r\nL 66.633866 97.407779 \r\nL 66.735354 95.87137 \r\nL 66.836842 98.308267 \r\nL 66.938331 109.625032 \r\nL 67.039819 107.572055 \r\nL 67.242796 97.409655 \r\nL 67.344284 108.744967 \r\nL 67.445773 98.694392 \r\nL 67.547261 104.204608 \r\nL 67.648749 91.420349 \r\nL 67.851726 96.658621 \r\nL 68.156191 104.936154 \r\nL 68.25768 100.209018 \r\nL 68.359168 100.947618 \r\nL 68.765121 108.710545 \r\nL 68.86661 93.241792 \r\nL 69.069587 105.406615 \r\nL 69.171075 103.546056 \r\nL 69.47554 108.851403 \r\nL 69.577028 107.097338 \r\nL 69.678517 102.495561 \r\nL 69.881494 106.955575 \r\nL 69.982982 107.665508 \r\nL 70.08447 101.88461 \r\nL 70.287447 111.248858 \r\nL 70.490424 90.227531 \r\nL 70.591912 99.520641 \r\nL 70.693401 89.313973 \r\nL 70.794889 104.552464 \r\nL 70.896377 92.471242 \r\nL 71.099354 106.658514 \r\nL 71.200842 106.317648 \r\nL 71.302331 97.000284 \r\nL 71.403819 103.541928 \r\nL 71.505308 94.425732 \r\nL 71.606796 104.961428 \r\nL 71.708284 97.699445 \r\nL 71.809773 105.072346 \r\nL 72.012749 95.584409 \r\nL 72.114238 105.968067 \r\nL 72.215726 103.257144 \r\nL 72.418703 84.429613 \r\nL 72.520191 101.716525 \r\nL 72.62168 87.78894 \r\nL 72.926145 103.283416 \r\nL 73.027633 97.030059 \r\nL 73.129122 83.376081 \r\nL 73.23061 93.874614 \r\nL 73.332098 93.509287 \r\nL 73.433587 75.310853 \r\nL 73.535075 76.920803 \r\nL 73.738052 95.357908 \r\nL 73.83954 86.169781 \r\nL 73.941029 104.096532 \r\nL 74.042517 71.253027 \r\nL 74.144005 92.456113 \r\nL 74.245494 82.197964 \r\nL 74.346982 86.509358 \r\nL 74.44847 107.874562 \r\nL 74.549959 101.651527 \r\nL 74.651447 108.272198 \r\nL 74.854424 82.43043 \r\nL 75.057401 99.478213 \r\nL 75.158889 79.169229 \r\nL 75.260377 83.88902 \r\nL 75.361866 100.595132 \r\nL 75.463354 44.535023 \r\nL 75.666331 89.705725 \r\nL 75.767819 90.775791 \r\nL 75.869308 85.995254 \r\nL 75.970796 73.554025 \r\nL 76.072284 88.78786 \r\nL 76.173773 22.290999 \r\nL 76.275261 77.786749 \r\nL 76.37675 56.9171 \r\nL 76.478238 70.249794 \r\nL 76.579726 105.770197 \r\nL 76.681215 56.409818 \r\nL 76.884191 106.391709 \r\nL 76.98568 84.799777 \r\nL 77.087168 92.900199 \r\nL 77.188657 77.107136 \r\nL 77.290145 84.632144 \r\nL 77.391633 71.542997 \r\nL 77.59461 102.037919 \r\nL 77.696098 106.191609 \r\nL 77.899075 92.264707 \r\nL 78.000564 105.133158 \r\nL 78.102052 83.980229 \r\nL 78.305029 108.35198 \r\nL 78.406517 94.605012 \r\nL 78.609494 102.237257 \r\nL 78.812471 92.592889 \r\nL 78.913959 89.051808 \r\nL 79.218424 104.307355 \r\nL 79.319912 90.676431 \r\nL 79.421401 103.963755 \r\nL 79.522889 89.831871 \r\nL 79.624378 100.416362 \r\nL 79.725866 91.267094 \r\nL 79.928843 106.733342 \r\nL 80.030331 97.043044 \r\nL 80.131819 102.21652 \r\nL 80.233308 94.052815 \r\nL 80.334796 102.441159 \r\nL 80.436285 99.056195 \r\nL 80.537773 101.27942 \r\nL 80.639261 98.967417 \r\nL 80.74075 104.730777 \r\nL 80.842238 102.984578 \r\nL 80.943726 94.777511 \r\nL 81.045215 104.267889 \r\nL 81.146703 101.570243 \r\nL 81.248192 102.301851 \r\nL 81.34968 96.100963 \r\nL 81.654145 107.508102 \r\nL 81.755633 98.995289 \r\nL 81.95861 106.003178 \r\nL 82.060099 100.204284 \r\nL 82.161587 109.105745 \r\nL 82.263075 104.21776 \r\nL 82.364564 106.463062 \r\nL 82.466052 94.579941 \r\nL 82.56754 99.878992 \r\nL 82.669029 97.791947 \r\nL 82.770517 106.050128 \r\nL 82.973494 101.117205 \r\nL 83.074982 101.481886 \r\nL 83.176471 101.264893 \r\nL 83.277959 102.028106 \r\nL 83.379447 110.041428 \r\nL 83.480936 108.143492 \r\nL 83.886889 93.335737 \r\nL 84.089866 105.548826 \r\nL 84.191354 97.111793 \r\nL 84.292843 104.261783 \r\nL 84.394331 90.589901 \r\nL 84.49582 104.81531 \r\nL 84.597308 91.9696 \r\nL 84.698796 100.862474 \r\nL 84.800285 76.5187 \r\nL 84.901773 85.987665 \r\nL 85.003261 85.750161 \r\nL 85.10475 82.982499 \r\nL 85.206238 107.71752 \r\nL 85.409215 83.267069 \r\nL 85.612192 107.179638 \r\nL 85.71368 71.014198 \r\nL 85.815168 92.991147 \r\nL 85.916657 69.883162 \r\nL 86.018145 97.065834 \r\nL 86.119634 94.917143 \r\nL 86.32261 84.865331 \r\nL 86.424099 108.140538 \r\nL 86.525587 85.891913 \r\nL 86.728564 98.015131 \r\nL 86.830052 99.505382 \r\nL 87.033029 90.517997 \r\nL 87.134517 106.006496 \r\nL 87.236006 96.619579 \r\nL 87.337494 69.95498 \r\nL 87.438982 97.7367 \r\nL 87.540471 96.791542 \r\nL 87.641959 96.613651 \r\nL 87.946424 84.712788 \r\nL 88.047913 96.6303 \r\nL 88.250889 84.926007 \r\nL 88.453866 106.195837 \r\nL 88.555355 79.256861 \r\nL 88.656843 81.645614 \r\nL 88.758331 102.382754 \r\nL 88.85982 97.549938 \r\nL 88.961308 110.670697 \r\nL 89.265773 93.796466 \r\nL 89.367262 92.892363 \r\nL 89.46875 107.277287 \r\nL 89.570238 105.841643 \r\nL 89.671727 92.496518 \r\nL 89.773215 107.96081 \r\nL 89.874703 106.63083 \r\nL 89.976192 95.560368 \r\nL 90.07768 103.973841 \r\nL 90.179169 99.693109 \r\nL 90.280657 99.926774 \r\nL 90.382145 96.774251 \r\nL 90.585122 102.240522 \r\nL 90.68661 89.415933 \r\nL 90.788099 92.375522 \r\nL 90.889587 106.283796 \r\nL 90.991076 103.511436 \r\nL 91.194052 111.043213 \r\nL 91.295541 110.742271 \r\nL 91.498517 108.267481 \r\nL 91.600006 108.563402 \r\nL 91.802983 106.101558 \r\nL 91.904471 104.802674 \r\nL 92.005959 107.939005 \r\nL 92.107448 99.91819 \r\nL 92.310424 111.307722 \r\nL 92.411913 101.186647 \r\nL 92.513401 105.961576 \r\nL 92.716378 102.862829 \r\nL 92.919355 111.850435 \r\nL 93.122331 101.813691 \r\nL 93.22382 111.25854 \r\nL 93.325308 105.487775 \r\nL 93.426797 109.284378 \r\nL 93.528285 103.591933 \r\nL 93.629773 105.229281 \r\nL 93.731262 99.475267 \r\nL 93.83275 106.419375 \r\nL 93.934238 101.214564 \r\nL 94.035727 107.123823 \r\nL 94.137215 104.374167 \r\nL 94.340192 108.429274 \r\nL 94.44168 104.878248 \r\nL 94.543169 109.807549 \r\nL 94.644657 107.26795 \r\nL 94.746145 97.814469 \r\nL 94.949122 109.306886 \r\nL 95.050611 110.808145 \r\nL 95.152099 109.768828 \r\nL 95.355076 102.85726 \r\nL 95.456564 103.386536 \r\nL 95.558052 104.726046 \r\nL 95.659541 109.132708 \r\nL 95.862518 105.735957 \r\nL 95.964006 106.213088 \r\nL 96.065494 107.388352 \r\nL 96.268471 103.065333 \r\nL 96.471448 108.602626 \r\nL 96.572936 110.917623 \r\nL 96.674425 110.730479 \r\nL 96.775913 107.406116 \r\nL 96.877401 109.362056 \r\nL 96.97889 108.292472 \r\nL 97.080378 100.731312 \r\nL 97.283355 109.299207 \r\nL 97.384843 111.864663 \r\nL 97.58782 104.780372 \r\nL 97.689308 105.126805 \r\nL 97.790797 109.757742 \r\nL 97.993773 104.347649 \r\nL 98.19675 108.732512 \r\nL 98.399727 106.989059 \r\nL 98.501215 109.528049 \r\nL 98.602704 107.736826 \r\nL 98.704192 107.890141 \r\nL 98.80568 108.377146 \r\nL 98.907169 102.651104 \r\nL 99.110146 109.044037 \r\nL 99.516099 98.36767 \r\nL 99.617587 100.015546 \r\nL 99.719076 95.81074 \r\nL 99.820564 108.095483 \r\nL 99.922053 106.156708 \r\nL 100.023541 108.516956 \r\nL 100.125029 97.105538 \r\nL 100.328006 108.216355 \r\nL 100.429494 105.57534 \r\nL 100.530983 98.466022 \r\nL 100.632471 103.354021 \r\nL 100.73396 102.980554 \r\nL 100.835448 103.366587 \r\nL 100.936936 101.245229 \r\nL 101.038425 105.383209 \r\nL 101.241401 92.655302 \r\nL 101.34289 110.517082 \r\nL 101.444378 109.315888 \r\nL 101.545867 101.290098 \r\nL 101.647355 106.191636 \r\nL 101.748843 99.649977 \r\nL 101.850332 103.583481 \r\nL 101.95182 102.459932 \r\nL 102.053308 98.486789 \r\nL 102.256285 111.195111 \r\nL 102.357774 99.041002 \r\nL 102.459262 109.778943 \r\nL 102.662239 97.885675 \r\nL 102.763727 106.935411 \r\nL 102.966704 104.473109 \r\nL 103.068192 104.659212 \r\nL 103.169681 95.59401 \r\nL 103.271169 109.496656 \r\nL 103.474146 98.859328 \r\nL 103.575634 104.455963 \r\nL 103.880099 96.830545 \r\nL 104.083076 109.74143 \r\nL 104.184564 110.56038 \r\nL 104.286053 108.70798 \r\nL 104.387541 111.847077 \r\nL 104.489029 107.246109 \r\nL 104.590518 110.375847 \r\nL 104.692006 107.87924 \r\nL 104.793495 98.585949 \r\nL 104.894983 106.244669 \r\nL 104.996471 99.47097 \r\nL 105.300936 109.336928 \r\nL 105.402425 102.10718 \r\nL 105.605402 108.081382 \r\nL 105.70689 107.39196 \r\nL 105.909867 99.22055 \r\nL 106.011355 109.112923 \r\nL 106.417309 97.461423 \r\nL 106.518797 96.978464 \r\nL 106.620285 95.779818 \r\nL 106.721774 107.305784 \r\nL 106.823262 94.252311 \r\nL 106.92475 105.617215 \r\nL 107.026239 88.946777 \r\nL 107.127727 107.428923 \r\nL 107.330704 97.865289 \r\nL 107.432192 98.89185 \r\nL 107.533681 101.207136 \r\nL 107.635169 108.644288 \r\nL 107.838146 97.766961 \r\nL 107.939634 98.373962 \r\nL 108.142611 104.996388 \r\nL 108.345588 107.490723 \r\nL 108.447076 107.675329 \r\nL 108.548564 108.945154 \r\nL 108.650053 104.59143 \r\nL 108.751541 109.559115 \r\nL 108.85303 107.207815 \r\nL 109.056006 97.32077 \r\nL 109.258983 109.054973 \r\nL 109.360471 101.675761 \r\nL 109.664937 105.242533 \r\nL 109.766425 110.224358 \r\nL 109.867913 108.011988 \r\nL 109.969402 93.327029 \r\nL 110.07089 108.749705 \r\nL 110.172378 100.268517 \r\nL 110.273867 108.993943 \r\nL 110.375355 103.127692 \r\nL 110.476844 103.588008 \r\nL 110.578332 107.898192 \r\nL 110.67982 101.931847 \r\nL 110.984285 111.039616 \r\nL 111.085774 99.476004 \r\nL 111.187262 103.825137 \r\nL 111.288751 100.683827 \r\nL 111.390239 102.763567 \r\nL 111.491727 102.51522 \r\nL 111.593216 108.123258 \r\nL 111.694704 106.041765 \r\nL 111.796192 108.951529 \r\nL 111.897681 106.972648 \r\nL 111.999169 101.962111 \r\nL 112.202146 108.883861 \r\nL 112.506611 100.532883 \r\nL 112.608099 107.243589 \r\nL 112.709588 94.01604 \r\nL 112.912565 107.548354 \r\nL 113.115541 102.689773 \r\nL 113.318518 106.124063 \r\nL 113.420006 102.423316 \r\nL 113.521495 109.234208 \r\nL 113.622983 105.150061 \r\nL 113.724472 107.959558 \r\nL 113.82596 104.665053 \r\nL 113.927448 109.354156 \r\nL 114.130425 102.590467 \r\nL 114.333402 107.432652 \r\nL 114.43489 106.005571 \r\nL 114.637867 97.995686 \r\nL 114.739355 104.370178 \r\nL 114.840844 102.528948 \r\nL 114.942332 107.788078 \r\nL 115.04382 105.434021 \r\nL 115.145309 105.691902 \r\nL 115.246797 97.290942 \r\nL 115.449774 109.438333 \r\nL 115.551262 100.768723 \r\nL 115.652751 106.088138 \r\nL 115.754239 99.500682 \r\nL 115.957216 108.526036 \r\nL 116.058704 97.816998 \r\nL 116.160193 107.755092 \r\nL 116.261681 106.063355 \r\nL 116.363169 106.589759 \r\nL 116.464658 105.049992 \r\nL 116.667634 108.058519 \r\nL 116.769123 103.456352 \r\nL 116.870611 103.845324 \r\nL 117.073588 111.286521 \r\nL 117.175076 100.645279 \r\nL 117.276565 110.855778 \r\nL 117.378053 107.737408 \r\nL 117.479541 100.596373 \r\nL 117.58103 100.930867 \r\nL 117.784007 108.121477 \r\nL 117.986983 103.902115 \r\nL 118.088472 109.042199 \r\nL 118.291448 105.211529 \r\nL 118.392937 111.116001 \r\nL 118.595914 103.757522 \r\nL 118.697402 104.355344 \r\nL 118.900379 110.370943 \r\nL 119.001867 102.605775 \r\nL 119.103355 109.957002 \r\nL 119.204844 109.099213 \r\nL 119.306332 102.741615 \r\nL 119.509309 109.262521 \r\nL 119.610797 105.116188 \r\nL 119.712286 105.846015 \r\nL 119.813774 111.768271 \r\nL 120.016751 102.93188 \r\nL 120.219728 109.864645 \r\nL 120.422704 104.488034 \r\nL 120.524193 106.947275 \r\nL 120.625681 105.967491 \r\nL 120.727169 109.085136 \r\nL 121.234611 99.863145 \r\nL 121.437588 110.81183 \r\nL 121.539076 102.056503 \r\nL 121.640565 107.705765 \r\nL 121.742053 105.014025 \r\nL 121.94503 105.522876 \r\nL 122.046518 106.547605 \r\nL 122.148007 110.466942 \r\nL 122.452472 101.410103 \r\nL 122.55396 108.343746 \r\nL 122.655449 98.700115 \r\nL 122.756937 98.981784 \r\nL 122.858425 101.061267 \r\nL 122.959914 108.230779 \r\nL 123.061402 107.405482 \r\nL 123.16289 96.365145 \r\nL 123.365867 106.483337 \r\nL 123.467356 105.680112 \r\nL 123.670332 111.33382 \r\nL 123.873309 105.708691 \r\nL 123.974797 107.411748 \r\nL 124.076286 100.965634 \r\nL 124.177774 101.311323 \r\nL 124.279263 110.479484 \r\nL 124.380751 110.298071 \r\nL 124.482239 103.039308 \r\nL 124.583728 108.47935 \r\nL 124.786704 104.615097 \r\nL 124.888193 109.298929 \r\nL 124.989681 105.261841 \r\nL 125.091169 96.487179 \r\nL 125.192658 109.7033 \r\nL 125.294146 100.250295 \r\nL 125.395635 105.931504 \r\nL 125.497123 103.10342 \r\nL 125.598611 103.782162 \r\nL 125.801588 108.459959 \r\nL 125.903076 104.79627 \r\nL 126.004565 111.158332 \r\nL 126.106053 100.074581 \r\nL 126.207542 104.560604 \r\nL 126.30903 102.671456 \r\nL 126.410518 94.393216 \r\nL 126.613495 104.993139 \r\nL 126.714983 101.106975 \r\nL 126.816472 89.546479 \r\nL 127.019449 109.360673 \r\nL 127.120937 99.09036 \r\nL 127.222425 107.12697 \r\nL 127.323914 103.917361 \r\nL 127.425402 105.685141 \r\nL 127.52689 94.735458 \r\nL 127.628379 105.841798 \r\nL 127.729867 104.961981 \r\nL 127.831356 104.391226 \r\nL 128.034332 108.732834 \r\nL 128.135821 106.120801 \r\nL 128.237309 98.808935 \r\nL 128.338797 108.38824 \r\nL 128.440286 104.037405 \r\nL 128.643263 106.358428 \r\nL 128.744751 103.934933 \r\nL 128.846239 98.59028 \r\nL 128.947728 108.449294 \r\nL 129.252193 105.87799 \r\nL 129.353681 109.727426 \r\nL 129.45517 108.14707 \r\nL 129.556658 109.575446 \r\nL 129.759635 103.119932 \r\nL 129.861123 107.32064 \r\nL 130.0641 101.056502 \r\nL 130.267077 107.439713 \r\nL 130.470053 103.678261 \r\nL 130.67303 111.33458 \r\nL 130.774518 106.947478 \r\nL 130.977495 109.749586 \r\nL 131.180472 104.732225 \r\nL 131.484937 110.923452 \r\nL 131.586425 110.462224 \r\nL 131.687914 106.682776 \r\nL 131.789402 106.970614 \r\nL 131.992379 110.352266 \r\nL 132.093867 107.582878 \r\nL 132.195356 101.425435 \r\nL 132.398332 108.284861 \r\nL 132.499821 108.179588 \r\nL 132.601309 100.363728 \r\nL 132.804286 109.32891 \r\nL 132.905774 102.288099 \r\nL 133.007263 109.88245 \r\nL 133.108751 108.856183 \r\nL 133.210239 100.712433 \r\nL 133.413216 108.338307 \r\nL 133.514705 107.651775 \r\nL 133.616193 108.812765 \r\nL 133.717681 108.68624 \r\nL 133.81917 109.104585 \r\nL 133.920658 105.426711 \r\nL 134.022146 95.702601 \r\nL 134.123635 108.683462 \r\nL 134.225123 108.418451 \r\nL 134.326612 105.105904 \r\nL 134.4281 109.307172 \r\nL 134.631077 102.151712 \r\nL 134.732565 108.950153 \r\nL 135.03703 97.745252 \r\nL 135.138519 108.852225 \r\nL 135.341495 102.615097 \r\nL 135.442984 104.009786 \r\nL 135.544472 108.045535 \r\nL 135.64596 104.800821 \r\nL 135.747449 108.12371 \r\nL 135.848937 103.036113 \r\nL 135.950426 107.492217 \r\nL 136.051914 106.091086 \r\nL 136.153402 110.545061 \r\nL 136.254891 97.796504 \r\nL 136.356379 108.39913 \r\nL 136.457867 107.694551 \r\nL 136.559356 111.118722 \r\nL 136.660844 101.955241 \r\nL 136.762333 106.726337 \r\nL 136.863821 101.543304 \r\nL 136.965309 110.758883 \r\nL 137.269774 99.603744 \r\nL 137.371263 109.992635 \r\nL 137.472751 105.100959 \r\nL 137.57424 108.152787 \r\nL 137.675728 107.933981 \r\nL 137.777216 99.001713 \r\nL 137.878705 105.241148 \r\nL 137.980193 105.173587 \r\nL 138.081681 104.486031 \r\nL 138.18317 107.810189 \r\nL 138.284658 107.504239 \r\nL 138.386147 108.341902 \r\nL 138.690612 102.748454 \r\nL 138.7921 106.374367 \r\nL 138.893588 103.825303 \r\nL 139.096565 109.088593 \r\nL 139.198054 100.60993 \r\nL 139.299542 105.70129 \r\nL 139.502519 99.316601 \r\nL 139.604007 107.496728 \r\nL 139.806984 100.638897 \r\nL 139.908472 106.245164 \r\nL 140.009961 105.104888 \r\nL 140.111449 109.30724 \r\nL 140.212937 107.62049 \r\nL 140.314426 102.7059 \r\nL 140.415914 103.392721 \r\nL 140.517402 100.991579 \r\nL 140.720379 111.533369 \r\nL 140.923356 102.389036 \r\nL 141.024844 110.94757 \r\nL 141.227821 103.635716 \r\nL 141.430798 106.835832 \r\nL 141.532286 108.500922 \r\nL 141.633775 105.754416 \r\nL 141.836751 108.713887 \r\nL 141.93824 108.556493 \r\nL 142.039728 101.262648 \r\nL 142.242705 106.869113 \r\nL 142.344193 103.044581 \r\nL 142.445682 107.778806 \r\nL 142.648658 103.30193 \r\nL 142.750147 109.74832 \r\nL 142.851635 105.775245 \r\nL 142.953123 109.882318 \r\nL 143.1561 101.361574 \r\nL 143.257589 109.60358 \r\nL 143.359077 105.159063 \r\nL 143.460565 107.775551 \r\nL 143.562054 107.46834 \r\nL 143.663542 109.245472 \r\nL 143.76503 108.605419 \r\nL 143.866519 106.441837 \r\nL 143.968007 106.697911 \r\nL 144.069496 110.184913 \r\nL 144.373961 106.600657 \r\nL 144.475449 107.766575 \r\nL 144.576937 104.964369 \r\nL 144.779914 108.568929 \r\nL 144.881403 108.110927 \r\nL 144.982891 108.67068 \r\nL 145.084379 110.743064 \r\nL 145.185868 110.646109 \r\nL 145.287356 108.587718 \r\nL 145.388844 104.222539 \r\nL 145.490333 108.146889 \r\nL 145.591821 103.364079 \r\nL 145.794798 111.295132 \r\nL 145.896286 109.935343 \r\nL 145.997775 111.095568 \r\nL 146.200751 106.759101 \r\nL 146.403728 109.728374 \r\nL 146.505217 108.119335 \r\nL 146.606705 111.266547 \r\nL 146.708193 111.246276 \r\nL 146.91117 106.372222 \r\nL 147.012658 106.468835 \r\nL 147.114147 109.161658 \r\nL 147.215635 108.600422 \r\nL 147.317124 103.883972 \r\nL 147.418612 110.252053 \r\nL 147.5201 108.010773 \r\nL 147.723077 110.808333 \r\nL 147.926054 104.828256 \r\nL 148.027542 110.194321 \r\nL 148.129031 107.865474 \r\nL 148.332007 110.803023 \r\nL 148.534984 105.228909 \r\nL 148.636472 105.490924 \r\nL 148.737961 107.407452 \r\nL 148.839449 107.028641 \r\nL 148.940938 108.44389 \r\nL 149.042426 108.065988 \r\nL 149.245403 106.393153 \r\nL 149.346891 110.527608 \r\nL 149.549868 107.171219 \r\nL 149.752845 109.923573 \r\nL 149.854333 109.392078 \r\nL 149.955821 106.229149 \r\nL 150.05731 110.104029 \r\nL 150.158798 108.741239 \r\nL 150.260286 109.067212 \r\nL 150.361775 110.257524 \r\nL 150.463263 109.977711 \r\nL 150.564752 106.343895 \r\nL 150.767728 109.95096 \r\nL 150.869217 107.065414 \r\nL 151.072193 110.887254 \r\nL 151.173682 108.815616 \r\nL 151.27517 110.704676 \r\nL 151.579635 108.562669 \r\nL 151.681124 109.919304 \r\nL 151.782612 109.73562 \r\nL 151.8841 105.881218 \r\nL 151.985589 110.569144 \r\nL 152.087077 110.51585 \r\nL 152.188566 111.287768 \r\nL 152.290054 110.825783 \r\nL 152.391542 106.346186 \r\nL 152.696007 110.292687 \r\nL 152.797496 108.983989 \r\nL 152.898984 109.251703 \r\nL 153.000473 111.585525 \r\nL 153.101961 111.275535 \r\nL 153.203449 106.568896 \r\nL 153.304938 110.68253 \r\nL 153.507914 108.259997 \r\nL 153.609403 110.402501 \r\nL 153.710891 109.144952 \r\nL 153.81238 111.994411 \r\nL 153.913868 107.387189 \r\nL 154.015356 107.702889 \r\nL 154.116845 106.782981 \r\nL 154.218333 110.75782 \r\nL 154.319821 108.615977 \r\nL 154.522798 109.596034 \r\nL 154.725775 107.943159 \r\nL 154.928752 110.281231 \r\nL 155.131728 110.00269 \r\nL 155.233217 111.643625 \r\nL 155.334705 109.106173 \r\nL 155.436194 109.128215 \r\nL 155.537682 110.244333 \r\nL 155.63917 109.624231 \r\nL 155.740659 108.273873 \r\nL 155.842147 111.154374 \r\nL 155.943635 108.235804 \r\nL 156.451077 111.809465 \r\nL 156.654054 109.139436 \r\nL 156.755542 111.725584 \r\nL 156.857031 109.414361 \r\nL 156.958519 110.656318 \r\nL 157.060008 110.279668 \r\nL 157.161496 111.143198 \r\nL 157.262984 107.931154 \r\nL 157.567449 111.678387 \r\nL 157.668938 109.418303 \r\nL 157.770426 110.403702 \r\nL 157.871915 110.239811 \r\nL 157.973403 110.693766 \r\nL 158.074891 107.982706 \r\nL 158.17638 110.2182 \r\nL 158.277868 108.901884 \r\nL 158.379356 109.508854 \r\nL 158.480845 111.798912 \r\nL 158.582333 109.997731 \r\nL 158.683822 110.741576 \r\nL 158.78531 110.511968 \r\nL 158.886798 111.568221 \r\nL 158.988287 110.067685 \r\nL 159.191263 111.330422 \r\nL 159.292752 108.279586 \r\nL 159.39424 110.801206 \r\nL 159.698705 108.79622 \r\nL 159.800194 111.07874 \r\nL 159.901682 110.839401 \r\nL 160.00317 108.55421 \r\nL 160.104659 108.678873 \r\nL 160.206147 111.302692 \r\nL 160.307636 111.212535 \r\nL 160.510612 109.396625 \r\nL 160.612101 111.835678 \r\nL 160.713589 108.526204 \r\nL 160.815077 111.456264 \r\nL 160.916566 107.62913 \r\nL 161.119543 111.297408 \r\nL 161.221031 109.198888 \r\nL 161.322519 109.298649 \r\nL 161.424008 111.742605 \r\nL 161.525496 108.250216 \r\nL 161.728473 110.891601 \r\nL 161.829961 110.789027 \r\nL 161.93145 109.033195 \r\nL 162.032938 111.439665 \r\nL 162.235915 108.501911 \r\nL 162.641868 110.726252 \r\nL 162.844845 108.785892 \r\nL 163.047822 108.913225 \r\nL 163.14931 107.640892 \r\nL 163.250798 110.655781 \r\nL 163.555264 108.766225 \r\nL 163.656752 111.979822 \r\nL 163.75824 109.220234 \r\nL 163.859729 110.544434 \r\nL 163.961217 109.034077 \r\nL 164.062705 111.657941 \r\nL 164.164194 108.912073 \r\nL 164.367171 110.956057 \r\nL 164.468659 109.320357 \r\nL 164.570147 111.559386 \r\nL 164.773124 106.920922 \r\nL 165.077589 111.839486 \r\nL 165.179078 109.012236 \r\nL 165.280566 110.715851 \r\nL 165.382054 110.47156 \r\nL 165.483543 111.170271 \r\nL 165.585031 109.824514 \r\nL 165.686519 110.583155 \r\nL 165.788008 109.604294 \r\nL 166.092473 112.010422 \r\nL 166.396938 108.54164 \r\nL 166.498426 111.364474 \r\nL 166.599915 106.024619 \r\nL 166.701403 111.053838 \r\nL 166.802892 108.829118 \r\nL 166.90438 110.710516 \r\nL 167.107357 107.837599 \r\nL 167.310333 110.415353 \r\nL 167.411822 110.084542 \r\nL 167.614799 110.80902 \r\nL 167.817775 109.661995 \r\nL 167.919264 109.190774 \r\nL 168.12224 110.549816 \r\nL 168.223729 110.03722 \r\nL 168.325217 110.603062 \r\nL 168.426706 110.04787 \r\nL 168.629682 107.103901 \r\nL 168.934147 110.945754 \r\nL 169.035636 107.215262 \r\nL 169.137124 109.97928 \r\nL 169.238613 109.257583 \r\nL 169.543078 110.78349 \r\nL 169.644566 109.409952 \r\nL 169.746054 111.099178 \r\nL 169.847543 107.615956 \r\nL 169.949031 110.413249 \r\nL 170.05052 110.22456 \r\nL 170.152008 109.779702 \r\nL 170.253496 110.941403 \r\nL 170.354985 108.152559 \r\nL 170.456473 111.281745 \r\nL 170.557961 107.139755 \r\nL 170.760938 110.834195 \r\nL 170.862427 110.30691 \r\nL 170.963915 110.988433 \r\nL 171.065403 108.252607 \r\nL 171.166892 109.762638 \r\nL 171.26838 107.93515 \r\nL 171.369868 108.995106 \r\nL 171.471357 108.660258 \r\nL 171.572845 111.790704 \r\nL 171.674334 110.993025 \r\nL 171.775822 112.069536 \r\nL 171.87731 109.314685 \r\nL 171.978799 110.833972 \r\nL 172.080287 110.338253 \r\nL 172.181775 107.215702 \r\nL 172.283264 111.445237 \r\nL 172.384752 111.004643 \r\nL 172.486241 111.150694 \r\nL 172.587729 109.312875 \r\nL 172.689217 110.036182 \r\nL 172.892194 109.547769 \r\nL 173.298148 111.551935 \r\nL 173.501124 109.89137 \r\nL 173.602613 110.304226 \r\nL 173.704101 111.692639 \r\nL 173.805589 109.746021 \r\nL 174.008566 110.907252 \r\nL 174.110055 110.713671 \r\nL 174.313031 111.520787 \r\nL 174.516008 108.879255 \r\nL 174.617496 109.339159 \r\nL 174.718985 111.497247 \r\nL 174.921962 109.05649 \r\nL 175.226427 111.550502 \r\nL 175.429403 109.401957 \r\nL 175.63238 111.811431 \r\nL 175.733869 110.80507 \r\nL 175.835357 111.670563 \r\nL 175.936845 109.36203 \r\nL 176.139822 111.047017 \r\nL 176.24131 109.937939 \r\nL 176.342799 110.205495 \r\nL 176.444287 111.439894 \r\nL 176.647264 108.27357 \r\nL 176.748752 111.732202 \r\nL 176.850241 110.33149 \r\nL 176.951729 111.072437 \r\nL 177.053217 110.357873 \r\nL 177.154706 112.029686 \r\nL 177.357683 109.390607 \r\nL 177.662148 111.632495 \r\nL 177.763636 109.908451 \r\nL 177.865124 110.419149 \r\nL 177.966613 109.72656 \r\nL 178.068101 110.741183 \r\nL 178.16959 110.486521 \r\nL 178.271078 110.760226 \r\nL 178.372566 108.987961 \r\nL 178.474055 109.822682 \r\nL 178.575543 107.848164 \r\nL 178.880008 109.960696 \r\nL 178.981497 107.522619 \r\nL 179.082985 111.450353 \r\nL 179.285962 107.315898 \r\nL 179.488938 108.992891 \r\nL 179.691915 108.07823 \r\nL 179.793404 108.318782 \r\nL 179.894892 107.049239 \r\nL 179.99638 109.003434 \r\nL 180.199357 106.146284 \r\nL 180.300845 109.457176 \r\nL 180.402334 106.508568 \r\nL 180.808287 109.611352 \r\nL 180.909776 104.774053 \r\nL 181.011264 110.963639 \r\nL 181.214241 105.696245 \r\nL 181.417218 110.171584 \r\nL 181.518706 110.380596 \r\nL 181.620194 111.128003 \r\nL 181.721683 105.80737 \r\nL 182.026148 111.911932 \r\nL 182.127636 110.458941 \r\nL 182.229125 111.213744 \r\nL 182.330613 111.172435 \r\nL 182.432101 110.325684 \r\nL 182.53359 111.062351 \r\nL 182.736566 109.841572 \r\nL 182.838055 111.436004 \r\nL 182.939543 109.429398 \r\nL 183.041032 110.983229 \r\nL 183.14252 106.712541 \r\nL 183.244008 107.300464 \r\nL 183.345497 111.006516 \r\nL 183.446985 109.141892 \r\nL 183.548473 109.480196 \r\nL 183.649962 109.029179 \r\nL 183.75145 110.560492 \r\nL 183.852939 108.097521 \r\nL 184.055915 109.990176 \r\nL 184.157404 109.141272 \r\nL 184.258892 111.09663 \r\nL 184.563357 107.591004 \r\nL 184.766334 109.974814 \r\nL 184.867822 107.322804 \r\nL 184.969311 108.501281 \r\nL 185.070799 108.040071 \r\nL 185.172287 108.145345 \r\nL 185.273776 108.423638 \r\nL 185.375264 111.623283 \r\nL 185.476753 106.722428 \r\nL 185.781218 110.204956 \r\nL 185.882706 110.171497 \r\nL 185.984194 109.387776 \r\nL 186.085683 110.694466 \r\nL 186.187171 109.086689 \r\nL 186.593125 111.951232 \r\nL 186.694613 109.789578 \r\nL 186.796101 111.317531 \r\nL 186.89759 110.868735 \r\nL 186.999078 111.815405 \r\nL 187.100567 110.221135 \r\nL 187.202055 111.270366 \r\nL 187.303543 110.982606 \r\nL 187.405032 111.305005 \r\nL 187.50652 108.60949 \r\nL 187.608008 111.030669 \r\nL 187.709497 109.659968 \r\nL 187.810985 111.152077 \r\nL 187.912474 109.011733 \r\nL 188.11545 111.041386 \r\nL 188.216939 110.619406 \r\nL 188.318427 111.021659 \r\nL 188.419915 109.907267 \r\nL 188.521404 111.905193 \r\nL 188.724381 110.725337 \r\nL 188.825869 111.480733 \r\nL 188.927357 111.462691 \r\nL 189.028846 110.368718 \r\nL 189.130334 110.781302 \r\nL 189.231822 110.313262 \r\nL 189.536288 110.817992 \r\nL 189.739264 109.211854 \r\nL 189.840753 111.099977 \r\nL 189.942241 107.620002 \r\nL 190.145218 111.409863 \r\nL 190.246706 109.229631 \r\nL 190.449683 111.237656 \r\nL 190.551171 110.018653 \r\nL 190.65266 111.007658 \r\nL 190.754148 108.360122 \r\nL 190.957125 110.859496 \r\nL 191.058613 109.218036 \r\nL 191.160102 111.220514 \r\nL 191.26159 108.834919 \r\nL 191.464567 111.663067 \r\nL 191.769032 108.470715 \r\nL 191.87052 110.101981 \r\nL 191.972009 109.083069 \r\nL 192.073497 109.3886 \r\nL 192.276474 110.982718 \r\nL 192.377962 110.065754 \r\nL 192.580939 110.568225 \r\nL 192.682427 108.996249 \r\nL 192.783916 111.414697 \r\nL 192.885404 110.303654 \r\nL 192.986892 110.752077 \r\nL 193.088381 110.443544 \r\nL 193.291357 110.656655 \r\nL 193.392846 110.448499 \r\nL 193.494334 106.823662 \r\nL 193.697311 110.761618 \r\nL 193.900288 109.466885 \r\nL 194.103264 110.640314 \r\nL 194.204753 109.002735 \r\nL 194.40773 110.554593 \r\nL 194.509218 108.850622 \r\nL 194.610706 109.124058 \r\nL 194.712195 110.230894 \r\nL 194.813683 110.001578 \r\nL 195.01666 111.368141 \r\nL 195.118148 111.212798 \r\nL 195.219637 109.326361 \r\nL 195.422613 110.277718 \r\nL 195.62559 108.956001 \r\nL 195.727078 109.506046 \r\nL 195.828567 111.047488 \r\nL 195.930055 110.396835 \r\nL 196.031544 110.589815 \r\nL 196.23452 110.382064 \r\nL 196.336009 111.583194 \r\nL 196.437497 110.118391 \r\nL 196.538985 110.379491 \r\nL 196.640474 111.784606 \r\nL 196.741962 110.743165 \r\nL 196.843451 110.892092 \r\nL 196.944939 110.298162 \r\nL 197.046427 110.504541 \r\nL 197.147916 110.186768 \r\nL 197.249404 111.054725 \r\nL 197.350892 110.957659 \r\nL 197.553869 108.112495 \r\nL 197.655358 111.115972 \r\nL 197.756846 110.189213 \r\nL 197.858334 107.768191 \r\nL 197.959823 110.83362 \r\nL 198.061311 110.78191 \r\nL 198.162799 109.720281 \r\nL 198.264288 110.544073 \r\nL 198.365776 109.996873 \r\nL 198.467265 111.396126 \r\nL 198.568753 108.347254 \r\nL 198.670241 111.785144 \r\nL 198.77173 108.86969 \r\nL 198.873218 111.751597 \r\nL 198.974706 111.084476 \r\nL 199.076195 108.434737 \r\nL 199.279172 110.924375 \r\nL 199.38066 111.405783 \r\nL 199.685125 108.376538 \r\nL 199.786613 108.848971 \r\nL 199.888102 111.77336 \r\nL 199.98959 109.376866 \r\nL 200.091079 111.689953 \r\nL 200.294055 109.376617 \r\nL 200.497032 111.034223 \r\nL 200.59852 108.951205 \r\nL 200.801497 110.858648 \r\nL 200.902986 110.42404 \r\nL 201.105962 110.622567 \r\nL 201.207451 108.894178 \r\nL 201.308939 109.563403 \r\nL 201.410427 111.281041 \r\nL 201.613404 108.587829 \r\nL 201.816381 111.459635 \r\nL 201.917869 111.703985 \r\nL 202.019358 110.17329 \r\nL 202.120846 111.553837 \r\nL 202.222334 110.674645 \r\nL 202.425311 110.882196 \r\nL 202.5268 111.781458 \r\nL 202.628288 108.292452 \r\nL 202.831265 111.266981 \r\nL 202.932753 108.985377 \r\nL 203.13573 110.434168 \r\nL 203.237218 110.971212 \r\nL 203.338707 110.798192 \r\nL 203.440195 109.384869 \r\nL 203.643172 110.928514 \r\nL 203.74466 109.639148 \r\nL 203.846148 111.112622 \r\nL 203.947637 109.270169 \r\nL 204.049125 111.208329 \r\nL 204.150614 110.618313 \r\nL 204.252102 111.700654 \r\nL 204.556567 110.345845 \r\nL 204.658055 108.325343 \r\nL 204.759544 111.532118 \r\nL 204.861032 107.726513 \r\nL 204.962521 111.465133 \r\nL 205.064009 109.055436 \r\nL 205.266986 111.397393 \r\nL 205.469962 109.975904 \r\nL 205.571451 110.160216 \r\nL 205.774428 110.874186 \r\nL 205.875916 109.969801 \r\nL 205.977404 110.565539 \r\nL 206.078893 110.529906 \r\nL 206.180381 109.412044 \r\nL 206.383358 111.153172 \r\nL 206.484846 109.764717 \r\nL 206.586335 109.809647 \r\nL 206.687823 111.403524 \r\nL 206.789311 110.709571 \r\nL 206.8908 111.680811 \r\nL 206.992288 109.754781 \r\nL 207.195265 111.088036 \r\nL 207.296753 110.974269 \r\nL 207.398242 109.868354 \r\nL 207.601218 110.678466 \r\nL 207.702707 111.656514 \r\nL 208.007172 110.240807 \r\nL 208.10866 110.669568 \r\nL 208.210149 111.790035 \r\nL 208.311637 111.264091 \r\nL 208.413125 111.613714 \r\nL 208.514614 109.5237 \r\nL 208.71759 111.387695 \r\nL 208.819079 110.980611 \r\nL 208.920567 111.050692 \r\nL 209.022056 109.806836 \r\nL 209.123544 111.87212 \r\nL 209.225032 111.34933 \r\nL 209.326521 110.214838 \r\nL 209.529497 111.463357 \r\nL 209.630986 111.890964 \r\nL 209.732474 109.818671 \r\nL 209.935451 111.375886 \r\nL 210.036939 111.105144 \r\nL 210.138428 111.877257 \r\nL 210.239916 110.603854 \r\nL 210.341404 111.078149 \r\nL 210.442893 110.522213 \r\nL 210.64587 111.775543 \r\nL 210.848846 110.539066 \r\nL 210.950335 111.338589 \r\nL 211.051823 110.332877 \r\nL 211.153311 111.147228 \r\nL 211.2548 110.006759 \r\nL 211.457777 110.8693 \r\nL 211.559265 111.015098 \r\nL 211.660753 110.656547 \r\nL 211.762242 109.569109 \r\nL 211.965218 110.268657 \r\nL 212.066707 111.94357 \r\nL 212.168195 110.936276 \r\nL 212.269684 111.2654 \r\nL 212.47266 109.50128 \r\nL 212.574149 111.027855 \r\nL 212.675637 110.864672 \r\nL 212.777125 111.143748 \r\nL 212.878614 109.83865 \r\nL 212.980102 111.467064 \r\nL 213.183079 110.090671 \r\nL 213.284567 110.793285 \r\nL 213.386056 110.480944 \r\nL 213.487544 111.217636 \r\nL 213.589032 109.147182 \r\nL 213.792009 111.573313 \r\nL 213.893498 111.469866 \r\nL 213.994986 111.094893 \r\nL 214.096474 111.285234 \r\nL 214.197963 110.68965 \r\nL 214.299451 111.83221 \r\nL 214.502428 111.17028 \r\nL 214.603916 112.071538 \r\nL 214.705405 110.427521 \r\nL 214.908381 111.574762 \r\nL 215.00987 111.450579 \r\nL 215.111358 111.677166 \r\nL 215.212846 110.809222 \r\nL 215.314335 111.397587 \r\nL 215.6188 110.043352 \r\nL 215.720288 110.93349 \r\nL 215.821777 110.617062 \r\nL 215.923265 111.475931 \r\nL 216.024753 111.030082 \r\nL 216.126242 111.762946 \r\nL 216.22773 109.452766 \r\nL 216.329219 111.411905 \r\nL 216.532195 109.589225 \r\nL 216.633684 109.838602 \r\nL 216.83666 111.301422 \r\nL 216.938149 111.706058 \r\nL 217.141126 110.45902 \r\nL 217.242614 110.810461 \r\nL 217.344102 111.87864 \r\nL 217.547079 109.877852 \r\nL 217.750056 111.165214 \r\nL 217.851544 110.621222 \r\nL 217.953033 111.783625 \r\nL 218.054521 110.201278 \r\nL 218.156009 111.382978 \r\nL 218.257498 109.704594 \r\nL 218.358986 110.807651 \r\nL 218.460474 110.039608 \r\nL 218.663451 110.920235 \r\nL 218.76494 111.486288 \r\nL 218.866428 110.424601 \r\nL 218.967916 110.732677 \r\nL 219.069405 110.169363 \r\nL 219.170893 110.228944 \r\nL 219.272381 110.058022 \r\nL 219.37387 111.079275 \r\nL 219.475358 110.169721 \r\nL 219.678335 111.338409 \r\nL 219.779823 110.981725 \r\nL 219.881312 110.972721 \r\nL 219.9828 110.601411 \r\nL 220.084288 111.829586 \r\nL 220.185777 110.834793 \r\nL 220.287265 111.619346 \r\nL 220.388754 110.325446 \r\nL 220.693219 111.974745 \r\nL 220.794707 110.385073 \r\nL 220.997684 111.282041 \r\nL 221.099172 111.110407 \r\nL 221.200661 110.263982 \r\nL 221.302149 111.666239 \r\nL 221.403637 110.66538 \r\nL 221.505126 111.686662 \r\nL 221.708102 110.695927 \r\nL 221.809591 111.35559 \r\nL 222.215544 110.226063 \r\nL 222.317033 110.453546 \r\nL 222.418521 109.630009 \r\nL 222.520009 110.183994 \r\nL 222.621498 111.470495 \r\nL 222.925963 109.90069 \r\nL 223.027451 109.865388 \r\nL 223.230428 110.706123 \r\nL 223.331916 112.07414 \r\nL 223.433405 110.487756 \r\nL 223.534893 111.078882 \r\nL 223.73787 110.216355 \r\nL 223.839358 110.85956 \r\nL 223.940847 110.112218 \r\nL 224.042335 111.073559 \r\nL 224.143823 109.58291 \r\nL 224.3468 111.383778 \r\nL 224.448289 111.445022 \r\nL 224.651265 109.146182 \r\nL 224.752754 109.037216 \r\nL 224.854242 112.082468 \r\nL 224.95573 109.866163 \r\nL 225.158707 110.95606 \r\nL 225.361684 110.578491 \r\nL 225.564661 111.281824 \r\nL 225.666149 109.609526 \r\nL 225.869126 111.519292 \r\nL 226.072103 111.204828 \r\nL 226.173591 110.253813 \r\nL 226.275079 111.171239 \r\nL 226.376568 109.366315 \r\nL 226.579544 111.442409 \r\nL 226.782521 110.166013 \r\nL 226.985498 111.162755 \r\nL 227.188475 110.22204 \r\nL 227.391451 110.811765 \r\nL 227.49294 110.673171 \r\nL 227.594428 111.672389 \r\nL 227.695917 110.130711 \r\nL 227.898893 111.445491 \r\nL 228.000382 111.665792 \r\nL 228.10187 109.51889 \r\nL 228.203358 111.473509 \r\nL 228.304847 110.275153 \r\nL 228.406335 111.79139 \r\nL 228.507824 110.178059 \r\nL 228.609312 111.341991 \r\nL 228.812289 110.237768 \r\nL 228.913777 110.534259 \r\nL 229.015265 109.783636 \r\nL 229.116754 111.883239 \r\nL 229.218242 110.796573 \r\nL 229.319731 111.620423 \r\nL 229.421219 110.218265 \r\nL 229.522707 111.462807 \r\nL 229.624196 110.851581 \r\nL 229.725684 111.429745 \r\nL 229.827172 111.053643 \r\nL 229.928661 111.53961 \r\nL 230.131638 109.621955 \r\nL 230.233126 111.364086 \r\nL 230.334614 110.659985 \r\nL 230.639079 111.906954 \r\nL 230.740568 110.414268 \r\nL 230.943545 111.354045 \r\nL 231.045033 110.506729 \r\nL 231.146521 111.78068 \r\nL 231.24801 110.950712 \r\nL 231.349498 111.514973 \r\nL 231.552475 110.751685 \r\nL 231.755452 111.343592 \r\nL 231.85694 110.883943 \r\nL 231.958428 111.219263 \r\nL 232.059917 110.195666 \r\nL 232.161405 111.41589 \r\nL 232.364382 111.184335 \r\nL 232.46587 111.891952 \r\nL 232.567359 110.568391 \r\nL 232.668847 110.768287 \r\nL 232.770335 111.715115 \r\nL 232.871824 110.843624 \r\nL 232.973312 111.758561 \r\nL 233.277777 111.109308 \r\nL 233.379266 110.371317 \r\nL 233.480754 111.471514 \r\nL 233.683731 110.936419 \r\nL 233.785219 111.424891 \r\nL 233.886707 111.395712 \r\nL 233.988196 111.318229 \r\nL 234.089684 110.808729 \r\nL 234.191173 111.018688 \r\nL 234.292661 110.4378 \r\nL 234.495638 110.637801 \r\nL 234.800103 110.114952 \r\nL 234.901591 111.869253 \r\nL 235.104568 110.2801 \r\nL 235.307545 111.002421 \r\nL 235.409033 110.764766 \r\nL 235.510521 109.497281 \r\nL 235.61201 111.750802 \r\nL 235.713498 111.573352 \r\nL 235.916475 111.391811 \r\nL 236.119452 110.437017 \r\nL 236.423917 111.91398 \r\nL 236.525405 111.749959 \r\nL 236.626894 111.001444 \r\nL 236.931359 111.505363 \r\nL 237.032847 111.509267 \r\nL 237.134335 111.375356 \r\nL 237.438801 111.765424 \r\nL 237.540289 110.920378 \r\nL 237.641777 111.541405 \r\nL 237.743266 110.842531 \r\nL 238.149219 111.834459 \r\nL 238.352196 110.932586 \r\nL 238.453684 111.810295 \r\nL 238.555173 110.738222 \r\nL 238.758149 111.216785 \r\nL 238.859638 110.609575 \r\nL 239.062615 111.694359 \r\nL 239.164103 110.693697 \r\nL 239.36708 111.628828 \r\nL 239.468568 111.057672 \r\nL 239.570056 111.347081 \r\nL 239.671545 110.816385 \r\nL 239.773033 111.456425 \r\nL 239.874522 111.031229 \r\nL 239.97601 111.239539 \r\nL 240.077498 110.714676 \r\nL 240.178987 111.156023 \r\nL 240.280475 110.682324 \r\nL 240.381963 111.519976 \r\nL 240.483452 111.307126 \r\nL 240.58494 111.693317 \r\nL 240.686429 110.920499 \r\nL 240.787917 110.954194 \r\nL 240.889405 111.263912 \r\nL 240.990894 110.935298 \r\nL 241.092382 109.398802 \r\nL 241.295359 111.730584 \r\nL 241.396847 110.640658 \r\nL 241.498336 112.142239 \r\nL 241.599824 111.336061 \r\nL 241.802801 111.764758 \r\nL 242.005777 111.472059 \r\nL 242.107266 111.971611 \r\nL 242.310243 111.006669 \r\nL 242.411731 111.689711 \r\nL 242.513219 111.128547 \r\nL 242.614708 111.81021 \r\nL 242.716196 111.172646 \r\nL 242.919173 111.401186 \r\nL 243.020661 109.819544 \r\nL 243.12215 111.602763 \r\nL 243.223638 110.936323 \r\nL 243.325126 111.884368 \r\nL 243.73108 111.15486 \r\nL 243.832568 110.789526 \r\nL 243.934057 111.423137 \r\nL 244.035545 110.073829 \r\nL 244.238522 111.655906 \r\nL 244.542987 110.962204 \r\nL 244.644475 111.478269 \r\nL 244.745964 111.118946 \r\nL 244.847452 111.243181 \r\nL 244.94894 110.64187 \r\nL 245.050429 111.259825 \r\nL 245.151917 111.230053 \r\nL 245.354894 111.496426 \r\nL 245.557871 110.742274 \r\nL 245.659359 111.480127 \r\nL 245.862336 110.865058 \r\nL 245.963824 110.555457 \r\nL 246.065312 111.623963 \r\nL 246.166801 111.523655 \r\nL 246.369778 111.710831 \r\nL 246.471266 110.899239 \r\nL 246.572754 111.636425 \r\nL 246.674243 111.020502 \r\nL 246.775731 111.691984 \r\nL 246.877219 111.405115 \r\nL 246.978708 111.897486 \r\nL 247.080196 111.386219 \r\nL 247.283173 111.560143 \r\nL 247.384661 111.659122 \r\nL 247.48615 111.026843 \r\nL 247.689126 112.023852 \r\nL 247.790615 110.287102 \r\nL 247.892103 111.32941 \r\nL 248.09508 111.027156 \r\nL 248.196568 111.978656 \r\nL 248.298057 111.273005 \r\nL 248.399545 112.086755 \r\nL 248.501033 111.404427 \r\nL 248.602522 111.803063 \r\nL 248.70401 111.482368 \r\nL 248.805499 110.486187 \r\nL 248.906987 111.162239 \r\nL 249.008475 110.392749 \r\nL 249.109964 112.051215 \r\nL 249.31294 111.028499 \r\nL 249.414429 110.962433 \r\nL 249.515917 111.67493 \r\nL 249.617406 111.235377 \r\nL 249.718894 111.703365 \r\nL 249.820382 111.30647 \r\nL 249.921871 112.069349 \r\nL 250.124847 111.471311 \r\nL 250.226336 111.514914 \r\nL 250.327824 111.79886 \r\nL 250.632289 111.073709 \r\nL 250.733778 110.332586 \r\nL 250.835266 111.5755 \r\nL 250.936754 111.466144 \r\nL 251.038243 111.837624 \r\nL 251.139731 111.714399 \r\nL 251.24122 110.981137 \r\nL 251.342708 111.389045 \r\nL 251.444196 110.740681 \r\nL 251.545685 111.85593 \r\nL 251.951638 111.30145 \r\nL 252.053127 111.244754 \r\nL 252.256103 111.478016 \r\nL 252.357592 111.96385 \r\nL 252.45908 111.897998 \r\nL 252.763545 111.157784 \r\nL 252.966522 112.078769 \r\nL 253.06801 110.584054 \r\nL 253.169499 111.853743 \r\nL 253.270987 111.827555 \r\nL 253.372475 111.42824 \r\nL 253.473964 111.967065 \r\nL 253.778429 110.650236 \r\nL 253.981406 111.876777 \r\nL 254.184382 110.912096 \r\nL 254.285871 111.058897 \r\nL 254.387359 111.449708 \r\nL 254.590336 111.051004 \r\nL 254.691824 111.413012 \r\nL 254.793313 111.227093 \r\nL 254.894801 111.635053 \r\nL 254.996289 110.902386 \r\nL 255.300755 111.651668 \r\nL 255.402243 111.292574 \r\nL 255.503731 111.775489 \r\nL 255.706708 110.636264 \r\nL 255.808196 111.883828 \r\nL 255.909685 110.478197 \r\nL 256.112662 111.417378 \r\nL 256.21415 111.365512 \r\nL 256.315638 110.716166 \r\nL 256.417127 111.694723 \r\nL 256.518615 111.447066 \r\nL 256.620103 111.496525 \r\nL 256.721592 111.864534 \r\nL 256.82308 111.307842 \r\nL 256.924569 111.898906 \r\nL 257.127545 111.253887 \r\nL 257.229034 111.120733 \r\nL 257.330522 111.687944 \r\nL 257.43201 110.674647 \r\nL 257.634987 111.956499 \r\nL 257.939452 110.758311 \r\nL 258.040941 110.986664 \r\nL 258.243917 112.074442 \r\nL 258.345406 111.200798 \r\nL 258.548383 111.724483 \r\nL 258.649871 110.896584 \r\nL 258.751359 111.701209 \r\nL 258.852848 111.069568 \r\nL 258.954336 111.236693 \r\nL 259.055824 110.807425 \r\nL 259.157313 110.912797 \r\nL 259.461778 111.94277 \r\nL 259.563266 110.704745 \r\nL 259.867731 111.860038 \r\nL 259.96922 110.82405 \r\nL 260.172197 111.974023 \r\nL 260.273685 111.806562 \r\nL 260.375173 110.87432 \r\nL 260.476662 111.924203 \r\nL 260.57815 111.517236 \r\nL 260.679638 111.599784 \r\nL 260.781127 111.276252 \r\nL 260.882615 111.698294 \r\nL 261.085592 111.564132 \r\nL 261.18708 111.05435 \r\nL 261.288569 111.988525 \r\nL 261.491545 111.284774 \r\nL 261.593034 111.99408 \r\nL 261.694522 111.190543 \r\nL 261.796011 111.544405 \r\nL 261.897499 110.61684 \r\nL 261.998987 111.496974 \r\nL 262.201964 110.961545 \r\nL 262.303452 111.16698 \r\nL 262.404941 110.520919 \r\nL 262.506429 111.918392 \r\nL 262.607918 110.677444 \r\nL 262.810894 111.638111 \r\nL 262.912383 111.190365 \r\nL 263.013871 111.777555 \r\nL 263.115359 111.090837 \r\nL 263.216848 111.151859 \r\nL 263.318336 111.89684 \r\nL 263.419825 110.882451 \r\nL 263.72429 112.087985 \r\nL 264.028755 111.254495 \r\nL 264.130243 111.374668 \r\nL 264.231732 111.706409 \r\nL 264.33322 110.806304 \r\nL 264.434708 111.555583 \r\nL 264.536197 110.383259 \r\nL 264.637685 111.755067 \r\nL 264.739173 111.596443 \r\nL 264.840662 111.084879 \r\nL 265.043639 111.873484 \r\nL 265.145127 112.019037 \r\nL 265.449592 111.163606 \r\nL 265.55108 111.486467 \r\nL 265.652569 111.190783 \r\nL 265.754057 112.002224 \r\nL 265.855546 110.463547 \r\nL 265.957034 111.77774 \r\nL 266.058522 111.702772 \r\nL 266.160011 111.572157 \r\nL 266.261499 110.541595 \r\nL 266.362987 111.762363 \r\nL 266.565964 111.257329 \r\nL 266.768941 111.991347 \r\nL 266.870429 111.662633 \r\nL 267.073406 111.88481 \r\nL 267.174894 111.170352 \r\nL 267.276383 111.228288 \r\nL 267.377871 111.133071 \r\nL 267.580848 111.652888 \r\nL 267.682336 111.588961 \r\nL 267.783825 110.499708 \r\nL 267.986801 111.359012 \r\nL 268.291267 111.330137 \r\nL 268.392755 110.754917 \r\nL 268.494243 111.181142 \r\nL 268.595732 110.653155 \r\nL 268.798708 111.876084 \r\nL 268.900197 112.065869 \r\nL 269.103174 111.646241 \r\nL 269.204662 111.918571 \r\nL 269.30615 110.757413 \r\nL 269.407639 111.699694 \r\nL 269.509127 110.911455 \r\nL 269.610615 111.328636 \r\nL 269.712104 111.235438 \r\nL 269.813592 111.819735 \r\nL 270.016569 110.997225 \r\nL 270.219546 111.805946 \r\nL 270.321034 111.423707 \r\nL 270.422522 110.570529 \r\nL 270.524011 111.691278 \r\nL 270.726987 110.848121 \r\nL 270.828476 111.609348 \r\nL 271.031453 111.180411 \r\nL 271.132941 110.536264 \r\nL 271.335918 111.299442 \r\nL 271.437406 111.850105 \r\nL 271.538894 111.67889 \r\nL 271.640383 111.847541 \r\nL 271.741871 111.543443 \r\nL 271.84336 111.839843 \r\nL 271.944848 111.480009 \r\nL 272.046336 110.319991 \r\nL 272.147825 111.37366 \r\nL 272.249313 111.097951 \r\nL 272.350801 111.776947 \r\nL 272.655267 111.454672 \r\nL 272.756755 112.015711 \r\nL 273.06122 110.890392 \r\nL 273.162708 111.863419 \r\nL 273.264197 110.930337 \r\nL 273.467174 111.712168 \r\nL 273.568662 111.280204 \r\nL 273.67015 111.49098 \r\nL 273.771639 112.102357 \r\nL 273.873127 111.151581 \r\nL 274.279081 111.824199 \r\nL 274.380569 111.109385 \r\nL 274.482057 111.314252 \r\nL 274.583546 111.10752 \r\nL 274.888011 111.664106 \r\nL 274.989499 112.004177 \r\nL 275.192476 111.197344 \r\nL 275.293964 110.934897 \r\nL 275.496941 111.391692 \r\nL 275.598429 111.356237 \r\nL 275.699918 111.746651 \r\nL 275.801406 110.78781 \r\nL 276.004383 111.722382 \r\nL 276.105871 111.033895 \r\nL 276.20736 111.727039 \r\nL 276.308848 111.047527 \r\nL 276.511825 111.507391 \r\nL 276.613313 111.012671 \r\nL 276.714802 112.113672 \r\nL 276.81629 111.166378 \r\nL 276.917778 111.823718 \r\nL 277.019267 110.574971 \r\nL 277.120755 111.835636 \r\nL 277.222243 110.938432 \r\nL 277.323732 111.998877 \r\nL 277.42522 111.767051 \r\nL 277.526709 111.931722 \r\nL 277.628197 111.677994 \r\nL 277.729685 110.77669 \r\nL 277.932662 111.519202 \r\nL 278.03415 111.102492 \r\nL 278.440104 111.680852 \r\nL 278.541592 111.700691 \r\nL 278.744569 110.859538 \r\nL 278.846057 111.703933 \r\nL 278.947546 110.927234 \r\nL 279.049034 111.902336 \r\nL 279.150523 111.810173 \r\nL 279.252011 112.073545 \r\nL 279.353499 111.272036 \r\nL 279.454988 111.445408 \r\nL 279.556476 110.754444 \r\nL 279.657964 110.795029 \r\nL 279.759453 111.57842 \r\nL 279.860941 111.420797 \r\nL 279.96243 111.730965 \r\nL 280.165406 111.199869 \r\nL 280.368383 111.759631 \r\nL 280.469871 110.861745 \r\nL 280.672848 111.912512 \r\nL 280.875825 111.127722 \r\nL 281.078802 111.577823 \r\nL 281.281778 110.539388 \r\nL 281.383267 111.933134 \r\nL 281.484755 111.855591 \r\nL 281.586244 111.961003 \r\nL 281.687732 111.020302 \r\nL 281.890709 111.548239 \r\nL 281.992197 110.322695 \r\nL 282.093685 111.844173 \r\nL 282.195174 111.218951 \r\nL 282.398151 111.735749 \r\nL 282.499639 111.068482 \r\nL 282.702616 111.847214 \r\nL 282.804104 111.45284 \r\nL 282.905592 110.58911 \r\nL 283.007081 111.512053 \r\nL 283.108569 111.15016 \r\nL 283.311546 111.821848 \r\nL 283.413034 111.623351 \r\nL 283.514523 111.72844 \r\nL 283.717499 111.095942 \r\nL 283.920476 111.992736 \r\nL 284.224941 111.110329 \r\nL 284.32643 111.979388 \r\nL 284.427918 111.48131 \r\nL 284.529406 111.793237 \r\nL 284.732383 111.622216 \r\nL 284.833872 111.859789 \r\nL 285.036848 110.748255 \r\nL 285.138337 111.570304 \r\nL 285.239825 111.512497 \r\nL 285.341313 111.64264 \r\nL 285.442802 111.459946 \r\nL 285.54429 110.813572 \r\nL 285.645779 111.231642 \r\nL 285.747267 110.869328 \r\nL 285.950244 112.116594 \r\nL 286.15322 111.407918 \r\nL 286.254709 111.836955 \r\nL 286.356197 110.948047 \r\nL 286.559174 111.749655 \r\nL 286.660662 110.98342 \r\nL 286.762151 111.636281 \r\nL 286.863639 111.473778 \r\nL 286.965127 111.809253 \r\nL 287.066616 111.74251 \r\nL 287.168104 111.055261 \r\nL 287.269593 111.193659 \r\nL 287.371081 110.892898 \r\nL 287.574058 111.866307 \r\nL 287.675546 110.971111 \r\nL 287.777034 111.20702 \r\nL 287.878523 111.982629 \r\nL 287.980011 111.033029 \r\nL 288.0815 111.693331 \r\nL 288.284476 110.560809 \r\nL 288.385965 111.247391 \r\nL 288.487453 111.162095 \r\nL 288.588941 112.006594 \r\nL 288.69043 111.178937 \r\nL 288.791918 112.063368 \r\nL 288.994895 110.643414 \r\nL 289.096383 111.659521 \r\nL 289.197872 111.177899 \r\nL 289.29936 111.63113 \r\nL 289.400848 111.590483 \r\nL 289.603825 112.01225 \r\nL 289.705314 110.531971 \r\nL 289.90829 111.62901 \r\nL 290.009779 111.37206 \r\nL 290.111267 110.436642 \r\nL 290.212755 111.548293 \r\nL 290.314244 111.443546 \r\nL 290.415732 111.803432 \r\nL 290.517221 110.68492 \r\nL 290.618709 111.648638 \r\nL 290.720197 111.233264 \r\nL 290.821686 111.434925 \r\nL 291.024662 111.277355 \r\nL 291.126151 111.353052 \r\nL 291.227639 110.442025 \r\nL 291.430616 111.480637 \r\nL 291.532104 111.132608 \r\nL 291.633593 111.652912 \r\nL 291.735081 111.437649 \r\nL 292.039546 112.02337 \r\nL 292.242523 111.132599 \r\nL 292.4455 110.944313 \r\nL 292.648476 111.688442 \r\nL 292.749965 111.266044 \r\nL 292.851453 111.533813 \r\nL 292.952942 110.864016 \r\nL 293.155918 111.386243 \r\nL 293.257407 111.00442 \r\nL 293.358895 111.824606 \r\nL 293.460383 110.554765 \r\nL 293.66336 111.443147 \r\nL 293.764849 112.130848 \r\nL 293.866337 111.160412 \r\nL 293.967825 111.787516 \r\nL 294.069314 111.30957 \r\nL 294.27229 111.699314 \r\nL 294.373779 110.216905 \r\nL 294.475267 111.517073 \r\nL 294.678244 110.891924 \r\nL 294.779732 111.888435 \r\nL 294.881221 111.533203 \r\nL 295.084197 111.844566 \r\nL 295.185686 111.063972 \r\nL 295.287174 111.391237 \r\nL 295.388663 110.387236 \r\nL 295.490151 111.447841 \r\nL 295.591639 110.951202 \r\nL 295.693128 112.034096 \r\nL 295.794616 110.677769 \r\nL 295.997593 110.929161 \r\nL 296.099081 110.818977 \r\nL 296.20057 110.115446 \r\nL 296.403546 111.156276 \r\nL 296.505035 111.533235 \r\nL 296.708011 111.033776 \r\nL 296.8095 110.782894 \r\nL 297.012477 111.747749 \r\nL 297.113965 111.706555 \r\nL 297.215453 111.218211 \r\nL 297.316942 111.411279 \r\nL 297.41843 110.679558 \r\nL 297.621407 111.326283 \r\nL 297.824384 110.605379 \r\nL 298.128849 111.740091 \r\nL 298.230337 110.876396 \r\nL 298.331825 110.928164 \r\nL 298.433314 111.020595 \r\nL 298.636291 111.716149 \r\nL 298.737779 110.84076 \r\nL 298.839267 111.529224 \r\nL 298.940756 111.333831 \r\nL 299.143732 111.895205 \r\nL 299.245221 110.916337 \r\nL 299.346709 111.155425 \r\nL 299.448198 110.800348 \r\nL 299.549686 110.836557 \r\nL 299.752663 111.707399 \r\nL 299.955639 111.095214 \r\nL 300.057128 111.860698 \r\nL 300.158616 110.974357 \r\nL 300.260105 111.652597 \r\nL 300.56457 110.74631 \r\nL 300.666058 111.541714 \r\nL 300.767546 111.060174 \r\nL 300.869035 111.869129 \r\nL 300.970523 110.785982 \r\nL 301.1735 111.801797 \r\nL 301.274988 111.38059 \r\nL 301.376477 111.869865 \r\nL 301.477965 111.609646 \r\nL 301.579453 111.013317 \r\nL 301.680942 111.513513 \r\nL 301.78243 111.120871 \r\nL 301.883919 111.769847 \r\nL 301.985407 111.262311 \r\nL 302.086895 111.775618 \r\nL 302.289872 110.985113 \r\nL 302.492849 111.600166 \r\nL 302.695826 111.189309 \r\nL 302.898802 111.645903 \r\nL 303.000291 111.071454 \r\nL 303.101779 111.124376 \r\nL 303.203267 111.957407 \r\nL 303.304756 111.674479 \r\nL 303.406244 111.769652 \r\nL 303.507733 112.127957 \r\nL 303.609221 110.808976 \r\nL 303.812198 112.060463 \r\nL 303.913686 111.087476 \r\nL 304.116663 111.675336 \r\nL 304.218151 111.044637 \r\nL 304.31964 111.643018 \r\nL 304.522616 111.31307 \r\nL 304.725593 111.717701 \r\nL 304.92857 110.962022 \r\nL 305.030058 111.980039 \r\nL 305.131547 111.401262 \r\nL 305.334523 112.036604 \r\nL 305.436012 111.874185 \r\nL 305.5375 111.366665 \r\nL 305.638988 111.618425 \r\nL 305.740477 111.506823 \r\nL 305.841965 110.894476 \r\nL 305.943454 111.577411 \r\nL 306.044942 111.171784 \r\nL 306.14643 111.370338 \r\nL 306.247919 112.079104 \r\nL 306.450895 111.378 \r\nL 306.653872 111.637176 \r\nL 306.755361 111.996691 \r\nL 306.856849 111.366689 \r\nL 306.958337 111.838085 \r\nL 307.059826 111.495451 \r\nL 307.161314 111.692888 \r\nL 307.262802 111.513888 \r\nL 307.364291 112.009037 \r\nL 307.465779 111.23519 \r\nL 307.567268 111.852696 \r\nL 307.668756 111.745862 \r\nL 307.770244 111.026568 \r\nL 307.973221 112.057189 \r\nL 308.074709 110.732441 \r\nL 308.176198 111.503292 \r\nL 308.277686 111.462049 \r\nL 308.480663 111.753132 \r\nL 308.582151 110.89885 \r\nL 308.785128 112.089029 \r\nL 308.886616 111.466312 \r\nL 308.988105 111.58118 \r\nL 309.089593 111.017968 \r\nL 309.191082 111.637549 \r\nL 309.29257 111.590796 \r\nL 309.394058 111.370352 \r\nL 309.495547 112.117871 \r\nL 309.698523 111.347088 \r\nL 309.800012 111.45692 \r\nL 310.002989 110.964508 \r\nL 310.205965 111.548862 \r\nL 310.307454 111.137049 \r\nL 310.51043 111.629788 \r\nL 310.611919 111.378862 \r\nL 310.713407 111.502405 \r\nL 310.814896 110.984841 \r\nL 310.916384 111.086171 \r\nL 311.017872 110.834787 \r\nL 311.119361 111.592814 \r\nL 311.220849 111.527279 \r\nL 311.423826 111.273908 \r\nL 311.525314 111.783842 \r\nL 311.626803 111.664156 \r\nL 311.728291 111.043014 \r\nL 312.032756 111.946948 \r\nL 312.134244 111.831184 \r\nL 312.235733 111.186157 \r\nL 312.337221 111.335604 \r\nL 312.43871 111.026326 \r\nL 312.641686 111.62974 \r\nL 312.743175 110.705045 \r\nL 312.844663 111.709766 \r\nL 312.946151 111.026902 \r\nL 313.04764 111.222228 \r\nL 313.149128 112.070391 \r\nL 313.453593 111.060425 \r\nL 313.555082 111.495861 \r\nL 313.65657 111.075396 \r\nL 313.758058 111.515034 \r\nL 313.859547 111.20243 \r\nL 313.961035 111.346856 \r\nL 314.164012 111.79231 \r\nL 314.2655 111.948009 \r\nL 314.468477 110.895222 \r\nL 314.569965 110.715425 \r\nL 314.671454 111.744863 \r\nL 314.772942 111.415193 \r\nL 314.874431 111.504411 \r\nL 314.975919 111.283138 \r\nL 315.077407 111.74927 \r\nL 315.178896 110.956254 \r\nL 315.280384 111.218746 \r\nL 315.483361 112.06453 \r\nL 315.686338 111.543295 \r\nL 315.787826 111.891791 \r\nL 315.889314 111.274026 \r\nL 315.990803 111.650438 \r\nL 316.092291 111.519693 \r\nL 316.193779 112.010754 \r\nL 316.396756 111.055033 \r\nL 316.498245 111.54455 \r\nL 316.599733 111.42051 \r\nL 316.80271 111.529294 \r\nL 316.904198 111.45064 \r\nL 317.005686 112.029771 \r\nL 317.107175 110.954051 \r\nL 317.310152 111.957841 \r\nL 317.41164 110.586247 \r\nL 317.614617 111.657085 \r\nL 317.716105 110.805748 \r\nL 317.919082 111.627426 \r\nL 318.02057 111.541061 \r\nL 318.122059 111.134181 \r\nL 318.223547 112.032226 \r\nL 318.325035 111.905048 \r\nL 318.426524 111.262302 \r\nL 318.528012 111.514928 \r\nL 318.6295 110.844012 \r\nL 318.730989 111.77979 \r\nL 318.832477 111.502999 \r\nL 319.035454 111.852576 \r\nL 319.339919 110.749511 \r\nL 319.644384 112.134203 \r\nL 319.847361 111.502237 \r\nL 320.151826 112.021398 \r\nL 320.253314 111.598472 \r\nL 320.354803 112.096642 \r\nL 320.456291 111.987021 \r\nL 320.55778 111.320156 \r\nL 320.659268 111.711029 \r\nL 320.760756 111.627411 \r\nL 320.862245 112.091822 \r\nL 320.963733 111.254913 \r\nL 321.065221 111.338923 \r\nL 321.16671 111.415803 \r\nL 321.268198 110.744083 \r\nL 321.369687 111.897735 \r\nL 321.471175 111.632857 \r\nL 321.572663 110.905204 \r\nL 321.77564 111.699505 \r\nL 321.877128 111.039661 \r\nL 321.978617 111.437091 \r\nL 322.080105 111.044796 \r\nL 322.181594 111.931238 \r\nL 322.283082 111.859238 \r\nL 322.38457 111.899154 \r\nL 322.486059 111.328662 \r\nL 322.587547 111.950218 \r\nL 322.689035 111.918227 \r\nL 322.790524 111.485484 \r\nL 322.892012 111.926898 \r\nL 322.993501 111.135233 \r\nL 323.094989 111.211039 \r\nL 323.196477 111.776226 \r\nL 323.399454 111.269112 \r\nL 323.500942 111.132184 \r\nL 323.602431 111.731287 \r\nL 323.703919 111.534605 \r\nL 324.008384 111.779179 \r\nL 324.109873 111.499455 \r\nL 324.211361 112.07383 \r\nL 324.312849 111.898708 \r\nL 324.515826 110.822327 \r\nL 324.617315 110.939111 \r\nL 324.718803 111.797063 \r\nL 324.820291 111.34956 \r\nL 324.92178 111.907875 \r\nL 325.023268 111.01035 \r\nL 325.124756 111.799218 \r\nL 325.226245 111.017623 \r\nL 325.327733 112.021682 \r\nL 325.53071 111.469951 \r\nL 325.632198 111.404373 \r\nL 325.733687 111.134755 \r\nL 325.936663 111.870697 \r\nL 326.038152 111.380068 \r\nL 326.13964 111.87047 \r\nL 326.342617 110.987853 \r\nL 326.444105 111.347069 \r\nL 326.545594 111.190748 \r\nL 326.850059 111.808407 \r\nL 326.951547 111.002606 \r\nL 327.053036 111.624316 \r\nL 327.154524 111.588021 \r\nL 327.256012 111.629188 \r\nL 327.357501 111.447687 \r\nL 327.458989 111.871336 \r\nL 327.560477 110.996679 \r\nL 327.763454 111.387704 \r\nL 327.864943 110.884589 \r\nL 327.966431 111.316704 \r\nL 328.067919 110.952236 \r\nL 328.270896 111.574509 \r\nL 328.372384 111.767759 \r\nL 328.575361 111.726992 \r\nL 328.67685 110.963013 \r\nL 328.778338 112.077176 \r\nL 328.981315 111.199753 \r\nL 329.082803 111.718103 \r\nL 329.184291 111.358879 \r\nL 329.28578 111.802287 \r\nL 329.387268 110.482085 \r\nL 329.488757 111.816412 \r\nL 329.590245 111.118165 \r\nL 329.793222 112.006137 \r\nL 329.89471 111.502044 \r\nL 329.996198 111.538224 \r\nL 330.097687 111.365934 \r\nL 330.199175 111.485255 \r\nL 330.300664 111.856223 \r\nL 330.402152 111.46482 \r\nL 330.605129 111.608327 \r\nL 330.706617 111.304183 \r\nL 330.808105 111.395335 \r\nL 330.909594 111.775889 \r\nL 331.112571 111.629172 \r\nL 331.214059 111.643143 \r\nL 331.315547 112.057018 \r\nL 331.518524 110.833956 \r\nL 331.620012 111.402714 \r\nL 331.822989 111.076069 \r\nL 331.924478 111.591979 \r\nL 332.025966 110.896502 \r\nL 332.127454 111.621168 \r\nL 332.330431 110.87567 \r\nL 332.431919 111.147394 \r\nL 332.533408 112.024524 \r\nL 332.736385 111.436085 \r\nL 332.837873 111.839702 \r\nL 333.142338 110.860913 \r\nL 333.243826 111.075468 \r\nL 333.446803 112.065777 \r\nL 333.548292 111.339076 \r\nL 333.64978 111.398118 \r\nL 333.751268 111.911216 \r\nL 333.852757 111.442138 \r\nL 334.055733 111.627959 \r\nL 334.157222 110.898606 \r\nL 334.25871 111.544643 \r\nL 334.461687 111.253889 \r\nL 334.563175 110.780628 \r\nL 334.664664 111.792897 \r\nL 334.766152 111.531768 \r\nL 334.86764 111.915564 \r\nL 334.969129 111.614688 \r\nL 335.070617 112.121576 \r\nL 335.375082 111.040509 \r\nL 335.476571 111.154741 \r\nL 335.578059 111.578485 \r\nL 335.679547 111.350089 \r\nL 335.882524 111.746844 \r\nL 336.085501 111.813283 \r\nL 336.186989 111.407115 \r\nL 336.288478 111.694939 \r\nL 336.389966 111.438139 \r\nL 336.592943 111.808056 \r\nL 336.694431 111.469976 \r\nL 336.897408 111.953706 \r\nL 337.100385 111.698286 \r\nL 337.201873 112.094084 \r\nL 337.303361 111.377427 \r\nL 337.40485 111.591806 \r\nL 337.506338 111.07174 \r\nL 337.607827 111.688138 \r\nL 337.709315 111.529784 \r\nL 337.912292 110.835441 \r\nL 338.01378 111.453974 \r\nL 338.115268 110.837292 \r\nL 338.216757 111.727463 \r\nL 338.318245 111.660117 \r\nL 338.419734 111.154072 \r\nL 338.521222 111.184845 \r\nL 338.62271 110.997007 \r\nL 338.927175 111.888036 \r\nL 339.028664 111.095011 \r\nL 339.231641 111.610741 \r\nL 339.333129 111.443784 \r\nL 339.536106 111.761655 \r\nL 339.637594 111.057685 \r\nL 339.942059 111.75609 \r\nL 340.145036 111.213548 \r\nL 340.246524 111.526299 \r\nL 340.348013 110.484054 \r\nL 340.550989 111.857723 \r\nL 340.753966 111.015102 \r\nL 340.855455 111.053176 \r\nL 341.058431 110.551487 \r\nL 341.15992 110.052462 \r\nL 341.261408 111.391833 \r\nL 341.362896 111.24634 \r\nL 341.464385 110.494812 \r\nL 341.565873 111.588728 \r\nL 341.667362 111.072636 \r\nL 341.76885 111.92328 \r\nL 341.870338 111.206442 \r\nL 341.971827 111.828933 \r\nL 342.276292 110.948057 \r\nL 342.479269 112.045203 \r\nL 342.580757 110.759362 \r\nL 342.682245 111.822446 \r\nL 342.885222 111.266707 \r\nL 342.98671 112.016999 \r\nL 343.088199 111.792963 \r\nL 343.291176 110.700601 \r\nL 343.494152 111.844793 \r\nL 343.697129 111.329291 \r\nL 343.798617 111.7023 \r\nL 344.001594 111.484872 \r\nL 344.103083 111.073444 \r\nL 344.306059 111.415945 \r\nL 344.407548 111.441173 \r\nL 344.509036 111.201138 \r\nL 344.712013 111.902684 \r\nL 344.813501 111.501839 \r\nL 345.016478 111.98661 \r\nL 345.117966 111.662925 \r\nL 345.219455 111.914212 \r\nL 345.320943 111.437561 \r\nL 345.422431 112.038354 \r\nL 345.625408 111.281888 \r\nL 345.726897 111.880534 \r\nL 345.828385 111.838074 \r\nL 345.929873 111.298062 \r\nL 346.031362 111.344118 \r\nL 346.335827 111.22861 \r\nL 346.437315 111.377619 \r\nL 346.538804 111.228354 \r\nL 346.640292 110.674904 \r\nL 346.74178 111.358841 \r\nL 346.843269 110.917638 \r\nL 346.944757 111.058695 \r\nL 347.046245 111.997853 \r\nL 347.147734 111.440747 \r\nL 347.350711 111.857845 \r\nL 347.553687 111.45877 \r\nL 347.655176 111.616892 \r\nL 347.756664 111.295111 \r\nL 347.858152 111.405293 \r\nL 347.959641 111.20728 \r\nL 348.061129 111.802533 \r\nL 348.162618 111.273497 \r\nL 348.264106 112.062746 \r\nL 348.365594 111.416609 \r\nL 348.467083 111.532923 \r\nL 348.568571 111.305634 \r\nL 348.771548 111.756333 \r\nL 348.974525 111.129272 \r\nL 349.076013 111.789115 \r\nL 349.177501 111.625073 \r\nL 349.27899 111.105327 \r\nL 349.481966 111.955302 \r\nL 349.583455 110.589715 \r\nL 349.684943 111.622238 \r\nL 349.684943 111.622238 \r\n\" style=\"fill:none;stroke:#1f77b4;stroke-linecap:square;stroke-width:1.5;\"/>\r\n   </g>\r\n   <g id=\"patch_3\">\r\n    <path d=\"M 30.103125 116.634801 \r\nL 30.103125 17.798437 \r\n\" style=\"fill:none;stroke:#000000;stroke-linecap:square;stroke-linejoin:miter;stroke-width:0.8;\"/>\r\n   </g>\r\n   <g id=\"patch_4\">\r\n    <path d=\"M 364.903125 116.634801 \r\nL 364.903125 17.798437 \r\n\" style=\"fill:none;stroke:#000000;stroke-linecap:square;stroke-linejoin:miter;stroke-width:0.8;\"/>\r\n   </g>\r\n   <g id=\"patch_5\">\r\n    <path d=\"M 30.103125 116.634801 \r\nL 364.903125 116.634801 \r\n\" style=\"fill:none;stroke:#000000;stroke-linecap:square;stroke-linejoin:miter;stroke-width:0.8;\"/>\r\n   </g>\r\n   <g id=\"patch_6\">\r\n    <path d=\"M 30.103125 17.798437 \r\nL 364.903125 17.798437 \r\n\" style=\"fill:none;stroke:#000000;stroke-linecap:square;stroke-linejoin:miter;stroke-width:0.8;\"/>\r\n   </g>\r\n  </g>\r\n  <g id=\"axes_2\">\r\n   <g id=\"patch_7\">\r\n    <path d=\"M 30.103125 235.238437 \r\nL 364.903125 235.238437 \r\nL 364.903125 136.402074 \r\nL 30.103125 136.402074 \r\nz\r\n\" style=\"fill:#ffffff;\"/>\r\n   </g>\r\n   <g id=\"matplotlib.axis_3\">\r\n    <g id=\"xtick_8\">\r\n     <g id=\"line2d_12\">\r\n      <g>\r\n       <use style=\"stroke:#000000;stroke-width:0.8;\" x=\"45.219818\" xlink:href=\"#m197713d7a9\" y=\"235.238437\"/>\r\n      </g>\r\n     </g>\r\n     <g id=\"text_12\">\r\n      <!-- 0 -->\r\n      <g transform=\"translate(42.038568 249.836875)scale(0.1 -0.1)\">\r\n       <use xlink:href=\"#DejaVuSans-48\"/>\r\n      </g>\r\n     </g>\r\n    </g>\r\n    <g id=\"xtick_9\">\r\n     <g id=\"line2d_13\">\r\n      <g>\r\n       <use style=\"stroke:#000000;stroke-width:0.8;\" x=\"95.964006\" xlink:href=\"#m197713d7a9\" y=\"235.238437\"/>\r\n      </g>\r\n     </g>\r\n     <g id=\"text_13\">\r\n      <!-- 500 -->\r\n      <g transform=\"translate(86.420256 249.836875)scale(0.1 -0.1)\">\r\n       <use xlink:href=\"#DejaVuSans-53\"/>\r\n       <use x=\"63.623047\" xlink:href=\"#DejaVuSans-48\"/>\r\n       <use x=\"127.246094\" xlink:href=\"#DejaVuSans-48\"/>\r\n      </g>\r\n     </g>\r\n    </g>\r\n    <g id=\"xtick_10\">\r\n     <g id=\"line2d_14\">\r\n      <g>\r\n       <use style=\"stroke:#000000;stroke-width:0.8;\" x=\"146.708193\" xlink:href=\"#m197713d7a9\" y=\"235.238437\"/>\r\n      </g>\r\n     </g>\r\n     <g id=\"text_14\">\r\n      <!-- 1000 -->\r\n      <g transform=\"translate(133.983193 249.836875)scale(0.1 -0.1)\">\r\n       <use xlink:href=\"#DejaVuSans-49\"/>\r\n       <use x=\"63.623047\" xlink:href=\"#DejaVuSans-48\"/>\r\n       <use x=\"127.246094\" xlink:href=\"#DejaVuSans-48\"/>\r\n       <use x=\"190.869141\" xlink:href=\"#DejaVuSans-48\"/>\r\n      </g>\r\n     </g>\r\n    </g>\r\n    <g id=\"xtick_11\">\r\n     <g id=\"line2d_15\">\r\n      <g>\r\n       <use style=\"stroke:#000000;stroke-width:0.8;\" x=\"197.452381\" xlink:href=\"#m197713d7a9\" y=\"235.238437\"/>\r\n      </g>\r\n     </g>\r\n     <g id=\"text_15\">\r\n      <!-- 1500 -->\r\n      <g transform=\"translate(184.727381 249.836875)scale(0.1 -0.1)\">\r\n       <use xlink:href=\"#DejaVuSans-49\"/>\r\n       <use x=\"63.623047\" xlink:href=\"#DejaVuSans-53\"/>\r\n       <use x=\"127.246094\" xlink:href=\"#DejaVuSans-48\"/>\r\n       <use x=\"190.869141\" xlink:href=\"#DejaVuSans-48\"/>\r\n      </g>\r\n     </g>\r\n    </g>\r\n    <g id=\"xtick_12\">\r\n     <g id=\"line2d_16\">\r\n      <g>\r\n       <use style=\"stroke:#000000;stroke-width:0.8;\" x=\"248.196568\" xlink:href=\"#m197713d7a9\" y=\"235.238437\"/>\r\n      </g>\r\n     </g>\r\n     <g id=\"text_16\">\r\n      <!-- 2000 -->\r\n      <g transform=\"translate(235.471568 249.836875)scale(0.1 -0.1)\">\r\n       <use xlink:href=\"#DejaVuSans-50\"/>\r\n       <use x=\"63.623047\" xlink:href=\"#DejaVuSans-48\"/>\r\n       <use x=\"127.246094\" xlink:href=\"#DejaVuSans-48\"/>\r\n       <use x=\"190.869141\" xlink:href=\"#DejaVuSans-48\"/>\r\n      </g>\r\n     </g>\r\n    </g>\r\n    <g id=\"xtick_13\">\r\n     <g id=\"line2d_17\">\r\n      <g>\r\n       <use style=\"stroke:#000000;stroke-width:0.8;\" x=\"298.940756\" xlink:href=\"#m197713d7a9\" y=\"235.238437\"/>\r\n      </g>\r\n     </g>\r\n     <g id=\"text_17\">\r\n      <!-- 2500 -->\r\n      <g transform=\"translate(286.215756 249.836875)scale(0.1 -0.1)\">\r\n       <use xlink:href=\"#DejaVuSans-50\"/>\r\n       <use x=\"63.623047\" xlink:href=\"#DejaVuSans-53\"/>\r\n       <use x=\"127.246094\" xlink:href=\"#DejaVuSans-48\"/>\r\n       <use x=\"190.869141\" xlink:href=\"#DejaVuSans-48\"/>\r\n      </g>\r\n     </g>\r\n    </g>\r\n    <g id=\"xtick_14\">\r\n     <g id=\"line2d_18\">\r\n      <g>\r\n       <use style=\"stroke:#000000;stroke-width:0.8;\" x=\"349.684943\" xlink:href=\"#m197713d7a9\" y=\"235.238437\"/>\r\n      </g>\r\n     </g>\r\n     <g id=\"text_18\">\r\n      <!-- 3000 -->\r\n      <g transform=\"translate(336.959943 249.836875)scale(0.1 -0.1)\">\r\n       <use xlink:href=\"#DejaVuSans-51\"/>\r\n       <use x=\"63.623047\" xlink:href=\"#DejaVuSans-48\"/>\r\n       <use x=\"127.246094\" xlink:href=\"#DejaVuSans-48\"/>\r\n       <use x=\"190.869141\" xlink:href=\"#DejaVuSans-48\"/>\r\n      </g>\r\n     </g>\r\n    </g>\r\n   </g>\r\n   <g id=\"matplotlib.axis_4\">\r\n    <g id=\"ytick_4\">\r\n     <g id=\"line2d_19\">\r\n      <g>\r\n       <use style=\"stroke:#000000;stroke-width:0.8;\" x=\"30.103125\" xlink:href=\"#m19b5afce19\" y=\"230.747242\"/>\r\n      </g>\r\n     </g>\r\n     <g id=\"text_19\">\r\n      <!-- 0.0 -->\r\n      <g transform=\"translate(7.2 234.546461)scale(0.1 -0.1)\">\r\n       <defs>\r\n        <path d=\"M 10.6875 12.40625 \r\nL 21 12.40625 \r\nL 21 0 \r\nL 10.6875 0 \r\nz\r\n\" id=\"DejaVuSans-46\"/>\r\n       </defs>\r\n       <use xlink:href=\"#DejaVuSans-48\"/>\r\n       <use x=\"63.623047\" xlink:href=\"#DejaVuSans-46\"/>\r\n       <use x=\"95.410156\" xlink:href=\"#DejaVuSans-48\"/>\r\n      </g>\r\n     </g>\r\n    </g>\r\n    <g id=\"ytick_5\">\r\n     <g id=\"line2d_20\">\r\n      <g>\r\n       <use style=\"stroke:#000000;stroke-width:0.8;\" x=\"30.103125\" xlink:href=\"#m19b5afce19\" y=\"198.732689\"/>\r\n      </g>\r\n     </g>\r\n     <g id=\"text_20\">\r\n      <!-- 0.5 -->\r\n      <g transform=\"translate(7.2 202.531908)scale(0.1 -0.1)\">\r\n       <use xlink:href=\"#DejaVuSans-48\"/>\r\n       <use x=\"63.623047\" xlink:href=\"#DejaVuSans-46\"/>\r\n       <use x=\"95.410156\" xlink:href=\"#DejaVuSans-53\"/>\r\n      </g>\r\n     </g>\r\n    </g>\r\n    <g id=\"ytick_6\">\r\n     <g id=\"line2d_21\">\r\n      <g>\r\n       <use style=\"stroke:#000000;stroke-width:0.8;\" x=\"30.103125\" xlink:href=\"#m19b5afce19\" y=\"166.718136\"/>\r\n      </g>\r\n     </g>\r\n     <g id=\"text_21\">\r\n      <!-- 1.0 -->\r\n      <g transform=\"translate(7.2 170.517355)scale(0.1 -0.1)\">\r\n       <use xlink:href=\"#DejaVuSans-49\"/>\r\n       <use x=\"63.623047\" xlink:href=\"#DejaVuSans-46\"/>\r\n       <use x=\"95.410156\" xlink:href=\"#DejaVuSans-48\"/>\r\n      </g>\r\n     </g>\r\n    </g>\r\n    <g id=\"text_22\">\r\n     <!-- 1e11 -->\r\n     <g transform=\"translate(30.103125 133.402074)scale(0.1 -0.1)\">\r\n      <use xlink:href=\"#DejaVuSans-49\"/>\r\n      <use x=\"63.623047\" xlink:href=\"#DejaVuSans-101\"/>\r\n      <use x=\"125.146484\" xlink:href=\"#DejaVuSans-49\"/>\r\n      <use x=\"188.769531\" xlink:href=\"#DejaVuSans-49\"/>\r\n     </g>\r\n    </g>\r\n   </g>\r\n   <g id=\"line2d_22\">\r\n    <path clip-path=\"url(#p0b2194bb8c)\" d=\"M 45.321307 140.894636 \r\nL 45.524284 197.512017 \r\nL 45.72726 211.545999 \r\nL 45.828749 213.374502 \r\nL 46.133214 224.139698 \r\nL 46.234702 219.539515 \r\nL 46.336191 220.246884 \r\nL 46.437679 221.917611 \r\nL 46.539167 227.881621 \r\nL 46.640656 224.044929 \r\nL 46.742144 226.345164 \r\nL 46.843632 222.623603 \r\nL 47.046609 226.081787 \r\nL 47.148098 228.179119 \r\nL 47.249586 227.105563 \r\nL 47.351074 221.019332 \r\nL 47.452563 221.558067 \r\nL 47.554051 223.338277 \r\nL 47.655539 222.65533 \r\nL 47.960005 227.155286 \r\nL 48.061493 223.737197 \r\nL 48.162981 225.574148 \r\nL 48.26447 223.202609 \r\nL 48.467446 225.865247 \r\nL 48.568935 227.821122 \r\nL 48.670423 223.794934 \r\nL 48.8734 229.438405 \r\nL 48.974888 230.143878 \r\nL 49.076377 225.387666 \r\nL 49.583819 230.050553 \r\nL 49.685307 223.767152 \r\nL 49.786795 227.792893 \r\nL 49.888284 223.511442 \r\nL 50.09126 226.54019 \r\nL 50.192749 225.8947 \r\nL 50.395726 228.263313 \r\nL 50.497214 225.368153 \r\nL 50.598702 225.975117 \r\nL 50.700191 225.710697 \r\nL 50.801679 224.669131 \r\nL 50.903167 226.511626 \r\nL 51.207633 215.565129 \r\nL 51.309121 199.574914 \r\nL 51.410609 220.592069 \r\nL 51.512098 205.648796 \r\nL 51.715074 216.197575 \r\nL 51.816563 225.25922 \r\nL 51.918051 220.699506 \r\nL 52.121028 228.445984 \r\nL 52.222516 227.648943 \r\nL 52.324005 226.975234 \r\nL 52.425493 228.105021 \r\nL 52.526981 223.216859 \r\nL 52.62847 230.130588 \r\nL 52.831447 224.570337 \r\nL 52.932935 229.722256 \r\nL 53.034423 228.611344 \r\nL 53.135912 229.915546 \r\nL 53.2374 229.025024 \r\nL 53.338888 230.264833 \r\nL 53.541865 226.022314 \r\nL 53.744842 228.685723 \r\nL 53.84633 227.594901 \r\nL 53.947819 229.706492 \r\nL 54.049307 227.787736 \r\nL 54.150795 228.138358 \r\nL 54.252284 227.683214 \r\nL 54.353772 229.47681 \r\nL 54.455261 228.582208 \r\nL 54.556749 229.753624 \r\nL 54.759726 229.002098 \r\nL 55.064191 230.407021 \r\nL 55.165679 230.258341 \r\nL 55.267168 230.33786 \r\nL 55.571633 229.118043 \r\nL 55.673121 229.283884 \r\nL 55.774609 229.220849 \r\nL 55.876098 229.310299 \r\nL 56.079075 230.43809 \r\nL 56.180563 229.745111 \r\nL 56.282051 230.337547 \r\nL 56.38354 229.464249 \r\nL 56.485028 229.533271 \r\nL 56.586516 229.370276 \r\nL 56.688005 230.503925 \r\nL 56.890982 230.090412 \r\nL 57.093958 230.051674 \r\nL 57.195447 230.249842 \r\nL 57.296935 229.776247 \r\nL 57.499912 230.658991 \r\nL 57.6014 230.094455 \r\nL 57.702889 230.657626 \r\nL 58.007354 229.901904 \r\nL 58.108842 229.961529 \r\nL 58.21033 229.671288 \r\nL 58.311819 230.59697 \r\nL 58.413307 229.743318 \r\nL 58.514796 230.256378 \r\nL 58.616284 229.944309 \r\nL 58.717772 230.177925 \r\nL 58.819261 229.844929 \r\nL 58.920749 230.489557 \r\nL 59.022237 230.177584 \r\nL 59.123726 229.489728 \r\nL 59.428191 230.537257 \r\nL 59.529679 230.442011 \r\nL 59.631168 229.990389 \r\nL 59.834144 230.425041 \r\nL 60.13861 229.916471 \r\nL 60.240098 230.669235 \r\nL 60.341586 230.2963 \r\nL 60.544563 230.422126 \r\nL 60.646051 230.355039 \r\nL 60.849028 229.894724 \r\nL 61.153493 230.582461 \r\nL 61.254982 230.414602 \r\nL 61.35647 229.968548 \r\nL 61.457958 230.385839 \r\nL 61.559447 230.298549 \r\nL 61.660935 230.538728 \r\nL 61.762424 230.467709 \r\nL 61.863912 229.433203 \r\nL 61.9654 230.472333 \r\nL 62.066889 230.271473 \r\nL 62.168377 229.811169 \r\nL 62.371354 230.433816 \r\nL 62.472842 230.435058 \r\nL 62.675819 229.872608 \r\nL 62.878796 230.468997 \r\nL 63.081772 229.960749 \r\nL 63.183261 230.2804 \r\nL 63.386238 230.009328 \r\nL 63.487726 230.379744 \r\nL 63.589214 230.349182 \r\nL 63.690703 230.155691 \r\nL 63.792191 229.372144 \r\nL 63.995168 230.202142 \r\nL 64.096656 229.756194 \r\nL 64.198145 230.487233 \r\nL 64.299633 229.818616 \r\nL 64.604098 230.530641 \r\nL 64.807075 230.327577 \r\nL 64.908563 229.517545 \r\nL 65.010052 230.350445 \r\nL 65.11154 227.372729 \r\nL 65.213028 229.140316 \r\nL 65.517493 227.82151 \r\nL 65.618982 230.219599 \r\nL 65.72047 227.402817 \r\nL 65.923447 229.423228 \r\nL 66.024935 229.542995 \r\nL 66.126424 229.347982 \r\nL 66.227912 227.032794 \r\nL 66.3294 229.323891 \r\nL 66.430889 228.368852 \r\nL 66.532377 228.662766 \r\nL 66.735354 223.966467 \r\nL 66.836842 230.375639 \r\nL 66.938331 229.180401 \r\nL 67.039819 229.405826 \r\nL 67.141307 228.946386 \r\nL 67.242796 230.210909 \r\nL 67.547261 228.235095 \r\nL 67.648749 229.53128 \r\nL 67.750238 227.415262 \r\nL 67.953214 230.473543 \r\nL 68.156191 229.179381 \r\nL 68.25768 229.774485 \r\nL 68.359168 228.333923 \r\nL 68.460656 230.068737 \r\nL 68.562145 229.689242 \r\nL 68.663633 230.473066 \r\nL 68.86661 228.565661 \r\nL 68.968098 228.829047 \r\nL 69.069587 229.985842 \r\nL 69.171075 229.878818 \r\nL 69.272563 229.381643 \r\nL 69.374052 229.578819 \r\nL 69.577028 228.869721 \r\nL 69.678517 229.736244 \r\nL 69.881494 229.525481 \r\nL 70.08447 230.359258 \r\nL 70.185959 228.53056 \r\nL 70.388935 229.691058 \r\nL 70.490424 229.244918 \r\nL 70.693401 230.395554 \r\nL 70.794889 229.720934 \r\nL 70.896377 230.441137 \r\nL 70.997866 229.119981 \r\nL 71.099354 230.328276 \r\nL 71.200842 230.042871 \r\nL 71.302331 229.4207 \r\nL 71.403819 230.558457 \r\nL 71.708284 229.330679 \r\nL 71.809773 229.370697 \r\nL 71.911261 230.247373 \r\nL 72.114238 229.806814 \r\nL 72.215726 229.710602 \r\nL 72.317215 230.280814 \r\nL 72.418703 228.971379 \r\nL 72.62168 230.393352 \r\nL 72.926145 229.949353 \r\nL 73.027633 230.530841 \r\nL 73.129122 230.321158 \r\nL 73.23061 229.726026 \r\nL 73.332098 229.941985 \r\nL 73.433587 230.655328 \r\nL 73.636563 230.068104 \r\nL 73.738052 230.435053 \r\nL 73.83954 229.603967 \r\nL 73.941029 230.541513 \r\nL 74.042517 230.431771 \r\nL 74.144005 229.677358 \r\nL 74.44847 230.505505 \r\nL 74.549959 230.616563 \r\nL 74.752936 230.231595 \r\nL 74.854424 230.404846 \r\nL 74.955912 229.998794 \r\nL 75.057401 230.688542 \r\nL 75.361866 229.884454 \r\nL 75.463354 230.486858 \r\nL 75.564843 230.351045 \r\nL 75.666331 229.993032 \r\nL 75.767819 230.537104 \r\nL 75.869308 230.131209 \r\nL 75.970796 230.523169 \r\nL 76.072284 229.807245 \r\nL 76.173773 230.534439 \r\nL 76.37675 230.246214 \r\nL 76.478238 229.949915 \r\nL 76.681215 230.436053 \r\nL 76.782703 230.282196 \r\nL 76.884191 230.610211 \r\nL 76.98568 230.082374 \r\nL 77.087168 230.126796 \r\nL 77.188657 230.274592 \r\nL 77.290145 229.463709 \r\nL 77.391633 230.50168 \r\nL 77.493122 230.412583 \r\nL 77.696098 230.49692 \r\nL 77.797587 229.514453 \r\nL 77.899075 229.759471 \r\nL 78.102052 230.508456 \r\nL 78.406517 229.982448 \r\nL 78.508005 229.400894 \r\nL 78.609494 230.259289 \r\nL 78.710982 229.69552 \r\nL 78.812471 230.484446 \r\nL 79.218424 230.077673 \r\nL 79.319912 230.401155 \r\nL 79.421401 229.610502 \r\nL 79.522889 230.09037 \r\nL 79.725866 229.399537 \r\nL 79.827354 230.339274 \r\nL 80.131819 229.817103 \r\nL 80.233308 230.272319 \r\nL 80.334796 229.551784 \r\nL 80.436285 230.313183 \r\nL 80.537773 229.437476 \r\nL 80.74075 230.245623 \r\nL 80.943726 229.397775 \r\nL 81.045215 229.44054 \r\nL 81.146703 229.834875 \r\nL 81.248192 228.656755 \r\nL 81.34968 230.227887 \r\nL 81.552657 229.865898 \r\nL 81.654145 228.996675 \r\nL 81.857122 230.28029 \r\nL 81.95861 229.609692 \r\nL 82.060099 230.631928 \r\nL 82.161587 229.7022 \r\nL 82.263075 229.779535 \r\nL 82.364564 230.513304 \r\nL 82.466052 230.366877 \r\nL 82.669029 229.005865 \r\nL 82.770517 230.04969 \r\nL 82.872006 229.670941 \r\nL 82.973494 229.980504 \r\nL 83.074982 229.909952 \r\nL 83.176471 230.391315 \r\nL 83.277959 229.626355 \r\nL 83.480936 230.533038 \r\nL 83.582424 229.376834 \r\nL 83.683913 230.417497 \r\nL 83.886889 229.775497 \r\nL 83.988378 229.715739 \r\nL 84.089866 230.437039 \r\nL 84.191354 230.176059 \r\nL 84.292843 230.389783 \r\nL 84.394331 229.340277 \r\nL 84.597308 229.713373 \r\nL 84.698796 229.414354 \r\nL 84.800285 229.458569 \r\nL 84.901773 230.415084 \r\nL 85.003261 227.856796 \r\nL 85.10475 230.101566 \r\nL 85.206238 229.499072 \r\nL 85.409215 230.603559 \r\nL 85.510703 228.023293 \r\nL 85.815168 229.50301 \r\nL 85.916657 228.62518 \r\nL 86.018145 230.127782 \r\nL 86.119634 229.347665 \r\nL 86.221122 229.503096 \r\nL 86.32261 229.35842 \r\nL 86.424099 227.120564 \r\nL 86.627075 228.952147 \r\nL 86.728564 225.73582 \r\nL 86.830052 228.104723 \r\nL 86.931541 227.462554 \r\nL 87.033029 229.526307 \r\nL 87.236006 228.540855 \r\nL 87.438982 228.283394 \r\nL 87.540471 227.157668 \r\nL 87.743448 230.078365 \r\nL 87.844936 228.73557 \r\nL 88.047913 229.248237 \r\nL 88.352378 226.817444 \r\nL 88.555355 229.739362 \r\nL 88.758331 227.685566 \r\nL 88.85982 228.190501 \r\nL 88.961308 226.730737 \r\nL 89.062796 227.290264 \r\nL 89.164285 229.668756 \r\nL 89.265773 226.274059 \r\nL 89.367262 228.505097 \r\nL 89.46875 228.10854 \r\nL 89.570238 229.996155 \r\nL 89.773215 229.358392 \r\nL 89.874703 229.970435 \r\nL 89.976192 228.350928 \r\nL 90.179169 230.502027 \r\nL 90.382145 228.54511 \r\nL 90.585122 230.320559 \r\nL 90.68661 228.719008 \r\nL 90.788099 229.58878 \r\nL 90.889587 227.900417 \r\nL 91.092564 230.444071 \r\nL 91.194052 229.537723 \r\nL 91.397029 230.159306 \r\nL 91.600006 228.976296 \r\nL 91.701494 229.09512 \r\nL 91.802983 229.909949 \r\nL 92.005959 228.977898 \r\nL 92.208936 230.036055 \r\nL 92.310424 230.295088 \r\nL 92.411913 229.59374 \r\nL 92.513401 229.852599 \r\nL 92.61489 230.418388 \r\nL 92.716378 229.772902 \r\nL 93.020843 230.38209 \r\nL 93.22382 229.409254 \r\nL 93.325308 229.994556 \r\nL 93.528285 229.328003 \r\nL 93.629773 230.137682 \r\nL 93.731262 230.004054 \r\nL 93.83275 230.434444 \r\nL 93.934238 229.753391 \r\nL 94.137215 230.20165 \r\nL 94.238704 229.717378 \r\nL 94.44168 230.442159 \r\nL 94.644657 230.122675 \r\nL 94.847634 230.485999 \r\nL 94.949122 229.326931 \r\nL 95.050611 230.409357 \r\nL 95.152099 230.313419 \r\nL 95.355076 229.748734 \r\nL 95.456564 230.479182 \r\nL 95.558052 229.610398 \r\nL 95.659541 230.443104 \r\nL 95.862518 229.847413 \r\nL 95.964006 229.905851 \r\nL 96.065494 230.338657 \r\nL 96.166983 230.129501 \r\nL 96.268471 230.502448 \r\nL 96.369959 230.012915 \r\nL 96.572936 230.428304 \r\nL 96.775913 229.327761 \r\nL 96.97889 230.654989 \r\nL 97.181866 229.569532 \r\nL 97.384843 230.098584 \r\nL 97.486332 229.720839 \r\nL 97.58782 230.537968 \r\nL 97.790797 229.281042 \r\nL 97.892285 229.32514 \r\nL 97.993773 228.899203 \r\nL 98.095262 230.442098 \r\nL 98.19675 229.970617 \r\nL 98.298239 228.830524 \r\nL 98.501215 229.668792 \r\nL 98.602704 228.987721 \r\nL 98.704192 230.312282 \r\nL 98.907169 229.482178 \r\nL 99.008657 230.10646 \r\nL 99.110146 228.773463 \r\nL 99.211634 229.075324 \r\nL 99.313122 230.242201 \r\nL 99.414611 229.51635 \r\nL 99.617587 229.795481 \r\nL 99.719076 228.845789 \r\nL 99.820564 230.243977 \r\nL 100.023541 229.003962 \r\nL 100.328006 230.219871 \r\nL 100.429494 229.820435 \r\nL 100.632471 230.547859 \r\nL 100.835448 229.955448 \r\nL 100.936936 229.75286 \r\nL 101.139913 230.03626 \r\nL 101.241401 229.642349 \r\nL 101.444378 230.210392 \r\nL 101.545867 230.061194 \r\nL 101.647355 230.183335 \r\nL 101.850332 229.577295 \r\nL 101.95182 230.409164 \r\nL 102.053308 229.449569 \r\nL 102.256285 230.348227 \r\nL 102.357774 230.000056 \r\nL 102.459262 230.441316 \r\nL 102.662239 229.237754 \r\nL 102.763727 230.36744 \r\nL 102.865215 230.095527 \r\nL 102.966704 229.28873 \r\nL 103.169681 230.395072 \r\nL 103.271169 230.390734 \r\nL 103.372657 230.526028 \r\nL 103.474146 230.050102 \r\nL 103.575634 230.27224 \r\nL 103.778611 229.67125 \r\nL 103.981588 230.590762 \r\nL 104.083076 230.594056 \r\nL 104.286053 229.051622 \r\nL 104.387541 230.364769 \r\nL 104.489029 229.558569 \r\nL 104.590518 230.063923 \r\nL 104.692006 229.628868 \r\nL 104.894983 230.357582 \r\nL 105.09796 229.611323 \r\nL 105.199448 229.983452 \r\nL 105.503913 228.175625 \r\nL 105.605402 229.63065 \r\nL 105.70689 228.983609 \r\nL 106.011355 229.735959 \r\nL 106.112843 229.519619 \r\nL 106.214332 229.825379 \r\nL 106.31582 228.95518 \r\nL 106.518797 230.055642 \r\nL 106.620285 229.678517 \r\nL 106.721774 229.841301 \r\nL 106.823262 229.18081 \r\nL 107.026239 230.265049 \r\nL 107.127727 229.504187 \r\nL 107.330704 230.202461 \r\nL 107.432192 230.175529 \r\nL 107.533681 230.452505 \r\nL 107.635169 230.193994 \r\nL 107.736657 230.36908 \r\nL 107.838146 230.166642 \r\nL 107.939634 229.661036 \r\nL 108.244099 230.665139 \r\nL 108.345588 229.812172 \r\nL 108.447076 229.858718 \r\nL 108.548564 230.397248 \r\nL 108.650053 229.914826 \r\nL 108.751541 230.213167 \r\nL 108.85303 229.932332 \r\nL 108.954518 230.074548 \r\nL 109.056006 229.303897 \r\nL 109.157495 230.374107 \r\nL 109.258983 230.30859 \r\nL 109.360471 230.268221 \r\nL 109.46196 230.509028 \r\nL 109.563448 230.368804 \r\nL 109.766425 230.650867 \r\nL 109.867913 229.351701 \r\nL 109.969402 230.304372 \r\nL 110.07089 230.28861 \r\nL 110.172378 229.738062 \r\nL 110.273867 230.438139 \r\nL 110.375355 230.276729 \r\nL 110.476844 230.418147 \r\nL 110.578332 230.117317 \r\nL 110.781309 230.326823 \r\nL 110.882797 229.886599 \r\nL 110.984285 230.315531 \r\nL 111.187262 229.684263 \r\nL 111.288751 230.133435 \r\nL 111.390239 229.984628 \r\nL 111.593216 230.442423 \r\nL 111.694704 229.807655 \r\nL 111.796192 230.316343 \r\nL 111.897681 230.177657 \r\nL 112.100658 230.495543 \r\nL 112.303634 230.228603 \r\nL 112.405123 230.655433 \r\nL 112.506611 229.953009 \r\nL 112.709588 230.324044 \r\nL 112.811076 230.321083 \r\nL 112.912565 230.608548 \r\nL 113.014053 230.325269 \r\nL 113.115541 230.546745 \r\nL 113.21703 230.308395 \r\nL 113.521495 230.503088 \r\nL 113.622983 230.216718 \r\nL 113.927448 230.566223 \r\nL 114.130425 230.292154 \r\nL 114.231913 230.426873 \r\nL 114.333402 230.176034 \r\nL 114.43489 230.482608 \r\nL 114.536379 230.304869 \r\nL 114.637867 230.65539 \r\nL 114.739355 230.569213 \r\nL 114.840844 230.717129 \r\nL 114.942332 230.187627 \r\nL 115.04382 230.512645 \r\nL 115.145309 230.43639 \r\nL 115.246797 230.623535 \r\nL 115.348286 230.475394 \r\nL 115.449774 230.538844 \r\nL 115.855727 229.913993 \r\nL 116.058704 230.520292 \r\nL 116.160193 230.526331 \r\nL 116.261681 230.373133 \r\nL 116.363169 230.489423 \r\nL 116.464658 230.22474 \r\nL 116.667634 230.406145 \r\nL 116.769123 230.372933 \r\nL 116.870611 230.492705 \r\nL 116.9721 230.132181 \r\nL 117.175076 230.724493 \r\nL 117.276565 230.40315 \r\nL 117.378053 230.646183 \r\nL 117.58103 230.427129 \r\nL 117.885495 230.676828 \r\nL 117.986983 230.49203 \r\nL 118.088472 230.669766 \r\nL 118.291448 229.976429 \r\nL 118.494425 230.426353 \r\nL 118.595914 230.168737 \r\nL 118.697402 230.241954 \r\nL 118.900379 230.678523 \r\nL 119.001867 230.446191 \r\nL 119.103355 230.535993 \r\nL 119.204844 229.998184 \r\nL 119.306332 230.579006 \r\nL 119.509309 230.282635 \r\nL 119.712286 230.520298 \r\nL 119.915262 230.427032 \r\nL 120.016751 230.389195 \r\nL 120.118239 230.547462 \r\nL 120.219728 230.119312 \r\nL 120.422704 230.66508 \r\nL 120.524193 230.679079 \r\nL 120.727169 230.627011 \r\nL 120.828658 230.687047 \r\nL 120.930146 230.390213 \r\nL 121.031635 230.516566 \r\nL 121.133123 230.436026 \r\nL 121.3361 230.557369 \r\nL 121.539076 230.664201 \r\nL 121.640565 230.054607 \r\nL 121.742053 230.56031 \r\nL 121.843542 230.319549 \r\nL 122.046518 230.605443 \r\nL 122.148007 230.231813 \r\nL 122.350983 230.575982 \r\nL 122.55396 230.384887 \r\nL 122.858425 230.482543 \r\nL 122.959914 230.361987 \r\nL 123.264379 230.713487 \r\nL 123.365867 230.254432 \r\nL 123.467356 230.715505 \r\nL 123.568844 230.419884 \r\nL 123.670332 230.631118 \r\nL 123.771821 230.503844 \r\nL 123.974797 230.640901 \r\nL 124.279263 230.562437 \r\nL 124.380751 230.680363 \r\nL 124.685216 230.476349 \r\nL 124.888193 230.734314 \r\nL 124.989681 230.166917 \r\nL 125.091169 230.672122 \r\nL 125.294146 230.349381 \r\nL 125.598611 230.687857 \r\nL 125.801588 230.489024 \r\nL 125.903076 230.7137 \r\nL 126.004565 230.59476 \r\nL 126.106053 230.670131 \r\nL 126.207542 230.531366 \r\nL 126.410518 230.72245 \r\nL 126.512007 230.493589 \r\nL 126.613495 230.6456 \r\nL 126.714983 230.557611 \r\nL 126.91796 230.699114 \r\nL 127.019449 230.694379 \r\nL 127.222425 230.351548 \r\nL 127.323914 230.726594 \r\nL 127.628379 230.553984 \r\nL 127.729867 230.607323 \r\nL 127.831356 230.506074 \r\nL 127.932844 230.599569 \r\nL 128.034332 230.44468 \r\nL 128.440286 230.611611 \r\nL 128.541774 230.554686 \r\nL 128.643263 230.64731 \r\nL 128.744751 230.534804 \r\nL 128.846239 230.603246 \r\nL 129.049216 230.51676 \r\nL 129.150704 230.671939 \r\nL 129.252193 230.53698 \r\nL 129.353681 230.690614 \r\nL 129.556658 230.591349 \r\nL 129.759635 230.662048 \r\nL 129.861123 230.445216 \r\nL 129.962611 230.597282 \r\nL 130.0641 230.427588 \r\nL 130.267077 230.692734 \r\nL 130.470053 230.41147 \r\nL 130.67303 230.608156 \r\nL 130.774518 230.538377 \r\nL 130.876007 230.299008 \r\nL 131.078984 230.645053 \r\nL 131.180472 230.70608 \r\nL 131.484937 230.412783 \r\nL 131.789402 230.580205 \r\nL 131.890891 230.453257 \r\nL 131.992379 230.546481 \r\nL 132.093867 230.406398 \r\nL 132.296844 230.705965 \r\nL 132.398332 230.37811 \r\nL 132.601309 230.589519 \r\nL 132.702798 230.357606 \r\nL 132.905774 230.566718 \r\nL 133.007263 230.312854 \r\nL 133.210239 230.560489 \r\nL 133.311728 230.159632 \r\nL 133.514705 230.538162 \r\nL 133.81917 230.555038 \r\nL 134.022146 230.568342 \r\nL 134.123635 230.410473 \r\nL 134.4281 230.562671 \r\nL 134.529588 230.196848 \r\nL 134.834053 230.605399 \r\nL 134.935542 230.335247 \r\nL 135.03703 230.414965 \r\nL 135.240007 230.2699 \r\nL 135.341495 230.639622 \r\nL 135.442984 230.237517 \r\nL 135.544472 230.569945 \r\nL 135.747449 230.194435 \r\nL 136.051914 230.570028 \r\nL 136.153402 230.284572 \r\nL 136.559356 230.614332 \r\nL 136.660844 230.405291 \r\nL 136.762333 230.573054 \r\nL 136.863821 230.090728 \r\nL 136.965309 230.464732 \r\nL 137.066798 230.368535 \r\nL 137.168286 230.701731 \r\nL 137.371263 230.558549 \r\nL 137.57424 230.620194 \r\nL 137.777216 230.604103 \r\nL 137.878705 230.246304 \r\nL 137.980193 230.662408 \r\nL 138.081681 230.499112 \r\nL 138.284658 230.616663 \r\nL 138.487635 230.311792 \r\nL 138.7921 230.639368 \r\nL 138.995077 230.299066 \r\nL 139.096565 230.58126 \r\nL 139.198054 230.423002 \r\nL 139.40103 230.709292 \r\nL 139.604007 230.418696 \r\nL 139.705495 230.579981 \r\nL 140.111449 230.415984 \r\nL 140.212937 230.492029 \r\nL 140.314426 230.73932 \r\nL 140.415914 230.443887 \r\nL 140.618891 230.626291 \r\nL 140.923356 230.406027 \r\nL 141.024844 230.599922 \r\nL 141.126333 230.540918 \r\nL 141.227821 230.671979 \r\nL 141.430798 230.396551 \r\nL 141.532286 230.555797 \r\nL 141.735263 230.47103 \r\nL 141.836751 230.623061 \r\nL 141.93824 230.508688 \r\nL 142.039728 230.689347 \r\nL 142.141216 230.36677 \r\nL 142.242705 230.713089 \r\nL 142.445682 230.457878 \r\nL 142.54717 230.62329 \r\nL 142.648658 230.537254 \r\nL 142.750147 230.608105 \r\nL 142.953123 230.482834 \r\nL 143.054612 230.684265 \r\nL 143.460565 230.487721 \r\nL 143.562054 230.700202 \r\nL 143.76503 230.561077 \r\nL 143.866519 230.633347 \r\nL 144.069496 230.470694 \r\nL 144.272472 230.544588 \r\nL 144.373961 230.695456 \r\nL 144.475449 230.624031 \r\nL 144.576937 230.206682 \r\nL 144.779914 230.536524 \r\nL 144.881403 230.532658 \r\nL 144.982891 230.683409 \r\nL 145.185868 230.437915 \r\nL 145.388844 230.496456 \r\nL 145.490333 230.544891 \r\nL 145.591821 230.382931 \r\nL 145.69331 230.631205 \r\nL 145.896286 230.51851 \r\nL 146.099263 230.537569 \r\nL 146.200751 230.512932 \r\nL 146.30224 230.637897 \r\nL 146.606705 230.255752 \r\nL 146.708193 230.644509 \r\nL 146.809682 230.492186 \r\nL 146.91117 230.676896 \r\nL 147.114147 230.391624 \r\nL 147.215635 230.620853 \r\nL 147.317124 230.545863 \r\nL 147.418612 230.696203 \r\nL 147.5201 230.5229 \r\nL 147.621589 230.589702 \r\nL 147.723077 230.442454 \r\nL 147.926054 230.564388 \r\nL 148.332007 230.682376 \r\nL 148.534984 230.507098 \r\nL 148.737961 230.539437 \r\nL 148.839449 230.449938 \r\nL 149.042426 230.710486 \r\nL 149.143914 230.39571 \r\nL 149.346891 230.626081 \r\nL 149.651356 230.502743 \r\nL 149.854333 230.666201 \r\nL 149.955821 230.411214 \r\nL 150.05731 230.483932 \r\nL 150.260286 230.405785 \r\nL 150.463263 230.605853 \r\nL 150.767728 230.627415 \r\nL 150.869217 230.517637 \r\nL 151.072193 230.700368 \r\nL 151.173682 230.481893 \r\nL 151.27517 230.627985 \r\nL 151.376659 230.461539 \r\nL 151.681124 230.726604 \r\nL 152.290054 230.592941 \r\nL 152.391542 230.686711 \r\nL 152.594519 230.55228 \r\nL 152.797496 230.68616 \r\nL 153.101961 230.569017 \r\nL 153.406426 230.713701 \r\nL 153.913868 230.572132 \r\nL 154.015356 230.711871 \r\nL 154.116845 230.569351 \r\nL 154.319821 230.732903 \r\nL 154.42131 230.587998 \r\nL 154.624287 230.720702 \r\nL 155.740659 230.562458 \r\nL 155.842147 230.703833 \r\nL 156.146612 230.621661 \r\nL 156.349589 230.701438 \r\nL 156.654054 230.582639 \r\nL 156.857031 230.672417 \r\nL 157.060008 230.674192 \r\nL 157.262984 230.613636 \r\nL 157.364473 230.535413 \r\nL 157.567449 230.688321 \r\nL 157.770426 230.562451 \r\nL 158.17638 230.696181 \r\nL 158.480845 230.627552 \r\nL 158.78531 230.628107 \r\nL 158.988287 230.565135 \r\nL 159.191263 230.621871 \r\nL 159.597217 230.508073 \r\nL 159.800194 230.629577 \r\nL 161.119543 230.725379 \r\nL 161.322519 230.59052 \r\nL 161.626984 230.689385 \r\nL 161.829961 230.502974 \r\nL 162.032938 230.703204 \r\nL 162.134426 230.569532 \r\nL 162.337403 230.738242 \r\nL 162.743357 230.597388 \r\nL 162.844845 230.627978 \r\nL 162.946333 230.508633 \r\nL 163.14931 230.6698 \r\nL 163.453775 230.643434 \r\nL 163.656752 230.66661 \r\nL 163.75824 230.702512 \r\nL 163.961217 230.507166 \r\nL 164.062705 230.641082 \r\nL 164.265682 230.569769 \r\nL 164.468659 230.634814 \r\nL 164.671636 230.636262 \r\nL 164.773124 230.512149 \r\nL 164.976101 230.64542 \r\nL 165.077589 230.571439 \r\nL 165.280566 230.690838 \r\nL 165.990985 230.666274 \r\nL 166.092473 230.483133 \r\nL 166.396938 230.675442 \r\nL 166.599915 230.586717 \r\nL 166.802892 230.63218 \r\nL 166.90438 230.54103 \r\nL 167.005868 230.678558 \r\nL 167.310333 230.455712 \r\nL 167.51331 230.599567 \r\nL 167.614799 230.5082 \r\nL 167.716287 230.669796 \r\nL 167.817775 230.551777 \r\nL 168.020752 230.684584 \r\nL 168.426706 230.48889 \r\nL 168.629682 230.698038 \r\nL 169.035636 230.59823 \r\nL 169.137124 230.628635 \r\nL 169.340101 230.539945 \r\nL 169.949031 230.583065 \r\nL 170.152008 230.501389 \r\nL 170.253496 230.622093 \r\nL 170.557961 230.578331 \r\nL 170.760938 230.597598 \r\nL 171.166892 230.673162 \r\nL 171.674334 230.565048 \r\nL 171.775822 230.713619 \r\nL 171.87731 230.605724 \r\nL 172.080287 230.657125 \r\nL 172.486241 230.595179 \r\nL 172.587729 230.549788 \r\nL 172.689217 230.635278 \r\nL 172.790706 230.560461 \r\nL 173.095171 230.662302 \r\nL 173.501124 230.573615 \r\nL 173.704101 230.661068 \r\nL 173.805589 230.587322 \r\nL 174.008566 230.642709 \r\nL 174.110055 230.666894 \r\nL 174.211543 230.43295 \r\nL 174.41452 230.621455 \r\nL 174.718985 230.584534 \r\nL 174.820473 230.709018 \r\nL 174.921962 230.266896 \r\nL 175.124938 230.553908 \r\nL 175.327915 230.599092 \r\nL 176.038334 230.537903 \r\nL 176.24131 230.73528 \r\nL 176.342799 230.54597 \r\nL 176.545776 230.635934 \r\nL 176.647264 230.590623 \r\nL 176.850241 230.699774 \r\nL 177.154706 230.599314 \r\nL 177.459171 230.644829 \r\nL 177.865124 230.537278 \r\nL 178.068101 230.507747 \r\nL 178.16959 230.37007 \r\nL 178.271078 230.682684 \r\nL 178.575543 230.599127 \r\nL 178.77852 230.654379 \r\nL 178.880008 230.446996 \r\nL 179.082985 230.591378 \r\nL 179.590427 230.725439 \r\nL 179.894892 230.533257 \r\nL 180.097869 230.603225 \r\nL 180.300845 230.515895 \r\nL 180.402334 230.660323 \r\nL 180.503822 230.555945 \r\nL 180.605311 230.722928 \r\nL 180.808287 230.508181 \r\nL 180.909776 230.6156 \r\nL 181.011264 230.458445 \r\nL 181.112752 230.735223 \r\nL 181.214241 230.690619 \r\nL 182.432101 230.487731 \r\nL 182.53359 230.668806 \r\nL 182.635078 230.507152 \r\nL 182.939543 230.610641 \r\nL 183.244008 230.667781 \r\nL 183.446985 230.53469 \r\nL 183.548473 230.723823 \r\nL 183.75145 230.585699 \r\nL 184.461869 230.494611 \r\nL 184.969311 230.642549 \r\nL 185.375264 230.619852 \r\nL 185.476753 230.715498 \r\nL 185.679729 230.538886 \r\nL 185.882706 230.628836 \r\nL 185.984194 230.514675 \r\nL 186.28866 230.731095 \r\nL 186.491636 230.56181 \r\nL 186.89759 230.713914 \r\nL 187.709497 230.430375 \r\nL 187.810985 230.654443 \r\nL 188.11545 230.575965 \r\nL 188.318427 230.706586 \r\nL 188.419915 230.460224 \r\nL 188.622892 230.730808 \r\nL 188.724381 230.513849 \r\nL 188.927357 230.731006 \r\nL 189.130334 230.509032 \r\nL 189.231822 230.552767 \r\nL 189.333311 230.71759 \r\nL 189.434799 230.567941 \r\nL 189.536288 230.679463 \r\nL 189.637776 230.536352 \r\nL 189.739264 230.69558 \r\nL 189.942241 230.56255 \r\nL 191.160102 230.721892 \r\nL 191.363078 230.603757 \r\nL 191.566055 230.732502 \r\nL 191.769032 230.629231 \r\nL 191.972009 230.648182 \r\nL 192.174985 230.660598 \r\nL 192.276474 230.595697 \r\nL 192.47945 230.683242 \r\nL 192.580939 230.517286 \r\nL 192.783916 230.650375 \r\nL 192.885404 230.598856 \r\nL 193.088381 230.69964 \r\nL 193.494334 230.627148 \r\nL 193.595823 230.740149 \r\nL 193.900288 230.555112 \r\nL 194.103264 230.70476 \r\nL 194.204753 230.618262 \r\nL 194.40773 230.702442 \r\nL 194.813683 230.53219 \r\nL 195.118148 230.699038 \r\nL 195.422613 230.40657 \r\nL 195.62559 230.715788 \r\nL 195.930055 230.49096 \r\nL 196.23452 230.694932 \r\nL 196.538985 230.525629 \r\nL 196.741962 230.637199 \r\nL 196.944939 230.541579 \r\nL 197.147916 230.654957 \r\nL 197.249404 230.642038 \r\nL 197.350892 230.441073 \r\nL 197.553869 230.625894 \r\nL 198.467265 230.673887 \r\nL 198.670241 230.577704 \r\nL 199.177683 230.694071 \r\nL 199.482148 230.639015 \r\nL 200.192567 230.669454 \r\nL 200.395544 230.386453 \r\nL 200.497032 230.613267 \r\nL 200.59852 230.519547 \r\nL 200.700009 230.609044 \r\nL 200.902986 230.590693 \r\nL 201.410427 230.62058 \r\nL 201.511916 230.582112 \r\nL 201.714893 230.670389 \r\nL 202.019358 230.675019 \r\nL 202.222334 230.563474 \r\nL 202.425311 230.691562 \r\nL 202.628288 230.640021 \r\nL 202.729776 230.569449 \r\nL 202.831265 230.666826 \r\nL 203.13573 230.510507 \r\nL 203.338707 230.713885 \r\nL 203.643172 230.591189 \r\nL 203.846148 230.687701 \r\nL 203.947637 230.521427 \r\nL 204.150614 230.618046 \r\nL 204.252102 230.527183 \r\nL 204.455079 230.636757 \r\nL 204.759544 230.533058 \r\nL 205.064009 230.694793 \r\nL 205.469962 230.604593 \r\nL 205.672939 230.711661 \r\nL 205.875916 230.69108 \r\nL 206.180381 230.689813 \r\nL 206.281869 230.58831 \r\nL 206.484846 230.671151 \r\nL 207.093776 230.712981 \r\nL 207.296753 230.666726 \r\nL 207.49973 230.673809 \r\nL 208.007172 230.640934 \r\nL 208.10866 230.733751 \r\nL 208.210149 230.609449 \r\nL 208.311637 230.725266 \r\nL 208.413125 230.61531 \r\nL 208.71759 230.692783 \r\nL 208.920567 230.64194 \r\nL 209.225032 230.620795 \r\nL 209.428009 230.643996 \r\nL 209.630986 230.581193 \r\nL 209.833963 230.691712 \r\nL 210.036939 230.649388 \r\nL 210.544381 230.708156 \r\nL 210.747358 230.616931 \r\nL 210.950335 230.556579 \r\nL 211.153311 230.712161 \r\nL 211.457777 230.627608 \r\nL 211.660753 230.6446 \r\nL 211.762242 230.590589 \r\nL 211.86373 230.666068 \r\nL 212.066707 230.491806 \r\nL 212.168195 230.69045 \r\nL 212.269684 230.515838 \r\nL 212.371172 230.71655 \r\nL 212.574149 230.500037 \r\nL 212.675637 230.645256 \r\nL 212.777125 230.456848 \r\nL 212.980102 230.626796 \r\nL 213.487544 230.456321 \r\nL 213.690521 230.662449 \r\nL 213.792009 230.546426 \r\nL 213.893498 230.626938 \r\nL 214.096474 230.585214 \r\nL 214.400939 230.5433 \r\nL 214.502428 230.680951 \r\nL 214.705405 230.489983 \r\nL 214.908381 230.605576 \r\nL 215.00987 230.458921 \r\nL 215.212846 230.677378 \r\nL 215.314335 230.592174 \r\nL 215.6188 230.718821 \r\nL 215.720288 230.585176 \r\nL 215.821777 230.638802 \r\nL 215.923265 230.538247 \r\nL 216.126242 230.694351 \r\nL 216.329219 230.470933 \r\nL 216.430707 230.700215 \r\nL 216.633684 230.582758 \r\nL 217.344102 230.722857 \r\nL 217.547079 230.540976 \r\nL 217.851544 230.64757 \r\nL 219.576847 230.583911 \r\nL 219.779823 230.728348 \r\nL 219.9828 230.631634 \r\nL 220.084288 230.700517 \r\nL 220.185777 230.558558 \r\nL 220.388754 230.625895 \r\nL 220.59173 230.666789 \r\nL 221.200661 230.55028 \r\nL 221.403637 230.684434 \r\nL 221.606614 230.649636 \r\nL 222.114056 230.660962 \r\nL 222.317033 230.653998 \r\nL 222.418521 230.726291 \r\nL 222.520009 230.659388 \r\nL 222.722986 230.717563 \r\nL 222.925963 230.628815 \r\nL 223.027451 230.740558 \r\nL 223.230428 230.629916 \r\nL 223.433405 230.725446 \r\nL 223.534893 230.60875 \r\nL 223.73787 230.681385 \r\nL 223.839358 230.723348 \r\nL 223.940847 230.590237 \r\nL 224.143823 230.676975 \r\nL 224.3468 230.641543 \r\nL 224.549777 230.687907 \r\nL 224.854242 230.65806 \r\nL 225.260196 230.657728 \r\nL 225.564661 230.732853 \r\nL 225.767637 230.694543 \r\nL 226.072103 230.614145 \r\nL 226.275079 230.731004 \r\nL 226.579544 230.629014 \r\nL 226.681033 230.69979 \r\nL 226.782521 230.629589 \r\nL 226.88401 230.707167 \r\nL 227.086986 230.623366 \r\nL 227.49294 230.630563 \r\nL 227.594428 230.567563 \r\nL 227.797405 230.71053 \r\nL 227.898893 230.646657 \r\nL 228.10187 230.676057 \r\nL 228.203358 230.695209 \r\nL 228.304847 230.547225 \r\nL 228.609312 230.688764 \r\nL 228.913777 230.659067 \r\nL 229.116754 230.68807 \r\nL 229.421219 230.689649 \r\nL 229.725684 230.679136 \r\nL 229.928661 230.671056 \r\nL 232.059917 230.689095 \r\nL 232.668847 230.706424 \r\nL 232.770335 230.589598 \r\nL 233.0748 230.679433 \r\nL 233.785219 230.709542 \r\nL 233.988196 230.630273 \r\nL 234.191173 230.706294 \r\nL 234.597126 230.693743 \r\nL 235.00308 230.676633 \r\nL 235.307545 230.720769 \r\nL 235.409033 230.617215 \r\nL 235.713498 230.671749 \r\nL 235.814987 230.710997 \r\nL 236.017963 230.654654 \r\nL 236.119452 230.737864 \r\nL 236.322428 230.711609 \r\nL 236.525405 230.678377 \r\nL 236.82987 230.717217 \r\nL 236.931359 230.621392 \r\nL 237.134335 230.676432 \r\nL 237.337312 230.665457 \r\nL 237.641777 230.70185 \r\nL 237.743266 230.624797 \r\nL 237.946242 230.734676 \r\nL 238.149219 230.718094 \r\nL 238.859638 230.708491 \r\nL 239.164103 230.613461 \r\nL 239.36708 230.716693 \r\nL 239.570056 230.634305 \r\nL 239.773033 230.652366 \r\nL 240.381963 230.691728 \r\nL 240.58494 230.698545 \r\nL 240.787917 230.687828 \r\nL 243.832568 230.729126 \r\nL 244.035545 230.651126 \r\nL 244.34001 230.675915 \r\nL 244.542987 230.577191 \r\nL 244.644475 230.698739 \r\nL 244.847452 230.636528 \r\nL 245.253405 230.736042 \r\nL 245.354894 230.61396 \r\nL 245.557871 230.662125 \r\nL 245.963824 230.622875 \r\nL 246.065312 230.730252 \r\nL 246.369778 230.523144 \r\nL 246.471266 230.702983 \r\nL 246.775731 230.657968 \r\nL 247.181685 230.708925 \r\nL 248.501033 230.662575 \r\nL 248.602522 230.492242 \r\nL 248.70401 230.732733 \r\nL 248.906987 230.701883 \r\nL 249.31294 230.682778 \r\nL 249.515917 230.666539 \r\nL 249.617406 230.587477 \r\nL 249.820382 230.677915 \r\nL 250.226336 230.702055 \r\nL 250.429313 230.60472 \r\nL 250.632289 230.686747 \r\nL 252.357592 230.694145 \r\nL 253.879917 230.63185 \r\nL 253.981406 230.59474 \r\nL 254.184382 230.68552 \r\nL 256.21415 230.657817 \r\nL 256.315638 230.691448 \r\nL 256.417127 230.560554 \r\nL 256.620103 230.675189 \r\nL 257.736476 230.632087 \r\nL 257.837964 230.521967 \r\nL 258.243917 230.66825 \r\nL 258.649871 230.658013 \r\nL 260.070708 230.681499 \r\nL 260.172197 230.630444 \r\nL 260.273685 230.727411 \r\nL 260.476662 230.636639 \r\nL 260.781127 230.714473 \r\nL 261.897499 230.698014 \r\nL 262.404941 230.703377 \r\nL 262.607918 230.678641 \r\nL 263.013871 230.620498 \r\nL 264.028755 230.735462 \r\nL 264.231732 230.655214 \r\nL 264.434708 230.630381 \r\nL 265.145127 230.692326 \r\nL 265.246615 230.576511 \r\nL 265.652569 230.689911 \r\nL 265.957034 230.680432 \r\nL 266.160011 230.717196 \r\nL 266.362987 230.654009 \r\nL 266.464476 230.729361 \r\nL 266.667453 230.688148 \r\nL 267.377871 230.677044 \r\nL 267.47936 230.617312 \r\nL 267.682336 230.656138 \r\nL 268.392755 230.644409 \r\nL 268.69722 230.739617 \r\nL 270.219546 230.700139 \r\nL 270.625499 230.66867 \r\nL 271.234429 230.639389 \r\nL 271.437406 230.696518 \r\nL 271.538894 230.596978 \r\nL 271.741871 230.708992 \r\nL 271.944848 230.726888 \r\nL 273.771639 230.66297 \r\nL 273.974615 230.641296 \r\nL 276.714802 230.699852 \r\nL 276.81629 230.546733 \r\nL 277.019267 230.724188 \r\nL 278.135639 230.691439 \r\nL 278.440104 230.689784 \r\nL 317.310152 230.680338 \r\nL 317.513128 230.726903 \r\nL 317.817593 230.698155 \r\nL 318.02057 230.682628 \r\nL 318.426524 230.656759 \r\nL 318.730989 230.742469 \r\nL 318.832477 230.658838 \r\nL 319.035454 230.712535 \r\nL 319.542896 230.663993 \r\nL 319.745873 230.71645 \r\nL 320.050338 230.661913 \r\nL 320.253314 230.702005 \r\nL 320.354803 230.615983 \r\nL 320.55778 230.711383 \r\nL 321.065221 230.691005 \r\nL 321.471175 230.703694 \r\nL 322.080105 230.726195 \r\nL 322.283082 230.633564 \r\nL 322.486059 230.676208 \r\nL 322.689035 230.715193 \r\nL 322.892012 230.652969 \r\nL 322.993501 230.735477 \r\nL 323.094989 230.66153 \r\nL 323.297966 230.686982 \r\nL 323.500942 230.72876 \r\nL 324.008384 230.662321 \r\nL 324.211361 230.721608 \r\nL 324.515826 230.59688 \r\nL 324.718803 230.70377 \r\nL 325.226245 230.722456 \r\nL 325.53071 230.645372 \r\nL 326.038152 230.705663 \r\nL 326.647082 230.663589 \r\nL 327.154524 230.712866 \r\nL 327.357501 230.633278 \r\nL 327.966431 230.734956 \r\nL 328.473873 230.668982 \r\nL 328.778338 230.701484 \r\nL 331.112571 230.699224 \r\nL 331.417036 230.598585 \r\nL 331.721501 230.728371 \r\nL 332.025966 230.645354 \r\nL 332.431919 230.673665 \r\nL 338.318245 230.693025 \r\nL 338.419734 230.607308 \r\nL 338.724199 230.692354 \r\nL 338.927175 230.674764 \r\nL 347.249222 230.696439 \r\nL 347.452199 230.664421 \r\nL 347.553687 230.621017 \r\nL 347.756664 230.698339 \r\nL 349.583455 230.695589 \r\nL 349.684943 230.612005 \r\nL 349.684943 230.612005 \r\n\" style=\"fill:none;stroke:#1f77b4;stroke-linecap:square;stroke-width:1.5;\"/>\r\n   </g>\r\n   <g id=\"patch_8\">\r\n    <path d=\"M 30.103125 235.238437 \r\nL 30.103125 136.402074 \r\n\" style=\"fill:none;stroke:#000000;stroke-linecap:square;stroke-linejoin:miter;stroke-width:0.8;\"/>\r\n   </g>\r\n   <g id=\"patch_9\">\r\n    <path d=\"M 364.903125 235.238437 \r\nL 364.903125 136.402074 \r\n\" style=\"fill:none;stroke:#000000;stroke-linecap:square;stroke-linejoin:miter;stroke-width:0.8;\"/>\r\n   </g>\r\n   <g id=\"patch_10\">\r\n    <path d=\"M 30.103125 235.238437 \r\nL 364.903125 235.238437 \r\n\" style=\"fill:none;stroke:#000000;stroke-linecap:square;stroke-linejoin:miter;stroke-width:0.8;\"/>\r\n   </g>\r\n   <g id=\"patch_11\">\r\n    <path d=\"M 30.103125 136.402074 \r\nL 364.903125 136.402074 \r\n\" style=\"fill:none;stroke:#000000;stroke-linecap:square;stroke-linejoin:miter;stroke-width:0.8;\"/>\r\n   </g>\r\n  </g>\r\n </g>\r\n <defs>\r\n  <clipPath id=\"pdc177f8152\">\r\n   <rect height=\"98.836364\" width=\"334.8\" x=\"30.103125\" y=\"17.798437\"/>\r\n  </clipPath>\r\n  <clipPath id=\"p0b2194bb8c\">\r\n   <rect height=\"98.836364\" width=\"334.8\" x=\"30.103125\" y=\"136.402074\"/>\r\n  </clipPath>\r\n </defs>\r\n</svg>\r\n",
      "image/png": "[encoded data removed]"
     },
     "metadata": {
      "needs_background": "light"
     }
    }
   ],
   "source": [
    "import random\n",
    "\n",
    "from utils.pytorch_impl.cvae import cVAE, train_cvae\n",
    "from utils.data_utils import filter_strlist\n",
    "from data.periodogram_dataset import PeriodogramDataset\n",
    "from data.double_feature_dataset import DoubleFeatureDataset\n",
    "\n",
    "import matplotlib.pyplot as plt\n",
    "\n",
    "target_hives = [\"smrpiclient5\"]\n",
    "background_hives = [\"smrpiclient6\", \"smrpiclient7\"]\n",
    "\n",
    "target_soundfilenames = filter_strlist(sound_filenames, *target_hives)\n",
    "background_soundfilenames = random.sample(filter_strlist(sound_filenames, *background_hives), len(target_soundfilenames))\n",
    "print(f\"preparing target dataset with len: {len(target_soundfilenames)} and background with len: {len(background_soundfilenames)}\")\n",
    "\n",
    "double_periodogram = DoubleFeatureDataset(target_soundfilenames, target_hives, background_soundfilenames, background_hives,\n",
    "                                            PeriodogramDataset, scale_db=False, slice_freq=(0, 3000))\n",
    "                                \n",
    "for target, background in double_periodogram:\n",
    "    axs[0].plot(target[1], target[0])\n",
    "    axs[1].plot(background[1], background[0])\n",
    "    break\n",
    "\n",
    "# for (periodogram, freqs), _ in \n",
    "# cvae = cVAE(encoder_layer_sizes=[2048, 512, 64], latent_size=16, decoder_layer_sizes=[64, 512, 2048])"
   ]
  },
  {
   "source": [
    "-> Here we test generalization ability by testing MSE loss for unseen hive. We start with VAE and then contrastive Autoencoder"
   ],
   "cell_type": "markdown",
   "metadata": {}
  },
  {
   "cell_type": "code",
   "execution_count": null,
   "metadata": {},
   "outputs": [],
   "source": [
    "import random\n",
    "import torch\n",
    "import numpy as np\n",
    "import torch.nn.functional as F\n",
    "\n",
    "from tqdm import tqdm\n",
    "from utils.periodogram_dataset import PeriodogramDataset\n",
    "from utils.data_utils import filter_strlist\n",
    "\n",
    "hut_filenames = filter_strlist(sound_filenames, \"smrpiclient3\")\n",
    "hut_dataset = PeriodogramDataset(hut_filenames, [\"smrpiclient3\"], slice_freq=(0, 2048))\n",
    "\n",
    "test_loss = []\n",
    "with torch.no_grad():\n",
    "    modelVAE.eval()\n",
    "    for input_data in tqdm(hut_dataset):\n",
    "        if input_data:\n",
    "            input_data = torch.Tensor(input_data[0]).to(device)\n",
    "            output, mean, var = modelVAE(input_data.to(device))\n",
    "            test_loss.append(F.mse_loss(output, input_data).cpu().numpy())\n",
    "\n",
    "test_loss_avg = np.mean(test_loss)\n",
    "\n",
    "print(f'\\r\\nVAE test loss: {test_loss_avg:.8f}')\n",
    "                                    "
   ]
  },
  {
   "cell_type": "code",
   "execution_count": null,
   "metadata": {},
   "outputs": [],
   "source": [
    "import tensorflow as tf\n",
    "\n",
    "from operator import itemgetter \n",
    "from utils.periodogram_dataset_keras import PeriodogramGenerator, read_sound_file\n",
    "from tqdm import tqdm \n",
    "\n",
    "hut_sounds =  np.array([read_sound_file(f, (0, 2048)) for f in tqdm(hut_filenames)])\n",
    "mean, var, latent = sb_encoder.predict(hut_sounds)\n",
    "zeros = np.zeros_like(latent)\n",
    "decoder_input = np.concatenate((zeros, latent), axis=1)\n",
    "cvae_output = cvae_decoder.predict(decoder_input)\n",
    "loss = tf.keras.losses.mean_squared_error(hut_sounds, cvae_output)\n",
    "\n",
    "print(f'cVAE test loss:: {np.mean(loss)}')"
   ]
  },
  {
   "cell_type": "code",
   "execution_count": null,
   "metadata": {},
   "outputs": [],
   "source": [
    "subset_indices = np.random.randint(0, len(background_soundfilenames), len(hut_sounds))\n",
    "\n",
    "background_train_sound_files = list(itemgetter(*subset_indices)(background_soundfilenames))\n",
    "bg_sounds = np.array([read_sound_file(f, (0, 2048)) for f in tqdm(background_train_sound_files)])\n",
    "mean, var, latent = sb_encoder.predict(bg_sounds)\n",
    "zeros = np.zeros_like(latent)\n",
    "decoder_input = np.concatenate((zeros, latent), axis=1)\n",
    "cvae_output = cvae_decoder.predict(decoder_input)\n",
    "loss = tf.keras.losses.mean_squared_error(bg_sounds, cvae_output)\n",
    "\n",
    "print(f'MSE loss for background test: {np.mean(loss)}')\n"
   ]
  },
  {
   "cell_type": "markdown",
   "metadata": {},
   "source": [
    "# OLD ANALYSIS BELOW\n",
    "##  |\n",
    "##  |\n",
    "## \\/\n",
    "# Data Preprocessing\n",
    "\n",
    "Here we load train data sound samples and prepare spectrogram, periodogram and mfcc features (along with some data to visualize this). We should provide data with **utc timestamps** as it will be shifted with `timezone_offset_hours` var. What we also do is remove those samples which has strange rms signal. Threshold 0.8 was chosen based on `plot_distribution` output.\n"
   ]
  },
  {
   "cell_type": "code",
   "execution_count": null,
   "metadata": {
    "pycharm": {
     "name": "#%%\n"
    }
   },
   "outputs": [],
   "source": [
    "import numpy as np\n",
    "import glob\n",
    "import librosa\n",
    "\n",
    "from tqdm import tqdm\n",
    "from datetime import datetime, timedelta\n",
    "from scipy.io import wavfile\n",
    "from scipy.fftpack import fft, fftfreq\n",
    "\n",
    "sound_time_ms = 2000\n",
    "# ~93 ms for fft window\n",
    "nfft = 4096\n",
    "# ~34% overlapping\n",
    "hop_len = (nfft//3) + 30\n",
    "# This can be manipulated to adjust number of bins for conv layer\n",
    "fmax = 2750\n",
    "\n",
    "hives_data = []\n",
    "rmses = {}\n",
    "max_to_norm = 0\n",
    "\n",
    "if DATA_INIT:\n",
    "    for idx, hive_id in enumerate(hives_ids):\n",
    "        sound_files = [f for f in glob.glob(f\"..\\\\measurements\\\\smartulav2\\\\{hive_id}_*\\\\*.wav\")]\n",
    "        print(f\"Sound data preparation for hive: {hive_id} which has {len(sound_files)} recordings...\", end=' ', flush=True)\n",
    "        for file in tqdm(sound_files):\n",
    "            sample_rate, sound_samples = wavfile.read(file)\n",
    "            sound_samples = sound_samples.T[0]/(2.0**31)\n",
    "            rms = np.sqrt(sum(sound_samples**2)/len(sound_samples))\n",
    "            if rms < 0.7:    # that threshold was observed from plot_distribution() function\n",
    "                # calculate timestamp\n",
    "                filename = file.rsplit('\\\\', 1)[-1]\n",
    "                utc_timestamp = filename[filename.index('-')+1:].rsplit(\".wav\")[0]\n",
    "                sound_datetime = datetime.strptime(utc_timestamp, '%Y-%m-%dT%H-%M-%S') + timedelta(hours=timezone_offset_hours)\n",
    "                \n",
    "                # calculate mfcc feature\n",
    "                mfccs = librosa.feature.mfcc(y=sound_samples, sr=sample_rate, n_fft=nfft, hop_length=hop_len, n_mfcc=13)\n",
    "                np_mfcc_avg = np.mean(mfccs, axis=1)\n",
    "                \n",
    "                # calculate spectrogram\n",
    "                spectrogram = librosa.core.stft(sound_samples, n_fft=nfft, hop_length=hop_len)\n",
    "                spectrogram_magnitude = np.abs(spectrogram)\n",
    "                spectrogram_phase = np.angle(spectrogram)\n",
    "                spectrogram_db = librosa.amplitude_to_db(spectrogram_magnitude, ref=np.max)\n",
    "                frequencies = librosa.fft_frequencies(sr=sample_rate, n_fft=nfft)\n",
    "                times = (np.arange(0, spectrogram_magnitude.shape[1])*hop_len)/sample_rate\n",
    "                freq_slice = np.where((frequencies < fmax))\n",
    "                frequencies = frequencies[freq_slice]\n",
    "                spectrogram_db = spectrogram_db[freq_slice, :][0]\n",
    "                spectrogram_mean = np.mean(spectrogram_db, axis=1)\n",
    "                # decimate?\n",
    "                # spectrogram_db_decimated = decimate(spectrogram_db.T, 4).T\n",
    "                # frequencies_decimated = decimate(frequencies, 4)\n",
    "\n",
    "                #calculate periodogram\n",
    "                periodogram = fft(sound_samples, n=sample_rate)\n",
    "                periodogram = abs(periodogram[1:int(len(periodogram)/2)])\n",
    "                periodogram_freq = fftfreq(len(sound_samples)//(sound_time_ms//1000), 1/sample_rate)\n",
    "                periodogram_freq = periodogram_freq[:(len(periodogram_freq)//2)-1]\n",
    "                \n",
    "                hives_data.append(\n",
    "                    {\n",
    "                        'datetime': sound_datetime,\n",
    "                        'id': hive_id,\n",
    "                        'samples': sound_samples,\n",
    "                        'freq':\n",
    "                            {\n",
    "                                'spectrogram':\n",
    "                                    {\n",
    "                                        'frequencies': frequencies,\n",
    "                                        'time': times,\n",
    "                                        'spectrogram_full_db': spectrogram_db,\n",
    "                                        'spectrogram_mean': spectrogram_mean\n",
    "                                    },\n",
    "                                'periodogram':\n",
    "                                    {\n",
    "                                        'frequencies': periodogram_freq,\n",
    "                                        'samples': periodogram\n",
    "                                    }\n",
    "                            },\n",
    "                        'features':\n",
    "                            {\n",
    "                                'mfcc_avg': np_mfcc_avg\n",
    "                            }\n",
    "                    }\n",
    "                )\n",
    "        print(\" done.\")\n",
    "        \n",
    "    print(\"saving data on disc...\", end=' ')\n",
    "    np.save('data/raw_hives_data.npy', hives_data, allow_pickle=True)\n",
    "    print(\"done.\")\n",
    "else:\n",
    "    hives_data = np.load('data/raw_hives_data.npy', allow_pickle=True)\n",
    "    \n",
    "print(f\"got full dataset of {len(hives_data)} sound samples\")"
   ]
  },
  {
   "cell_type": "markdown",
   "metadata": {
    "pycharm": {
     "name": "#%% md\n"
    }
   },
   "source": [
    "### Data preprocessing \n",
    "\n",
    "Here we perform scaling standarization etc.\n",
    " "
   ]
  },
  {
   "cell_type": "code",
   "execution_count": null,
   "metadata": {},
   "outputs": [],
   "source": [
    "import pandas as pd\n",
    "\n",
    "from sklearn.preprocessing import StandardScaler, MinMaxScaler\n",
    "from tqdm import tqdm\n",
    "\n",
    "sc = StandardScaler()\n",
    "mm = MinMaxScaler()\n",
    "\n",
    "# extract every spectrogram from hives data list and standarize every periodogram from stft \n",
    "# so data for spectrogram will have zero mean and unit variance + scale every standarized periodogram\n",
    "print('preparing spectrograms...', end=' ', flush=True)\n",
    "spectrograms = [hive_data['freq']['spectrogram']['spectrogram_full_db'] for hive_data in hives_data]\n",
    "# standarized_spectrograms = [sc.fit_transform(spectrogram.T).T for spectrogram in tqdm(spectrograms)]\n",
    "scaled_spectrogram = [mm.fit_transform(spectrogram.T).T for spectrogram in tqdm(spectrograms, position=0, leave=True)]\n",
    "print('done.')\n",
    "\n",
    "# get datatime, names and mfcc\n",
    "print('getting mfccs', end=' ')\n",
    "datetimes = [hive_data['datetime'] for hive_data in hives_data]\n",
    "names = [hive_data['id'] for hive_data in hives_data]\n",
    "mfccs = [hive_data['features']['mfcc_avg'] for hive_data in hives_data]\n",
    "print('done.')\n",
    "\n",
    "# standarize and scale mean spectrogram for sounds\n",
    "print('preparing spectrogram means', end=' ')\n",
    "spectrograms_mean = [hive_data['freq']['spectrogram']['spectrogram_mean'] for hive_data in hives_data]\n",
    "standarized_spectrograms_mean = StandardScaler().fit_transform(spectrograms_mean)\n",
    "scaled_spectrograms_means = MinMaxScaler().fit_transform(standarized_spectrograms_mean)\n",
    "print('done.')\n",
    "\n",
    "# prepare truncated periodogram\n",
    "end_frequency = 2048\n",
    "print(f'preparing truncated periodograms ({end_frequency})', end=' ', flush=True)\n",
    "periodograms = [hive_data['freq']['periodogram']['samples'][:end_frequency] for hive_data in hives_data]\n",
    "periodograms = [mm.fit_transform(perio.reshape(-1, 1)).T for perio in tqdm(periodograms, position=0, leave=True)]\n",
    "print('done.')\n",
    "\n",
    "sounds = list(zip(scaled_spectrogram, mfccs, scaled_spectrograms_means, periodograms, datetimes, names))\n",
    "\n",
    "sounds_data = pd.DataFrame(sounds, columns=['spectrogram', 'mfccs', 'spectrogram_mean', 'periodogram', 'datetime', 'name'])\n",
    "sounds_data['datetime'] = pd.to_datetime(sounds_data['datetime'])\n",
    "sounds_hive_data = sounds_data[sounds_data['name'] == hive_under_analysis]\n",
    "\n",
    "print(f\"Got dataset of size: {len(sounds)}\")"
   ]
  },
  {
   "cell_type": "markdown",
   "metadata": {},
   "source": [
    "## Train CONTRASTIVE AE - keras"
   ]
  },
  {
   "cell_type": "code",
   "execution_count": null,
   "metadata": {},
   "outputs": [],
   "source": [
    "sounds_data[sounds_data['name'] == 'smrpiclient7']['periodogram'].to_numpy().shape"
   ]
  },
  {
   "cell_type": "code",
   "execution_count": null,
   "metadata": {},
   "outputs": [],
   "source": [
    "from utils.contrastive_keras import contrastive_keras_vae\n",
    "from sklearn.preprocessing import MinMaxScaler\n",
    "\n",
    "target_keras = np.stack(sounds_data[sounds_data['name'] == 'smrpiclient7']['periodogram'].to_numpy()[:3000]).squeeze()\n",
    "background_keras = np.stack(sounds_data[sounds_data['name'] == 'smrpiclient6']['periodogram'].to_numpy()[:3000]).squeeze()\n",
    "\n",
    "print(f'training cvae (keras) with target of shape: {target_keras.shape} '\n",
    "    f'and background of shape: {background_keras.shape}')\n",
    "\n",
    "assert(target_keras.shape == background_keras.shape)\n",
    "\n",
    "cvae_keras, cvae_fg, z_encoder_keras, s_encoder_keras, cvae_keras_decoder = contrastive_keras_vae(\n",
    "    input_dim=2048, intermediate_dim=512, latent_dim=16, disentangle=True, gamma=1)\n",
    "history = cvae_keras.fit([target_keras, background_keras], epochs=50, batch_size=100, \n",
    "                         validation_data=([target_keras, background_keras], None), verbose=1)"
   ]
  },
  {
   "cell_type": "markdown",
   "metadata": {
    "pycharm": {
     "name": "#%% md\n"
    }
   },
   "source": [
    "## Train BASIC AE\n",
    "Here we train basic fully connected autoencoder on data from particular hive"
   ]
  },
  {
   "cell_type": "code",
   "execution_count": null,
   "metadata": {
    "pycharm": {
     "name": "#%%\n"
    }
   },
   "outputs": [],
   "source": [
    "import torch \n",
    "import os\n",
    "\n",
    "from torch.utils import data as tdata\n",
    "from utils.data_utils import prepare_dataset1d\n",
    "from utils.autoencoder_utils import BasicAutoencoder, train_model\n",
    "\n",
    "TRAIN_MODEL = False\n",
    "PATH = 'basic_ae.pth'\n",
    "\n",
    "modelBasicAE = BasicAutoencoder().to(device)\n",
    "\n",
    "if TRAIN_MODEL:\n",
    "    train_dataloader, val_dataloader = prepare_dataset1d(sounds_hive_data['spectrogram_mean'], train_ratio=0.8, batch_size=64)\n",
    "    modelBasicAE = train_model(modelBasicAE,\n",
    "                           learning_rate=1e-3, weight_decay=1e-5, num_epochs=10, patience=20,\n",
    "                           dataloader_train=train_dataloader, dataloader_val=val_dataloader,\n",
    "                           checkpoint_name=PATH)\n",
    "else:\n",
    "    if os.path.isfile(PATH) and os.access(PATH, os.R_OK):\n",
    "        modelBasicAE.load_state_dict(torch.load(PATH))\n",
    "        print('model load success!')\n",
    "    else:\n",
    "        print(f'ERROR! There is no file: {PATH}')"
   ]
  },
  {
   "cell_type": "markdown",
   "metadata": {},
   "source": [
    "## Train CONV AE"
   ]
  },
  {
   "cell_type": "markdown",
   "metadata": {
    "pycharm": {
     "name": "#%% md\n"
    }
   },
   "source": [
    "Here we train convolutional autoencoder on data from particular hive"
   ]
  },
  {
   "cell_type": "code",
   "execution_count": null,
   "metadata": {
    "pycharm": {
     "name": "#%%\n"
    }
   },
   "outputs": [],
   "source": [
    "from torch.utils import data as tdata\n",
    "from utils.data_utils import prepare_dataset2d\n",
    "from utils.autoencoder_utils import ConvAutoencoder, train_model\n",
    "\n",
    "TRAIN_MODEL = True\n",
    "PATH = 'conv_ae.pth'\n",
    "\n",
    "modelConvAE = ConvAutoencoder().to(device)\n",
    "\n",
    "if TRAIN_MODEL:\n",
    "    train_set, val_set = prepare_dataset2d(sounds_hive_data['spectrogram'], train_ratio=0.8)\n",
    "    \n",
    "    dataloader_train = tdata.DataLoader(train_set, batch_size=6, shuffle=True)\n",
    "    dataloader_val = tdata.DataLoader(val_set, batch_size=6, shuffle=True)\n",
    "    \n",
    "    modelConvAE = train_model(modelConvAE,\n",
    "                               learning_rate=1e-3, weight_decay=1e-6, num_epochs=100, patience=20,\n",
    "                               dataloader_train=dataloader_train, dataloader_val=dataloader_val,\n",
    "                               checkpoint_name=PATH)\n",
    "else:\n",
    "    if os.path.isfile(PATH) and os.access(PATH, os.R_OK):\n",
    "        modelConvAE.load_state_dict(torch.load(PATH))\n",
    "        print('model load success!')\n",
    "    else:\n",
    "        print(f'ERROR! There is no such file: {PATH}')"
   ]
  },
  {
   "cell_type": "markdown",
   "metadata": {},
   "source": [
    "## Train VAE"
   ]
  },
  {
   "cell_type": "markdown",
   "metadata": {},
   "source": [
    "Here we train vae autoencoder on data from particular hive"
   ]
  },
  {
   "cell_type": "code",
   "execution_count": null,
   "metadata": {},
   "outputs": [],
   "source": [
    "import torch\n",
    "\n",
    "from torch.utils import data as tdata\n",
    "from torchvision import transforms\n",
    "from utils.data_utils import prepare_dataset1d\n",
    "from utils.contrastive_pytorch import VAE, train_vae_model\n",
    "from utils.customdataset import CustomDataset\n",
    "\n",
    "TRAIN_MODEL = True\n",
    "PATH = 'vae.pth'\n",
    "\n",
    "modelVAE = VAE(encoder_layer_sizes=[2048, 512, 64], latent_size=16, decoder_layer_sizes=[64, 512, 2048])\n",
    "\n",
    "if TRAIN_MODEL:\n",
    "    data = torch.Tensor(sounds_hive_data['periodogram'])\n",
    "    data = data[:, None, :]\n",
    "    idx_split = data.size(0)*80//100\n",
    "    train_dataset = CustomDataset(data[:idx_split], should_scale=True)\n",
    "    val_dataset = CustomDataset(data[idx_split:], should_scale=True)\n",
    "    train_dataloader = tdata.DataLoader(train_dataset, batch_size=64, shuffle=True)\n",
    "    val_dataloader = tdata.DataLoader(val_dataset, batch_size=64, shuffle=True)\n",
    "    \n",
    "    modelVAE = train_vae_model(modelVAE, learning_rate=1e-3, weight_decay=1e-5, num_epochs=100, patience=100,\n",
    "                              dataloader_train=train_dataloader, dataloader_val=val_dataloader, checkpoint_name=PATH)\n",
    "else:\n",
    "    if os.path.isfile(PATH) and os.access(PATH, os.R_OK):\n",
    "        modelVAE.load_state_dict(torch.load(PATH))\n",
    "        print('model load success!')\n",
    "    else:\n",
    "        print(f'ERROR! There is no such file: {PATH}')"
   ]
  },
  {
   "cell_type": "markdown",
   "metadata": {
    "pycharm": {
     "name": "#%% md\n"
    }
   },
   "source": [
    "# Encode data"
   ]
  },
  {
   "cell_type": "code",
   "execution_count": null,
   "metadata": {
    "collapsed": false,
    "jupyter": {
     "outputs_hidden": false
    },
    "pycharm": {
     "name": "#%%\n"
    }
   },
   "outputs": [],
   "source": [
    "import matplotlib.pyplot as plt\n",
    "import random\n",
    "import torch\n",
    "from scipy.io import wavfile\n",
    "\n",
    "# read just sample file as probably all has the same sampling rate\n",
    "sample_rate, samples = wavfile.read('C:\\\\Users\\\\tymot\\\\projects\\\\001.smartula\\\\smartula-analysis\\\\smartula-analysis'\n",
    "                           '\\\\measurements\\\\smartulav2\\\\smrpiclient6_10082020-15092020\\\\DEADBEEF94-2020-08-10T03-11-50.wav')\n",
    "idx = random.randint(0, sounds_hive_data.shape[0] - 1)\n",
    "idx = 2240\n",
    "with torch.no_grad():   \n",
    "    modelConvAE.eval()\n",
    "    modelBasicAE.eval()\n",
    "    modelVAE.eval()\n",
    "    \n",
    "    # Get sound from sounds hive data (with respect to hive under analysis)\n",
    "    sound = sounds_hive_data.iloc[idx]\n",
    "    \n",
    "    fig, axs = plt.subplots(2, 2, figsize=(12,8))\n",
    "    fig.suptitle(f'Convolutional Autoencoder real vs output for sample id: {idx}')\n",
    "    fig.tight_layout(pad = 3.0)\n",
    "\n",
    "    frequencies = librosa.fft_frequencies(sr=sample_rate, n_fft=nfft)\n",
    "    freq_slice = np.where((frequencies < fmax))\n",
    "    frequencies = frequencies[freq_slice]\n",
    "    times = (np.arange(0, sound['spectrogram'].shape[1])*hop_len)/sample_rate\n",
    "    elem = sound['spectrogram']\n",
    "    elem = elem[None, None, :, :]\n",
    "    elem = torch.Tensor(elem).to(device)\n",
    "    \n",
    "    elem_mean = sound['spectrogram_mean']\n",
    "    elem_mean = elem_mean[None, :]\n",
    "    elem_mean = torch.Tensor(elem_mean).to(device)\n",
    "    \n",
    "    axs[0][0].set_title('real spectrogram')\n",
    "    axs[0][0].pcolormesh(times, frequencies, sound['spectrogram'])\n",
    "    axs[0][1].set_title('encoded conv2d')\n",
    "    axs[0][1].pcolormesh(times, frequencies, modelConvAE(elem.to(device)).cpu().numpy().squeeze())\n",
    "    \n",
    "    # prepare data for vae prediction\n",
    "    freqs = np.arange(sound['periodogram'].shape[1])\n",
    "    input_data = torch.Tensor(sound['periodogram']).to(device)\n",
    "    vae_output, _, _ = modelVAE(input_data)\n",
    "    \n",
    "    # prepare data for cvae prediction\n",
    "    s_mean, s_log_var, s = s_encoder_keras.predict(sound['periodogram'])\n",
    "    latent = np.concatenate((np.zeros_like(s), s), axis = 1)\n",
    "    cvae_output = cvae_keras_decoder.predict(latent)\n",
    "\n",
    "    axs[1][0].set_title('spectrogram mean')\n",
    "    axs[1][0].plot(sound['spectrogram_mean'], label='real', color='blue')\n",
    "    axs[1][0].plot(modelBasicAE(elem_mean).cpu().numpy().squeeze(), label='encoded', color='red')\n",
    "    axs[1][0].legend()\n",
    "    \n",
    "    axs[1][1].set_title('periodogram')\n",
    "    axs[1][1].plot(freqs, periodogram_df, label='real', color='blue')\n",
    "    axs[1][1].plot(freqs, vae_output.cpu().numpy().squeeze(), label='vae encoded', color='red')\n",
    "    axs[1][1].plot(freqs, cvae_output.squeeze(), label='cvae encoded', color='green')\n",
    "    axs[1][1].legend()\n",
    "    \n",
    "    plt.show()"
   ]
  },
  {
   "cell_type": "markdown",
   "metadata": {},
   "source": [
    "# Add temperature/humidity/gas"
   ]
  },
  {
   "cell_type": "code",
   "execution_count": null,
   "metadata": {},
   "outputs": [],
   "source": [
    "from utils.data_utils import read_sensor_data\n",
    "\n",
    "start_time = '2020-08-10 00:00:00'\n",
    "end_time = '2020-09-16 00:00:00'\n",
    "print(f\"extracting data for hive under analysis: {hive_under_analysis} from {start_time} to {end_time}...\")\n",
    "\n",
    "df_hives_sound = pd.DataFrame(sounds_data)\n",
    "df_hive_sound_ua = df_hives_sound[(df_hives_sound['name'] == hive_under_analysis)\n",
    "                                 & (df_hives_sound['datetime'] > start_time)\n",
    "                                 & (df_hives_sound['datetime'] < end_time)]\n",
    "df_hive_sound_ua.set_index('datetime', inplace=True)\n",
    "print(f\"-> prepared base of {df_hive_sound_ua.count()['spectrogram']} number of sound spectrums <-\")\n",
    "\n",
    "df_hive_temperature_ua = read_sensor_data('..//measurements//smartulav2//sulmin-10082020-15092020-inside-temperature.csv',\n",
    "                                          hive_under_analysis, hives_ids, start_time, end_time, timezone_offset_hours, 'temperature')\n",
    "df_hive_humidity_ua = read_sensor_data('..//measurements//smartulav2//sulmin-10082020-15092020-inside-humidity.csv',\n",
    "                                       hive_under_analysis, hives_ids, start_time, end_time, timezone_offset_hours, 'humidity')\n",
    "df_hive_alcohol_ua = read_sensor_data('..//measurements//smartulav2//sulmin-10082020-15092020-inside-alcohol.csv',\n",
    "                                      hive_under_analysis, hives_ids, start_time, end_time, timezone_offset_hours, 'alcohol')\n",
    "df_hive_aceton_ua = read_sensor_data('..//measurements//smartulav2//sulmin-10082020-15092020-inside-aceton.csv',\n",
    "                                     hive_under_analysis, hives_ids, start_time, end_time, timezone_offset_hours, 'aceton')\n",
    "df_hive_amon_ua = read_sensor_data('..//measurements//smartulav2//sulmin-10082020-15092020-inside-jon-amonowy.csv',\n",
    "                                   hive_under_analysis, hives_ids, start_time, end_time, timezone_offset_hours, 'jon-amonowy')\n",
    "df_hive_toluen_ua = read_sensor_data('..//measurements//smartulav2//sulmin-10082020-15092020-inside-toluen.csv',\n",
    "                                     hive_under_analysis, hives_ids, start_time, end_time, timezone_offset_hours, 'toluen')\n",
    "df_hive_co2_ua = read_sensor_data('..//measurements//smartulav2//sulmin-10082020-15092020-inside-co2.csv',\n",
    "                                    hive_under_analysis, hives_ids, start_time, end_time, timezone_offset_hours, 'co2')\n",
    "df_hive_siarkowodor_ua = read_sensor_data('..//measurements//smartulav2//sulmin-10082020-15092020-inside-siarkowodor.csv',\n",
    "                                          hive_under_analysis, hives_ids, start_time, end_time, timezone_offset_hours, 'siarkowodor')\n",
    "df_hive_metanotiol_ua = read_sensor_data('..//measurements//smartulav2//sulmin-10082020-15092020-inside-metanotiol.csv',\n",
    "                                         hive_under_analysis, hives_ids, start_time, end_time, timezone_offset_hours, 'metanotiol')\n",
    "df_hive_trimetyloamina_ua = read_sensor_data('..//measurements//smartulav2//sulmin-10082020-15092020-inside-trimetyloamina.csv',\n",
    "                                         hive_under_analysis, hives_ids, start_time, end_time, timezone_offset_hours, 'trimetyloamina')\n",
    "df_hive_wodor_ua = read_sensor_data('..//measurements//smartulav2//sulmin-10082020-15092020-inside-wodor.csv',\n",
    "                                    hive_under_analysis, hives_ids, start_time, end_time, timezone_offset_hours, 'wodor')\n",
    "df_hive_co_ua = read_sensor_data('..//measurements//smartulav2//sulmin-10082020-15092020-inside-co.csv',\n",
    "                                 hive_under_analysis, hives_ids, start_time, end_time, timezone_offset_hours, 'co')\n"
   ]
  },
  {
   "cell_type": "markdown",
   "metadata": {},
   "source": [
    "Check autocorrelation for specific features"
   ]
  },
  {
   "cell_type": "code",
   "execution_count": null,
   "metadata": {},
   "outputs": [],
   "source": [
    "from utils.data_utils import merge_dataframes_ontimestamp, merge_columns\n",
    "from utils.autoencoder_utils import conv2d_encode, basic_ae_encode\n",
    "from utils.contrastive_pytorch import vae_encode\n",
    "from utils.contrastive_keras import cvae_encode\n",
    "\n",
    "df_hive_data = merge_dataframes_ontimestamp(df_hive_sound_ua,\n",
    "                                            df_hive_temperature_ua, df_hive_humidity_ua,\n",
    "                                            df_hive_alcohol_ua, df_hive_aceton_ua, df_hive_amon_ua, df_hive_toluen_ua, df_hive_co2_ua,\n",
    "                                            df_hive_siarkowodor_ua, df_hive_metanotiol_ua, df_hive_trimetyloamina_ua, df_hive_wodor_ua,\n",
    "                                            df_hive_co_ua)\n",
    "\n",
    "df_hive_data['conv_ae'] = conv2d_encode(modelConvAE, df_hive_data['spectrogram'].to_list())\n",
    "df_hive_data['basic_ae'] = basic_ae_encode(modelBasicAE, df_hive_data['spectrogram_mean'].to_list())\n",
    "df_hive_data['vae'] = vae_encode(modelVAE, df_hive_data['periodogram'].to_list()).tolist()\n",
    "df_hive_data['cvae_s'] = cvae_encode(s_encoder_keras, df_hive_data['periodogram']).tolist()\n",
    "df_hive_data['cvae_z'] = cvae_encode(z_encoder_keras, df_hive_data['periodogram']).tolist()\n",
    "\n",
    "df_hive_data['bae_feature_vector'] = merge_columns(df_hive_data, ['basic_ae', 'humidity', 'temperature', \n",
    "                                                                  'alcohol', 'aceton', 'jon-amonowy', 'toluen', 'co2', 'trimetyloamina', 'co'])\n",
    "df_hive_data['conv_feature_vector'] = merge_columns(df_hive_data, ['conv_ae', 'humidity', 'temperature', \n",
    "                                                                  'alcohol', 'aceton', 'jon-amonowy', 'toluen', 'co2', 'trimetyloamina', 'co'])\n",
    "df_hive_data['mfcc_feature_vector'] = merge_columns(df_hive_data, ['mfccs', 'humidity', 'temperature', \n",
    "                                                                  'alcohol', 'aceton', 'jon-amonowy', 'toluen', 'co2', 'trimetyloamina', 'co'])\n",
    "df_hive_data['vae_feature_vector'] = merge_columns(df_hive_data, ['vae', 'humidity', 'temperature', \n",
    "                                                                  'alcohol', 'aceton', 'jon-amonowy', 'toluen', 'co2', 'trimetyloamina', 'co'])\n",
    "df_hive_data['cvae_s_feature_vector'] = merge_columns(df_hive_data, ['cvae_s', 'humidity', 'temperature', \n",
    "                                                                  'alcohol', 'aceton', 'jon-amonowy', 'toluen', 'co2', 'trimetyloamina', 'co'])\n",
    "df_hive_data['cvae_z_feature_vector'] = merge_columns(df_hive_data, ['cvae_z', 'humidity', 'temperature', \n",
    "                                                                  'alcohol', 'aceton', 'jon-amonowy', 'toluen', 'co2', 'trimetyloamina', 'co'])"
   ]
  },
  {
   "cell_type": "markdown",
   "metadata": {},
   "source": [
    "# SVM classification "
   ]
  },
  {
   "cell_type": "code",
   "execution_count": null,
   "metadata": {},
   "outputs": [],
   "source": [
    "from sklearn.preprocessing import StandardScaler\n",
    "from utils.data_utils import search_best_night_day\n",
    "\n",
    "start_hours = [20, 21, 22, 23, 0, 1, 2, 3, 4]\n",
    "\n",
    "df_hive_data_scaled = pd.DataFrame(df_hive_data)\n",
    "\n",
    "# data for convolutional autoencoder\n",
    "df_hive_data_scaled['conv_feature_vector'] = StandardScaler().fit_transform(df_hive_data['conv_feature_vector'].values.tolist()).tolist()\n",
    "\n",
    "# data for basic autoencoder\n",
    "df_hive_data_scaled['bae_feature_vector'] = StandardScaler().fit_transform(df_hive_data['bae_feature_vector'].values.tolist()).tolist()\n",
    "\n",
    "# data for mfcc features\n",
    "df_hive_data_scaled['mfcc_feature_vector'] = StandardScaler().fit_transform(df_hive_data['mfcc_feature_vector'].values.tolist()).tolist()\n",
    "\n",
    "# data for vae features\n",
    "df_hive_data_scaled['vae_feature_vector'] = StandardScaler().fit_transform(df_hive_data['vae_feature_vector'].values.tolist()).tolist()\n",
    "\n",
    "# data for cvae s features\n",
    "df_hive_data_scaled['cvae_s_feature_vector'] = StandardScaler().fit_transform(df_hive_data['cvae_s_feature_vector'].values.tolist()).tolist()\n",
    "\n",
    "# data for cvae s features\n",
    "df_hive_data_scaled['cvae_z_feature_vector'] = StandardScaler().fit_transform(df_hive_data['cvae_z_feature_vector'].values.tolist()).tolist()\n",
    "\n",
    "# data for plain mfcc \n",
    "mfccs = [hive_data['features']['mfcc_avg'] for hive_data in hives_data if hive_data['id'] == hive_under_analysis]\n",
    "mfccs = StandardScaler().fit_transform(mfccs)\n",
    "datetimes = [hive_data['datetime'] for hive_data in hives_data if hive_data['id'] == hive_under_analysis]\n",
    "mfccs_data = list(zip(datetimes, mfccs))\n",
    "pd_mfcc_data = pd.DataFrame(mfccs_data, columns=['datetime', 'mfcc'])\n",
    "pd_mfcc_data.set_index('datetime', inplace=True)\n",
    "\n",
    "# calculate one class SVM match\n",
    "print('calculating mfccs match...', end=' ', flush=True)\n",
    "mfcc_accs = search_best_night_day(pd_mfcc_data, 'mfcc', days_as_test=10, start_hours=start_hours, max_shift=6, verbose=0)\n",
    "print(f'done. {len(mfcc_accs)}/{len(mfcc_accs[0])}')\n",
    "print('calculating conv ae feature vector match...', end=' ', flush=True)\n",
    "conv_ae_accs = search_best_night_day(df_hive_data_scaled, 'conv_feature_vector', days_as_test=10, start_hours=start_hours, max_shift=6, verbose=0)\n",
    "print(f'done. {len(conv_ae_accs)}/{len(conv_ae_accs[0])}')\n",
    "print('calculating basic ae feature vector match...', end=' ', flush=True)\n",
    "bae_accs = search_best_night_day(df_hive_data_scaled, 'bae_feature_vector', days_as_test=10, start_hours=start_hours, max_shift=6, verbose=0)\n",
    "print(f'done. {len(bae_accs)}/{len(bae_accs[0])}')\n",
    "print('calculating mfccs extended feature vector match...', end=' ', flush=True)\n",
    "mffce_accs = search_best_night_day(df_hive_data_scaled, 'mfcc_feature_vector', days_as_test=10, start_hours=start_hours, max_shift=6, verbose=0)\n",
    "print(f'done. {len(mffce_accs)}/{len(mffce_accs[0])}')\n",
    "print('calculating vae feature vector match...', end=' ', flush=True)\n",
    "vae_accs = search_best_night_day(df_hive_data_scaled, 'vae_feature_vector', days_as_test=10, start_hours=start_hours, max_shift=6, verbose=0)\n",
    "print(f'done. {len(vae_accs)}/{len(vae_accs[0])}')\n",
    "print('calculating cvae s feature vector match...', end=' ', flush=True)\n",
    "cvae_accs_s = search_best_night_day(df_hive_data_scaled, 'cvae_s_feature_vector', days_as_test=10, start_hours=start_hours, max_shift=6, verbose=0)\n",
    "print(f'done. {len(cvae_accs_s)}/{len(cvae_accs_s[0])}')\n",
    "print('calculating cvae z feature vector match...', end=' ', flush=True)\n",
    "cvae_accs_z = search_best_night_day(df_hive_data_scaled, 'cvae_z_feature_vector', days_as_test=10, start_hours=start_hours, max_shift=6, verbose=0)\n",
    "print(f'done. {len(cvae_accs_z)}/{len(cvae_accs_z[0])}')"
   ]
  },
  {
   "cell_type": "code",
   "execution_count": null,
   "metadata": {},
   "outputs": [],
   "source": [
    "from utils.data_utils import plot_hour_shift\n",
    "\n",
    "plot_hour_shift(mfcc_accs, conv_ae_accs, bae_accs, mffce_accs, vae_accs, cvae_accs_s, cvae_accs_z,\n",
    "                labels_list=['mfcc', 'conv', 'bae', 'mfcce', 'vae', 'cvae_s', 'cvae_z'],\n",
    "                xticklabels=[str(start_hour) for start_hour in start_hours],\n",
    "                save_path = 'data\\\\outputs\\\\zs_encoder_0_s.png')"
   ]
  },
  {
   "cell_type": "markdown",
   "metadata": {},
   "source": [
    "Visualize on 2D map, we basically perform TSNE and PCA dimension reduction in order to visualize night and day. Probably this will be not efficent but it is worth to give a shot."
   ]
  },
  {
   "cell_type": "code",
   "execution_count": null,
   "metadata": {},
   "outputs": [],
   "source": [
    "import matplotlib.pyplot as plt\n",
    "from sklearn.decomposition import PCA\n",
    "from sklearn.manifold import TSNE\n",
    "\n",
    "start_hour = 23\n",
    "end_hour = 2\n",
    "\n",
    "reduce_df = pd.DataFrame(df_hive_data)\n",
    "reduce_df['feature_vector'] = StandardScaler().fit_transform(df_hive_data['bae_feature_vector'].values.tolist()).tolist()\n",
    "\n",
    "reduced_ae_pca = PCA(n_components=2).fit_transform(reduce_df['feature_vector'].values.tolist())\n",
    "reduced_ae_tsne =  TSNE(n_components=2, perplexity=100, learning_rate=500).fit_transform(reduce_df['feature_vector'].values.tolist())\n",
    "is_night_list = (reduce_df.index.hour >= start_hour) | (reduce_df.index.hour <= end_hour)\n",
    "                \n",
    "colors = ['red', 'green', 'blue', 'yellow']\n",
    "labels = ['day', 'night']\n",
    "\n",
    "fig, axs = plt.subplots(2, figsize=(10,10))\n",
    "\n",
    "axs[0].scatter(x=[data[0] for data in reduced_ae_pca],\n",
    "               y=[data[1] for data in reduced_ae_pca],\n",
    "               c=[colors[night] for night in is_night_list],\n",
    "              alpha=0.3)\n",
    "axs[0].set_title('PCA')\n",
    "\n",
    "axs[1].scatter(x=[data[0] for data in reduced_ae_tsne],\n",
    "               y=[data[1] for data in reduced_ae_tsne],\n",
    "               c=[colors[night] for night in is_night_list],\n",
    "              alpha=0.3)\n",
    "axs[1].set_title('TSNE')\n",
    "\n",
    "plt.show()"
   ]
  },
  {
   "cell_type": "code",
   "execution_count": null,
   "metadata": {},
   "outputs": [],
   "source": [
    "pca = PCA().fit(reduce_df['feature_vector'].values.tolist())\n",
    "\n",
    "plt.figure()\n",
    "plt.plot(np.cumsum(pca.explained_variance_ratio_))\n",
    "plt.xlabel('number of components')\n",
    "plt.ylabel('cumulative explained variance');\n",
    "\n",
    "\n"
   ]
  },
  {
   "cell_type": "code",
   "execution_count": null,
   "metadata": {},
   "outputs": [],
   "source": [
    "import matplotlib\n",
    "\n",
    "def plot_distribution(distribution_dict, bin_size):\n",
    "    \"\"\" Plotting distribiution for dictionary elements\"\"\"\n",
    "    colors = ['blue', 'green', 'red', 'yellow', 'black', 'pink', 'purple']\n",
    "    rms_max = 0\n",
    "    rms_min = 65535\n",
    "    for k, v in rmses.items():\n",
    "        if np.max(v) > rms_max:\n",
    "            rms_max = np.max(v)\n",
    "        if np.min(v) < rms_min:\n",
    "            rms_min = np.min(v)\n",
    "        \n",
    "    plt.figure()\n",
    "    for idx, (k, v) in enumerate(distribution_dict.items()):\n",
    "        plt.hist(v, color=colors[idx%len(colors)], bins=int(np.abs(rms_max-rms_min)/bin_size))\n",
    "    plt.show()"
   ]
  },
  {
   "cell_type": "markdown",
   "metadata": {},
   "source": [
    "Part of code for calculating autocorrelaction for specific feature"
   ]
  },
  {
   "cell_type": "code",
   "execution_count": null,
   "metadata": {},
   "outputs": [],
   "source": [
    "import matplotlib.pyplot as plt\n",
    "from statsmodels.graphics.tsaplots import plot_acf, plot_pacf\n",
    "from statsmodels.tsa.stattools import acf\n",
    "\n",
    "%matplotlib widget\n",
    "\n",
    "features = ['conv_ae', 'humidity', 'temperature',\n",
    "            'alcohol', 'aceton', 'jon-amonowy',\n",
    "            'toluen', 'co2', 'siarkowodor',\n",
    "            'metanotiol', 'trimetyloamina', 'wodor', 'co']\n",
    "\n",
    "feature = features[12]\n",
    "data_to_autocorr = df_hive_co_ua\n",
    "\n",
    "roll_len = 3\n",
    "interval = (data_to_autocorr.index[2] - data_to_autocorr.index[1]).seconds//60%60\n",
    "\n",
    "y2 = data_to_autocorr[feature].rolling(window=roll_len).mean().values\n",
    "y_corr = y2[roll_len:]\n",
    "x_corelation = np.arange(start=0, step=2, stop=150)\n",
    "\n",
    "fig, axes = plt.subplots(1, figsize=(8,5))\n",
    "x = plot_acf(y_corr, lags=x_corelation, zero=False, ax=axes)\n",
    "x_raw = acf(y_corr, nlags=150)\n",
    "axes.set_title(f'{feature} autocorrelaction')\n",
    "axes.set_xlabel(f'Lag (1 lag = {interval} minutes)') \n",
    "axes.set_ylabel('Correlation')\n",
    "axes.set_xticks(np.arange(0, 151, step=10))\n",
    "\n",
    "print(f'{feature} with max {max(x_raw[60:]):.2f} at {60 + np.argmax(x_raw[60:])}')\n",
    "\n",
    "# temperature with max 0.74 at 93 (15 mint)\n",
    "# humidity with max 0.58 at 92 (15 min)\n",
    "# alcohol with max 0.53 at 134 (10 min)\n",
    "# aceton with max 0.52 at 133 (10 min)\n",
    "# jon-amonowy with max 0.57 at 133 (10 min)\n",
    "# toluen with max 0.52 at 134 (10 min)\n",
    "# co2 with max 0.54 at 133 (10 min)\n",
    "# siarkowodor with max 0.16 at 142 (10 min)\n",
    "# metanotiol with max 0.34 at 140 (10 min)\n",
    "# trimetyloamina with max 0.56 at 138 (10 min)\n",
    "# wodor with max 0.14 at 142 (10 min)\n",
    "# co with max 0.62 at 134 (10 min)"
   ]
  },
  {
   "cell_type": "code",
   "execution_count": null,
   "metadata": {
    "collapsed": false,
    "jupyter": {
     "outputs_hidden": false
    },
    "pycharm": {
     "name": "#%%\n"
    }
   },
   "outputs": [],
   "source": [
    "import importlib\n",
    "import utils.autoencoder_utils as ae\n",
    "import utils.data_utils as du\n",
    "import utils.customdataset as cd\n",
    "import utils.contrastive_pytorch as cp\n",
    "import utils.contrastive_keras as ck\n",
    "import utils.periodogram_dataset as pd\n",
    "\n",
    "importlib.reload(pd)\n"
   ]
  }
 ],
 "metadata": {
  "kernelspec": {
   "display_name": "Python 3",
   "language": "python",
   "name": "python3"
  },
  "language_info": {
   "codemirror_mode": {
    "name": "ipython",
    "version": 3
   },
   "file_extension": ".py",
   "mimetype": "text/x-python",
   "name": "python",
   "nbconvert_exporter": "python",
   "pygments_lexer": "ipython3",
   "version": "3.8.5-final"
  }
 },
 "nbformat": 4,
 "nbformat_minor": 4
}