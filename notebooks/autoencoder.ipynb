{
 "cells": [
  {
   "cell_type": "code",
   "execution_count": 1,
   "metadata": {},
   "outputs": [],
   "source": [
    "import pandas as pd\n",
    "import matplotlib.pyplot as plt\n",
    "import numpy as np\n",
    "from tqdm import tqdm\n",
    "import glob\n",
    "\n",
    "hives_ids = [\"smrpiclient7\", \"smrpiclient6\", \"smrpiclient3\"]"
   ]
  },
  {
   "cell_type": "markdown",
   "metadata": {},
   "source": [
    "\n",
    "Here we load train data sound samples and prepare spectrogram"
   ]
  },
  {
   "cell_type": "code",
   "execution_count": 2,
   "metadata": {},
   "outputs": [
    {
     "name": "stdout",
     "output_type": "stream",
     "text": [
      "Sound data preparation for hive: smrpiclient7 which has 3367 recordings... "
     ]
    },
    {
     "name": "stderr",
     "output_type": "stream",
     "text": [
      "100%|█████████████████████████████████████████████████████████████████████████████████████████████████████████████████████████████████████████████████████████████████████████| 3367/3367 [00:42<00:00, 78.38it/s]"
     ]
    },
    {
     "name": "stdout",
     "output_type": "stream",
     "text": [
      " done.\n",
      "Sound data preparation for hive: smrpiclient6 which has 3172 recordings... "
     ]
    },
    {
     "name": "stderr",
     "output_type": "stream",
     "text": [
      "\n",
      "100%|█████████████████████████████████████████████████████████████████████████████████████████████████████████████████████████████████████████████████████████████████████████| 3172/3172 [00:41<00:00, 76.46it/s]"
     ]
    },
    {
     "name": "stdout",
     "output_type": "stream",
     "text": [
      " done.\n",
      "Sound data preparation for hive: smrpiclient3 which has 602 recordings... "
     ]
    },
    {
     "name": "stderr",
     "output_type": "stream",
     "text": [
      "\n",
      "100%|███████████████████████████████████████████████████████████████████████████████████████████████████████████████████████████████████████████████████████████████████████████| 602/602 [00:07<00:00, 75.72it/s]"
     ]
    },
    {
     "name": "stdout",
     "output_type": "stream",
     "text": [
      " done.\n",
      "Got 7141 sound samples\n"
     ]
    },
    {
     "name": "stderr",
     "output_type": "stream",
     "text": [
      "\n"
     ]
    }
   ],
   "source": [
    "import struct\n",
    "import math\n",
    "import numpy as np\n",
    "import librosa\n",
    "import librosa.display\n",
    "\n",
    "from tqdm import tqdm\n",
    "from datetime import datetime\n",
    "from scipy.io import wavfile\n",
    "from scipy import signal\n",
    "from scipy.fftpack import fft\n",
    "\n",
    "import matplotlib.pyplot as plt\n",
    "%matplotlib widget\n",
    "\n",
    "sound_time_ms = 2000\n",
    "# ~93 ms for fft window\n",
    "nfft = 4096\n",
    "# ~34% overlapping\n",
    "hop_len = (nfft//3) + 30\n",
    "# This can be manipulated to adjust number of bins for conv layer\n",
    "fmax = 2750\n",
    "\n",
    "hives_data = []\n",
    "max_to_norm = 0\n",
    "for idx, hive_id in enumerate(hives_ids):\n",
    "    sound_files = [f for f in glob.glob(f\"..\\\\measurements\\\\smartulav2\\\\{hive_id}_*\\\\*.wav\")]\n",
    "    print(f\"Sound data preparation for hive: {hive_id} which has {len(sound_files)} recordings...\", end=' ', flush=True)\n",
    "    for file in tqdm(sound_files):\n",
    "        sample_rate, sound_samples = wavfile.read(file)\n",
    "        sound_samples = sound_samples.T[0]/(2.0**31)\n",
    "    \n",
    "        spectrogram = librosa.core.stft(sound_samples, n_fft=nfft, hop_length=hop_len)\n",
    "        spectrogram_magnitude = np.abs(spectrogram)\n",
    "        spectrogram_phase = np.angle(spectrogram)\n",
    "        spectrogram_db = librosa.amplitude_to_db(spectrogram_magnitude, ref=np.max)\n",
    "        frequencies = librosa.fft_frequencies(sr=sample_rate, n_fft=nfft)\n",
    "        times = (np.arange(0, spectrogram_magnitude.shape[1])*hop_len)/sample_rate\n",
    "        \n",
    "        freq_slice = np.where((frequencies < fmax))\n",
    "        frequencies = frequencies[freq_slice]\n",
    "        spectrogram_db = spectrogram_db[freq_slice, :][0]    \n",
    "    \n",
    "        filename = file.rsplit('\\\\', 1)[-1]\n",
    "        utc_timestamp = filename[filename.index('-')+1:].rsplit(\".wav\")[0]\n",
    "        utc_datetime = datetime.strptime(utc_timestamp, '%Y-%m-%dT%H-%M-%S')\n",
    "        hives_data.append([utc_datetime, hive_id, sound_samples, [frequencies, times, spectrogram_db]])\n",
    "    print(\" done.\")\n",
    "\n",
    "print(f\"Got {len(hives_data)} sound samples\")"
   ]
  },
  {
   "cell_type": "code",
   "execution_count": 3,
   "metadata": {},
   "outputs": [
    {
     "name": "stdout",
     "output_type": "stream",
     "text": [
      "Got dataset of size: 7141\n"
     ]
    }
   ],
   "source": [
    "from sklearn.preprocessing import StandardScaler, MinMaxScaler\n",
    "\n",
    "sc = StandardScaler()\n",
    "mm = MinMaxScaler()\n",
    "\n",
    "spectrogram_ae_data = [hive_data[3][2] for hive_data in hives_data]\n",
    "standarized_ae_data = [sc.fit_transform(spec.T).T for spec in spectrogram_ae_data]\n",
    "scaled_ae_data = [mm.fit_transform(stan.T).T for stan in standarized_ae_data]\n",
    "utc_timestamps = [pd.Timestamp(hive_data[0]) for hive_data in hives_data]\n",
    "names = [hive_data[1] for hive_data in hives_data]\n",
    "\n",
    "data_to_analyze = list(zip(scaled_ae_data, utc_timestamps, names))\n",
    "\n",
    "print(f\"Got dataset of size: {len(scaled_ae_data)}\")"
   ]
  },
  {
   "cell_type": "markdown",
   "metadata": {},
   "source": [
    "## Prepare data for autoencoder train."
   ]
  },
  {
   "cell_type": "code",
   "execution_count": null,
   "metadata": {},
   "outputs": [],
   "source": [
    "import random \n",
    "\n",
    "random_idx = random.randint(0, len(hives_data) - 1)\n",
    "\n",
    "plot_spectrogram(hives_data[random_idx][3][0],\n",
    "                 hives_data[random_idx][3][1],\n",
    "                 hives_data[random_idx][3][2],\n",
    "                 f\"hive: {hives_data[random_idx][1]}, time: {hives_data[random_idx][0]}, idx: {random_idx}\") "
   ]
  },
  {
   "cell_type": "markdown",
   "metadata": {},
   "source": [
    "## Train basic AE"
   ]
  },
  {
   "cell_type": "code",
   "execution_count": null,
   "metadata": {},
   "outputs": [],
   "source": [
    "from scipy import signal as sig\n",
    "from sklearn.preprocessing import MinMaxScaler\n",
    "from torch.utils.data import DataLoader\n",
    "from torch.utils import data as tdata\n",
    "\n",
    "# Divide data to test, validation and train\n",
    "train_stop_idx = int(pd_ae_data.shape[0]*90/100)\n",
    "\n",
    "pd_ae_data_train = pd_ae_data[:train_stop_idx]\n",
    "pd_ae_data_test = pd_ae_data[train_stop_idx:]\n",
    "\n",
    "print(f'Train data size: {pd_ae_data_train.shape[0]}')\n",
    "print(f'Test data size: {pd_ae_data_test.shape[0]}')\n",
    "\n",
    "tensor_train = torch.Tensor(pd_ae_data_train['periodogram'].values.tolist())\n",
    "tensor_test = torch.Tensor(pd_ae_data_test['periodogram'].values.tolist())\n",
    "\n",
    "train_dataset = tdata.TensorDataset(tensor_train)\n",
    "test_dataset = tdata.TensorDataset(tensor_test)\n",
    "\n",
    "dataloader = DataLoader(train_dataset, batch_size=32, shuffle=True)\n",
    "dataloader_test = DataLoader(test_dataset, batch_size=32, shuffle=True)"
   ]
  },
  {
   "cell_type": "code",
   "execution_count": null,
   "metadata": {},
   "outputs": [],
   "source": [
    "device = torch.device(\"cuda\" if torch.cuda.is_available() else \"cpu\")"
   ]
  },
  {
   "cell_type": "code",
   "execution_count": null,
   "metadata": {},
   "outputs": [],
   "source": [
    "from torch.autograd import Variable\n",
    "from torchvision import transforms\n",
    "import torch.nn.functional as F\n",
    "\n",
    "num_epochs = 1000\n",
    "learning_rate = 1e-3\n",
    "\n",
    "model = autoencoder_basic().to(device)\n",
    "criterion = nn.MSELoss()\n",
    "optimizer = torch.optim.Adam(model.parameters(), lr=learning_rate, weight_decay=1e-5)\n",
    "\n",
    "for epoch in range(num_epochs):\n",
    "    loss = 0\n",
    "    for data in dataloader:\n",
    "        periodogram = data[0].to(device)\n",
    "        # ===================forward=====================\n",
    "        output = model(periodogram)\n",
    "        #train_loss = criterion(output, periodogram)\n",
    "        train_loss = F.binary_cross_entropy(output, periodogram)\n",
    "        # ===================backward====================\n",
    "        optimizer.zero_grad()\n",
    "        train_loss.backward()\n",
    "        optimizer.step()\n",
    "        loss += train_loss.item()\n",
    "    loss = loss / len(dataloader)\n",
    "    if (epoch+1) % (num_epochs/10) == 0:\n",
    "        print(f'epoch {epoch + 1}/{num_epochs}, loss:{loss}')"
   ]
  },
  {
   "cell_type": "code",
   "execution_count": null,
   "metadata": {},
   "outputs": [],
   "source": [
    "import matplotlib.pyplot as plt\n",
    "\n",
    "counter = 0\n",
    "with torch.no_grad():\n",
    "    loss_test = 0\n",
    "    for data in dataloader_test:\n",
    "        periodograms_test = data[0].to(device)\n",
    "        output = model(periodograms_test)\n",
    "        for idx, i in enumerate(output):\n",
    "            #loss_test += nn.MSELoss()(periodograms_test[idx], i)\n",
    "            loss_test += F.binary_cross_entropy(periodograms_test[idx], i)\n",
    "\n",
    "loss_test = loss_test/len(pd_ae_data_test)\n",
    "print(f'Final test loss: {loss_test}')\n"
   ]
  },
  {
   "cell_type": "markdown",
   "metadata": {},
   "source": [
    "## Train CONV AE"
   ]
  },
  {
   "cell_type": "code",
   "execution_count": 62,
   "metadata": {},
   "outputs": [
    {
     "name": "stdout",
     "output_type": "stream",
     "text": [
      "Dataset shape: torch.Size([7141, 256, 64])\n",
      "Train set size: 5712\n",
      "Validation set size: 1429\n"
     ]
    }
   ],
   "source": [
    "import torch \n",
    "from torch.utils import data as tdata\n",
    "\n",
    "train_data_size = len(scaled_ae_data)*80//100\n",
    "val_data_size = len(scaled_ae_data) - train_data_size\n",
    "\n",
    "dataset_tensor = torch.Tensor(scaled_ae_data)\n",
    "print(f\"Dataset shape: {dataset_tensor.shape}\")\n",
    "print(f\"Train set size: {train_data_size}\")\n",
    "print(f\"Validation set size: {val_data_size}\")\n",
    "\n",
    "# add one extra dimension as it is required for conv layer\n",
    "dataset_tensor = dataset_tensor[:, None, :, :] \n",
    "dataset = tdata.TensorDataset(dataset_tensor)\n",
    "train_set, val_set = torch.utils.data.random_split(dataset, [train_data_size, val_data_size])\n",
    "\n",
    "dataloader_train = tdata.DataLoader(train_set, batch_size=32, shuffle=True)\n",
    "dataloader_val = tdata.DataLoader(val_set, batch_size=32, shuffle=True)"
   ]
  },
  {
   "cell_type": "code",
   "execution_count": 61,
   "metadata": {},
   "outputs": [],
   "source": [
    "del modelConvAE"
   ]
  },
  {
   "cell_type": "code",
   "execution_count": 63,
   "metadata": {},
   "outputs": [
    {
     "name": "stdout",
     "output_type": "stream",
     "text": [
      "[ 1/50] train_loss: 0.06397 valid_loss: 0.04382 checkpoint!\n",
      "[ 2/50] train_loss: 0.04381 valid_loss: 0.04170 checkpoint!\n",
      "[ 3/50] train_loss: 0.04192 valid_loss: 0.04072 checkpoint!\n",
      "[ 4/50] train_loss: 0.04101 valid_loss: 0.04069 checkpoint!\n",
      "[ 5/50] train_loss: 0.04027 valid_loss: 0.04006 checkpoint!\n",
      "[ 6/50] train_loss: 0.03974 valid_loss: 0.04149 .\n",
      "[ 7/50] train_loss: 0.03951 valid_loss: 0.04138 .\n",
      "[ 8/50] train_loss: 0.03924 valid_loss: 0.03971 checkpoint!\n",
      "[ 9/50] train_loss: 0.03897 valid_loss: 0.04038 .\n",
      "[10/50] train_loss: 0.03886 valid_loss: 0.03971 checkpoint!\n",
      "[11/50] train_loss: 0.03869 valid_loss: 0.04031 .\n",
      "[12/50] train_loss: 0.03858 valid_loss: 0.04115 .\n",
      "[13/50] train_loss: 0.03848 valid_loss: 0.03912 checkpoint!\n",
      "[14/50] train_loss: 0.03839 valid_loss: 0.03866 checkpoint!\n",
      "[15/50] train_loss: 0.03841 valid_loss: 0.04030 .\n",
      "[16/50] train_loss: 0.03818 valid_loss: 0.03941 .\n",
      "[17/50] train_loss: 0.03821 valid_loss: 0.03934 .\n",
      "[18/50] train_loss: 0.03810 valid_loss: 0.03980 .\n",
      "[19/50] train_loss: 0.03818 valid_loss: 0.03879 .\n",
      "[20/50] train_loss: 0.03797 valid_loss: 0.04009 .\n",
      "[21/50] train_loss: 0.03806 valid_loss: 0.03983 .\n",
      "[22/50] train_loss: 0.03794 valid_loss: 0.03910 .\n",
      "[23/50] train_loss: 0.03794 valid_loss: 0.03944 .\n",
      "[24/50] train_loss: 0.03787 valid_loss: 0.03949 .\n",
      "[25/50] train_loss: 0.03784 valid_loss: 0.03948 early stopping.\n",
      "=> loading checkpoint checkpoint.pth\n"
     ]
    },
    {
     "data": {
      "application/vnd.jupyter.widget-view+json": {
       "model_id": "7730196c95f24dfba43f5eda5a07aeb2",
       "version_major": 2,
       "version_minor": 0
      },
      "text/plain": [
       "Canvas(toolbar=Toolbar(toolitems=[('Home', 'Reset original view', 'home', 'home'), ('Back', 'Back to previous …"
      ]
     },
     "metadata": {},
     "output_type": "display_data"
    }
   ],
   "source": [
    "%matplotlib widget\n",
    "\n",
    "import sys\n",
    "import matplotlib.pyplot as plt\n",
    "\n",
    "num_epochs = 50\n",
    "learning_rate = 1e-3\n",
    "\n",
    "device = torch.device(\"cuda\" if torch.cuda.is_available() else \"cpu\")\n",
    "\n",
    "# del modelConvAE\n",
    "\n",
    "modelConvAE = ConvAutoencoder().to(device)\n",
    "criterion = nn.MSELoss()\n",
    "optimizer = torch.optim.Adam(modelConvAE.parameters(), lr=learning_rate, weight_decay=1e-6)\n",
    "\n",
    "# monitor training loss per batch\n",
    "train_loss = []\n",
    "# monitor validation loss per batch\n",
    "val_loss = []\n",
    "# save avg train losses for early stopping visualization\n",
    "avg_train_loss = []\n",
    "# save avg train losses for early stopping visualization\n",
    "avg_val_loss = [] \n",
    "# patience when stop training\n",
    "patience = 10\n",
    "# counter for patience in early sotpping\n",
    "patience_counter = 0\n",
    "# best validation score\n",
    "best_val_loss = -1\n",
    "# model checkpoint filename\n",
    "checkpoint_filename = 'checkpoint.pth'\n",
    "# early stopping epoch\n",
    "win_epoch = 0\n",
    "    \n",
    "for epoch in range(1, num_epochs+1):    \n",
    "    ###################\n",
    "    # train the model #\n",
    "    ###################\n",
    "    modelConvAE.train()\n",
    "    for data in dataloader_train:\n",
    "        # transfer data to device\n",
    "        periodogram = data[0].to(device)\n",
    "        # clear the gradients of all optimized variables\n",
    "        optimizer.zero_grad()\n",
    "        # forward pass\n",
    "        outputs = modelConvAE(periodogram)\n",
    "        # calculate the loss\n",
    "        loss = criterion(outputs, periodogram)\n",
    "        # backward pass: compute gradient of the loss with respect to model parameters\n",
    "        loss.backward()\n",
    "        # perform a single optimization step (parameter update)\n",
    "        optimizer.step()\n",
    "        # update running training loss\n",
    "        train_loss.append(float(loss.item()))\n",
    "        \n",
    "    ###################\n",
    "    # val the model   #\n",
    "    ###################\n",
    "    modelConvAE.eval()\n",
    "    for val_data in dataloader_val:\n",
    "        # transfer data to device\n",
    "        periodogram_val = val_data[0].to(device)\n",
    "        # forward pass\n",
    "        voutputs = modelConvAE(periodogram_val)\n",
    "        # calculate the loss\n",
    "        vloss = criterion(voutputs, periodogram_val)\n",
    "        # update running val loss\n",
    "        val_loss.append(float(vloss.item()))\n",
    "    \n",
    "    # print training/validation statistics \n",
    "    # calculate average loss over an epoch\n",
    "    train_loss = np.average(train_loss)\n",
    "    val_loss = np.average(val_loss)\n",
    "    avg_train_loss.append(train_loss)\n",
    "    avg_val_loss.append(val_loss)\n",
    "    \n",
    "    epoch_len = len(str(num_epochs))\n",
    "    # print avg training statistics \n",
    "    print(f'[{epoch:>{epoch_len}}/{num_epochs:>{epoch_len}}] train_loss: {train_loss:.5f} valid_loss: {val_loss:.5f}', end=' ', flush=True)\n",
    "    \n",
    "    if val_loss < best_val_loss or best_val_loss == -1:\n",
    "        # new checkpoint\n",
    "        print(\"checkpoint!\")\n",
    "        best_val_loss = val_loss\n",
    "        patience_counter = 0\n",
    "        torch.save(modelConvAE.state_dict(), checkpoint_filename)\n",
    "        win_epoch = epoch\n",
    "    elif patience_counter >= patience:\n",
    "        print(\"early stopping.\")\n",
    "        print(f\"=> loading checkpoint {checkpoint_filename}\")\n",
    "        device = torch.device(\"cuda\")\n",
    "        modelConvAE.load_state_dict(torch.load(checkpoint_filename))\n",
    "        break\n",
    "    else:\n",
    "        print(\".\")\n",
    "        patience_counter = patience_counter + 1\n",
    "        \n",
    "    # clear batch losses\n",
    "    train_loss = []\n",
    "    val_loss = []\n",
    "\n",
    "fig = plt.figure(figsize=(10,5))\n",
    "plt.plot(np.arange(1, epoch + 1), avg_train_loss, 'r', label=\"train loss\")\n",
    "plt.plot(np.arange(1, epoch + 1), avg_val_loss, 'b', label=\"validation loss\")\n",
    "plt.axvline(win_epoch, linestyle='--', color='g',label='Early Stopping Checkpoint')\n",
    "plt.legend(loc='best')\n",
    "plt.grid(True)\n",
    "plt.show()"
   ]
  },
  {
   "cell_type": "markdown",
   "metadata": {},
   "source": [
    "# Encode data"
   ]
  },
  {
   "cell_type": "code",
   "execution_count": null,
   "metadata": {},
   "outputs": [],
   "source": [
    "encoded_data = conv2d_encode(modelConvAE, scaled_ae_data)"
   ]
  },
  {
   "cell_type": "code",
   "execution_count": null,
   "metadata": {},
   "outputs": [],
   "source": [
    "%matplotlib widget\n",
    "import matplotlib.pyplot as plt\n",
    "import random\n",
    "\n",
    "idx = random.randint(0, len(hives_data) - 1)\n",
    "with torch.no_grad():\n",
    "    fig, axs = plt.subplots(2, 1)\n",
    "    frequencies = librosa.fft_frequencies(sr=sample_rate, n_fft=nfft)\n",
    "    freq_slice = np.where((frequencies < fmax))\n",
    "    frequencies = frequencies[freq_slice]\n",
    "    times = (np.arange(0, spectrogram_magnitude.shape[1])*hop_len)/sample_rate    \n",
    "    \n",
    "    elem = scaled_ae_data[idx]\n",
    "    elem = elem[None, None,: ,:]\n",
    "    elem = torch.Tensor(elem)\n",
    "\n",
    "    axs[0].pcolormesh(times, frequencies, scaled_ae_data[idx])\n",
    "    axs[1].pcolormesh(times, frequencies, modelConvAE(elem.to(device)).cpu().numpy().squeeze())"
   ]
  },
  {
   "cell_type": "markdown",
   "metadata": {},
   "source": [
    "# Add temperature/humidity/gas"
   ]
  },
  {
   "cell_type": "code",
   "execution_count": 209,
   "metadata": {},
   "outputs": [
    {
     "name": "stdout",
     "output_type": "stream",
     "text": [
      "extracting data for hive under analysis: smrpiclient7 from 2020-08-10 00:00:00 to 2020-09-16 00:00:00...\n",
      "-> prepared base of 3367 numer of sound spectrum <-\n",
      "got 3488 of temperature samples\n",
      "got 3488 of humidity samples\n",
      "got 5152 of alcohol samples\n",
      "got 5152 of aceton samples\n",
      "got 5152 of jon-amonowy samples\n",
      "got 5152 of toluen samples\n",
      "got 5152 of co2 samples\n",
      "got 5141 of siarkowodor samples\n",
      "got 5141 of metanotiol samples\n",
      "got 5141 of trimetyloamina samples\n",
      "got 5141 of wodor samples\n",
      "got 5124 of co samples\n",
      "merging data to sound samples...\n",
      "encoding sound samples with autoencoder... finish!\n"
     ]
    }
   ],
   "source": [
    "hive_under_analysis = hives_ids[0]\n",
    "start_time = '2020-08-10 00:00:00'\n",
    "end_time = '2020-09-16 00:00:00'\n",
    "print(f\"extracting data for hive under analysis: {hive_under_analysis} from {start_time} to {end_time}...\")\n",
    "\n",
    "df_hives_sound = pd.DataFrame(data_to_analyze, columns=['spectrogram', 'utc_timestamp', 'name'])\n",
    "df_hive_sound_ua = df_hives_sound[(df_hives_sound['name'] == hive_under_analysis)\n",
    "                                 & (df_hives_sound['utc_timestamp'] > start_time)\n",
    "                                 & (df_hives_sound['utc_timestamp'] < end_time)]\n",
    "df_hive_sound_ua.set_index('utc_timestamp', inplace=True)\n",
    "print(f\"-> prepared base of {df_hive_sound_ua.count()['spectrogram']} numer of sound spectrum <-\")\n",
    "\n",
    "df_hive_temperature_ua = read_sensor_data('..//measurements//smartulav2//sulmin-10082020-15092020-inside-temperature.csv', hive_under_analysis, start_time, end_time, 'temperature')\n",
    "df_hive_humidity_ua = read_sensor_data('..//measurements//smartulav2//sulmin-10082020-15092020-inside-humidity.csv', hive_under_analysis, start_time, end_time, 'humidity')\n",
    "df_hive_alcohol_ua = read_sensor_data('..//measurements//smartulav2//sulmin-10082020-15092020-inside-alcohol.csv', hive_under_analysis, start_time, end_time, 'alcohol')\n",
    "df_hive_aceton_ua = read_sensor_data('..//measurements//smartulav2//sulmin-10082020-15092020-inside-aceton.csv', hive_under_analysis, start_time, end_time, 'aceton')\n",
    "df_hive_amon_ua = read_sensor_data('..//measurements//smartulav2//sulmin-10082020-15092020-inside-jon-amonowy.csv', hive_under_analysis, start_time, end_time, 'jon-amonowy')\n",
    "df_hive_toluen_ua = read_sensor_data('..//measurements//smartulav2//sulmin-10082020-15092020-inside-toluen.csv', hive_under_analysis, start_time, end_time, 'toluen')\n",
    "df_hive_co2_ua = read_sensor_data('..//measurements//smartulav2//sulmin-10082020-15092020-inside-co2.csv', hive_under_analysis, start_time, end_time, 'co2')\n",
    "df_hive_siarkowodor_ua = read_sensor_data('..//measurements//smartulav2//sulmin-10082020-15092020-inside-siarkowodor.csv', hive_under_analysis, start_time, end_time, 'siarkowodor')\n",
    "df_hive_metanotiol_ua = read_sensor_data('..//measurements//smartulav2//sulmin-10082020-15092020-inside-metanotiol.csv', hive_under_analysis, start_time, end_time, 'metanotiol')\n",
    "df_hive_trimetyloamina_ua = read_sensor_data('..//measurements//smartulav2//sulmin-10082020-15092020-inside-trimetyloamina.csv', hive_under_analysis, start_time, end_time, 'trimetyloamina')\n",
    "df_hive_wodor_ua = read_sensor_data('..//measurements//smartulav2//sulmin-10082020-15092020-inside-wodor.csv', hive_under_analysis, start_time, end_time, 'wodor')\n",
    "df_hive_co_ua = read_sensor_data('..//measurements//smartulav2//sulmin-10082020-15092020-inside-co.csv', hive_under_analysis, start_time, end_time, 'co')\n",
    "\n",
    "print(\"merging data to sound samples...\")\n",
    "df_hive_data = merge_dataframes_ontimestamp(df_hive_sound_ua,\n",
    "                                            df_hive_temperature_ua, df_hive_humidity_ua,\n",
    "                                            df_hive_alcohol_ua, df_hive_aceton_ua, df_hive_amon_ua, df_hive_toluen_ua, df_hive_co2_ua,\n",
    "                                            df_hive_siarkowodor_ua, df_hive_metanotiol_ua, df_hive_trimetyloamina_ua, df_hive_wodor_ua,\n",
    "                                            df_hive_co_ua)\n",
    "\n",
    "print(f\"encoding sound samples with autoencoder...\", end=' ')\n",
    "df_hive_data['conv_ae'] = conv2d_encode(modelConvAE, df_hive_data['spectrogram'].to_list())\n",
    "print(f\"finish!\")\n",
    "\n",
    "df_hive_data['feature_vector'] = merge_columns(df_hive_data, ['humidity', 'temperature',\n",
    "                                                'alcohol', 'aceton', 'jon-amonowy', 'toluen', 'co2', \n",
    "                                                'siarkowodor', 'metanotiol', 'trimetyloamina', 'wodor',\n",
    "                                                'co',\n",
    "                                                'conv_ae'])"
   ]
  },
  {
   "cell_type": "markdown",
   "metadata": {},
   "source": [
    "# SVM classification "
   ]
  },
  {
   "cell_type": "code",
   "execution_count": 345,
   "metadata": {},
   "outputs": [
    {
     "name": "stdout",
     "output_type": "stream",
     "text": [
      "Total accuracy: 73.98277398277398\n"
     ]
    }
   ],
   "source": [
    "from sklearn.preprocessing import StandardScaler\n",
    "from sklearn.svm import SVC\n",
    "\n",
    "night_start = 23\n",
    "night_end = 3\n",
    "\n",
    "df_svm = pd.DataFrame(df_hive_data[['feature_vector', 'name']])\n",
    "is_night_array = (df_svm.index.hour <= night_end) | (df_svm.index.hour >= night_start)\n",
    "df_svm['is_night'] = is_night_array\n",
    "df_svm['feature_vector'] = (pd.Series(StandardScaler().fit_transform(df_svm['feature_vector'].values.tolist()).tolist())).values\n",
    "\n",
    "svc = SVC(kernel='rbf', class_weight='balanced', gamma='auto')\n",
    "svc.fit(df_svm['feature_vector'].values.tolist(), df_svm['is_night'].values.tolist())\n",
    "predicted = svc.predict(df_svm['feature_vector'].values.tolist())\n",
    "\n",
    "predicted_list = np.array(list(map(int, predicted)))\n",
    "initial_list = np.array(list(map(int, df_svm['is_night'].values.tolist())))\n",
    "\n",
    "accuracy = 100 - (np.sum(np.abs(predicted_list-initial_list))/len(predicted)*100)\n",
    "print(f\"Total accuracy: {accuracy}\")"
   ]
  },
  {
   "cell_type": "code",
   "execution_count": 348,
   "metadata": {},
   "outputs": [
    {
     "data": {
      "text/html": [
       "<div>\n",
       "<style scoped>\n",
       "    .dataframe tbody tr th:only-of-type {\n",
       "        vertical-align: middle;\n",
       "    }\n",
       "\n",
       "    .dataframe tbody tr th {\n",
       "        vertical-align: top;\n",
       "    }\n",
       "\n",
       "    .dataframe thead th {\n",
       "        text-align: right;\n",
       "    }\n",
       "</style>\n",
       "<table border=\"1\" class=\"dataframe\">\n",
       "  <thead>\n",
       "    <tr style=\"text-align: right;\">\n",
       "      <th></th>\n",
       "      <th>utc_timestamp</th>\n",
       "      <th>feature_vector</th>\n",
       "      <th>name</th>\n",
       "      <th>is_night</th>\n",
       "    </tr>\n",
       "  </thead>\n",
       "  <tbody>\n",
       "    <tr>\n",
       "      <th>0</th>\n",
       "      <td>2020-08-10 00:03:48</td>\n",
       "      <td>[-1.333153987296419, 0.5980583360639828, 0.650...</td>\n",
       "      <td>smrpiclient7</td>\n",
       "      <td>True</td>\n",
       "    </tr>\n",
       "    <tr>\n",
       "      <th>1</th>\n",
       "      <td>2020-08-10 00:18:52</td>\n",
       "      <td>[-1.1558990588515046, 0.5717782793435893, 0.59...</td>\n",
       "      <td>smrpiclient7</td>\n",
       "      <td>True</td>\n",
       "    </tr>\n",
       "    <tr>\n",
       "      <th>2</th>\n",
       "      <td>2020-08-10 00:33:56</td>\n",
       "      <td>[-1.093002148758148, 0.3202405935912525, 0.590...</td>\n",
       "      <td>smrpiclient7</td>\n",
       "      <td>True</td>\n",
       "    </tr>\n",
       "    <tr>\n",
       "      <th>3</th>\n",
       "      <td>2020-08-10 00:49:01</td>\n",
       "      <td>[-1.1406513230712971, 0.37092356012343913, 0.5...</td>\n",
       "      <td>smrpiclient7</td>\n",
       "      <td>True</td>\n",
       "    </tr>\n",
       "    <tr>\n",
       "      <th>4</th>\n",
       "      <td>2020-08-10 01:04:05</td>\n",
       "      <td>[-1.38461509555462, 0.4553951710104187, 0.5303...</td>\n",
       "      <td>smrpiclient7</td>\n",
       "      <td>True</td>\n",
       "    </tr>\n",
       "    <tr>\n",
       "      <th>...</th>\n",
       "      <td>...</td>\n",
       "      <td>...</td>\n",
       "      <td>...</td>\n",
       "      <td>...</td>\n",
       "    </tr>\n",
       "    <tr>\n",
       "      <th>3362</th>\n",
       "      <td>2020-09-15 16:43:20</td>\n",
       "      <td>[-0.9500546258187007, 1.5084745867347567, 2.27...</td>\n",
       "      <td>smrpiclient7</td>\n",
       "      <td>False</td>\n",
       "    </tr>\n",
       "    <tr>\n",
       "      <th>3363</th>\n",
       "      <td>2020-09-15 16:58:24</td>\n",
       "      <td>[-1.0472589414175244, 1.4033543598531826, 1.37...</td>\n",
       "      <td>smrpiclient7</td>\n",
       "      <td>False</td>\n",
       "    </tr>\n",
       "    <tr>\n",
       "      <th>3364</th>\n",
       "      <td>2020-09-15 17:13:28</td>\n",
       "      <td>[-1.073942479032888, 1.2118853751760308, 1.251...</td>\n",
       "      <td>smrpiclient7</td>\n",
       "      <td>False</td>\n",
       "    </tr>\n",
       "    <tr>\n",
       "      <th>3365</th>\n",
       "      <td>2020-09-15 17:28:33</td>\n",
       "      <td>[-1.1101558515108816, 1.0373107126762742, 1.01...</td>\n",
       "      <td>smrpiclient7</td>\n",
       "      <td>False</td>\n",
       "    </tr>\n",
       "    <tr>\n",
       "      <th>3366</th>\n",
       "      <td>2020-09-15 17:43:37</td>\n",
       "      <td>[-1.19592436527455, 0.954716248697894, 0.89084...</td>\n",
       "      <td>smrpiclient7</td>\n",
       "      <td>False</td>\n",
       "    </tr>\n",
       "  </tbody>\n",
       "</table>\n",
       "<p>3367 rows × 4 columns</p>\n",
       "</div>"
      ],
      "text/plain": [
       "           utc_timestamp                                     feature_vector  \\\n",
       "0    2020-08-10 00:03:48  [-1.333153987296419, 0.5980583360639828, 0.650...   \n",
       "1    2020-08-10 00:18:52  [-1.1558990588515046, 0.5717782793435893, 0.59...   \n",
       "2    2020-08-10 00:33:56  [-1.093002148758148, 0.3202405935912525, 0.590...   \n",
       "3    2020-08-10 00:49:01  [-1.1406513230712971, 0.37092356012343913, 0.5...   \n",
       "4    2020-08-10 01:04:05  [-1.38461509555462, 0.4553951710104187, 0.5303...   \n",
       "...                  ...                                                ...   \n",
       "3362 2020-09-15 16:43:20  [-0.9500546258187007, 1.5084745867347567, 2.27...   \n",
       "3363 2020-09-15 16:58:24  [-1.0472589414175244, 1.4033543598531826, 1.37...   \n",
       "3364 2020-09-15 17:13:28  [-1.073942479032888, 1.2118853751760308, 1.251...   \n",
       "3365 2020-09-15 17:28:33  [-1.1101558515108816, 1.0373107126762742, 1.01...   \n",
       "3366 2020-09-15 17:43:37  [-1.19592436527455, 0.954716248697894, 0.89084...   \n",
       "\n",
       "              name  is_night  \n",
       "0     smrpiclient7      True  \n",
       "1     smrpiclient7      True  \n",
       "2     smrpiclient7      True  \n",
       "3     smrpiclient7      True  \n",
       "4     smrpiclient7      True  \n",
       "...            ...       ...  \n",
       "3362  smrpiclient7     False  \n",
       "3363  smrpiclient7     False  \n",
       "3364  smrpiclient7     False  \n",
       "3365  smrpiclient7     False  \n",
       "3366  smrpiclient7     False  \n",
       "\n",
       "[3367 rows x 4 columns]"
      ]
     },
     "execution_count": 348,
     "metadata": {},
     "output_type": "execute_result"
    }
   ],
   "source": [
    "df_svm.reset_index()"
   ]
  },
  {
   "cell_type": "code",
   "execution_count": 351,
   "metadata": {},
   "outputs": [],
   "source": [
    "df_svm.to_csv('..//measurements//temp2.csv')"
   ]
  },
  {
   "cell_type": "markdown",
   "metadata": {},
   "source": [
    "# Dimension reduction - now we perform t-SNE and PCA to visualize the data"
   ]
  },
  {
   "cell_type": "code",
   "execution_count": null,
   "metadata": {},
   "outputs": [],
   "source": [
    "from sklearn.manifold import TSNE\n",
    "\n",
    "reduced_ae_tsne = TSNE(n_components=2, perplexity=100, learning_rate=500, verbose=1).fit_transform(output)\n",
    "reduced_mfcc_tsne = TSNE(n_components=2, perplexity=100, learning_rate=500, verbose=1).fit_transform(pd_ae_data['mfcc'].values.tolist())"
   ]
  },
  {
   "cell_type": "code",
   "execution_count": null,
   "metadata": {},
   "outputs": [],
   "source": [
    "from sklearn.decomposition import PCA\n",
    "from sklearn.preprocessing import StandardScaler\n",
    "\n",
    "mfccs_standarized = StandardScaler().fit_transform(pd_ae_data['mfcc'].values.tolist())\n",
    "ae_standarized = StandardScaler().fit_transform(output)\n",
    "reduced_ae_pca = PCA(n_components = 2).fit_transform(ae_standarized)\n",
    "reduced_mfcc_pca = PCA(n_components = 2).fit_transform(mfccs_standarized)"
   ]
  },
  {
   "cell_type": "code",
   "execution_count": null,
   "metadata": {},
   "outputs": [],
   "source": [
    "import matplotlib.pyplot as plt\n",
    "\n",
    "pca = PCA().fit(ae_standarized)\n",
    "\n",
    "plt.figure()\n",
    "plt.plot(np.cumsum(pca.explained_variance_ratio_))\n",
    "plt.xlabel('number of components')\n",
    "plt.ylabel('cumulative explained variance');"
   ]
  },
  {
   "cell_type": "code",
   "execution_count": null,
   "metadata": {},
   "outputs": [],
   "source": [
    "%matplotlib widget\n",
    "\n",
    "import matplotlib.pyplot as plt\n",
    "import numpy as np\n",
    "from scipy.fftpack import fft, fftfreq\n",
    "\n",
    "RECORD_TIME = 2\n",
    "SAMPLE_RATE = 44100\n",
    "\n",
    "data = hives_data[-10][2][:, 0]/(2.0**31)\n",
    "datetime = hives_data[-1][0]\n",
    "fft_data = abs(fft(data))\n",
    "freqs = fftfreq(int(len(fft_data)/2), 1/SAMPLE_RATE)\n",
    "\n",
    "fig, axs = plt.subplots(2)\n",
    "fig.tight_layout(pad=3.0)\n",
    "axs[0].set_title(f\"Sound recording at {datetime} ({RECORD_TIME}s)\")\n",
    "axs[0].grid()\n",
    "axs[0].set_xlabel('Time [sec]')\n",
    "axs[0].plot(np.linspace(0, 2, len(data)), data)\n",
    "\n",
    "axs[1].set_title(\"Periodogram\")\n",
    "axs[1].set_xticks(np.arange(0, (freqs.size/2), step=100))\n",
    "axs[1].set_xticklabels(np.arange(0, (freqs.size/2), step=100, dtype=int), rotation=45)\n",
    "axs[1].grid()\n",
    "axs[1].set_xlabel('Frequency [Hz]')\n",
    "axs[1].plot(freqs[1:1500], fft_data[1:1500], 'r')"
   ]
  },
  {
   "cell_type": "markdown",
   "metadata": {},
   "source": [
    "# ----- Functions/Classes -----"
   ]
  },
  {
   "cell_type": "markdown",
   "metadata": {},
   "source": [
    "plotting sepctrogram by fucntion "
   ]
  },
  {
   "cell_type": "code",
   "execution_count": null,
   "metadata": {},
   "outputs": [],
   "source": [
    "import matplotlib.pyplot as plt\n",
    "\n",
    "%matplotlib widget\n",
    "\n",
    "def plot_spectrogram(frequency, time_x, spectrocgram, title):\n",
    "    fig = plt.figure(figsize=(6,4))\n",
    "    plt.title(title)\n",
    "    plt.pcolormesh(time_x, frequency, spectrocgram)\n",
    "    plt.ylabel('Frequency [Hz]')\n",
    "    plt.xlabel('Time [sec]')\n",
    "    plt.show()"
   ]
  },
  {
   "cell_type": "markdown",
   "metadata": {},
   "source": [
    "convolutional autoencoder"
   ]
  },
  {
   "cell_type": "code",
   "execution_count": 54,
   "metadata": {},
   "outputs": [],
   "source": [
    "import torch.nn as nn\n",
    "import torch.nn.functional as F\n",
    "\n",
    "class View(nn.Module):\n",
    "    \"\"\" Function for nn.Sequentional to reshape data \"\"\"\n",
    "    def __init__(self, shape):\n",
    "        super(View, self).__init__()\n",
    "        self.shape = shape\n",
    "\n",
    "    def forward(self, x):\n",
    "        return x.view(*self.shape)\n",
    "\n",
    "def conv2d_block(in_f, out_f, *args, **kwargs):\n",
    "    \"\"\" Function for building convolutional block\n",
    "\n",
    "        Attributes\n",
    "            in_f - number of input features\n",
    "            out_f - number of output features\n",
    "    \"\"\"\n",
    "    return nn.Sequential(\n",
    "        nn.Conv2d(in_f, out_f, *args, **kwargs),\n",
    "        nn.BatchNorm2d(out_f),\n",
    "        nn.ReLU(),\n",
    "        nn.Dropout2d(p=0.2)\n",
    "    )\n",
    "\n",
    "def conv2d_transpose_block(in_f, out_f, *args, **kwargs):\n",
    "    \"\"\" Function for building transpose convolutional block\n",
    "        \n",
    "        Attributes\n",
    "            in_f - number of input features\n",
    "            out_f - number of output features\n",
    "    \"\"\"\n",
    "    return nn.Sequential(\n",
    "        nn.ConvTranspose2d(in_f, out_f, *args, **kwargs),\n",
    "        nn.BatchNorm2d(out_f),\n",
    "        nn.ReLU(),\n",
    "        nn.Dropout2d(p=0.2)\n",
    "    )\n",
    "\n",
    "######################################\n",
    "#                                    #\n",
    "#   Main convolutional autoencoder   #\n",
    "#                                    #\n",
    "######################################\n",
    "class ConvAutoencoder(nn.Module):\n",
    "    def __init__(self):\n",
    "        super(ConvAutoencoder, self).__init__()\n",
    "        \n",
    "        ## encoder layers ##\n",
    "        self.encoder = nn.Sequential(\n",
    "            # [1x256x64] => [64x256x64]\n",
    "            conv2d_block(1, 64, kernel_size=3, padding=1),\n",
    "            # [64x256x64] => [64x128x32]\n",
    "            nn.MaxPool2d(2, 2),\n",
    "            # [64x128x32] => [32x128x32]\n",
    "            conv2d_block(64, 32, kernel_size=3, padding=1),\n",
    "            # [32x128x32] => [32x64x16]\n",
    "            nn.MaxPool2d(2, 2),\n",
    "            # [32x64x16] => [16x64x16]\n",
    "            conv2d_block(32, 16, kernel_size=3, padding=1),\n",
    "            # [16x64x16] => [16x32x8]\n",
    "            nn.MaxPool2d(2, 2),\n",
    "            # [16x32x8] => [4x32x8]\n",
    "            conv2d_block(16, 4, kernel_size=3, padding=1),\n",
    "            # [4x32x8] => [4x16x4]\n",
    "            nn.MaxPool2d(2, 2),\n",
    "            # [4x16x4] => [1x256]\n",
    "            nn.Flatten(),\n",
    "            # [1x256] => [1x64]\n",
    "            nn.Linear(256, 64),\n",
    "            nn.ReLU()\n",
    "        )\n",
    "        \n",
    "        ## decoder layers ##\n",
    "        self.decoder = nn.Sequential(\n",
    "            # [1x64] => [1x256]\n",
    "            nn.Linear(64, 256),\n",
    "            nn.ReLU(),\n",
    "            # [1x256] => [4x16x4]\n",
    "            View([-1, 4, 16, 4]),\n",
    "            # [4x16x4] => [16x32x8]\n",
    "            conv2d_transpose_block(4, 16, kernel_size=2, stride=2),\n",
    "            # [16x32x8] => [32x64x16]\n",
    "            conv2d_transpose_block(16, 32, kernel_size=2, stride=2),\n",
    "            # [32x64x16] => [64x128x32]\n",
    "            conv2d_transpose_block(32, 64, kernel_size=2, stride=2),\n",
    "            # [64x128x32] => [1x256x64]\n",
    "            nn.ConvTranspose2d(64, 1, kernel_size=2, stride=2),\n",
    "            nn.Sigmoid()\n",
    "        )\n",
    "\n",
    "\n",
    "    def forward(self, x):\n",
    "        x = self.encoder(x)\n",
    "        x = self.decoder(x)\n",
    "        \n",
    "        return x"
   ]
  },
  {
   "cell_type": "markdown",
   "metadata": {},
   "source": [
    "basic fully connected autoencoder"
   ]
  },
  {
   "cell_type": "code",
   "execution_count": null,
   "metadata": {},
   "outputs": [],
   "source": [
    "import torch\n",
    "from torch import nn\n",
    "\n",
    "class autoencoder_basic(nn.Module):\n",
    "    def __init__(self):\n",
    "        super(autoencoder_basic, self).__init__()\n",
    "        self.encoder = nn.Sequential(\n",
    "            nn.Linear(1499, 512),\n",
    "            nn.SELU(True),\n",
    "            nn.Linear(512, 128),\n",
    "            nn.SELU(True),\n",
    "            nn.Linear(128, 64),\n",
    "            nn.SELU(True))\n",
    "        self.decoder = nn.Sequential(\n",
    "            nn.Linear(64, 128),\n",
    "            nn.SELU(True),\n",
    "            nn.Linear(128, 512),\n",
    "            nn.SELU(True),\n",
    "            nn.Linear(128, 1499),\n",
    "            nn.Sigmoid())\n",
    "\n",
    "    def forward(self, x):\n",
    "        x = self.encoder(x)\n",
    "        x = self.decoder(x)\n",
    "        return x"
   ]
  },
  {
   "cell_type": "markdown",
   "metadata": {},
   "source": [
    "function for extracting ecoded data from trained model"
   ]
  },
  {
   "cell_type": "code",
   "execution_count": 65,
   "metadata": {},
   "outputs": [],
   "source": [
    "def conv2d_encode(model, data_intput):\n",
    "    \"\"\" Function for encoding data and returning encoded \"\"\"\n",
    "    dataset_tensor = torch.Tensor(data_intput)\n",
    "    dataset_tensor = dataset_tensor[:, None, :, :]\n",
    "    dataset_tensor = tdata.TensorDataset(dataset_tensor)\n",
    "    dataset = tdata.DataLoader(dataset_tensor, batch_size=32, shuffle=True)\n",
    "    encoded_data = []\n",
    "    \n",
    "    model.eval()\n",
    "    with torch.no_grad():\n",
    "        for data in dataset:\n",
    "            periodograms = data[0].to(device)\n",
    "            output = modelConvAE.encoder(periodograms).cpu().numpy().squeeze()\n",
    "            encoded_data.extend(output)\n",
    "    \n",
    "    return encoded_data"
   ]
  },
  {
   "cell_type": "code",
   "execution_count": 34,
   "metadata": {},
   "outputs": [],
   "source": [
    "import pandas as pd\n",
    "\n",
    "def read_sensor_data(filename, hive_sn, start_time, end_time, sensor_column_name):\n",
    "    \"\"\" Function for reading smartula sensor file (from grafana) and build pandas dataframe \"\"\"\n",
    "    df_sensor_data = pd.read_csv(filename, skiprows=1, sep=\";\")\n",
    "    \n",
    "    if hive_sn not in hives_ids:\n",
    "        print(f\"Hive {hive_sn} is not in hives_ids set! Returning empty dataframe\")\n",
    "        return pd.DataFrame()\n",
    "    \n",
    "    # change series column to be coherent with sounds\n",
    "    for hive in hives_ids:\n",
    "        df_sensor_data.loc[df_sensor_data['Series'].str.contains(hive[2:]), 'Series'] = hive\n",
    "\n",
    "    # change column names to match sound\n",
    "    df_sensor_data.columns = ['name', 'utc_timestamp', sensor_column_name]\n",
    "    # convert timestamp to pandas timestamp\n",
    "    df_sensor_data['utc_timestamp'] = pd.to_datetime(df_sensor_data['utc_timestamp'].astype(str).str[:-6], format='%Y-%m-%dT%H:%M:%S')\n",
    "    \n",
    "    df_sensor_data = df_sensor_data[(df_sensor_data['name'] == hive_sn) & (df_sensor_data['utc_timestamp'] > start_time) & (df_sensor_data['utc_timestamp'] < end_time)]\n",
    "    df_sensor_data.set_index('utc_timestamp', inplace=True)\n",
    "    print(f\"got {df_sensor_data[sensor_column_name].count()} of {sensor_column_name} samples\")\n",
    "    \n",
    "    return df_sensor_data\n",
    "\n",
    "def merge_dataframes_ontimestamp(df_merge_to, *args):\n",
    "    \"\"\" Merging dataframes to df_merge_to \"\"\"\n",
    "    df_hive_data_ua = df_merge_to\n",
    "    for dataframe in args:\n",
    "        df_hive_data_ua = pd.merge(df_hive_data_ua, dataframe.reindex(df_hive_data_ua.index, method='nearest'), on=['utc_timestamp', 'name'])\n",
    "        \n",
    "    return df_hive_data_ua"
   ]
  },
  {
   "cell_type": "markdown",
   "metadata": {},
   "source": [
    "flatten util"
   ]
  },
  {
   "cell_type": "code",
   "execution_count": 208,
   "metadata": {},
   "outputs": [],
   "source": [
    "import collections\n",
    "\n",
    "def flatten(x):\n",
    "    if isinstance(x, collections.abc.Iterable):\n",
    "        return [a for i in x for a in flatten(i)]\n",
    "    else:\n",
    "        return [x]\n",
    "    \n",
    "def merge_columns(dataframe, column_names):\n",
    "    \"\"\" Function for merging columns with irregular size \"\"\"\n",
    "    return [flatten(val) for val in  dataframe[column_names].values.tolist()]\n",
    "    "
   ]
  }
 ],
 "metadata": {
  "kernelspec": {
   "display_name": "Python 3",
   "language": "python",
   "name": "python3"
  },
  "language_info": {
   "codemirror_mode": {
    "name": "ipython",
    "version": 3
   },
   "file_extension": ".py",
   "mimetype": "text/x-python",
   "name": "python",
   "nbconvert_exporter": "python",
   "pygments_lexer": "ipython3",
   "version": "3.8.5"
  }
 },
 "nbformat": 4,
 "nbformat_minor": 4
}
